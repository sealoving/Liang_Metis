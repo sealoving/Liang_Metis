{
 "cells": [
  {
   "cell_type": "code",
   "execution_count": 11,
   "metadata": {
    "collapsed": true
   },
   "outputs": [],
   "source": [
    "import requests\n",
    "import re\n",
    "import pandas as pd\n",
    "from bs4 import BeautifulSoup"
   ]
  },
  {
   "cell_type": "markdown",
   "metadata": {},
   "source": [
    "### url format for station list \n",
    "#### (search by name and data type)\n",
    "https://waterdata.usgs.gov/nwis/inventory?search_station_nm=Arkansas%20river%20at&search_station_nm_match_type=beginning&data_type=rt&group_key=NONE&format=sitefile_output&sitefile_output_format=html_table&column_name=site_no&column_name=station_nm&column_name=dec_lat_va&column_name=dec_long_va&list_of_search_criteria=search_station_nm%2Cdata_type"
   ]
  },
  {
   "cell_type": "markdown",
   "metadata": {},
   "source": [
    "#### <font color='blue'> If using pandas to read html directly, the site number loses \"0\" at the beginning</font>"
   ]
  },
  {
   "cell_type": "code",
   "execution_count": 4,
   "metadata": {},
   "outputs": [
    {
     "data": {
      "text/html": [
       "<div>\n",
       "<style>\n",
       "    .dataframe thead tr:only-child th {\n",
       "        text-align: right;\n",
       "    }\n",
       "\n",
       "    .dataframe thead th {\n",
       "        text-align: left;\n",
       "    }\n",
       "\n",
       "    .dataframe tbody tr th {\n",
       "        vertical-align: top;\n",
       "    }\n",
       "</style>\n",
       "<table border=\"1\" class=\"dataframe\">\n",
       "  <thead>\n",
       "    <tr style=\"text-align: right;\">\n",
       "      <th></th>\n",
       "      <th>Site Number</th>\n",
       "      <th>Site Name</th>\n",
       "      <th>Dec. Lat.</th>\n",
       "      <th>Dec. Lon</th>\n",
       "      <th>Cooraccr.</th>\n",
       "      <th>Dec.lat/longdatum</th>\n",
       "    </tr>\n",
       "  </thead>\n",
       "  <tbody>\n",
       "    <tr>\n",
       "      <th>0</th>\n",
       "      <td>7086000</td>\n",
       "      <td>ARKANSAS RIVER AT GRANITE, CO.</td>\n",
       "      <td>39.042771</td>\n",
       "      <td>-106.265855</td>\n",
       "      <td>F</td>\n",
       "      <td>NAD83</td>\n",
       "    </tr>\n",
       "    <tr>\n",
       "      <th>1</th>\n",
       "      <td>7087200</td>\n",
       "      <td>ARKANSAS RIVER AT BUENA VISTA, CO.</td>\n",
       "      <td>38.849162</td>\n",
       "      <td>-106.124740</td>\n",
       "      <td>F</td>\n",
       "      <td>NAD83</td>\n",
       "    </tr>\n",
       "    <tr>\n",
       "      <th>2</th>\n",
       "      <td>7091200</td>\n",
       "      <td>ARKANSAS RIVER NEAR NATHROP, CO</td>\n",
       "      <td>38.652219</td>\n",
       "      <td>-106.051126</td>\n",
       "      <td>F</td>\n",
       "      <td>NAD83</td>\n",
       "    </tr>\n",
       "    <tr>\n",
       "      <th>3</th>\n",
       "      <td>7094500</td>\n",
       "      <td>ARKANSAS RIVER AT PARKDALE, CO.</td>\n",
       "      <td>38.487219</td>\n",
       "      <td>-105.373604</td>\n",
       "      <td>F</td>\n",
       "      <td>NAD83</td>\n",
       "    </tr>\n",
       "    <tr>\n",
       "      <th>4</th>\n",
       "      <td>7096000</td>\n",
       "      <td>ARKANSAS RIVER AT CANON CITY, CO.</td>\n",
       "      <td>38.433887</td>\n",
       "      <td>-105.257213</td>\n",
       "      <td>F</td>\n",
       "      <td>NAD83</td>\n",
       "    </tr>\n",
       "  </tbody>\n",
       "</table>\n",
       "</div>"
      ],
      "text/plain": [
       "   Site Number                           Site Name  Dec. Lat.    Dec. Lon  \\\n",
       "0      7086000      ARKANSAS RIVER AT GRANITE, CO.  39.042771 -106.265855   \n",
       "1      7087200  ARKANSAS RIVER AT BUENA VISTA, CO.  38.849162 -106.124740   \n",
       "2      7091200     ARKANSAS RIVER NEAR NATHROP, CO  38.652219 -106.051126   \n",
       "3      7094500     ARKANSAS RIVER AT PARKDALE, CO.  38.487219 -105.373604   \n",
       "4      7096000   ARKANSAS RIVER AT CANON CITY, CO.  38.433887 -105.257213   \n",
       "\n",
       "  Cooraccr. Dec.lat/longdatum  \n",
       "0         F             NAD83  \n",
       "1         F             NAD83  \n",
       "2         F             NAD83  \n",
       "3         F             NAD83  \n",
       "4         F             NAD83  "
      ]
     },
     "execution_count": 4,
     "metadata": {},
     "output_type": "execute_result"
    }
   ],
   "source": [
    "url = 'https://waterdata.usgs.gov/nwis/inventory?search_station_nm=Arkansas%20river%20at&search_station_nm_match_type=beginning&data_type=rt&group_key=NONE&format=sitefile_output&sitefile_output_format=html_table&column_name=site_no&column_name=station_nm&column_name=dec_lat_va&column_name=dec_long_va&list_of_search_criteria=search_station_nm%2Cdata_type'\n",
    "\n",
    "tables = pd.read_html(url) # pd.read_html() returns a list of tables from the url\n",
    "df = tables[1]\n",
    "df.head()"
   ]
  },
  {
   "cell_type": "code",
   "execution_count": 10,
   "metadata": {},
   "outputs": [
    {
     "data": {
      "text/plain": [
       "{7086000: {'Cooraccr.': 'F',\n",
       "  'Dec. Lat.': 39.04277116,\n",
       "  'Dec. Lon': -106.2658553,\n",
       "  'Dec.lat/longdatum': 'NAD83',\n",
       "  'Site Name': 'ARKANSAS RIVER AT GRANITE, CO.'},\n",
       " 7087200: {'Cooraccr.': 'F',\n",
       "  'Dec. Lat.': 38.8491622,\n",
       "  'Dec. Lon': -106.1247397,\n",
       "  'Dec.lat/longdatum': 'NAD83',\n",
       "  'Site Name': 'ARKANSAS RIVER AT BUENA VISTA, CO.'},\n",
       " 7091200: {'Cooraccr.': 'F',\n",
       "  'Dec. Lat.': 38.6522188,\n",
       "  'Dec. Lon': -106.051126,\n",
       "  'Dec.lat/longdatum': 'NAD83',\n",
       "  'Site Name': 'ARKANSAS RIVER NEAR NATHROP, CO'},\n",
       " 7094500: {'Cooraccr.': 'F',\n",
       "  'Dec. Lat.': 38.4872189,\n",
       "  'Dec. Lon': -105.373604,\n",
       "  'Dec.lat/longdatum': 'NAD83',\n",
       "  'Site Name': 'ARKANSAS RIVER AT PARKDALE, CO.'},\n",
       " 7096000: {'Cooraccr.': 'F',\n",
       "  'Dec. Lat.': 38.43388674,\n",
       "  'Dec. Lon': -105.2572128,\n",
       "  'Dec.lat/longdatum': 'NAD83',\n",
       "  'Site Name': 'ARKANSAS RIVER AT CANON CITY, CO.'},\n",
       " 7097000: {'Cooraccr.': 'F',\n",
       "  'Dec. Lat.': 38.38833418,\n",
       "  'Dec. Lon': -105.0160961,\n",
       "  'Dec.lat/longdatum': 'NAD83',\n",
       "  'Site Name': 'ARKANSAS RIVER AT PORTLAND, CO.'},\n",
       " 7099970: {'Cooraccr.': 'F',\n",
       "  'Dec. Lat.': 38.25361396,\n",
       "  'Dec. Lon': -104.6060854,\n",
       "  'Dec.lat/longdatum': 'NAD83',\n",
       "  'Site Name': 'ARKANSAS RIVER AT MOFFAT STREET AT PUEBLO, CO'},\n",
       " 7099973: {'Cooraccr.': 'S',\n",
       "  'Dec. Lat.': 38.25388889,\n",
       "  'Dec. Lon': -104.5958333,\n",
       "  'Dec.lat/longdatum': 'NAD83',\n",
       "  'Site Name': 'ARKANSAS RIVER TRIBUTARY ABOVE HWY 227 AT PUEBLO'},\n",
       " 7119700: {'Cooraccr.': 'F',\n",
       "  'Dec. Lat.': 38.12583934,\n",
       "  'Dec. Lon': -103.9119006,\n",
       "  'Dec.lat/longdatum': 'NAD83',\n",
       "  'Site Name': 'ARKANSAS RIVER AT CATLIN DAM, NEAR FOWLER, CO.'},\n",
       " 7123000: {'Cooraccr.': 'S',\n",
       "  'Dec. Lat.': 37.99055556,\n",
       "  'Dec. Lon': -103.5319444,\n",
       "  'Dec.lat/longdatum': 'NAD83',\n",
       "  'Site Name': 'ARKANSAS RIVER AT LA JUNTA, CO'},\n",
       " 7124000: {'Cooraccr.': 'F',\n",
       "  'Dec. Lat.': 38.0808399,\n",
       "  'Dec. Lon': -103.2196523,\n",
       "  'Dec.lat/longdatum': 'NAD83',\n",
       "  'Site Name': 'ARKANSAS RIVER AT LAS ANIMAS, CO.'},\n",
       " 7133000: {'Cooraccr.': '5',\n",
       "  'Dec. Lat.': 38.10579167,\n",
       "  'Dec. Lon': -102.6182056,\n",
       "  'Dec.lat/longdatum': 'NAD83',\n",
       "  'Site Name': 'ARKANSAS RIVER AT LAMAR, CO'},\n",
       " 7138000: {'Cooraccr.': 'M',\n",
       "  'Dec. Lat.': 37.9661241,\n",
       "  'Dec. Lon': -101.7568387,\n",
       "  'Dec.lat/longdatum': 'NAD83',\n",
       "  'Site Name': 'ARKANSAS R AT SYRACUSE, KS'},\n",
       " 7138020: {'Cooraccr.': 'M',\n",
       "  'Dec. Lat.': 37.930015,\n",
       "  'Dec. Lon': -101.5493371,\n",
       "  'Dec.lat/longdatum': 'NAD83',\n",
       "  'Site Name': 'ARKANSAS R AT KENDALL, KS'},\n",
       " 7138070: {'Cooraccr.': 'M',\n",
       "  'Dec. Lat.': 37.9697442,\n",
       "  'Dec. Lon': -101.1287794,\n",
       "  'Dec.lat/longdatum': 'NAD83',\n",
       "  'Site Name': 'ARKANSAS R AT DEERFIELD, KS'},\n",
       " 7139000: {'Cooraccr.': 'M',\n",
       "  'Dec. Lat.': 37.9558565,\n",
       "  'Dec. Lon': -100.8773844,\n",
       "  'Dec.lat/longdatum': 'NAD83',\n",
       "  'Site Name': 'ARKANSAS R AT GARDEN CITY, KS'},\n",
       " 7139500: {'Cooraccr.': 'M',\n",
       "  'Dec. Lat.': 37.7447427,\n",
       "  'Dec. Lon': -100.0329126,\n",
       "  'Dec.lat/longdatum': 'NAD83',\n",
       "  'Site Name': 'ARKANSAS R AT DODGE CITY, KS'},\n",
       " 7141300: {'Cooraccr.': 'M',\n",
       "  'Dec. Lat.': 38.35306787,\n",
       "  'Dec. Lon': -98.7642519,\n",
       "  'Dec.lat/longdatum': 'NAD83',\n",
       "  'Site Name': 'ARKANSAS R AT GREAT BEND, KS'},\n",
       " 7144300: {'Cooraccr.': 'M',\n",
       "  'Dec. Lat.': 37.64334849,\n",
       "  'Dec. Lon': -97.3353227,\n",
       "  'Dec.lat/longdatum': 'NAD83',\n",
       "  'Site Name': 'ARKANSAS R AT WICHITA, KS'},\n",
       " 7144550: {'Cooraccr.': 'M',\n",
       "  'Dec. Lat.': 37.54418457,\n",
       "  'Dec. Lon': -97.2755999,\n",
       "  'Dec.lat/longdatum': 'NAD83',\n",
       "  'Site Name': 'ARKANSAS R AT DERBY, KS'},\n",
       " 7144570: {'Cooraccr.': '5',\n",
       "  'Dec. Lat.': 37.47550278,\n",
       "  'Dec. Lon': -97.2612722,\n",
       "  'Dec.lat/longdatum': 'NAD83',\n",
       "  'Site Name': 'ARKANSAS R AT MULVANE, KS'},\n",
       " 7146500: {'Cooraccr.': 'S',\n",
       "  'Dec. Lat.': 37.0375083,\n",
       "  'Dec. Lon': -97.0392194,\n",
       "  'Dec.lat/longdatum': 'NAD83',\n",
       "  'Site Name': 'ARKANSAS R AT ARKANSAS CITY, KS'},\n",
       " 7152500: {'Cooraccr.': 'S',\n",
       "  'Dec. Lat.': 36.50421677,\n",
       "  'Dec. Lon': -96.7283672,\n",
       "  'Dec.lat/longdatum': 'NAD83',\n",
       "  'Site Name': 'Arkansas River at Ralston, OK'},\n",
       " 7164500: {'Cooraccr.': 'F',\n",
       "  'Dec. Lat.': 36.14064807,\n",
       "  'Dec. Lon': -96.0063866,\n",
       "  'Dec.lat/longdatum': 'NAD83',\n",
       "  'Site Name': 'Arkansas River at Tulsa, OK'},\n",
       " 7194555: {'Cooraccr.': 'U',\n",
       "  'Dec. Lat.': 35.5186111,\n",
       "  'Dec. Lon': -95.1272222,\n",
       "  'Dec.lat/longdatum': 'NAD83',\n",
       "  'Site Name': 'Arkansas River at Gore, Ok'},\n",
       " 7249455: {'Cooraccr.': 'F',\n",
       "  'Dec. Lat.': 35.3917577,\n",
       "  'Dec. Lon': -94.4324373,\n",
       "  'Dec.lat/longdatum': 'NAD83',\n",
       "  'Site Name': 'Arkansas River at Ft. Smith, Ar.'},\n",
       " 7258000: {'Cooraccr.': '1',\n",
       "  'Dec. Lat.': 35.2261111,\n",
       "  'Dec. Lon': -93.1494444,\n",
       "  'Dec.lat/longdatum': 'NAD83',\n",
       "  'Site Name': 'Arkansas River at Dardanelle, AR'},\n",
       " 7263450: {'Cooraccr.': 'T',\n",
       "  'Dec. Lat.': 34.79305556,\n",
       "  'Dec. Lon': -92.3583333,\n",
       "  'Dec.lat/longdatum': 'NAD83',\n",
       "  'Site Name': 'Arkansas River at Murray Dam near Little Rock, AR'},\n",
       " 7263500: {'Cooraccr.': 'T',\n",
       "  'Dec. Lat.': 34.7497222,\n",
       "  'Dec. Lon': -92.2691667,\n",
       "  'Dec.lat/longdatum': 'NAD83',\n",
       "  'Site Name': 'Arkansas River at Little Rock, AR'},\n",
       " 7263650: {'Cooraccr.': 'S',\n",
       "  'Dec. Lat.': 34.29027778,\n",
       "  'Dec. Lon': -91.9955556,\n",
       "  'Dec.lat/longdatum': 'NAD83',\n",
       "  'Site Name': 'Arkansas River at Pine Bluff, AR'},\n",
       " 7265280: {'Cooraccr.': 'S',\n",
       "  'Dec. Lat.': 33.9786111,\n",
       "  'Dec. Lon': -91.3844444,\n",
       "  'Dec.lat/longdatum': 'NAD83',\n",
       "  'Site Name': 'Arkansas River at Pendleton, AR'}}"
      ]
     },
     "execution_count": 10,
     "metadata": {},
     "output_type": "execute_result"
    }
   ],
   "source": [
    "df.set_index('Site Number').to_dict(orient='index')"
   ]
  },
  {
   "cell_type": "code",
   "execution_count": 7,
   "metadata": {},
   "outputs": [
    {
     "data": {
      "text/html": [
       "<div>\n",
       "<style>\n",
       "    .dataframe thead tr:only-child th {\n",
       "        text-align: right;\n",
       "    }\n",
       "\n",
       "    .dataframe thead th {\n",
       "        text-align: left;\n",
       "    }\n",
       "\n",
       "    .dataframe tbody tr th {\n",
       "        vertical-align: top;\n",
       "    }\n",
       "</style>\n",
       "<table border=\"1\" class=\"dataframe\">\n",
       "  <thead>\n",
       "    <tr style=\"text-align: right;\">\n",
       "      <th></th>\n",
       "      <th>0</th>\n",
       "      <th>1</th>\n",
       "    </tr>\n",
       "  </thead>\n",
       "  <tbody>\n",
       "    <tr>\n",
       "      <th>0</th>\n",
       "      <td>Site name contains string =</td>\n",
       "      <td>Arkansas river at</td>\n",
       "    </tr>\n",
       "    <tr>\n",
       "      <th>1</th>\n",
       "      <td>Data type =</td>\n",
       "      <td>Current Conditions and Recent Daily Data</td>\n",
       "    </tr>\n",
       "  </tbody>\n",
       "</table>\n",
       "</div>"
      ],
      "text/plain": [
       "                             0                                         1\n",
       "0  Site name contains string =                         Arkansas river at\n",
       "1                  Data type =  Current Conditions and Recent Daily Data"
      ]
     },
     "execution_count": 7,
     "metadata": {},
     "output_type": "execute_result"
    }
   ],
   "source": [
    "dummy = tables[0]\n",
    "dummy.head()"
   ]
  },
  {
   "cell_type": "markdown",
   "metadata": {},
   "source": [
    "### <font color='blue'>Alternative to pandas</font>\n",
    "#### <font color='blue'>Here it gets interesting: using Selenium to read \"ghost\" javascript tables, which are otherwise unseeable to beautifulsoup</font>"
   ]
  },
  {
   "cell_type": "code",
   "execution_count": 20,
   "metadata": {
    "collapsed": true
   },
   "outputs": [],
   "source": [
    "from selenium import webdriver\n",
    "from selenium.webdriver.common.keys import Keys\n",
    "import time\n",
    "\n",
    "import os\n",
    "chromedriver = \"/Users/sealoving/Documents/GitHub/Liang_Metis/chromedriver\" # path to the chromedriver executable\n",
    "os.environ[\"webdriver.chrome.driver\"] = chromedriver\n",
    "\n",
    "driver = webdriver.Chrome(chromedriver)"
   ]
  },
  {
   "cell_type": "code",
   "execution_count": 22,
   "metadata": {},
   "outputs": [],
   "source": [
    "url = 'https://waterdata.usgs.gov/nwis/inventory?search_station_nm=cumberland%20river%20at&search_station_nm_match_type=beginning&data_type=rt&group_key=NONE&format=sitefile_output&sitefile_output_format=html_table&column_name=site_no&column_name=station_nm&column_name=dec_lat_va&column_name=dec_long_va&list_of_search_criteria=search_station_nm%2Cdata_type'\n",
    "driver.get(url)"
   ]
  },
  {
   "cell_type": "code",
   "execution_count": 23,
   "metadata": {
    "collapsed": true
   },
   "outputs": [],
   "source": [
    "soup = BeautifulSoup(driver.page_source, 'html.parser')"
   ]
  },
  {
   "cell_type": "code",
   "execution_count": 25,
   "metadata": {},
   "outputs": [],
   "source": [
    "station_table = soup.find_all('table')[1]\n",
    "#print(station_table.prettify())"
   ]
  },
  {
   "cell_type": "code",
   "execution_count": 32,
   "metadata": {
    "scrolled": true
   },
   "outputs": [],
   "source": [
    "stations = station_table.find_all('tr')[2:]\n",
    "#print(stations[2].prettify()) #skip two header rows"
   ]
  },
  {
   "cell_type": "code",
   "execution_count": 33,
   "metadata": {},
   "outputs": [
    {
     "name": "stdout",
     "output_type": "stream",
     "text": [
      "03402900 CUMBERLAND R AT PINE ST BR AT PINEVILLE, KY 36.7631412 -83.691862 F\n",
      "03403500 CUMBERLAND RIVER AT BARBOURVILLE, KY 36.8623097 -83.8874248 F\n",
      "03404000 CUMBERLAND RIVER AT WILLIAMSBURG, KY 36.743417 -84.1560449 F\n",
      "03404500 CUMBERLAND RIVER AT CUMBERLAND FALLS, KY 36.8373036 -84.3432703 U\n",
      "03414100 CUMBERLAND RIVER AT BURKESVILLE, KY 36.7867288 -85.3652406 F\n",
      "03417500 CUMBERLAND RIVER AT CELINA, TN 36.55422759 -85.5144139 U\n",
      "03425000 CUMBERLAND RIVER AT CARTHAGE, TN 36.24810996 -85.95526519 U\n",
      "03426310 CUMBERLAND RIVER AT OLD HICKORY DAM (TW), TN 36.29711845 -86.6586324 U\n",
      "03426490 CUMBERLAND RIVER AT EDENWOLD, TN 36.2875 -86.6883333 H\n",
      "03430250 CUMBERLAND RIVER AT STONES RIVER NEAR HERMITAGE,TN 36.19166667 -86.6652778 H\n",
      "03430320 CUMBERLAND RIVER AT BRILEY PKWY NR INGLEWOOD, TN 36.23527778 -86.7125 H\n",
      "03431091 CUMBERLAND R AT OMOHUNDRO WTR PLT AT NASHVILLE, TN 36.1653343 -86.7213866 U\n",
      "03431500 CUMBERLAND RIVER AT NASHVILLE, TN 36.1614984 -86.7726764 U\n",
      "034315005 CUMBERLAND RIVER AT WOODLAND ST AT NASHVILLE, TN 36.16727879 -86.7763875 U\n",
      "03431712 CUMBERLAND RIVER AT BRILEY PKWY AT COCKRILL BEND 36.1833333 -86.8652222 H\n",
      "03431790 CUMBERLAND RIVER AT ASHLAND CITY, TN 36.27055556 -87.0761111 H\n",
      "03434870 CUMBERLAND RIVER AT RIVER MILE 142.9, TN 36.3147222 -87.2161111 S\n",
      "03435000 CUMBERLAND RIVER BELOW CHEATHAM DAM, TN 36.32290298 -87.2282645 U\n"
     ]
    }
   ],
   "source": [
    "# test table contents\n",
    "for i in range(len(stations)):\n",
    "    print(stations[i].find_all('td')[0].text.strip(),\n",
    "          stations[i].find_all('td')[1].text.strip(),\n",
    "          float(stations[i].find_all('td')[2].text.strip()),\n",
    "          float(stations[i].find_all('td')[3].text.strip()),\n",
    "          stations[i].find_all('td')[4].text.strip())"
   ]
  },
  {
   "cell_type": "code",
   "execution_count": null,
   "metadata": {
    "collapsed": true
   },
   "outputs": [],
   "source": []
  }
 ],
 "metadata": {
  "kernelspec": {
   "display_name": "Python 3",
   "language": "python",
   "name": "python3"
  },
  "language_info": {
   "codemirror_mode": {
    "name": "ipython",
    "version": 3
   },
   "file_extension": ".py",
   "mimetype": "text/x-python",
   "name": "python",
   "nbconvert_exporter": "python",
   "pygments_lexer": "ipython3",
   "version": "3.6.3"
  }
 },
 "nbformat": 4,
 "nbformat_minor": 2
}
