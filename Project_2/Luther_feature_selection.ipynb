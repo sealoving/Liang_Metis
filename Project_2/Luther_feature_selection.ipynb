{
 "cells": [
  {
   "cell_type": "code",
   "execution_count": 349,
   "metadata": {
    "collapsed": true
   },
   "outputs": [],
   "source": [
    "import numpy as np\n",
    "import pandas as pd\n",
    "import math\n",
    "import matplotlib.pyplot as plt\n",
    "from matplotlib import gridspec\n",
    "%matplotlib inline\n",
    "\n",
    "import statsmodels.api as sm\n",
    "import statsmodels.formula.api as smf\n",
    "from sklearn.model_selection import train_test_split\n",
    "from sklearn.linear_model import LinearRegression\n",
    "from sklearn.linear_model import ElasticNetCV\n",
    "import seaborn as sns"
   ]
  },
  {
   "cell_type": "code",
   "execution_count": 350,
   "metadata": {
    "collapsed": true
   },
   "outputs": [],
   "source": [
    "df_raw = pd.read_pickle('USGS_raw_data.pickle')\n",
    "df = df_raw.dropna(axis=1, thresh=365*5)\n",
    "stations = pd.read_pickle('USGS_stations.pickle')"
   ]
  },
  {
   "cell_type": "code",
   "execution_count": 351,
   "metadata": {
    "collapsed": true
   },
   "outputs": [],
   "source": [
    "def plotfit(X,y,lr):\n",
    "    \n",
    "    plt.subplots(figsize=(10,10))\n",
    "    ax = plt.subplot(2,2,3)\n",
    "    plt.scatter(lr.predict(X),y,alpha=0.3,color='black')\n",
    "    ax.set_xlabel('measured log(turbidity)')\n",
    "    ax.set_ylabel('predicted log(turbidity)')\n",
    "    ax.set_title('Measured vs. Predicted',fontweight='bold')\n",
    "    ax = plt.subplot(2,1,1)\n",
    "    plt.plot(pd.Series(lr.predict(X),index=y.index),'.')\n",
    "    plt.plot(y,'.')\n",
    "    ax.set_xlabel('year')\n",
    "    ax.set_ylabel('log(turbidity)')\n",
    "    ax.legend(['measured','predicted'])\n",
    "    ax.set_title('Time Series Plot',fontweight='bold')\n",
    "    ax = plt.subplot(2,2,4)\n",
    "    ax.set_title('Residual Histogram',fontweight='bold')\n",
    "    ax.set_xlabel('residual')\n",
    "    ax.set_ylabel('count')\n",
    "    plt.hist(lr.predict(X)-y,bins=20,color='#999999');"
   ]
  },
  {
   "cell_type": "code",
   "execution_count": 352,
   "metadata": {},
   "outputs": [
    {
     "data": {
      "text/plain": [
       "1359"
      ]
     },
     "execution_count": 352,
     "metadata": {},
     "output_type": "execute_result"
    }
   ],
   "source": [
    "data = df.dropna().apply(np.log)\n",
    "len(data)"
   ]
  },
  {
   "cell_type": "code",
   "execution_count": 559,
   "metadata": {},
   "outputs": [
    {
     "name": "stdout",
     "output_type": "stream",
     "text": [
      "0.795497681407\n"
     ]
    }
   ],
   "source": [
    "# apply log transformation to all variables\n",
    "lr = LinearRegression()\n",
    "data = df.dropna().apply(np.log)\n",
    "data = data.replace([np.inf, -np.inf], np.nan)\n",
    "data = data.dropna(axis=1)\n",
    "X = data.drop(['turbidity'],axis=1)\n",
    "y = data['turbidity']\n",
    "lr.fit(X,y)\n",
    "print(lr.score(X,y))\n",
    "#plotfit(X,y,lr)"
   ]
  },
  {
   "cell_type": "code",
   "execution_count": 560,
   "metadata": {},
   "outputs": [],
   "source": [
    "# find groups of colinear features\n",
    "d = {}\n",
    "c = X.corr()\n",
    "st_list = list(c.columns)\n",
    "corr_thresh = 0.95\n",
    "\n",
    "while len(st_list)>0:\n",
    "    st_key = st_list[0]\n",
    "    d[st_key] = []\n",
    "    for st in st_list:\n",
    "        if c.loc[st,st_key] > corr_thresh:\n",
    "            d[st_key].append(st)\n",
    "    for st in d[st_key]:\n",
    "        st_list.remove(st)\n",
    "\n",
    "# test each station in each group with multiple stations\n",
    "d_select = dict.fromkeys(d.keys())\n",
    "\n",
    "for key in d.keys():\n",
    "    if len(d[key])>1: # multiple stations\n",
    "        r2 = 0\n",
    "        for st in d[key]:\n",
    "            to_remove = list(d[key])\n",
    "            to_remove.remove(st)\n",
    "            lr = LinearRegression()\n",
    "            Xnew = X.drop(to_remove,axis=1)\n",
    "            lr.fit(Xnew,y)\n",
    "            if lr.score(Xnew,y)>r2:\n",
    "                r2 = lr.score(Xnew,y)\n",
    "                d_select[key] = (st,r2)\n",
    "\n",
    "selected = []\n",
    "for key in d_select.keys():\n",
    "    if d_select[key] is None:\n",
    "        selected.append(key)\n",
    "    else:\n",
    "        selected.append(d_select[key][0])\n",
    "\n",
    "# print(selected)\n"
   ]
  },
  {
   "cell_type": "code",
   "execution_count": 561,
   "metadata": {},
   "outputs": [
    {
     "name": "stdout",
     "output_type": "stream",
     "text": [
      "0.590776081315\n"
     ]
    }
   ],
   "source": [
    "# Recursive Feature Elimination\n",
    "\n",
    "from sklearn.feature_selection import RFE\n",
    "\n",
    "lr = LinearRegression()\n",
    "selected.append('turbidity')\n",
    "data = df[selected].dropna().apply(np.log)\n",
    "data = data.replace([np.inf, -np.inf], np.nan)\n",
    "data = data.dropna(axis=1)\n",
    "# data = df.dropna().apply(np.log)\n",
    "# data = data.replace([np.inf, -np.inf], np.nan)\n",
    "# data = data.dropna(axis=1)\n",
    "\n",
    "X = data.drop(['turbidity'],axis=1)\n",
    "y = data['turbidity']\n",
    "# create the RFE model and select 10 attributes\n",
    "rfe = RFE(lr, 12)\n",
    "rfe = rfe.fit(X, y)\n",
    "# # summarize the selection of the attributes\n",
    "# print(rfe.support_)\n",
    "# print(rfe.ranking_)\n",
    "\n",
    "cols = X.columns[rfe.support_]\n",
    "group = list(cols)\n",
    "group.append('turbidity')\n",
    "# sns.pairplot(df[[<insert the columns of your df here>]])\n",
    "# sns.heatmap(df[group].corr())     #<---- will give you a good visualization of the correlation matrix\n",
    "\n",
    "# lr = LinearRegression()\n",
    "# data = df[group].dropna().apply(np.log)\n",
    "# data = data.replace([np.inf, -np.inf], np.nan)\n",
    "# data = data.dropna(axis=1)\n",
    "# X = data.drop(['turbidity'],axis=1)\n",
    "# y = data['turbidity']\n",
    "# rfe = RFE(lr, 15)\n",
    "# rfe = rfe.fit(X, y)\n",
    "# cols = X.columns[rfe.support_]\n",
    "# group = list(cols)\n",
    "# group.append('turbidity')\n",
    "\n",
    "lr = LinearRegression()\n",
    "data = df[group].dropna().apply(np.log)\n",
    "data = data.replace([np.inf, -np.inf], np.nan)\n",
    "data = data.dropna(axis=1)\n",
    "X = data.drop(['turbidity'],axis=1)\n",
    "y = data['turbidity']\n",
    "lr.fit(X,y)\n",
    "print(lr.score(X,y))\n",
    "# plotfit(X,y,lr)"
   ]
  },
  {
   "cell_type": "code",
   "execution_count": 554,
   "metadata": {},
   "outputs": [
    {
     "name": "stdout",
     "output_type": "stream",
     "text": [
      "total # of stations: 15\n"
     ]
    },
    {
     "data": {
      "text/plain": [
       "03110690      OHIO R AT NEW CUMBERLAND LOCK & DAM (LOWER), OH\n",
       "03111520         OHIO R AT PIKE ISLAND LOCK & DAM (LOWER), WV\n",
       "03430250    CUMBERLAND RIVER AT STONES RIVER NEAR HERMITAG...\n",
       "03430320     CUMBERLAND RIVER AT BRILEY PKWY NR INGLEWOOD, TN\n",
       "03431712     CUMBERLAND RIVER AT BRILEY PKWY AT COCKRILL BEND\n",
       "03594500                  TENNESSEE RIVER AT PERRYVILLE, TENN\n",
       "06090300                   Missouri River near Great Falls MT\n",
       "06090800                     Missouri River at Fort Benton MT\n",
       "06342020                          MISSOURI RIVER AT PRICE, ND\n",
       "06441595              MISSOURI R AT FARM ISLAND NR PIERRE, SD\n",
       "06813500                           Missouri River at Rulo, NE\n",
       "06818000                     Missouri River at St. Joseph, MO\n",
       "07022000                      Mississippi River at Thebes, IL\n",
       "07374000                 Mississippi River at Baton Rouge, LA\n",
       "07020850              Mississippi River at Cape Girardeau, MO\n",
       "Name: site_name, dtype: object"
      ]
     },
     "execution_count": 554,
     "metadata": {},
     "output_type": "execute_result"
    }
   ],
   "source": [
    "print('total # of stations: %d'%len(X.columns))\n",
    "stations.loc[X.columns,'site_name']"
   ]
  },
  {
   "cell_type": "code",
   "execution_count": 527,
   "metadata": {},
   "outputs": [
    {
     "data": {
      "text/plain": [
       "<matplotlib.axes._subplots.AxesSubplot at 0x1c27c41278>"
      ]
     },
     "execution_count": 527,
     "metadata": {},
     "output_type": "execute_result"
    },
    {
     "data": {
      "image/png": "[encoded data removed]",
      "text/plain": [
       "<matplotlib.figure.Figure at 0x1c27c6db38>"
      ]
     },
     "metadata": {},
     "output_type": "display_data"
    }
   ],
   "source": [
    "sns.heatmap(X.corr(),cmap='Reds')"
   ]
  },
  {
   "cell_type": "code",
   "execution_count": 540,
   "metadata": {},
   "outputs": [
    {
     "data": {
      "text/plain": [
       "{'03111520': None,\n",
       " '03430320': ('03431712', 0.63273521602606198),\n",
       " '03594500': None,\n",
       " '06090300': ('06090800', 0.59729804951228971),\n",
       " '06342020': None,\n",
       " '06441595': None,\n",
       " '06818000': None,\n",
       " '07022000': ('07022000', 0.62521051672208561),\n",
       " '07374000': None}"
      ]
     },
     "execution_count": 540,
     "metadata": {},
     "output_type": "execute_result"
    }
   ],
   "source": [
    "# find groups of colinear features\n",
    "d = {}\n",
    "c = X.corr()\n",
    "st_list = list(c.columns)\n",
    "corr_thresh = 0.9\n",
    "\n",
    "while len(st_list)>0:\n",
    "    st_key = st_list[0]\n",
    "    d[st_key] = []\n",
    "    for st in st_list:\n",
    "        if c.loc[st,st_key] > corr_thresh:\n",
    "            d[st_key].append(st)\n",
    "    for st in d[st_key]:\n",
    "        st_list.remove(st)\n",
    "        \n",
    "# test each station in each group with multiple stations\n",
    "d_select = dict.fromkeys(d.keys())\n",
    "\n",
    "for key in d.keys():\n",
    "    if len(d[key])>1: # multiple stations\n",
    "        r2 = 0\n",
    "        for st in d[key]:\n",
    "            to_remove = list(d[key])\n",
    "            to_remove.remove(st)\n",
    "            lr = LinearRegression()\n",
    "            Xnew = X.drop(to_remove,axis=1)\n",
    "            lr.fit(Xnew,y)\n",
    "            if lr.score(Xnew,y)>r2:\n",
    "                r2 = lr.score(Xnew,y)\n",
    "                d_select[key] = (st,r2)\n",
    "d_select"
   ]
  },
  {
   "cell_type": "code",
   "execution_count": 541,
   "metadata": {},
   "outputs": [
    {
     "name": "stdout",
     "output_type": "stream",
     "text": [
      "['03111520', '03431712', '03594500', '06090800', '06342020', '06441595', '06818000', '07022000', '07374000']\n"
     ]
    }
   ],
   "source": [
    "selected = []\n",
    "for key in d_select.keys():\n",
    "    if d_select[key] is None:\n",
    "        selected.append(key)\n",
    "    else:\n",
    "        selected.append(d_select[key][0])\n",
    "\n",
    "print(selected)"
   ]
  },
  {
   "cell_type": "code",
   "execution_count": 542,
   "metadata": {},
   "outputs": [
    {
     "data": {
      "text/plain": [
       "0.57646178370090606"
      ]
     },
     "execution_count": 542,
     "metadata": {},
     "output_type": "execute_result"
    }
   ],
   "source": [
    "lr = LinearRegression()\n",
    "selected.append('turbidity')\n",
    "data = df[selected].dropna().apply(np.log)\n",
    "data = data.replace([np.inf, -np.inf], np.nan)\n",
    "data = data.dropna(axis=1)\n",
    "X = data.drop(['turbidity'],axis=1)\n",
    "y = data['turbidity']\n",
    "lr.fit(X,y)\n",
    "lr.score(X,y)\n",
    "# plotfit(X,y,lr)"
   ]
  },
  {
   "cell_type": "code",
   "execution_count": 543,
   "metadata": {},
   "outputs": [
    {
     "name": "stdout",
     "output_type": "stream",
     "text": [
      "total # of stations: 9\n"
     ]
    },
    {
     "data": {
      "text/plain": [
       "03111520        OHIO R AT PIKE ISLAND LOCK & DAM (LOWER), WV\n",
       "03431712    CUMBERLAND RIVER AT BRILEY PKWY AT COCKRILL BEND\n",
       "03594500                 TENNESSEE RIVER AT PERRYVILLE, TENN\n",
       "06090800                    Missouri River at Fort Benton MT\n",
       "06342020                         MISSOURI RIVER AT PRICE, ND\n",
       "06441595             MISSOURI R AT FARM ISLAND NR PIERRE, SD\n",
       "06818000                    Missouri River at St. Joseph, MO\n",
       "07022000                     Mississippi River at Thebes, IL\n",
       "07374000                Mississippi River at Baton Rouge, LA\n",
       "Name: site_name, dtype: object"
      ]
     },
     "execution_count": 543,
     "metadata": {},
     "output_type": "execute_result"
    }
   ],
   "source": [
    "print('total # of stations: %d'%len(X.columns))\n",
    "stations.loc[X.columns,'site_name']"
   ]
  },
  {
   "cell_type": "code",
   "execution_count": 544,
   "metadata": {},
   "outputs": [
    {
     "data": {
      "text/plain": [
       "<matplotlib.axes._subplots.AxesSubplot at 0x1c27beab00>"
      ]
     },
     "execution_count": 544,
     "metadata": {},
     "output_type": "execute_result"
    },
    {
     "data": {
      "image/png": "[encoded data removed]",
      "text/plain": [
       "<matplotlib.figure.Figure at 0x1c28b2bc50>"
      ]
     },
     "metadata": {},
     "output_type": "display_data"
    }
   ],
   "source": [
    "sns.heatmap(X.corr(),cmap='Reds')"
   ]
  },
  {
   "cell_type": "code",
   "execution_count": 545,
   "metadata": {},
   "outputs": [
    {
     "data": {
      "text/html": [
       "<table class=\"simpletable\">\n",
       "<caption>OLS Regression Results</caption>\n",
       "<tr>\n",
       "  <th>Dep. Variable:</th>        <td>turbidity</td>    <th>  R-squared:         </th> <td>   0.576</td> \n",
       "</tr>\n",
       "<tr>\n",
       "  <th>Model:</th>                   <td>OLS</td>       <th>  Adj. R-squared:    </th> <td>   0.574</td> \n",
       "</tr>\n",
       "<tr>\n",
       "  <th>Method:</th>             <td>Least Squares</td>  <th>  F-statistic:       </th> <td>   240.8</td> \n",
       "</tr>\n",
       "<tr>\n",
       "  <th>Date:</th>             <td>Thu, 01 Feb 2018</td> <th>  Prob (F-statistic):</th> <td>1.83e-289</td>\n",
       "</tr>\n",
       "<tr>\n",
       "  <th>Time:</th>                 <td>14:45:06</td>     <th>  Log-Likelihood:    </th> <td> -1003.0</td> \n",
       "</tr>\n",
       "<tr>\n",
       "  <th>No. Observations:</th>      <td>  1602</td>      <th>  AIC:               </th> <td>   2026.</td> \n",
       "</tr>\n",
       "<tr>\n",
       "  <th>Df Residuals:</th>          <td>  1592</td>      <th>  BIC:               </th> <td>   2080.</td> \n",
       "</tr>\n",
       "<tr>\n",
       "  <th>Df Model:</th>              <td>     9</td>      <th>                     </th>     <td> </td>    \n",
       "</tr>\n",
       "<tr>\n",
       "  <th>Covariance Type:</th>      <td>nonrobust</td>    <th>                     </th>     <td> </td>    \n",
       "</tr>\n",
       "</table>\n",
       "<table class=\"simpletable\">\n",
       "<tr>\n",
       "      <td></td>        <th>coef</th>     <th>std err</th>      <th>t</th>      <th>P>|t|</th>  <th>[0.025</th>    <th>0.975]</th>  \n",
       "</tr>\n",
       "<tr>\n",
       "  <th>const</th>    <td>  -28.4124</td> <td>    2.299</td> <td>  -12.359</td> <td> 0.000</td> <td>  -32.921</td> <td>  -23.903</td>\n",
       "</tr>\n",
       "<tr>\n",
       "  <th>03111520</th> <td>   -0.1078</td> <td>    0.081</td> <td>   -1.324</td> <td> 0.186</td> <td>   -0.267</td> <td>    0.052</td>\n",
       "</tr>\n",
       "<tr>\n",
       "  <th>03431712</th> <td>    0.0538</td> <td>    0.139</td> <td>    0.386</td> <td> 0.699</td> <td>   -0.219</td> <td>    0.327</td>\n",
       "</tr>\n",
       "<tr>\n",
       "  <th>03594500</th> <td>    2.0085</td> <td>    0.377</td> <td>    5.331</td> <td> 0.000</td> <td>    1.269</td> <td>    2.748</td>\n",
       "</tr>\n",
       "<tr>\n",
       "  <th>06090800</th> <td>   -0.1169</td> <td>    0.045</td> <td>   -2.581</td> <td> 0.010</td> <td>   -0.206</td> <td>   -0.028</td>\n",
       "</tr>\n",
       "<tr>\n",
       "  <th>06342020</th> <td>    1.7038</td> <td>    0.182</td> <td>    9.360</td> <td> 0.000</td> <td>    1.347</td> <td>    2.061</td>\n",
       "</tr>\n",
       "<tr>\n",
       "  <th>06441595</th> <td>    2.9785</td> <td>    0.621</td> <td>    4.796</td> <td> 0.000</td> <td>    1.760</td> <td>    4.197</td>\n",
       "</tr>\n",
       "<tr>\n",
       "  <th>06818000</th> <td>   -0.0935</td> <td>    0.043</td> <td>   -2.165</td> <td> 0.031</td> <td>   -0.178</td> <td>   -0.009</td>\n",
       "</tr>\n",
       "<tr>\n",
       "  <th>07022000</th> <td>    0.1253</td> <td>    0.036</td> <td>    3.519</td> <td> 0.000</td> <td>    0.055</td> <td>    0.195</td>\n",
       "</tr>\n",
       "<tr>\n",
       "  <th>07374000</th> <td>    0.8192</td> <td>    0.036</td> <td>   22.947</td> <td> 0.000</td> <td>    0.749</td> <td>    0.889</td>\n",
       "</tr>\n",
       "</table>\n",
       "<table class=\"simpletable\">\n",
       "<tr>\n",
       "  <th>Omnibus:</th>       <td> 7.830</td> <th>  Durbin-Watson:     </th> <td>   0.111</td>\n",
       "</tr>\n",
       "<tr>\n",
       "  <th>Prob(Omnibus):</th> <td> 0.020</td> <th>  Jarque-Bera (JB):  </th> <td>   7.876</td>\n",
       "</tr>\n",
       "<tr>\n",
       "  <th>Skew:</th>          <td>-0.159</td> <th>  Prob(JB):          </th> <td>  0.0195</td>\n",
       "</tr>\n",
       "<tr>\n",
       "  <th>Kurtosis:</th>      <td> 2.872</td> <th>  Cond. No.          </th> <td>4.92e+03</td>\n",
       "</tr>\n",
       "</table>"
      ],
      "text/plain": [
       "<class 'statsmodels.iolib.summary.Summary'>\n",
       "\"\"\"\n",
       "                            OLS Regression Results                            \n",
       "==============================================================================\n",
       "Dep. Variable:              turbidity   R-squared:                       0.576\n",
       "Model:                            OLS   Adj. R-squared:                  0.574\n",
       "Method:                 Least Squares   F-statistic:                     240.8\n",
       "Date:                Thu, 01 Feb 2018   Prob (F-statistic):          1.83e-289\n",
       "Time:                        14:45:06   Log-Likelihood:                -1003.0\n",
       "No. Observations:                1602   AIC:                             2026.\n",
       "Df Residuals:                    1592   BIC:                             2080.\n",
       "Df Model:                           9                                         \n",
       "Covariance Type:            nonrobust                                         \n",
       "==============================================================================\n",
       "                 coef    std err          t      P>|t|      [0.025      0.975]\n",
       "------------------------------------------------------------------------------\n",
       "const        -28.4124      2.299    -12.359      0.000     -32.921     -23.903\n",
       "03111520      -0.1078      0.081     -1.324      0.186      -0.267       0.052\n",
       "03431712       0.0538      0.139      0.386      0.699      -0.219       0.327\n",
       "03594500       2.0085      0.377      5.331      0.000       1.269       2.748\n",
       "06090800      -0.1169      0.045     -2.581      0.010      -0.206      -0.028\n",
       "06342020       1.7038      0.182      9.360      0.000       1.347       2.061\n",
       "06441595       2.9785      0.621      4.796      0.000       1.760       4.197\n",
       "06818000      -0.0935      0.043     -2.165      0.031      -0.178      -0.009\n",
       "07022000       0.1253      0.036      3.519      0.000       0.055       0.195\n",
       "07374000       0.8192      0.036     22.947      0.000       0.749       0.889\n",
       "==============================================================================\n",
       "Omnibus:                        7.830   Durbin-Watson:                   0.111\n",
       "Prob(Omnibus):                  0.020   Jarque-Bera (JB):                7.876\n",
       "Skew:                          -0.159   Prob(JB):                       0.0195\n",
       "Kurtosis:                       2.872   Cond. No.                     4.92e+03\n",
       "==============================================================================\n",
       "\n",
       "Warnings:\n",
       "[1] Standard Errors assume that the covariance matrix of the errors is correctly specified.\n",
       "[2] The condition number is large, 4.92e+03. This might indicate that there are\n",
       "strong multicollinearity or other numerical problems.\n",
       "\"\"\""
      ]
     },
     "execution_count": 545,
     "metadata": {},
     "output_type": "execute_result"
    }
   ],
   "source": [
    "Xsm = sm.add_constant(X)\n",
    "# Create your model and\n",
    "# Fit your model to your training set\n",
    "smfit = sm.OLS(y,Xsm).fit()\n",
    "smfit.summary()"
   ]
  },
  {
   "cell_type": "code",
   "execution_count": 548,
   "metadata": {},
   "outputs": [
    {
     "data": {
      "text/plain": [
       "0.51105919047777459"
      ]
     },
     "execution_count": 548,
     "metadata": {},
     "output_type": "execute_result"
    }
   ],
   "source": [
    "# apply ElasticNet CV on selected features\n",
    "from sklearn.linear_model import ElasticNetCV\n",
    "\n",
    "alphas = np.logspace(-2,3,num=20)\n",
    "ecv = ElasticNetCV(cv=6, alphas=alphas,l1_ratio=1)\n",
    "data = df[group].dropna().apply(np.log)\n",
    "data = data.replace([np.inf, -np.inf], np.nan)\n",
    "data = data.dropna(axis=1)\n",
    "# Note: important here to shuffle\n",
    "data = data.sample(frac=1)\n",
    "X = data.drop(['turbidity'],axis=1)\n",
    "y = data['turbidity']\n",
    "ecv.fit(X,y)\n",
    "ecv.score(X,y)\n"
   ]
  },
  {
   "cell_type": "code",
   "execution_count": 553,
   "metadata": {},
   "outputs": [
    {
     "name": "stdout",
     "output_type": "stream",
     "text": [
      "(0.0, 'OHIO R AT NEW CUMBERLAND LOCK & DAM (LOWER), OH')\n",
      "(0.0, 'OHIO R AT PIKE ISLAND LOCK & DAM (LOWER), WV')\n",
      "(0.0, 'CUMBERLAND RIVER AT STONES RIVER NEAR HERMITAGE,TN')\n",
      "(0.0, 'CUMBERLAND RIVER AT BRILEY PKWY NR INGLEWOOD, TN')\n",
      "(0.0, 'CUMBERLAND RIVER AT BRILEY PKWY AT COCKRILL BEND')\n",
      "(0.0, 'TENNESSEE RIVER AT PERRYVILLE, TENN')\n",
      "(0.062854268387548137, 'Missouri River near Great Falls MT')\n",
      "(0.0, 'Missouri River at Fort Benton MT')\n",
      "(0.0, 'MISSOURI RIVER AT PRICE, ND')\n",
      "(0.0, 'MISSOURI R AT FARM ISLAND NR PIERRE, SD')\n",
      "(-0.0, 'Missouri River at Rulo, NE')\n",
      "(-0.063768711814306392, 'Missouri River at St. Joseph, MO')\n",
      "(0.017843099973916282, 'Mississippi River at Thebes, IL')\n",
      "(0.87625139912599359, 'Mississippi River at Baton Rouge, LA')\n",
      "(0.0, 'Mississippi River at Cape Girardeau, MO')\n"
     ]
    }
   ],
   "source": [
    "newlist = list(zip(ecv.coef_,stations.loc[X.columns,'site_name']))\n",
    "for item in newlist:\n",
    "    print(item)"
   ]
  },
  {
   "cell_type": "code",
   "execution_count": 500,
   "metadata": {},
   "outputs": [
    {
     "name": "stdout",
     "output_type": "stream",
     "text": [
      "0.0\n"
     ]
    }
   ],
   "source": [
    "print(ecv.coef_[2])"
   ]
  },
  {
   "cell_type": "code",
   "execution_count": 551,
   "metadata": {},
   "outputs": [
    {
     "data": {
      "text/plain": [
       "Index(['watershed', 'site_name', 'lat', 'lon', 'drainage_area_sqmi',\n",
       "       'gage_datum_ft', 'Turbidity', 'Discharge_start', 'Discharge_end',\n",
       "       'Discharge_count', 'Gage_start', 'Gage_end', 'Gage_count'],\n",
       "      dtype='object')"
      ]
     },
     "execution_count": 551,
     "metadata": {},
     "output_type": "execute_result"
    }
   ],
   "source": [
    "stations.columns"
   ]
  },
  {
   "cell_type": "markdown",
   "metadata": {},
   "source": [
    "#### <font color='red'> keep the print out below for reference"
   ]
  },
  {
   "cell_type": "code",
   "execution_count": 438,
   "metadata": {},
   "outputs": [
    {
     "data": {
      "text/plain": [
       "<pandas.core.indexing._LocIndexer at 0x1c278a6898>"
      ]
     },
     "execution_count": 438,
     "metadata": {},
     "output_type": "execute_result"
    }
   ],
   "source": [
    "stations.loc(list(X.columns))"
   ]
  },
  {
   "cell_type": "code",
   "execution_count": 442,
   "metadata": {},
   "outputs": [
    {
     "name": "stdout",
     "output_type": "stream",
     "text": [
      "(-0.14257528699673039, 'OHIO R AT PIKE ISLAND LOCK & DAM (LOWER), WV')\n",
      "(0.13393877080723182, 'CUMBERLAND RIVER AT BRILEY PKWY AT COCKRILL BEND')\n",
      "(1.9852575152751604, 'TENNESSEE RIVER AT PERRYVILLE, TENN')\n",
      "(0.025281000245090973, 'Missouri River near Great Falls MT')\n",
      "(1.4599583510601462, 'MISSOURI RIVER AT PRICE, ND')\n",
      "(2.9796264283735585, 'MISSOURI R AT FARM ISLAND NR PIERRE, SD')\n",
      "(-0.12469916236807262, 'Missouri River at St. Joseph, MO')\n",
      "(0.10631151310145809, 'Mississippi River at Thebes, IL')\n",
      "(0.81395289647496316, 'Mississippi River at Baton Rouge, LA')\n"
     ]
    }
   ],
   "source": [
    "newlist = list(zip(ecv.coef_,stations.loc[X.columns,'site_name']))\n",
    "for item in newlist:\n",
    "    print(item)"
   ]
  },
  {
   "cell_type": "code",
   "execution_count": 390,
   "metadata": {},
   "outputs": [],
   "source": [
    "# # load test data\n",
    "# df_test = pd.read_pickle('USGS_test_data.pickle')\n",
    "\n",
    "# lr = LinearRegression()\n",
    "# data = df_test[selected].dropna().apply(np.log)\n",
    "# data = data.replace([np.inf, -np.inf], np.nan)\n",
    "# data = data.dropna(axis=1)\n",
    "# X = data.drop(['turbidity'],axis=1)\n",
    "# y = data['turbidity']\n",
    "# lr.fit(X,y)\n",
    "# lr.score(X,y)\n",
    "# plotfit(X,y,lr)\n"
   ]
  }
 ],
 "metadata": {
  "kernelspec": {
   "display_name": "Python 3",
   "language": "python",
   "name": "python3"
  },
  "language_info": {
   "codemirror_mode": {
    "name": "ipython",
    "version": 3
   },
   "file_extension": ".py",
   "mimetype": "text/x-python",
   "name": "python",
   "nbconvert_exporter": "python",
   "pygments_lexer": "ipython3",
   "version": "3.6.3"
  }
 },
 "nbformat": 4,
 "nbformat_minor": 2
}
