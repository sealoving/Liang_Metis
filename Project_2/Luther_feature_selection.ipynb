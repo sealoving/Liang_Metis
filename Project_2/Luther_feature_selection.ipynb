{
 "cells": [
  {
   "cell_type": "code",
   "execution_count": 8,
   "metadata": {
    "collapsed": true
   },
   "outputs": [],
   "source": [
    "import numpy as np\n",
    "import pandas as pd\n",
    "import math\n",
    "import matplotlib.pyplot as plt\n",
    "from matplotlib import gridspec\n",
    "%matplotlib inline\n",
    "\n",
    "import statsmodels.api as sm\n",
    "import statsmodels.formula.api as smf\n",
    "from sklearn.model_selection import train_test_split\n",
    "from sklearn.linear_model import LinearRegression\n",
    "from sklearn.linear_model import ElasticNetCV\n",
    "import seaborn as sns"
   ]
  },
  {
   "cell_type": "code",
   "execution_count": 10,
   "metadata": {
    "collapsed": true
   },
   "outputs": [],
   "source": [
    "df_raw = pd.read_pickle('USGS_raw_data.pickle')\n",
    "df = df_raw.dropna(axis=1, thresh=365*5)"
   ]
  },
  {
   "cell_type": "code",
   "execution_count": 11,
   "metadata": {
    "collapsed": true
   },
   "outputs": [],
   "source": [
    "def plotfit(X,y,lr):\n",
    "    \n",
    "    plt.subplots(figsize=(10,10))\n",
    "    ax = plt.subplot(2,2,3)\n",
    "    plt.scatter(lr.predict(X),y,alpha=0.3,color='black')\n",
    "    ax.set_xlabel('measured log(turbidity)')\n",
    "    ax.set_ylabel('predicted log(turbidity)')\n",
    "    ax.set_title('Measured vs. Predicted',fontweight='bold')\n",
    "    ax = plt.subplot(2,1,1)\n",
    "    plt.plot(pd.Series(lr.predict(X),index=y.index),'.')\n",
    "    plt.plot(y,'.')\n",
    "    ax.set_xlabel('year')\n",
    "    ax.set_ylabel('log(turbidity)')\n",
    "    ax.legend(['measured','predicted'])\n",
    "    ax.set_title('Time Series Plot',fontweight='bold')\n",
    "    ax = plt.subplot(2,2,4)\n",
    "    ax.set_title('Residual Histogram',fontweight='bold')\n",
    "    ax.set_xlabel('residual')\n",
    "    ax.set_ylabel('count')\n",
    "    plt.hist(lr.predict(X)-y,bins=20,color='#999999');"
   ]
  },
  {
   "cell_type": "code",
   "execution_count": 12,
   "metadata": {},
   "outputs": [
    {
     "data": {
      "text/plain": [
       "1359"
      ]
     },
     "execution_count": 12,
     "metadata": {},
     "output_type": "execute_result"
    }
   ],
   "source": [
    "data = df.dropna().apply(np.log)\n",
    "len(data)"
   ]
  },
  {
   "cell_type": "code",
   "execution_count": 23,
   "metadata": {},
   "outputs": [
    {
     "name": "stdout",
     "output_type": "stream",
     "text": [
      "0.795497681407\n"
     ]
    }
   ],
   "source": [
    "# apply log transformation to all variables\n",
    "lr = LinearRegression()\n",
    "data = df.dropna().apply(np.log)\n",
    "data = data.replace([np.inf, -np.inf], np.nan)\n",
    "data = data.dropna(axis=1)\n",
    "X = data.drop(['turbidity'],axis=1)\n",
    "y = data['turbidity']\n",
    "lr.fit(X,y)\n",
    "print(lr.score(X,y))\n",
    "#plotfit(X,y,lr)"
   ]
  },
  {
   "cell_type": "code",
   "execution_count": 155,
   "metadata": {},
   "outputs": [
    {
     "name": "stdout",
     "output_type": "stream",
     "text": [
      "0.747234723047\n"
     ]
    }
   ],
   "source": [
    "# Recursive Feature Elimination\n",
    "\n",
    "from sklearn.feature_selection import RFE\n",
    "\n",
    "lr = LinearRegression()\n",
    "data = df.dropna().apply(np.log)\n",
    "data = data.replace([np.inf, -np.inf], np.nan)\n",
    "data = data.dropna(axis=1)\n",
    "\n",
    "X = data.drop(['turbidity'],axis=1)\n",
    "y = data['turbidity']\n",
    "# create the RFE model and select 10 attributes\n",
    "rfe = RFE(lr, 80)\n",
    "rfe = rfe.fit(X, y)\n",
    "# # summarize the selection of the attributes\n",
    "# print(rfe.support_)\n",
    "# print(rfe.ranking_)\n",
    "\n",
    "cols = X.columns[rfe.support_]\n",
    "group = list(cols)\n",
    "group.append('turbidity')\n",
    "# sns.pairplot(df[[<insert the columns of your df here>]])\n",
    "# sns.heatmap(df[group].corr())     #<---- will give you a good visualization of the correlation matrix\n",
    "\n",
    "lr = LinearRegression()\n",
    "data = df[group].dropna().apply(np.log)\n",
    "data = data.replace([np.inf, -np.inf], np.nan)\n",
    "data = data.dropna(axis=1)\n",
    "X = data.drop(['turbidity'],axis=1)\n",
    "y = data['turbidity']\n",
    "rfe = RFE(lr, 50)\n",
    "rfe = rfe.fit(X, y)\n",
    "cols = X.columns[rfe.support_]\n",
    "group = list(cols)\n",
    "group.append('turbidity')\n",
    "\n",
    "# lr = LinearRegression()\n",
    "# data = df[group].dropna().apply(np.log)\n",
    "# data = data.replace([np.inf, -np.inf], np.nan)\n",
    "# data = data.dropna(axis=1)\n",
    "# X = data.drop(['turbidity'],axis=1)\n",
    "# y = data['turbidity']\n",
    "# rfe = RFE(lr, 30)\n",
    "# rfe = rfe.fit(X, y)\n",
    "# cols = X.columns[rfe.support_]\n",
    "# group = list(cols)\n",
    "# group.append('turbidity')\n",
    "\n",
    "# lr = LinearRegression()\n",
    "# data = df[group].dropna().apply(np.log)\n",
    "# data = data.replace([np.inf, -np.inf], np.nan)\n",
    "# data = data.dropna(axis=1)\n",
    "# X = data.drop(['turbidity'],axis=1)\n",
    "# y = data['turbidity']\n",
    "# rfe = RFE(lr, 13)\n",
    "# rfe = rfe.fit(X, y)\n",
    "# cols = X.columns[rfe.support_]\n",
    "# group = list(cols)\n",
    "# group.append('turbidity')\n",
    "\n",
    "lr = LinearRegression()\n",
    "data = df[group].dropna().apply(np.log)\n",
    "data = data.replace([np.inf, -np.inf], np.nan)\n",
    "data = data.dropna(axis=1)\n",
    "X = data.drop(['turbidity'],axis=1)\n",
    "y = data['turbidity']\n",
    "lr.fit(X,y)\n",
    "print(lr.score(X,y))\n",
    "# plotfit(X,y,lr)"
   ]
  },
  {
   "cell_type": "code",
   "execution_count": 156,
   "metadata": {},
   "outputs": [
    {
     "data": {
      "text/plain": [
       "<matplotlib.axes._subplots.AxesSubplot at 0x1c214caf60>"
      ]
     },
     "execution_count": 156,
     "metadata": {},
     "output_type": "execute_result"
    },
    {
     "data": {
      "image/png": "[encoded data removed]",
      "text/plain": [
       "<matplotlib.figure.Figure at 0x1c21f49898>"
      ]
     },
     "metadata": {},
     "output_type": "display_data"
    }
   ],
   "source": [
    "sns.heatmap(X.corr(),cmap='Reds')"
   ]
  },
  {
   "cell_type": "code",
   "execution_count": 157,
   "metadata": {},
   "outputs": [
    {
     "data": {
      "text/plain": [
       "{'03110690': ['03110690', '03111520', '03114280', '03294600'],\n",
       " '03381700': ['03381700'],\n",
       " '03430250': ['03430250', '03430320', '03431712'],\n",
       " '03594500': ['03594500'],\n",
       " '05051500': ['05051500', '05051522', '05054000', '05064500', '05082500'],\n",
       " '05207600': ['05207600'],\n",
       " '05270700': ['05270700', '05288500', '05331580', '05420500'],\n",
       " '05474500': ['05474500', '07010000', '07020500', '07022000', '07020850'],\n",
       " '05558300': ['05558300'],\n",
       " '05587060': ['05587060'],\n",
       " '06090300': ['06090300', '06090800'],\n",
       " '06214500': ['06214500', '06295000', '06309000', '06327500'],\n",
       " '06341000': ['06341000', '06342020'],\n",
       " '06342500': ['06342500'],\n",
       " '06441595': ['06441595'],\n",
       " '06486000': ['06486000', '06601200', '06610000'],\n",
       " '06807000': ['06807000', '06813500', '06818000'],\n",
       " '06906500': ['06906500', '06909000', '06934500'],\n",
       " '07195400': ['07195400', '07195500'],\n",
       " '07263650': ['07263650'],\n",
       " '07289000': ['07289000', '07374000']}"
      ]
     },
     "execution_count": 157,
     "metadata": {},
     "output_type": "execute_result"
    }
   ],
   "source": [
    "# find groups of colinear features\n",
    "d = {}\n",
    "c = X.corr()\n",
    "st_list = list(c.columns)\n",
    "corr_thresh = 0.8\n",
    "\n",
    "while len(st_list)>0:\n",
    "    st_key = st_list[0]\n",
    "    d[st_key] = []\n",
    "    for st in st_list:\n",
    "        if c.loc[st,st_key] > corr_thresh:\n",
    "            d[st_key].append(st)\n",
    "    for st in d[st_key]:\n",
    "        st_list.remove(st)\n",
    "d"
   ]
  },
  {
   "cell_type": "code",
   "execution_count": 158,
   "metadata": {},
   "outputs": [
    {
     "data": {
      "text/plain": [
       "{'03110690': ('03111520', 0.74580980387708484),\n",
       " '03381700': None,\n",
       " '03430250': ('03431712', 0.74207418579360762),\n",
       " '03594500': None,\n",
       " '05051500': ('05064500', 0.73949127859907438),\n",
       " '05207600': None,\n",
       " '05270700': ('05270700', 0.74442984849540683),\n",
       " '05474500': ('07020850', 0.73245630810890461),\n",
       " '05558300': None,\n",
       " '05587060': None,\n",
       " '06090300': ('06090300', 0.74078609440435494),\n",
       " '06214500': ('06214500', 0.74348274186750229),\n",
       " '06341000': ('06342020', 0.74537837768247983),\n",
       " '06342500': None,\n",
       " '06441595': None,\n",
       " '06486000': ('06610000', 0.74572483553558699),\n",
       " '06807000': ('06818000', 0.74431203750789454),\n",
       " '06906500': ('06909000', 0.74629871891349808),\n",
       " '07195400': ('07195500', 0.74546242865576218),\n",
       " '07263650': None,\n",
       " '07289000': ('07374000', 0.74570827523293071)}"
      ]
     },
     "execution_count": 158,
     "metadata": {},
     "output_type": "execute_result"
    }
   ],
   "source": [
    "# test each station in each group with multiple stations\n",
    "d_select = dict.fromkeys(d.keys())\n",
    "\n",
    "for key in d.keys():\n",
    "    if len(d[key])>1: # multiple stations\n",
    "        r2 = 0\n",
    "        for st in d[key]:\n",
    "            to_remove = list(d[key])\n",
    "            to_remove.remove(st)\n",
    "            lr = LinearRegression()\n",
    "            Xnew = X.drop(to_remove,axis=1)\n",
    "            lr.fit(Xnew,y)\n",
    "            if lr.score(Xnew,y)>r2:\n",
    "                r2 = lr.score(Xnew,y)\n",
    "                d_select[key] = (st,r2)\n",
    "d_select"
   ]
  },
  {
   "cell_type": "code",
   "execution_count": 159,
   "metadata": {},
   "outputs": [
    {
     "name": "stdout",
     "output_type": "stream",
     "text": [
      "['03111520', '03381700', '03431712', '03594500', '05064500', '05207600', '05270700', '07020850', '05558300', '05587060', '06090300', '06214500', '06342020', '06342500', '06441595', '06610000', '06818000', '06909000', '07195500', '07263650', '07374000']\n"
     ]
    }
   ],
   "source": [
    "selected = []\n",
    "for key in d_select.keys():\n",
    "    if d_select[key] is None:\n",
    "        selected.append(key)\n",
    "    else:\n",
    "        selected.append(d_select[key][0])\n",
    "\n",
    "print(selected)"
   ]
  },
  {
   "cell_type": "code",
   "execution_count": 160,
   "metadata": {},
   "outputs": [
    {
     "data": {
      "text/plain": [
       "0.67302985739144738"
      ]
     },
     "execution_count": 160,
     "metadata": {},
     "output_type": "execute_result"
    }
   ],
   "source": [
    "lr = LinearRegression()\n",
    "selected.append('turbidity')\n",
    "data = df[selected].dropna().apply(np.log)\n",
    "data = data.replace([np.inf, -np.inf], np.nan)\n",
    "data = data.dropna(axis=1)\n",
    "X = data.drop(['turbidity'],axis=1)\n",
    "y = data['turbidity']\n",
    "lr.fit(X,y)\n",
    "lr.score(X,y)"
   ]
  },
  {
   "cell_type": "code",
   "execution_count": 161,
   "metadata": {},
   "outputs": [
    {
     "data": {
      "text/plain": [
       "22"
      ]
     },
     "execution_count": 161,
     "metadata": {},
     "output_type": "execute_result"
    }
   ],
   "source": [
    "len(selected)"
   ]
  },
  {
   "cell_type": "code",
   "execution_count": 162,
   "metadata": {},
   "outputs": [
    {
     "data": {
      "text/plain": [
       "<matplotlib.axes._subplots.AxesSubplot at 0x1c14fe8470>"
      ]
     },
     "execution_count": 162,
     "metadata": {},
     "output_type": "execute_result"
    },
    {
     "data": {
      "image/png": "[encoded data removed]",
      "text/plain": [
       "<matplotlib.figure.Figure at 0x1c21448cf8>"
      ]
     },
     "metadata": {},
     "output_type": "display_data"
    }
   ],
   "source": [
    "sns.heatmap(X.corr(),cmap='Reds')"
   ]
  },
  {
   "cell_type": "code",
   "execution_count": 128,
   "metadata": {},
   "outputs": [
    {
     "data": {
      "text/html": [
       "<table class=\"simpletable\">\n",
       "<caption>OLS Regression Results</caption>\n",
       "<tr>\n",
       "  <th>Dep. Variable:</th>        <td>turbidity</td>    <th>  R-squared:         </th> <td>   0.633</td>\n",
       "</tr>\n",
       "<tr>\n",
       "  <th>Model:</th>                   <td>OLS</td>       <th>  Adj. R-squared:    </th> <td>   0.629</td>\n",
       "</tr>\n",
       "<tr>\n",
       "  <th>Method:</th>             <td>Least Squares</td>  <th>  F-statistic:       </th> <td>   193.5</td>\n",
       "</tr>\n",
       "<tr>\n",
       "  <th>Date:</th>             <td>Wed, 31 Jan 2018</td> <th>  Prob (F-statistic):</th>  <td>  0.00</td> \n",
       "</tr>\n",
       "<tr>\n",
       "  <th>Time:</th>                 <td>22:18:00</td>     <th>  Log-Likelihood:    </th> <td> -884.76</td>\n",
       "</tr>\n",
       "<tr>\n",
       "  <th>No. Observations:</th>      <td>  1587</td>      <th>  AIC:               </th> <td>   1800.</td>\n",
       "</tr>\n",
       "<tr>\n",
       "  <th>Df Residuals:</th>          <td>  1572</td>      <th>  BIC:               </th> <td>   1880.</td>\n",
       "</tr>\n",
       "<tr>\n",
       "  <th>Df Model:</th>              <td>    14</td>      <th>                     </th>     <td> </td>   \n",
       "</tr>\n",
       "<tr>\n",
       "  <th>Covariance Type:</th>      <td>nonrobust</td>    <th>                     </th>     <td> </td>   \n",
       "</tr>\n",
       "</table>\n",
       "<table class=\"simpletable\">\n",
       "<tr>\n",
       "      <td></td>        <th>coef</th>     <th>std err</th>      <th>t</th>      <th>P>|t|</th>  <th>[0.025</th>    <th>0.975]</th>  \n",
       "</tr>\n",
       "<tr>\n",
       "  <th>const</th>    <td>  -38.0606</td> <td>    2.304</td> <td>  -16.516</td> <td> 0.000</td> <td>  -42.581</td> <td>  -33.541</td>\n",
       "</tr>\n",
       "<tr>\n",
       "  <th>03111520</th> <td>   -0.1251</td> <td>    0.077</td> <td>   -1.630</td> <td> 0.103</td> <td>   -0.276</td> <td>    0.025</td>\n",
       "</tr>\n",
       "<tr>\n",
       "  <th>03431712</th> <td>    0.3613</td> <td>    0.141</td> <td>    2.569</td> <td> 0.010</td> <td>    0.085</td> <td>    0.637</td>\n",
       "</tr>\n",
       "<tr>\n",
       "  <th>03594500</th> <td>    1.2110</td> <td>    0.383</td> <td>    3.160</td> <td> 0.002</td> <td>    0.459</td> <td>    1.963</td>\n",
       "</tr>\n",
       "<tr>\n",
       "  <th>05207600</th> <td>    0.2582</td> <td>    0.027</td> <td>    9.539</td> <td> 0.000</td> <td>    0.205</td> <td>    0.311</td>\n",
       "</tr>\n",
       "<tr>\n",
       "  <th>05288500</th> <td>    0.0455</td> <td>    0.025</td> <td>    1.815</td> <td> 0.070</td> <td>   -0.004</td> <td>    0.095</td>\n",
       "</tr>\n",
       "<tr>\n",
       "  <th>07022000</th> <td>    0.8205</td> <td>    0.115</td> <td>    7.159</td> <td> 0.000</td> <td>    0.596</td> <td>    1.045</td>\n",
       "</tr>\n",
       "<tr>\n",
       "  <th>06090300</th> <td>    0.1153</td> <td>    0.053</td> <td>    2.159</td> <td> 0.031</td> <td>    0.011</td> <td>    0.220</td>\n",
       "</tr>\n",
       "<tr>\n",
       "  <th>06342020</th> <td>    1.8078</td> <td>    0.227</td> <td>    7.954</td> <td> 0.000</td> <td>    1.362</td> <td>    2.254</td>\n",
       "</tr>\n",
       "<tr>\n",
       "  <th>06342500</th> <td>   -0.4668</td> <td>    0.084</td> <td>   -5.576</td> <td> 0.000</td> <td>   -0.631</td> <td>   -0.303</td>\n",
       "</tr>\n",
       "<tr>\n",
       "  <th>06441595</th> <td>    3.6758</td> <td>    0.628</td> <td>    5.850</td> <td> 0.000</td> <td>    2.443</td> <td>    4.908</td>\n",
       "</tr>\n",
       "<tr>\n",
       "  <th>06486000</th> <td>    0.2290</td> <td>    0.070</td> <td>    3.278</td> <td> 0.001</td> <td>    0.092</td> <td>    0.366</td>\n",
       "</tr>\n",
       "<tr>\n",
       "  <th>06818000</th> <td>   -0.0389</td> <td>    0.051</td> <td>   -0.757</td> <td> 0.449</td> <td>   -0.140</td> <td>    0.062</td>\n",
       "</tr>\n",
       "<tr>\n",
       "  <th>07374000</th> <td>    0.9812</td> <td>    0.038</td> <td>   25.757</td> <td> 0.000</td> <td>    0.906</td> <td>    1.056</td>\n",
       "</tr>\n",
       "<tr>\n",
       "  <th>07020850</th> <td>   -1.1896</td> <td>    0.140</td> <td>   -8.505</td> <td> 0.000</td> <td>   -1.464</td> <td>   -0.915</td>\n",
       "</tr>\n",
       "</table>\n",
       "<table class=\"simpletable\">\n",
       "<tr>\n",
       "  <th>Omnibus:</th>       <td> 7.240</td> <th>  Durbin-Watson:     </th> <td>   0.139</td>\n",
       "</tr>\n",
       "<tr>\n",
       "  <th>Prob(Omnibus):</th> <td> 0.027</td> <th>  Jarque-Bera (JB):  </th> <td>   7.159</td>\n",
       "</tr>\n",
       "<tr>\n",
       "  <th>Skew:</th>          <td>-0.157</td> <th>  Prob(JB):          </th> <td>  0.0279</td>\n",
       "</tr>\n",
       "<tr>\n",
       "  <th>Kurtosis:</th>      <td> 3.099</td> <th>  Cond. No.          </th> <td>6.61e+03</td>\n",
       "</tr>\n",
       "</table>"
      ],
      "text/plain": [
       "<class 'statsmodels.iolib.summary.Summary'>\n",
       "\"\"\"\n",
       "                            OLS Regression Results                            \n",
       "==============================================================================\n",
       "Dep. Variable:              turbidity   R-squared:                       0.633\n",
       "Model:                            OLS   Adj. R-squared:                  0.629\n",
       "Method:                 Least Squares   F-statistic:                     193.5\n",
       "Date:                Wed, 31 Jan 2018   Prob (F-statistic):               0.00\n",
       "Time:                        22:18:00   Log-Likelihood:                -884.76\n",
       "No. Observations:                1587   AIC:                             1800.\n",
       "Df Residuals:                    1572   BIC:                             1880.\n",
       "Df Model:                          14                                         \n",
       "Covariance Type:            nonrobust                                         \n",
       "==============================================================================\n",
       "                 coef    std err          t      P>|t|      [0.025      0.975]\n",
       "------------------------------------------------------------------------------\n",
       "const        -38.0606      2.304    -16.516      0.000     -42.581     -33.541\n",
       "03111520      -0.1251      0.077     -1.630      0.103      -0.276       0.025\n",
       "03431712       0.3613      0.141      2.569      0.010       0.085       0.637\n",
       "03594500       1.2110      0.383      3.160      0.002       0.459       1.963\n",
       "05207600       0.2582      0.027      9.539      0.000       0.205       0.311\n",
       "05288500       0.0455      0.025      1.815      0.070      -0.004       0.095\n",
       "07022000       0.8205      0.115      7.159      0.000       0.596       1.045\n",
       "06090300       0.1153      0.053      2.159      0.031       0.011       0.220\n",
       "06342020       1.8078      0.227      7.954      0.000       1.362       2.254\n",
       "06342500      -0.4668      0.084     -5.576      0.000      -0.631      -0.303\n",
       "06441595       3.6758      0.628      5.850      0.000       2.443       4.908\n",
       "06486000       0.2290      0.070      3.278      0.001       0.092       0.366\n",
       "06818000      -0.0389      0.051     -0.757      0.449      -0.140       0.062\n",
       "07374000       0.9812      0.038     25.757      0.000       0.906       1.056\n",
       "07020850      -1.1896      0.140     -8.505      0.000      -1.464      -0.915\n",
       "==============================================================================\n",
       "Omnibus:                        7.240   Durbin-Watson:                   0.139\n",
       "Prob(Omnibus):                  0.027   Jarque-Bera (JB):                7.159\n",
       "Skew:                          -0.157   Prob(JB):                       0.0279\n",
       "Kurtosis:                       3.099   Cond. No.                     6.61e+03\n",
       "==============================================================================\n",
       "\n",
       "Warnings:\n",
       "[1] Standard Errors assume that the covariance matrix of the errors is correctly specified.\n",
       "[2] The condition number is large, 6.61e+03. This might indicate that there are\n",
       "strong multicollinearity or other numerical problems.\n",
       "\"\"\""
      ]
     },
     "execution_count": 128,
     "metadata": {},
     "output_type": "execute_result"
    }
   ],
   "source": [
    "Xsm = sm.add_constant(X)\n",
    "# Create your model and\n",
    "# Fit your model to your training set\n",
    "smfit = sm.OLS(y,Xsm).fit()\n",
    "smfit.summary()"
   ]
  },
  {
   "cell_type": "code",
   "execution_count": null,
   "metadata": {
    "collapsed": true
   },
   "outputs": [],
   "source": []
  }
 ],
 "metadata": {
  "kernelspec": {
   "display_name": "Python 3",
   "language": "python",
   "name": "python3"
  },
  "language_info": {
   "codemirror_mode": {
    "name": "ipython",
    "version": 3
   },
   "file_extension": ".py",
   "mimetype": "text/x-python",
   "name": "python",
   "nbconvert_exporter": "python",
   "pygments_lexer": "ipython3",
   "version": "3.6.3"
  }
 },
 "nbformat": 4,
 "nbformat_minor": 2
}
