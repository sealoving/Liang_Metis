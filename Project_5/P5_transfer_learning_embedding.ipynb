{
 "cells": [
  {
   "cell_type": "code",
   "execution_count": 43,
   "metadata": {
    "collapsed": true
   },
   "outputs": [],
   "source": [
    "import pandas as pd\n",
    "from skimage.transform import resize\n",
    "# from scipy.misc import imresize\n",
    "from keras.applications import vgg16, vgg19, inception_v3, resnet50, xception\n",
    "from keras.models import Model\n",
    "import matplotlib.pyplot as plt\n",
    "import numpy as np\n",
    "import os\n",
    "%matplotlib inline"
   ]
  },
  {
   "cell_type": "code",
   "execution_count": 8,
   "metadata": {
    "collapsed": true
   },
   "outputs": [],
   "source": [
    "def image_batch_generator(image_names, batch_size):\n",
    "    num_batches = len(image_names) // batch_size\n",
    "    for i in range(num_batches):\n",
    "        batch = image_names[i * batch_size : (i + 1) * batch_size]\n",
    "        yield batch\n",
    "    batch = image_names[(i+1) * batch_size:]\n",
    "    yield batch\n",
    "    \n",
    "def vectorize_images(image_dir, image_size, preprocessor, \n",
    "                     model, vector_file, batch_size=32):\n",
    "    image_names = os.listdir(image_dir)\n",
    "    num_vecs = 0\n",
    "    fvec = open(vector_file, \"wb\")\n",
    "    for image_batch in image_batch_generator(image_names, batch_size):\n",
    "        batched_images = []\n",
    "        for image_name in image_batch:\n",
    "            image = plt.imread(os.path.join(image_dir, image_name))\n",
    "            image = imresize(image, (image_size, image_size))\n",
    "            batched_images.append(image)\n",
    "        X = preprocessor(np.array(batched_images, dtype=\"float32\"))\n",
    "        vectors = model.predict(X)\n",
    "        for i in range(vectors.shape[0]):\n",
    "            if num_vecs % 100 == 0:\n",
    "                print(\"{:d} vectors generated\".format(num_vecs))\n",
    "            image_vector = \",\".join([\"{:.5e}\".format(v) for v in vectors[i].tolist()])\n",
    "            fvec.write(\"{:s}\\t{:s}\\n\".format(image_batch[i], image_vector))\n",
    "            num_vecs += 1\n",
    "    print(\"{:d} vectors generated\".format(num_vecs))\n",
    "    fvec.close()\n"
   ]
  },
  {
   "cell_type": "code",
   "execution_count": 130,
   "metadata": {},
   "outputs": [
    {
     "data": {
      "text/html": [
       "<div>\n",
       "<style>\n",
       "    .dataframe thead tr:only-child th {\n",
       "        text-align: right;\n",
       "    }\n",
       "\n",
       "    .dataframe thead th {\n",
       "        text-align: left;\n",
       "    }\n",
       "\n",
       "    .dataframe tbody tr th {\n",
       "        vertical-align: top;\n",
       "    }\n",
       "</style>\n",
       "<table border=\"1\" class=\"dataframe\">\n",
       "  <thead>\n",
       "    <tr style=\"text-align: right;\">\n",
       "      <th></th>\n",
       "      <th>Image</th>\n",
       "      <th>Id</th>\n",
       "      <th>size</th>\n",
       "      <th>height</th>\n",
       "      <th>width</th>\n",
       "      <th>aspect</th>\n",
       "      <th>color</th>\n",
       "      <th>square</th>\n",
       "    </tr>\n",
       "  </thead>\n",
       "  <tbody>\n",
       "    <tr>\n",
       "      <th>0</th>\n",
       "      <td>00022e1a.jpg</td>\n",
       "      <td>w_e15442c</td>\n",
       "      <td>(500, 699)</td>\n",
       "      <td>500</td>\n",
       "      <td>699</td>\n",
       "      <td>0.715308</td>\n",
       "      <td>0</td>\n",
       "      <td>False</td>\n",
       "    </tr>\n",
       "    <tr>\n",
       "      <th>1</th>\n",
       "      <td>000466c4.jpg</td>\n",
       "      <td>w_1287fbc</td>\n",
       "      <td>(700, 1050, 3)</td>\n",
       "      <td>700</td>\n",
       "      <td>1050</td>\n",
       "      <td>0.666667</td>\n",
       "      <td>1</td>\n",
       "      <td>False</td>\n",
       "    </tr>\n",
       "    <tr>\n",
       "      <th>2</th>\n",
       "      <td>00087b01.jpg</td>\n",
       "      <td>w_da2efe0</td>\n",
       "      <td>(368, 1050, 3)</td>\n",
       "      <td>368</td>\n",
       "      <td>1050</td>\n",
       "      <td>0.350476</td>\n",
       "      <td>1</td>\n",
       "      <td>False</td>\n",
       "    </tr>\n",
       "    <tr>\n",
       "      <th>3</th>\n",
       "      <td>001296d5.jpg</td>\n",
       "      <td>w_19e5482</td>\n",
       "      <td>(170, 397, 3)</td>\n",
       "      <td>170</td>\n",
       "      <td>397</td>\n",
       "      <td>0.428212</td>\n",
       "      <td>1</td>\n",
       "      <td>False</td>\n",
       "    </tr>\n",
       "    <tr>\n",
       "      <th>4</th>\n",
       "      <td>0014cfdf.jpg</td>\n",
       "      <td>w_f22f3e3</td>\n",
       "      <td>(398, 700)</td>\n",
       "      <td>398</td>\n",
       "      <td>700</td>\n",
       "      <td>0.568571</td>\n",
       "      <td>0</td>\n",
       "      <td>False</td>\n",
       "    </tr>\n",
       "  </tbody>\n",
       "</table>\n",
       "</div>"
      ],
      "text/plain": [
       "          Image         Id            size  height  width    aspect  color  \\\n",
       "0  00022e1a.jpg  w_e15442c      (500, 699)     500    699  0.715308      0   \n",
       "1  000466c4.jpg  w_1287fbc  (700, 1050, 3)     700   1050  0.666667      1   \n",
       "2  00087b01.jpg  w_da2efe0  (368, 1050, 3)     368   1050  0.350476      1   \n",
       "3  001296d5.jpg  w_19e5482   (170, 397, 3)     170    397  0.428212      1   \n",
       "4  0014cfdf.jpg  w_f22f3e3      (398, 700)     398    700  0.568571      0   \n",
       "\n",
       "   square  \n",
       "0   False  \n",
       "1   False  \n",
       "2   False  \n",
       "3   False  \n",
       "4   False  "
      ]
     },
     "execution_count": 130,
     "metadata": {},
     "output_type": "execute_result"
    }
   ],
   "source": [
    "train_df = pd.read_pickle('train_df.pkl')\n",
    "train_df.head()"
   ]
  },
  {
   "cell_type": "markdown",
   "metadata": {},
   "source": [
    "### Generate image vectors using VGG16"
   ]
  },
  {
   "cell_type": "code",
   "execution_count": 34,
   "metadata": {},
   "outputs": [
    {
     "name": "stdout",
     "output_type": "stream",
     "text": [
      "./data/train_processed/\n"
     ]
    }
   ],
   "source": [
    "DATA_DIR = \"./data/\"\n",
    "IMAGE_DIR = os.path.join(DATA_DIR, \"train_processed/\")\n",
    "print(IMAGE_DIR)"
   ]
  },
  {
   "cell_type": "code",
   "execution_count": 10,
   "metadata": {},
   "outputs": [
    {
     "name": "stdout",
     "output_type": "stream",
     "text": [
      "Downloading data from https://github.com/fchollet/deep-learning-models/releases/download/v0.1/vgg16_weights_tf_dim_ordering_tf_kernels.h5\n",
      "553467904/553467096 [==============================] - 79s 0us/step\n"
     ]
    }
   ],
   "source": [
    "# vgg16_model = vgg16.VGG16(weights=\"imagenet\", include_top=True)\n",
    "# # vgg16_model.summary()"
   ]
  },
  {
   "cell_type": "code",
   "execution_count": 29,
   "metadata": {},
   "outputs": [],
   "source": [
    "# model = Model(input=vgg16_model.input,\n",
    "#              output=vgg16_model.get_layer(\"fc2\").output)\n",
    "# preprocessor = vgg16.preprocess_input\n",
    "\n",
    "# vectorize_images(IMAGE_DIR, IMAGE_SIZE, preprocessor, model, VECTOR_FILE)"
   ]
  },
  {
   "cell_type": "code",
   "execution_count": 35,
   "metadata": {},
   "outputs": [
    {
     "data": {
      "text/plain": [
       "['00022e1a.jpg',\n",
       " '000466c4.jpg',\n",
       " '00087b01.jpg',\n",
       " '001296d5.jpg',\n",
       " '0014cfdf.jpg',\n",
       " '0025e8c2.jpg',\n",
       " '0026a8ab.jpg',\n",
       " '0031c258.jpg',\n",
       " '0035632e.jpg',\n",
       " '0037e7d3.jpg']"
      ]
     },
     "execution_count": 35,
     "metadata": {},
     "output_type": "execute_result"
    }
   ],
   "source": [
    "image_dir = IMAGE_DIR\n",
    "\n",
    "image_names = os.listdir(image_dir)\n",
    "image_names[:10]"
   ]
  },
  {
   "cell_type": "code",
   "execution_count": 116,
   "metadata": {
    "scrolled": false
   },
   "outputs": [
    {
     "name": "stderr",
     "output_type": "stream",
     "text": [
      "/Applications/anaconda3/lib/python3.6/site-packages/ipykernel_launcher.py:5: UserWarning: Update your `Model` call to the Keras 2 API: `Model(inputs=Tensor(\"in..., outputs=Tensor(\"fc...)`\n",
      "  \"\"\"\n",
      "/Applications/anaconda3/lib/python3.6/site-packages/skimage/transform/_warps.py:84: UserWarning: The default mode, 'constant', will be changed to 'reflect' in skimage 0.15.\n",
      "  warn(\"The default mode, 'constant', will be changed to 'reflect' in \"\n"
     ]
    },
    {
     "name": "stdout",
     "output_type": "stream",
     "text": [
      "Generating batch  33\n",
      "Generating batch  34\n",
      "Generating batch  35\n",
      "Generating batch  36\n",
      "Generating batch  37\n",
      "Generating batch  38\n",
      "Generating batch  39\n",
      "Generating batch  40\n",
      "Generating batch  41\n",
      "Generating batch  42\n",
      "Generating batch  43\n",
      "Generating batch  44\n",
      "Generating batch  45\n",
      "Generating batch  46\n",
      "Generating batch  47\n",
      "Generating batch  48\n",
      "Generating batch  49\n",
      "Generating batch  50\n",
      "Generating batch  51\n",
      "Generating batch  52\n",
      "Generating batch  53\n",
      "Generating batch  54\n",
      "Generating batch  55\n",
      "Generating batch  56\n",
      "Generating batch  57\n",
      "Generating batch  58\n",
      "Generating batch  59\n",
      "Generating batch  60\n",
      "Generating batch  61\n",
      "Generating batch  62\n",
      "Generating batch  63\n",
      "Generating batch  64\n",
      "Generating batch  65\n",
      "Generating batch  66\n",
      "Generating batch  67\n",
      "Generating batch  68\n",
      "Generating batch  69\n",
      "Generating batch  70\n",
      "Generating batch  71\n",
      "Generating batch  72\n",
      "Generating batch  73\n",
      "Generating batch  74\n",
      "Generating batch  75\n",
      "Generating batch  76\n",
      "Generating batch  77\n",
      "Generating batch  78\n",
      "Generating batch  79\n",
      "Generating batch  80\n",
      "Generating batch  81\n",
      "Generating batch  82\n",
      "Generating batch  83\n",
      "Generating batch  84\n",
      "Generating batch  85\n",
      "Generating batch  86\n",
      "Generating batch  87\n",
      "Generating batch  88\n",
      "Generating batch  89\n",
      "Generating batch  90\n",
      "Generating batch  91\n",
      "Generating batch  92\n",
      "Generating batch  93\n",
      "Generating batch  94\n",
      "Generating batch  95\n",
      "Generating batch  96\n",
      "Generating batch  97\n",
      "Generating batch  98\n"
     ]
    },
    {
     "ename": "ValueError",
     "evalue": "operands could not be broadcast together with shapes (6600,4096) (50,4096) ",
     "output_type": "error",
     "traceback": [
      "\u001b[0;31m---------------------------------------------------------------------------\u001b[0m",
      "\u001b[0;31mValueError\u001b[0m                                Traceback (most recent call last)",
      "\u001b[0;32m<ipython-input-116-776426425bee>\u001b[0m in \u001b[0;36m<module>\u001b[0;34m()\u001b[0m\n\u001b[1;32m     36\u001b[0m         \u001b[0mX\u001b[0m \u001b[0;34m=\u001b[0m \u001b[0mpreprocessor\u001b[0m\u001b[0;34m(\u001b[0m\u001b[0mnp\u001b[0m\u001b[0;34m.\u001b[0m\u001b[0marray\u001b[0m\u001b[0;34m(\u001b[0m\u001b[0mbatched_images\u001b[0m\u001b[0;34m,\u001b[0m \u001b[0mdtype\u001b[0m\u001b[0;34m=\u001b[0m\u001b[0;34m\"float32\"\u001b[0m\u001b[0;34m)\u001b[0m\u001b[0;34m)\u001b[0m\u001b[0;34m\u001b[0m\u001b[0m\n\u001b[1;32m     37\u001b[0m         \u001b[0mvecs\u001b[0m \u001b[0;34m=\u001b[0m \u001b[0mmodel\u001b[0m\u001b[0;34m.\u001b[0m\u001b[0mpredict\u001b[0m\u001b[0;34m(\u001b[0m\u001b[0mX\u001b[0m\u001b[0;34m)\u001b[0m\u001b[0;34m\u001b[0m\u001b[0m\n\u001b[0;32m---> 38\u001b[0;31m         \u001b[0mtrain_vecs\u001b[0m \u001b[0;34m+=\u001b[0m \u001b[0mvecs\u001b[0m\u001b[0;34m\u001b[0m\u001b[0m\n\u001b[0m",
      "\u001b[0;31mValueError\u001b[0m: operands could not be broadcast together with shapes (6600,4096) (50,4096) "
     ]
    }
   ],
   "source": [
    "image_size = 224\n",
    "# vector_file = os.path.join('./output/', \"vgg16_vec_training.tsv\")\n",
    "preprocessor = vgg16.preprocess_input\n",
    "model = Model(input=vgg16_model.input,\n",
    "             output=vgg16_model.get_layer(\"fc2\").output)\n",
    "\n",
    "train_names = []\n",
    "train_vecs = []\n",
    "batched_images = []\n",
    "batched_names = []\n",
    "\n",
    "# for i in range(6400,len(image_names)):\n",
    "for i in range(3200,len(image_names)):\n",
    "\n",
    "    image_name = image_names[i]\n",
    "    img = plt.imread(os.path.join(image_dir, image_name))\n",
    "    img = np.stack((img,img,img),axis=2)\n",
    "    img = resize(img, (image_size, image_size))\n",
    "    batched_images.append(img)\n",
    "    batched_names.append(image_name)\n",
    "\n",
    "    if i%100 == 99:\n",
    "        \n",
    "        print('Generating batch ',i//100+1)\n",
    "        train_names += batched_names\n",
    "        X = preprocessor(np.array(batched_images, dtype=\"float32\"))\n",
    "        vecs = model.predict(X)\n",
    "        train_vecs += vecs.tolist()\n",
    "        \n",
    "        batched_images = []\n",
    "        batched_names = []\n",
    "    \n",
    "    if i == len(image_names)-1:\n",
    "        \n",
    "        train_names += batched_names\n",
    "        X = preprocessor(np.array(batched_images, dtype=\"float32\"))\n",
    "        vecs = model.predict(X)\n",
    "        train_vecs += vecs.tolist() "
   ]
  },
  {
   "cell_type": "code",
   "execution_count": 111,
   "metadata": {},
   "outputs": [
    {
     "data": {
      "text/plain": [
       "(224, 224, 3, 3)"
      ]
     },
     "execution_count": 111,
     "metadata": {},
     "output_type": "execute_result"
    }
   ],
   "source": [
    "np.stack((img,img,img),axis=2).shape"
   ]
  },
  {
   "cell_type": "code",
   "execution_count": 109,
   "metadata": {},
   "outputs": [
    {
     "data": {
      "text/plain": [
       "(224, 224, 3)"
      ]
     },
     "execution_count": 109,
     "metadata": {},
     "output_type": "execute_result"
    }
   ],
   "source": [
    "image.shape"
   ]
  },
  {
   "cell_type": "code",
   "execution_count": 117,
   "metadata": {},
   "outputs": [
    {
     "data": {
      "text/html": [
       "<div>\n",
       "<style>\n",
       "    .dataframe thead tr:only-child th {\n",
       "        text-align: right;\n",
       "    }\n",
       "\n",
       "    .dataframe thead th {\n",
       "        text-align: left;\n",
       "    }\n",
       "\n",
       "    .dataframe tbody tr th {\n",
       "        vertical-align: top;\n",
       "    }\n",
       "</style>\n",
       "<table border=\"1\" class=\"dataframe\">\n",
       "  <thead>\n",
       "    <tr style=\"text-align: right;\">\n",
       "      <th></th>\n",
       "      <th>name</th>\n",
       "      <th>vec</th>\n",
       "    </tr>\n",
       "  </thead>\n",
       "  <tbody>\n",
       "    <tr>\n",
       "      <th>0</th>\n",
       "      <td>52f9b180.jpg</td>\n",
       "      <td>[0.0, 0.3950077295303345, 0.22122499346733093,...</td>\n",
       "    </tr>\n",
       "    <tr>\n",
       "      <th>1</th>\n",
       "      <td>5306471d.jpg</td>\n",
       "      <td>[0.0, 0.3900309205055237, 0.21196603775024414,...</td>\n",
       "    </tr>\n",
       "    <tr>\n",
       "      <th>2</th>\n",
       "      <td>530c43d6.jpg</td>\n",
       "      <td>[0.0, 0.3982654809951782, 0.2229750156402588, ...</td>\n",
       "    </tr>\n",
       "    <tr>\n",
       "      <th>3</th>\n",
       "      <td>53377226.jpg</td>\n",
       "      <td>[0.0, 0.40115663409233093, 0.22265923023223877...</td>\n",
       "    </tr>\n",
       "    <tr>\n",
       "      <th>4</th>\n",
       "      <td>53399bfb.jpg</td>\n",
       "      <td>[0.0, 0.40114134550094604, 0.20162978768348694...</td>\n",
       "    </tr>\n",
       "  </tbody>\n",
       "</table>\n",
       "</div>"
      ],
      "text/plain": [
       "           name                                                vec\n",
       "0  52f9b180.jpg  [0.0, 0.3950077295303345, 0.22122499346733093,...\n",
       "1  5306471d.jpg  [0.0, 0.3900309205055237, 0.21196603775024414,...\n",
       "2  530c43d6.jpg  [0.0, 0.3982654809951782, 0.2229750156402588, ...\n",
       "3  53377226.jpg  [0.0, 0.40115663409233093, 0.22265923023223877...\n",
       "4  53399bfb.jpg  [0.0, 0.40114134550094604, 0.20162978768348694..."
      ]
     },
     "execution_count": 117,
     "metadata": {},
     "output_type": "execute_result"
    }
   ],
   "source": [
    "vec_df = pd.DataFrame({'name':train_names[:len(train_vecs)],'vec':train_vecs})\n",
    "vec_df.head()"
   ]
  },
  {
   "cell_type": "code",
   "execution_count": 118,
   "metadata": {
    "collapsed": true
   },
   "outputs": [],
   "source": [
    "vec_df.to_pickle('train_vecs_B.pkl')"
   ]
  },
  {
   "cell_type": "code",
   "execution_count": 119,
   "metadata": {},
   "outputs": [
    {
     "data": {
      "text/html": [
       "<div>\n",
       "<style>\n",
       "    .dataframe thead tr:only-child th {\n",
       "        text-align: right;\n",
       "    }\n",
       "\n",
       "    .dataframe thead th {\n",
       "        text-align: left;\n",
       "    }\n",
       "\n",
       "    .dataframe tbody tr th {\n",
       "        vertical-align: top;\n",
       "    }\n",
       "</style>\n",
       "<table border=\"1\" class=\"dataframe\">\n",
       "  <thead>\n",
       "    <tr style=\"text-align: right;\">\n",
       "      <th></th>\n",
       "      <th>name</th>\n",
       "      <th>vec</th>\n",
       "    </tr>\n",
       "  </thead>\n",
       "  <tbody>\n",
       "    <tr>\n",
       "      <th>0</th>\n",
       "      <td>00022e1a.jpg</td>\n",
       "      <td>[0.0, 0.40396255254745483, 0.23073887825012207...</td>\n",
       "    </tr>\n",
       "    <tr>\n",
       "      <th>1</th>\n",
       "      <td>000466c4.jpg</td>\n",
       "      <td>[0.0, 0.40127861499786377, 0.2082851231098175,...</td>\n",
       "    </tr>\n",
       "    <tr>\n",
       "      <th>2</th>\n",
       "      <td>00087b01.jpg</td>\n",
       "      <td>[0.0, 0.39454972743988037, 0.22640979290008545...</td>\n",
       "    </tr>\n",
       "    <tr>\n",
       "      <th>3</th>\n",
       "      <td>001296d5.jpg</td>\n",
       "      <td>[0.0, 0.3986162543296814, 0.22212862968444824,...</td>\n",
       "    </tr>\n",
       "    <tr>\n",
       "      <th>4</th>\n",
       "      <td>0014cfdf.jpg</td>\n",
       "      <td>[0.0, 0.4057381749153137, 0.21147847175598145,...</td>\n",
       "    </tr>\n",
       "  </tbody>\n",
       "</table>\n",
       "</div>"
      ],
      "text/plain": [
       "           name                                                vec\n",
       "0  00022e1a.jpg  [0.0, 0.40396255254745483, 0.23073887825012207...\n",
       "1  000466c4.jpg  [0.0, 0.40127861499786377, 0.2082851231098175,...\n",
       "2  00087b01.jpg  [0.0, 0.39454972743988037, 0.22640979290008545...\n",
       "3  001296d5.jpg  [0.0, 0.3986162543296814, 0.22212862968444824,...\n",
       "4  0014cfdf.jpg  [0.0, 0.4057381749153137, 0.21147847175598145,..."
      ]
     },
     "execution_count": 119,
     "metadata": {},
     "output_type": "execute_result"
    }
   ],
   "source": [
    "df_A = pd.read_pickle('train_vecs_A.pkl')\n",
    "df_A.head()"
   ]
  },
  {
   "cell_type": "code",
   "execution_count": 120,
   "metadata": {},
   "outputs": [
    {
     "data": {
      "text/html": [
       "<div>\n",
       "<style>\n",
       "    .dataframe thead tr:only-child th {\n",
       "        text-align: right;\n",
       "    }\n",
       "\n",
       "    .dataframe thead th {\n",
       "        text-align: left;\n",
       "    }\n",
       "\n",
       "    .dataframe tbody tr th {\n",
       "        vertical-align: top;\n",
       "    }\n",
       "</style>\n",
       "<table border=\"1\" class=\"dataframe\">\n",
       "  <thead>\n",
       "    <tr style=\"text-align: right;\">\n",
       "      <th></th>\n",
       "      <th>name</th>\n",
       "      <th>vec</th>\n",
       "    </tr>\n",
       "  </thead>\n",
       "  <tbody>\n",
       "    <tr>\n",
       "      <th>0</th>\n",
       "      <td>52f9b180.jpg</td>\n",
       "      <td>[0.0, 0.3950077295303345, 0.22122499346733093,...</td>\n",
       "    </tr>\n",
       "    <tr>\n",
       "      <th>1</th>\n",
       "      <td>5306471d.jpg</td>\n",
       "      <td>[0.0, 0.3900309205055237, 0.21196603775024414,...</td>\n",
       "    </tr>\n",
       "    <tr>\n",
       "      <th>2</th>\n",
       "      <td>530c43d6.jpg</td>\n",
       "      <td>[0.0, 0.3982654809951782, 0.2229750156402588, ...</td>\n",
       "    </tr>\n",
       "    <tr>\n",
       "      <th>3</th>\n",
       "      <td>53377226.jpg</td>\n",
       "      <td>[0.0, 0.40115663409233093, 0.22265923023223877...</td>\n",
       "    </tr>\n",
       "    <tr>\n",
       "      <th>4</th>\n",
       "      <td>53399bfb.jpg</td>\n",
       "      <td>[0.0, 0.40114134550094604, 0.20162978768348694...</td>\n",
       "    </tr>\n",
       "  </tbody>\n",
       "</table>\n",
       "</div>"
      ],
      "text/plain": [
       "           name                                                vec\n",
       "0  52f9b180.jpg  [0.0, 0.3950077295303345, 0.22122499346733093,...\n",
       "1  5306471d.jpg  [0.0, 0.3900309205055237, 0.21196603775024414,...\n",
       "2  530c43d6.jpg  [0.0, 0.3982654809951782, 0.2229750156402588, ...\n",
       "3  53377226.jpg  [0.0, 0.40115663409233093, 0.22265923023223877...\n",
       "4  53399bfb.jpg  [0.0, 0.40114134550094604, 0.20162978768348694..."
      ]
     },
     "execution_count": 120,
     "metadata": {},
     "output_type": "execute_result"
    }
   ],
   "source": [
    "df_B = vec_df\n",
    "df_B.head()"
   ]
  },
  {
   "cell_type": "code",
   "execution_count": 132,
   "metadata": {},
   "outputs": [
    {
     "data": {
      "text/plain": [
       "9850"
      ]
     },
     "execution_count": 132,
     "metadata": {},
     "output_type": "execute_result"
    }
   ],
   "source": [
    "df = pd.concat([df_A, df_B, vec_df])\n",
    "len(df)"
   ]
  },
  {
   "cell_type": "code",
   "execution_count": 128,
   "metadata": {},
   "outputs": [],
   "source": [
    "df.to_pickle('train_vecs.pkl')"
   ]
  },
  {
   "cell_type": "code",
   "execution_count": null,
   "metadata": {
    "collapsed": true
   },
   "outputs": [],
   "source": []
  },
  {
   "cell_type": "code",
   "execution_count": null,
   "metadata": {
    "collapsed": true
   },
   "outputs": [],
   "source": []
  },
  {
   "cell_type": "code",
   "execution_count": null,
   "metadata": {
    "collapsed": true
   },
   "outputs": [],
   "source": []
  },
  {
   "cell_type": "code",
   "execution_count": 134,
   "metadata": {},
   "outputs": [
    {
     "data": {
      "text/html": [
       "<div>\n",
       "<style>\n",
       "    .dataframe thead tr:only-child th {\n",
       "        text-align: right;\n",
       "    }\n",
       "\n",
       "    .dataframe thead th {\n",
       "        text-align: left;\n",
       "    }\n",
       "\n",
       "    .dataframe tbody tr th {\n",
       "        vertical-align: top;\n",
       "    }\n",
       "</style>\n",
       "<table border=\"1\" class=\"dataframe\">\n",
       "  <thead>\n",
       "    <tr style=\"text-align: right;\">\n",
       "      <th></th>\n",
       "      <th>name</th>\n",
       "      <th>vec</th>\n",
       "      <th>label</th>\n",
       "    </tr>\n",
       "  </thead>\n",
       "  <tbody>\n",
       "    <tr>\n",
       "      <th>0</th>\n",
       "      <td>00022e1a.jpg</td>\n",
       "      <td>[0.0, 0.40396255254745483, 0.23073887825012207...</td>\n",
       "      <td>w_e15442c</td>\n",
       "    </tr>\n",
       "    <tr>\n",
       "      <th>1</th>\n",
       "      <td>000466c4.jpg</td>\n",
       "      <td>[0.0, 0.40127861499786377, 0.2082851231098175,...</td>\n",
       "      <td>w_1287fbc</td>\n",
       "    </tr>\n",
       "    <tr>\n",
       "      <th>2</th>\n",
       "      <td>00087b01.jpg</td>\n",
       "      <td>[0.0, 0.39454972743988037, 0.22640979290008545...</td>\n",
       "      <td>w_da2efe0</td>\n",
       "    </tr>\n",
       "    <tr>\n",
       "      <th>3</th>\n",
       "      <td>001296d5.jpg</td>\n",
       "      <td>[0.0, 0.3986162543296814, 0.22212862968444824,...</td>\n",
       "      <td>w_19e5482</td>\n",
       "    </tr>\n",
       "    <tr>\n",
       "      <th>4</th>\n",
       "      <td>0014cfdf.jpg</td>\n",
       "      <td>[0.0, 0.4057381749153137, 0.21147847175598145,...</td>\n",
       "      <td>w_f22f3e3</td>\n",
       "    </tr>\n",
       "  </tbody>\n",
       "</table>\n",
       "</div>"
      ],
      "text/plain": [
       "           name                                                vec      label\n",
       "0  00022e1a.jpg  [0.0, 0.40396255254745483, 0.23073887825012207...  w_e15442c\n",
       "1  000466c4.jpg  [0.0, 0.40127861499786377, 0.2082851231098175,...  w_1287fbc\n",
       "2  00087b01.jpg  [0.0, 0.39454972743988037, 0.22640979290008545...  w_da2efe0\n",
       "3  001296d5.jpg  [0.0, 0.3986162543296814, 0.22212862968444824,...  w_19e5482\n",
       "4  0014cfdf.jpg  [0.0, 0.4057381749153137, 0.21147847175598145,...  w_f22f3e3"
      ]
     },
     "execution_count": 134,
     "metadata": {},
     "output_type": "execute_result"
    }
   ],
   "source": [
    "# df['label'] = df['name'].apply(lambda x: train_df[train_df.Image==x].iloc[0]['Id'])\n",
    "df.head()"
   ]
  },
  {
   "cell_type": "code",
   "execution_count": 135,
   "metadata": {
    "collapsed": true
   },
   "outputs": [],
   "source": [
    "df.to_pickle('train_vecs.pkl')"
   ]
  },
  {
   "cell_type": "markdown",
   "metadata": {},
   "source": [
    "### Generate VGG16 vectors for test set"
   ]
  },
  {
   "cell_type": "code",
   "execution_count": 136,
   "metadata": {},
   "outputs": [
    {
     "name": "stdout",
     "output_type": "stream",
     "text": [
      "./data/test_processed/\n"
     ]
    }
   ],
   "source": [
    "DATA_DIR = \"./data/\"\n",
    "IMAGE_DIR = os.path.join(DATA_DIR, \"test_processed/\")\n",
    "print(IMAGE_DIR)"
   ]
  },
  {
   "cell_type": "code",
   "execution_count": 137,
   "metadata": {},
   "outputs": [
    {
     "data": {
      "text/plain": [
       "['00029b3a.jpg',\n",
       " '0003c693.jpg',\n",
       " '000bc353.jpg',\n",
       " '0010a672.jpg',\n",
       " '00119c3f.jpg',\n",
       " '001259cc.jpg',\n",
       " '0015f9b4.jpg',\n",
       " '0018c4ba.jpg',\n",
       " '001bf484.jpg',\n",
       " '002d8d81.jpg']"
      ]
     },
     "execution_count": 137,
     "metadata": {},
     "output_type": "execute_result"
    }
   ],
   "source": [
    "image_dir = IMAGE_DIR\n",
    "\n",
    "image_names = os.listdir(image_dir)\n",
    "image_names[:10]"
   ]
  },
  {
   "cell_type": "code",
   "execution_count": 138,
   "metadata": {},
   "outputs": [
    {
     "data": {
      "text/plain": [
       "15610"
      ]
     },
     "execution_count": 138,
     "metadata": {},
     "output_type": "execute_result"
    }
   ],
   "source": [
    "len(image_names)"
   ]
  },
  {
   "cell_type": "code",
   "execution_count": 145,
   "metadata": {},
   "outputs": [
    {
     "name": "stderr",
     "output_type": "stream",
     "text": [
      "/Applications/anaconda3/lib/python3.6/site-packages/skimage/transform/_warps.py:84: UserWarning: The default mode, 'constant', will be changed to 'reflect' in skimage 0.15.\n",
      "  warn(\"The default mode, 'constant', will be changed to 'reflect' in \"\n"
     ]
    },
    {
     "name": "stdout",
     "output_type": "stream",
     "text": [
      "Generating batch  101\n",
      "Generating batch  102\n",
      "Generating batch  103\n",
      "Generating batch  104\n",
      "Generating batch  105\n",
      "Generating batch  106\n",
      "Generating batch  107\n",
      "Generating batch  108\n",
      "Generating batch  109\n",
      "Generating batch  110\n",
      "Generating batch  111\n",
      "Generating batch  112\n",
      "Generating batch  113\n",
      "Generating batch  114\n",
      "Generating batch  115\n",
      "Generating batch  116\n",
      "Generating batch  117\n",
      "Generating batch  118\n",
      "Generating batch  119\n",
      "Generating batch  120\n",
      "Generating batch  121\n",
      "Generating batch  122\n",
      "Generating batch  123\n",
      "Generating batch  124\n",
      "Generating batch  125\n",
      "Generating batch  126\n",
      "Generating batch  127\n",
      "Generating batch  128\n",
      "Generating batch  129\n",
      "Generating batch  130\n",
      "Generating batch  131\n",
      "Generating batch  132\n",
      "Generating batch  133\n",
      "Generating batch  134\n",
      "Generating batch  135\n",
      "Generating batch  136\n",
      "Generating batch  137\n",
      "Generating batch  138\n",
      "Generating batch  139\n",
      "Generating batch  140\n",
      "Generating batch  141\n",
      "Generating batch  142\n",
      "Generating batch  143\n",
      "Generating batch  144\n",
      "Generating batch  145\n",
      "Generating batch  146\n",
      "Generating batch  147\n",
      "Generating batch  148\n",
      "Generating batch  149\n",
      "Generating batch  150\n",
      "Generating batch  151\n",
      "Generating batch  152\n",
      "Generating batch  153\n",
      "Generating batch  154\n",
      "Generating batch  155\n",
      "Generating batch  156\n"
     ]
    }
   ],
   "source": [
    "# image_size = 224\n",
    "# # vector_file = os.path.join('./output/', \"vgg16_vec_training.tsv\")\n",
    "# preprocessor = vgg16.preprocess_input\n",
    "# model = Model(input=vgg16_model.input,\n",
    "#              output=vgg16_model.get_layer(\"fc2\").output)\n",
    "\n",
    "train_names = []\n",
    "train_vecs = []\n",
    "batched_images = []\n",
    "batched_names = []\n",
    "\n",
    "# for i in range(6400,len(image_names)):\n",
    "for i in range(10000,len(image_names)):\n",
    "\n",
    "    image_name = image_names[i]\n",
    "    img = plt.imread(os.path.join(image_dir, image_name))\n",
    "    img = np.stack((img,img,img),axis=2)\n",
    "    img = resize(img, (image_size, image_size))\n",
    "    batched_images.append(img)\n",
    "    batched_names.append(image_name)\n",
    "\n",
    "    if i%100 == 99:\n",
    "        \n",
    "        print('Generating batch ',i//100+1)\n",
    "        train_names += batched_names\n",
    "        X = preprocessor(np.array(batched_images, dtype=\"float32\"))\n",
    "        vecs = model.predict(X)\n",
    "        train_vecs += vecs.tolist()\n",
    "        \n",
    "        batched_images = []\n",
    "        batched_names = []\n",
    "    \n",
    "    if i == len(image_names)-1:\n",
    "        \n",
    "        train_names += batched_names\n",
    "        X = preprocessor(np.array(batched_images, dtype=\"float32\"))\n",
    "        vecs = model.predict(X)\n",
    "        train_vecs += vecs.tolist()"
   ]
  },
  {
   "cell_type": "code",
   "execution_count": 146,
   "metadata": {},
   "outputs": [
    {
     "data": {
      "text/html": [
       "<div>\n",
       "<style>\n",
       "    .dataframe thead tr:only-child th {\n",
       "        text-align: right;\n",
       "    }\n",
       "\n",
       "    .dataframe thead th {\n",
       "        text-align: left;\n",
       "    }\n",
       "\n",
       "    .dataframe tbody tr th {\n",
       "        vertical-align: top;\n",
       "    }\n",
       "</style>\n",
       "<table border=\"1\" class=\"dataframe\">\n",
       "  <thead>\n",
       "    <tr style=\"text-align: right;\">\n",
       "      <th></th>\n",
       "      <th>name</th>\n",
       "      <th>vec</th>\n",
       "    </tr>\n",
       "  </thead>\n",
       "  <tbody>\n",
       "    <tr>\n",
       "      <th>0</th>\n",
       "      <td>a383d0e2.jpg</td>\n",
       "      <td>[0.0, 0.4009876251220703, 0.22087979316711426,...</td>\n",
       "    </tr>\n",
       "    <tr>\n",
       "      <th>1</th>\n",
       "      <td>a386d5a5.jpg</td>\n",
       "      <td>[0.0, 0.40454337000846863, 0.2142924666404724,...</td>\n",
       "    </tr>\n",
       "    <tr>\n",
       "      <th>2</th>\n",
       "      <td>a388218e.jpg</td>\n",
       "      <td>[0.0, 0.3923652470111847, 0.2241707742214203, ...</td>\n",
       "    </tr>\n",
       "    <tr>\n",
       "      <th>3</th>\n",
       "      <td>a38d0ee5.jpg</td>\n",
       "      <td>[0.0, 0.4009319543838501, 0.22321638464927673,...</td>\n",
       "    </tr>\n",
       "    <tr>\n",
       "      <th>4</th>\n",
       "      <td>a38d2ec5.jpg</td>\n",
       "      <td>[0.0, 0.39040112495422363, 0.20830994844436646...</td>\n",
       "    </tr>\n",
       "  </tbody>\n",
       "</table>\n",
       "</div>"
      ],
      "text/plain": [
       "           name                                                vec\n",
       "0  a383d0e2.jpg  [0.0, 0.4009876251220703, 0.22087979316711426,...\n",
       "1  a386d5a5.jpg  [0.0, 0.40454337000846863, 0.2142924666404724,...\n",
       "2  a388218e.jpg  [0.0, 0.3923652470111847, 0.2241707742214203, ...\n",
       "3  a38d0ee5.jpg  [0.0, 0.4009319543838501, 0.22321638464927673,...\n",
       "4  a38d2ec5.jpg  [0.0, 0.39040112495422363, 0.20830994844436646..."
      ]
     },
     "execution_count": 146,
     "metadata": {},
     "output_type": "execute_result"
    }
   ],
   "source": [
    "vec_df = pd.DataFrame({'name':train_names[:len(train_vecs)],'vec':train_vecs})\n",
    "vec_df.head()"
   ]
  },
  {
   "cell_type": "code",
   "execution_count": 147,
   "metadata": {
    "collapsed": true
   },
   "outputs": [],
   "source": [
    "vec_df.to_pickle('test_vecs_C.pkl')"
   ]
  },
  {
   "cell_type": "code",
   "execution_count": 148,
   "metadata": {},
   "outputs": [
    {
     "data": {
      "text/plain": [
       "15610"
      ]
     },
     "execution_count": 148,
     "metadata": {},
     "output_type": "execute_result"
    }
   ],
   "source": [
    "df_A = pd.read_pickle('test_vecs_A.pkl')\n",
    "df_B = pd.read_pickle('test_vecs_B.pkl')\n",
    "df = pd.concat([df_A, df_B, vec_df])\n",
    "len(df)"
   ]
  },
  {
   "cell_type": "code",
   "execution_count": 149,
   "metadata": {
    "collapsed": true
   },
   "outputs": [],
   "source": [
    "df.to_pickle('test_vecs.pkl')"
   ]
  },
  {
   "cell_type": "code",
   "execution_count": null,
   "metadata": {
    "collapsed": true
   },
   "outputs": [],
   "source": []
  }
 ],
 "metadata": {
  "anaconda-cloud": {},
  "kernelspec": {
   "display_name": "Python 3",
   "language": "python",
   "name": "python3"
  },
  "language_info": {
   "codemirror_mode": {
    "name": "ipython",
    "version": 3
   },
   "file_extension": ".py",
   "mimetype": "text/x-python",
   "name": "python",
   "nbconvert_exporter": "python",
   "pygments_lexer": "ipython3",
   "version": "3.6.3"
  }
 },
 "nbformat": 4,
 "nbformat_minor": 1
}
