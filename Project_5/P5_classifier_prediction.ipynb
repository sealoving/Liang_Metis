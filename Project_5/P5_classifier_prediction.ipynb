{
 "cells": [
  {
   "cell_type": "code",
   "execution_count": 1,
   "metadata": {
    "collapsed": true
   },
   "outputs": [],
   "source": [
    "import pandas as pd\n",
    "import numpy as np\n",
    "\n",
    "import matplotlib.pyplot as plt\n",
    "%matplotlib inline"
   ]
  },
  {
   "cell_type": "code",
   "execution_count": 3,
   "metadata": {
    "collapsed": true
   },
   "outputs": [],
   "source": [
    "from sklearn.model_selection import train_test_split\n",
    "from sklearn.model_selection import cross_val_score\n",
    "from sklearn.model_selection import GridSearchCV\n",
    "# from sklearn.model_selection import StratifiedKFold\n",
    "\n",
    "\n",
    "from sklearn.metrics import roc_curve, auc\n",
    "from sklearn.metrics import accuracy_score, recall_score, classification_report\n",
    "from sklearn.metrics import classification_report\n",
    "from sklearn.metrics import confusion_matrix\n",
    "\n",
    "# from sklearn.neighbors import KNeighborsClassifier\n",
    "from sklearn.linear_model import LogisticRegression\n",
    "# from sklearn.tree import DecisionTreeClassifier\n",
    "from sklearn.ensemble import RandomForestClassifier\n",
    "# from sklearn import naive_bayes\n",
    "# from sklearn import svm\n",
    "\n",
    "\n",
    "# from sklearn.externals.six import StringIO  \n",
    "# from IPython.display import Image  \n",
    "# from sklearn.tree import export_graphviz\n",
    "# import pydotplus\n",
    "\n",
    "\n"
   ]
  },
  {
   "cell_type": "code",
   "execution_count": 2,
   "metadata": {},
   "outputs": [
    {
     "data": {
      "text/html": [
       "<div>\n",
       "<style>\n",
       "    .dataframe thead tr:only-child th {\n",
       "        text-align: right;\n",
       "    }\n",
       "\n",
       "    .dataframe thead th {\n",
       "        text-align: left;\n",
       "    }\n",
       "\n",
       "    .dataframe tbody tr th {\n",
       "        vertical-align: top;\n",
       "    }\n",
       "</style>\n",
       "<table border=\"1\" class=\"dataframe\">\n",
       "  <thead>\n",
       "    <tr style=\"text-align: right;\">\n",
       "      <th></th>\n",
       "      <th>pair</th>\n",
       "      <th>L1</th>\n",
       "      <th>target</th>\n",
       "    </tr>\n",
       "  </thead>\n",
       "  <tbody>\n",
       "    <tr>\n",
       "      <th>0</th>\n",
       "      <td>(6f4a3b50.jpg, bfc76005.jpg)</td>\n",
       "      <td>[0.0, 0.0009992420673370361, 0.002755224704742...</td>\n",
       "      <td>1</td>\n",
       "    </tr>\n",
       "    <tr>\n",
       "      <th>1</th>\n",
       "      <td>(c4b0ed02.jpg, ed744e52.jpg)</td>\n",
       "      <td>[0.0, 0.015301823616027832, 0.0184091925621032...</td>\n",
       "      <td>1</td>\n",
       "    </tr>\n",
       "    <tr>\n",
       "      <th>2</th>\n",
       "      <td>(32d9e0da.jpg, e5fe87a4.jpg)</td>\n",
       "      <td>[0.0, 0.0073434412479400635, 0.002316087484359...</td>\n",
       "      <td>1</td>\n",
       "    </tr>\n",
       "    <tr>\n",
       "      <th>3</th>\n",
       "      <td>(63c18173.jpg, ae8aa8b1.jpg)</td>\n",
       "      <td>[0.0, 0.006539702415466309, 0.0031872391700744...</td>\n",
       "      <td>1</td>\n",
       "    </tr>\n",
       "    <tr>\n",
       "      <th>4</th>\n",
       "      <td>(13503533.jpg, 8f1fb719.jpg)</td>\n",
       "      <td>[0.0, 0.008989393711090088, 0.0099983811378479...</td>\n",
       "      <td>1</td>\n",
       "    </tr>\n",
       "  </tbody>\n",
       "</table>\n",
       "</div>"
      ],
      "text/plain": [
       "                           pair  \\\n",
       "0  (6f4a3b50.jpg, bfc76005.jpg)   \n",
       "1  (c4b0ed02.jpg, ed744e52.jpg)   \n",
       "2  (32d9e0da.jpg, e5fe87a4.jpg)   \n",
       "3  (63c18173.jpg, ae8aa8b1.jpg)   \n",
       "4  (13503533.jpg, 8f1fb719.jpg)   \n",
       "\n",
       "                                                  L1  target  \n",
       "0  [0.0, 0.0009992420673370361, 0.002755224704742...       1  \n",
       "1  [0.0, 0.015301823616027832, 0.0184091925621032...       1  \n",
       "2  [0.0, 0.0073434412479400635, 0.002316087484359...       1  \n",
       "3  [0.0, 0.006539702415466309, 0.0031872391700744...       1  \n",
       "4  [0.0, 0.008989393711090088, 0.0099983811378479...       1  "
      ]
     },
     "execution_count": 2,
     "metadata": {},
     "output_type": "execute_result"
    }
   ],
   "source": [
    "df = pd.read_pickle('merged_L1_vecs.pkl')\n",
    "df.head()"
   ]
  },
  {
   "cell_type": "markdown",
   "metadata": {},
   "source": [
    "### Prepare train/test data"
   ]
  },
  {
   "cell_type": "code",
   "execution_count": 4,
   "metadata": {},
   "outputs": [
    {
     "data": {
      "text/html": [
       "<div>\n",
       "<style>\n",
       "    .dataframe thead tr:only-child th {\n",
       "        text-align: right;\n",
       "    }\n",
       "\n",
       "    .dataframe thead th {\n",
       "        text-align: left;\n",
       "    }\n",
       "\n",
       "    .dataframe tbody tr th {\n",
       "        vertical-align: top;\n",
       "    }\n",
       "</style>\n",
       "<table border=\"1\" class=\"dataframe\">\n",
       "  <thead>\n",
       "    <tr style=\"text-align: right;\">\n",
       "      <th></th>\n",
       "      <th>0</th>\n",
       "      <th>1</th>\n",
       "      <th>2</th>\n",
       "      <th>3</th>\n",
       "      <th>4</th>\n",
       "      <th>5</th>\n",
       "      <th>6</th>\n",
       "      <th>7</th>\n",
       "      <th>8</th>\n",
       "      <th>9</th>\n",
       "      <th>...</th>\n",
       "      <th>4086</th>\n",
       "      <th>4087</th>\n",
       "      <th>4088</th>\n",
       "      <th>4089</th>\n",
       "      <th>4090</th>\n",
       "      <th>4091</th>\n",
       "      <th>4092</th>\n",
       "      <th>4093</th>\n",
       "      <th>4094</th>\n",
       "      <th>4095</th>\n",
       "    </tr>\n",
       "  </thead>\n",
       "  <tbody>\n",
       "    <tr>\n",
       "      <th>0</th>\n",
       "      <td>0.0</td>\n",
       "      <td>0.000999</td>\n",
       "      <td>0.002755</td>\n",
       "      <td>0.011322</td>\n",
       "      <td>0.012030</td>\n",
       "      <td>0.0</td>\n",
       "      <td>0.013813</td>\n",
       "      <td>0.0</td>\n",
       "      <td>0.0</td>\n",
       "      <td>0.0</td>\n",
       "      <td>...</td>\n",
       "      <td>0.011351</td>\n",
       "      <td>0.002303</td>\n",
       "      <td>0.005471</td>\n",
       "      <td>0.015959</td>\n",
       "      <td>0.013394</td>\n",
       "      <td>0.0</td>\n",
       "      <td>0.0</td>\n",
       "      <td>0.0</td>\n",
       "      <td>0.0</td>\n",
       "      <td>0.003967</td>\n",
       "    </tr>\n",
       "    <tr>\n",
       "      <th>1</th>\n",
       "      <td>0.0</td>\n",
       "      <td>0.015302</td>\n",
       "      <td>0.018409</td>\n",
       "      <td>0.013967</td>\n",
       "      <td>0.052472</td>\n",
       "      <td>0.0</td>\n",
       "      <td>0.013169</td>\n",
       "      <td>0.0</td>\n",
       "      <td>0.0</td>\n",
       "      <td>0.0</td>\n",
       "      <td>...</td>\n",
       "      <td>0.004921</td>\n",
       "      <td>0.010240</td>\n",
       "      <td>0.055135</td>\n",
       "      <td>0.002037</td>\n",
       "      <td>0.032642</td>\n",
       "      <td>0.0</td>\n",
       "      <td>0.0</td>\n",
       "      <td>0.0</td>\n",
       "      <td>0.0</td>\n",
       "      <td>0.001627</td>\n",
       "    </tr>\n",
       "    <tr>\n",
       "      <th>2</th>\n",
       "      <td>0.0</td>\n",
       "      <td>0.007343</td>\n",
       "      <td>0.002316</td>\n",
       "      <td>0.024200</td>\n",
       "      <td>0.014628</td>\n",
       "      <td>0.0</td>\n",
       "      <td>0.038182</td>\n",
       "      <td>0.0</td>\n",
       "      <td>0.0</td>\n",
       "      <td>0.0</td>\n",
       "      <td>...</td>\n",
       "      <td>0.013529</td>\n",
       "      <td>0.015881</td>\n",
       "      <td>0.022575</td>\n",
       "      <td>0.037361</td>\n",
       "      <td>0.031229</td>\n",
       "      <td>0.0</td>\n",
       "      <td>0.0</td>\n",
       "      <td>0.0</td>\n",
       "      <td>0.0</td>\n",
       "      <td>0.000569</td>\n",
       "    </tr>\n",
       "    <tr>\n",
       "      <th>3</th>\n",
       "      <td>0.0</td>\n",
       "      <td>0.006540</td>\n",
       "      <td>0.003187</td>\n",
       "      <td>0.014586</td>\n",
       "      <td>0.044745</td>\n",
       "      <td>0.0</td>\n",
       "      <td>0.041835</td>\n",
       "      <td>0.0</td>\n",
       "      <td>0.0</td>\n",
       "      <td>0.0</td>\n",
       "      <td>...</td>\n",
       "      <td>0.029289</td>\n",
       "      <td>0.008366</td>\n",
       "      <td>0.020637</td>\n",
       "      <td>0.044380</td>\n",
       "      <td>0.056264</td>\n",
       "      <td>0.0</td>\n",
       "      <td>0.0</td>\n",
       "      <td>0.0</td>\n",
       "      <td>0.0</td>\n",
       "      <td>0.000420</td>\n",
       "    </tr>\n",
       "    <tr>\n",
       "      <th>4</th>\n",
       "      <td>0.0</td>\n",
       "      <td>0.008989</td>\n",
       "      <td>0.009998</td>\n",
       "      <td>0.002497</td>\n",
       "      <td>0.003741</td>\n",
       "      <td>0.0</td>\n",
       "      <td>0.001339</td>\n",
       "      <td>0.0</td>\n",
       "      <td>0.0</td>\n",
       "      <td>0.0</td>\n",
       "      <td>...</td>\n",
       "      <td>0.000020</td>\n",
       "      <td>0.004197</td>\n",
       "      <td>0.004611</td>\n",
       "      <td>0.007458</td>\n",
       "      <td>0.004316</td>\n",
       "      <td>0.0</td>\n",
       "      <td>0.0</td>\n",
       "      <td>0.0</td>\n",
       "      <td>0.0</td>\n",
       "      <td>0.005085</td>\n",
       "    </tr>\n",
       "  </tbody>\n",
       "</table>\n",
       "<p>5 rows × 4096 columns</p>\n",
       "</div>"
      ],
      "text/plain": [
       "   0         1         2         3         4     5         6     7     8     \\\n",
       "0   0.0  0.000999  0.002755  0.011322  0.012030   0.0  0.013813   0.0   0.0   \n",
       "1   0.0  0.015302  0.018409  0.013967  0.052472   0.0  0.013169   0.0   0.0   \n",
       "2   0.0  0.007343  0.002316  0.024200  0.014628   0.0  0.038182   0.0   0.0   \n",
       "3   0.0  0.006540  0.003187  0.014586  0.044745   0.0  0.041835   0.0   0.0   \n",
       "4   0.0  0.008989  0.009998  0.002497  0.003741   0.0  0.001339   0.0   0.0   \n",
       "\n",
       "   9       ...         4086      4087      4088      4089      4090  4091  \\\n",
       "0   0.0    ...     0.011351  0.002303  0.005471  0.015959  0.013394   0.0   \n",
       "1   0.0    ...     0.004921  0.010240  0.055135  0.002037  0.032642   0.0   \n",
       "2   0.0    ...     0.013529  0.015881  0.022575  0.037361  0.031229   0.0   \n",
       "3   0.0    ...     0.029289  0.008366  0.020637  0.044380  0.056264   0.0   \n",
       "4   0.0    ...     0.000020  0.004197  0.004611  0.007458  0.004316   0.0   \n",
       "\n",
       "   4092  4093  4094      4095  \n",
       "0   0.0   0.0   0.0  0.003967  \n",
       "1   0.0   0.0   0.0  0.001627  \n",
       "2   0.0   0.0   0.0  0.000569  \n",
       "3   0.0   0.0   0.0  0.000420  \n",
       "4   0.0   0.0   0.0  0.005085  \n",
       "\n",
       "[5 rows x 4096 columns]"
      ]
     },
     "execution_count": 4,
     "metadata": {},
     "output_type": "execute_result"
    }
   ],
   "source": [
    "X = pd.DataFrame(list(df.L1))\n",
    "X.head()"
   ]
  },
  {
   "cell_type": "code",
   "execution_count": 28,
   "metadata": {},
   "outputs": [
    {
     "data": {
      "text/plain": [
       "0    1\n",
       "1    1\n",
       "2    1\n",
       "3    1\n",
       "4    1\n",
       "Name: target, dtype: int64"
      ]
     },
     "execution_count": 28,
     "metadata": {},
     "output_type": "execute_result"
    }
   ],
   "source": [
    "y = df.iloc[:,-1]\n",
    "y.head()"
   ]
  },
  {
   "cell_type": "code",
   "execution_count": 22,
   "metadata": {},
   "outputs": [
    {
     "data": {
      "text/plain": [
       "30816"
      ]
     },
     "execution_count": 22,
     "metadata": {},
     "output_type": "execute_result"
    }
   ],
   "source": [
    "len(y)"
   ]
  },
  {
   "cell_type": "code",
   "execution_count": 31,
   "metadata": {},
   "outputs": [
    {
     "data": {
      "text/html": [
       "<div>\n",
       "<style>\n",
       "    .dataframe thead tr:only-child th {\n",
       "        text-align: right;\n",
       "    }\n",
       "\n",
       "    .dataframe thead th {\n",
       "        text-align: left;\n",
       "    }\n",
       "\n",
       "    .dataframe tbody tr th {\n",
       "        vertical-align: top;\n",
       "    }\n",
       "</style>\n",
       "<table border=\"1\" class=\"dataframe\">\n",
       "  <thead>\n",
       "    <tr style=\"text-align: right;\">\n",
       "      <th></th>\n",
       "      <th>0</th>\n",
       "      <th>1</th>\n",
       "      <th>2</th>\n",
       "      <th>3</th>\n",
       "      <th>4</th>\n",
       "      <th>5</th>\n",
       "      <th>6</th>\n",
       "      <th>7</th>\n",
       "      <th>8</th>\n",
       "      <th>9</th>\n",
       "      <th>...</th>\n",
       "      <th>4087</th>\n",
       "      <th>4088</th>\n",
       "      <th>4089</th>\n",
       "      <th>4090</th>\n",
       "      <th>4091</th>\n",
       "      <th>4092</th>\n",
       "      <th>4093</th>\n",
       "      <th>4094</th>\n",
       "      <th>4095</th>\n",
       "      <th>4096</th>\n",
       "    </tr>\n",
       "  </thead>\n",
       "  <tbody>\n",
       "    <tr>\n",
       "      <th>0</th>\n",
       "      <td>0.0</td>\n",
       "      <td>0.000999</td>\n",
       "      <td>0.002755</td>\n",
       "      <td>0.011322</td>\n",
       "      <td>0.012030</td>\n",
       "      <td>0.0</td>\n",
       "      <td>0.013813</td>\n",
       "      <td>0.0</td>\n",
       "      <td>0.0</td>\n",
       "      <td>0.0</td>\n",
       "      <td>...</td>\n",
       "      <td>0.002303</td>\n",
       "      <td>0.005471</td>\n",
       "      <td>0.015959</td>\n",
       "      <td>0.013394</td>\n",
       "      <td>0.0</td>\n",
       "      <td>0.0</td>\n",
       "      <td>0.0</td>\n",
       "      <td>0.0</td>\n",
       "      <td>0.003967</td>\n",
       "      <td>1</td>\n",
       "    </tr>\n",
       "    <tr>\n",
       "      <th>1</th>\n",
       "      <td>0.0</td>\n",
       "      <td>0.015302</td>\n",
       "      <td>0.018409</td>\n",
       "      <td>0.013967</td>\n",
       "      <td>0.052472</td>\n",
       "      <td>0.0</td>\n",
       "      <td>0.013169</td>\n",
       "      <td>0.0</td>\n",
       "      <td>0.0</td>\n",
       "      <td>0.0</td>\n",
       "      <td>...</td>\n",
       "      <td>0.010240</td>\n",
       "      <td>0.055135</td>\n",
       "      <td>0.002037</td>\n",
       "      <td>0.032642</td>\n",
       "      <td>0.0</td>\n",
       "      <td>0.0</td>\n",
       "      <td>0.0</td>\n",
       "      <td>0.0</td>\n",
       "      <td>0.001627</td>\n",
       "      <td>1</td>\n",
       "    </tr>\n",
       "    <tr>\n",
       "      <th>2</th>\n",
       "      <td>0.0</td>\n",
       "      <td>0.007343</td>\n",
       "      <td>0.002316</td>\n",
       "      <td>0.024200</td>\n",
       "      <td>0.014628</td>\n",
       "      <td>0.0</td>\n",
       "      <td>0.038182</td>\n",
       "      <td>0.0</td>\n",
       "      <td>0.0</td>\n",
       "      <td>0.0</td>\n",
       "      <td>...</td>\n",
       "      <td>0.015881</td>\n",
       "      <td>0.022575</td>\n",
       "      <td>0.037361</td>\n",
       "      <td>0.031229</td>\n",
       "      <td>0.0</td>\n",
       "      <td>0.0</td>\n",
       "      <td>0.0</td>\n",
       "      <td>0.0</td>\n",
       "      <td>0.000569</td>\n",
       "      <td>1</td>\n",
       "    </tr>\n",
       "    <tr>\n",
       "      <th>3</th>\n",
       "      <td>0.0</td>\n",
       "      <td>0.006540</td>\n",
       "      <td>0.003187</td>\n",
       "      <td>0.014586</td>\n",
       "      <td>0.044745</td>\n",
       "      <td>0.0</td>\n",
       "      <td>0.041835</td>\n",
       "      <td>0.0</td>\n",
       "      <td>0.0</td>\n",
       "      <td>0.0</td>\n",
       "      <td>...</td>\n",
       "      <td>0.008366</td>\n",
       "      <td>0.020637</td>\n",
       "      <td>0.044380</td>\n",
       "      <td>0.056264</td>\n",
       "      <td>0.0</td>\n",
       "      <td>0.0</td>\n",
       "      <td>0.0</td>\n",
       "      <td>0.0</td>\n",
       "      <td>0.000420</td>\n",
       "      <td>1</td>\n",
       "    </tr>\n",
       "    <tr>\n",
       "      <th>4</th>\n",
       "      <td>0.0</td>\n",
       "      <td>0.008989</td>\n",
       "      <td>0.009998</td>\n",
       "      <td>0.002497</td>\n",
       "      <td>0.003741</td>\n",
       "      <td>0.0</td>\n",
       "      <td>0.001339</td>\n",
       "      <td>0.0</td>\n",
       "      <td>0.0</td>\n",
       "      <td>0.0</td>\n",
       "      <td>...</td>\n",
       "      <td>0.004197</td>\n",
       "      <td>0.004611</td>\n",
       "      <td>0.007458</td>\n",
       "      <td>0.004316</td>\n",
       "      <td>0.0</td>\n",
       "      <td>0.0</td>\n",
       "      <td>0.0</td>\n",
       "      <td>0.0</td>\n",
       "      <td>0.005085</td>\n",
       "      <td>1</td>\n",
       "    </tr>\n",
       "  </tbody>\n",
       "</table>\n",
       "<p>5 rows × 4097 columns</p>\n",
       "</div>"
      ],
      "text/plain": [
       "   0         1         2         3         4     5         6     7     8     \\\n",
       "0   0.0  0.000999  0.002755  0.011322  0.012030   0.0  0.013813   0.0   0.0   \n",
       "1   0.0  0.015302  0.018409  0.013967  0.052472   0.0  0.013169   0.0   0.0   \n",
       "2   0.0  0.007343  0.002316  0.024200  0.014628   0.0  0.038182   0.0   0.0   \n",
       "3   0.0  0.006540  0.003187  0.014586  0.044745   0.0  0.041835   0.0   0.0   \n",
       "4   0.0  0.008989  0.009998  0.002497  0.003741   0.0  0.001339   0.0   0.0   \n",
       "\n",
       "   9     ...       4087      4088      4089      4090  4091  4092  4093  4094  \\\n",
       "0   0.0  ...   0.002303  0.005471  0.015959  0.013394   0.0   0.0   0.0   0.0   \n",
       "1   0.0  ...   0.010240  0.055135  0.002037  0.032642   0.0   0.0   0.0   0.0   \n",
       "2   0.0  ...   0.015881  0.022575  0.037361  0.031229   0.0   0.0   0.0   0.0   \n",
       "3   0.0  ...   0.008366  0.020637  0.044380  0.056264   0.0   0.0   0.0   0.0   \n",
       "4   0.0  ...   0.004197  0.004611  0.007458  0.004316   0.0   0.0   0.0   0.0   \n",
       "\n",
       "       4095  4096  \n",
       "0  0.003967     1  \n",
       "1  0.001627     1  \n",
       "2  0.000569     1  \n",
       "3  0.000420     1  \n",
       "4  0.005085     1  \n",
       "\n",
       "[5 rows x 4097 columns]"
      ]
     },
     "execution_count": 31,
     "metadata": {},
     "output_type": "execute_result"
    }
   ],
   "source": [
    "data = X.iloc[:,:]\n",
    "data[4096]=list(y)\n",
    "data.head()"
   ]
  },
  {
   "cell_type": "code",
   "execution_count": 32,
   "metadata": {
    "collapsed": true
   },
   "outputs": [],
   "source": [
    "data.to_pickle('data.pkl')"
   ]
  },
  {
   "cell_type": "code",
   "execution_count": null,
   "metadata": {},
   "outputs": [],
   "source": []
  },
  {
   "cell_type": "code",
   "execution_count": 7,
   "metadata": {
    "collapsed": true
   },
   "outputs": [],
   "source": [
    "xtrain, xtest, ytrain, ytest = train_test_split(X, y, stratify=y, test_size=0.3, random_state=432)"
   ]
  },
  {
   "cell_type": "code",
   "execution_count": 8,
   "metadata": {
    "collapsed": true
   },
   "outputs": [],
   "source": [
    "def model_scores(clf, xtrain, ytrain, xtest, ytest, threshold=0.5):\n",
    "    clf.fit(xtrain,ytrain)\n",
    "    # calculate and print scores for train\n",
    "    y_true = ytrain\n",
    "    y_prob = clf.predict_proba(xtrain)[:,1]\n",
    "    y_pred = np.where(y_prob>threshold, 1, 0)\n",
    "    train_acc=accuracy_score(y_true, y_pred)\n",
    "    print(\"Training Data Accuracy: %0.2f\" %(train_acc))\n",
    "    print(classification_report(y_true, y_pred))\n",
    "    conf = confusion_matrix(y_true, y_pred, labels=[1,0])\n",
    "    print(conf)\n",
    "    \n",
    "    # calculate and print scores for test\n",
    "    test_acc=clf.score(xtest,ytest)\n",
    "    y_true = ytest\n",
    "    y_prob = clf.predict_proba(xtest)[:,1]\n",
    "    y_pred = np.where(y_prob>threshold, 1, 0)\n",
    "    test_acc=accuracy_score(y_true, y_pred)\n",
    "    print(\"Test Data Accuracy:     %0.2f\" %(test_acc))\n",
    "    print(classification_report(y_true, y_pred))\n",
    "    conf = confusion_matrix(y_true, y_pred, labels=[1,0])\n",
    "    print(conf)\n",
    "    \n",
    "    make_plots(clf,xtest,ytest,threshold)\n",
    "    \n",
    "def make_plots(clf,x,y,threshold=0.5):\n",
    "\n",
    "    plt.subplots(1,2,figsize=(8,4))\n",
    "    plt.subplot(1,2,1)\n",
    "    plot_roc(clf,x,y)\n",
    "    # plot confusion matrix\n",
    "    plt.subplot(1,2,2)\n",
    "    plot_conf(clf,x,y,threshold)\n",
    "    \n",
    "def plot_roc(clf,x,y):\n",
    "\n",
    "    # calculate ROC\n",
    "    pos_label = 1 # roc-curve for poisonous mushrooms\n",
    "    y_score=clf.predict_proba(x)[:,pos_label]\n",
    "    fpr, tpr,_ = roc_curve(y, y_score, pos_label)\n",
    "    roc_auc = auc(fpr, tpr)\n",
    "    plt.plot(fpr,tpr,'k',linewidth=3,alpha=0.5)\n",
    "    pos_label = 0 # roc-curve for edible mushrooms\n",
    "    y_score=clf.predict_proba(x)[:,pos_label]\n",
    "    fpr, tpr,_ = roc_curve(y, y_score, pos_label)\n",
    "    roc_auc = auc(fpr, tpr)\n",
    "    plt.plot(fpr,tpr,'r',linewidth=3,alpha=0.5)\n",
    "    \n",
    "    plt.plot([0,1],[0,1],'k:')\n",
    "    plt.legend(['same','different'],fontsize=12)\n",
    "    plt.xlabel('FPR',fontsize=12,fontweight='bold')\n",
    "    plt.ylabel('TPR',fontsize=12,fontweight='bold')\n",
    "    plt.axis('scaled')\n",
    "    plt.tight_layout()\n",
    "\n",
    "def plot_roc_simple(clf,x,y,pos_label=0):\n",
    "    \n",
    "    # calculate ROC\n",
    "    y_score=clf.predict_proba(x)[:,pos_label]\n",
    "    fpr, tpr,_ = roc_curve(y, y_score, pos_label)\n",
    "    roc_auc = auc(fpr, tpr)\n",
    "\n",
    "    plt.plot(fpr,tpr,linewidth=5, alpha=0.5)\n",
    "\n",
    "    \n",
    "def plot_conf(clf,x,y,threshold=0.5):\n",
    "    \n",
    "    y_true = y\n",
    "    y_prob = clf.predict_proba(x)[:,1]\n",
    "    y_pred = np.where(y_prob>threshold, 1, 0)\n",
    "    conf = confusion_matrix(y_true, y_pred, labels=[1,0])\n",
    "#     print(conf)\n",
    "    \n",
    "    # plot confusion matrix\n",
    "    plt.imshow(conf, interpolation='nearest',cmap=plt.cm.bone_r)\n",
    "    plt.text(0,0,conf[0][0],fontsize=21,fontweight='bold',color='w',ha='center')\n",
    "    plt.text(1,0,conf[0][1],fontsize=21,fontweight='bold',color='#CC0000',ha='center')\n",
    "    plt.text(0,1,conf[1][0],fontsize=21,fontweight='bold',color='#88CC00',ha='center')\n",
    "    plt.text(1,1,conf[1][1],fontsize=21,fontweight='bold',color='w',ha='center')\n",
    "    ax = plt.gca()\n",
    "    ax.set_xticks([0,1])\n",
    "    ax.set_xticklabels(['Same\\n(Predicted)','Different\\n(Predicted)'],fontsize=12)\n",
    "    ax.set_yticks([0,1])\n",
    "    ax.set_yticklabels(['Same\\n(True)','Different\\n(True)'],fontsize=12)\n",
    "    plt.tight_layout()"
   ]
  },
  {
   "cell_type": "markdown",
   "metadata": {},
   "source": [
    "### Logistic Regression"
   ]
  },
  {
   "cell_type": "code",
   "execution_count": 9,
   "metadata": {},
   "outputs": [
    {
     "name": "stdout",
     "output_type": "stream",
     "text": [
      "Training Data Accuracy: 0.63\n",
      "             precision    recall  f1-score   support\n",
      "\n",
      "          0       0.64      0.60      0.62     10748\n",
      "          1       0.62      0.66      0.64     10823\n",
      "\n",
      "avg / total       0.63      0.63      0.63     21571\n",
      "\n",
      "[[7185 3638]\n",
      " [4333 6415]]\n",
      "Test Data Accuracy:     0.62\n",
      "             precision    recall  f1-score   support\n",
      "\n",
      "          0       0.63      0.58      0.61      4607\n",
      "          1       0.62      0.66      0.64      4638\n",
      "\n",
      "avg / total       0.62      0.62      0.62      9245\n",
      "\n",
      "[[3081 1557]\n",
      " [1917 2690]]\n"
     ]
    },
    {
     "data": {
      "image/png": "[encoded data removed]",
      "text/plain": [
       "<matplotlib.figure.Figure at 0x1109b6cf8>"
      ]
     },
     "metadata": {},
     "output_type": "display_data"
    }
   ],
   "source": [
    "lr = LogisticRegression()\n",
    "model_scores(lr, xtrain, ytrain, xtest, ytest)"
   ]
  },
  {
   "cell_type": "markdown",
   "metadata": {},
   "source": [
    "### Random Forest"
   ]
  },
  {
   "cell_type": "code",
   "execution_count": 11,
   "metadata": {},
   "outputs": [
    {
     "name": "stdout",
     "output_type": "stream",
     "text": [
      "Training Data Accuracy: 1.00\n",
      "             precision    recall  f1-score   support\n",
      "\n",
      "          0       1.00      1.00      1.00     10748\n",
      "          1       1.00      1.00      1.00     10823\n",
      "\n",
      "avg / total       1.00      1.00      1.00     21571\n",
      "\n",
      "[[10823     0]\n",
      " [    0 10748]]\n",
      "Test Data Accuracy:     0.68\n",
      "             precision    recall  f1-score   support\n",
      "\n",
      "          0       0.66      0.72      0.69      4607\n",
      "          1       0.70      0.64      0.67      4638\n",
      "\n",
      "avg / total       0.68      0.68      0.68      9245\n",
      "\n",
      "[[2960 1678]\n",
      " [1294 3313]]\n"
     ]
    },
    {
     "data": {
      "image/png": "[encoded data removed]",
      "text/plain": [
       "<matplotlib.figure.Figure at 0x1113c45f8>"
      ]
     },
     "metadata": {},
     "output_type": "display_data"
    }
   ],
   "source": [
    "rf = RandomForestClassifier(n_estimators=500,class_weight='balanced')\n",
    "model_scores(rf, xtrain, ytrain, xtest, ytest)"
   ]
  },
  {
   "cell_type": "code",
   "execution_count": 14,
   "metadata": {},
   "outputs": [
    {
     "name": "stdout",
     "output_type": "stream",
     "text": [
      "Training Data Accuracy: 0.99\n",
      "             precision    recall  f1-score   support\n",
      "\n",
      "          0       1.00      0.97      0.98     10748\n",
      "          1       0.97      1.00      0.99     10823\n",
      "\n",
      "avg / total       0.99      0.99      0.99     21571\n",
      "\n",
      "[[10822     1]\n",
      " [  322 10426]]\n",
      "Test Data Accuracy:     0.68\n",
      "             precision    recall  f1-score   support\n",
      "\n",
      "          0       0.67      0.69      0.68      4607\n",
      "          1       0.68      0.66      0.67      4638\n",
      "\n",
      "avg / total       0.68      0.68      0.68      9245\n",
      "\n",
      "[[3058 1580]\n",
      " [1423 3184]]\n"
     ]
    },
    {
     "data": {
      "image/png": "[encoded data removed]",
      "text/plain": [
       "<matplotlib.figure.Figure at 0x23fcdcac8>"
      ]
     },
     "metadata": {},
     "output_type": "display_data"
    }
   ],
   "source": [
    "rf = RandomForestClassifier(n_estimators=2000, max_depth=15, class_weight='balanced')\n",
    "model_scores(rf, xtrain, ytrain, xtest, ytest)"
   ]
  },
  {
   "cell_type": "code",
   "execution_count": 16,
   "metadata": {
    "collapsed": true
   },
   "outputs": [],
   "source": [
    "import pickle\n",
    "\n",
    "# save the model to disk\n",
    "filename = 'classifier_RF_2000_15.sav'\n",
    "pickle.dump(rf, open(filename, 'wb'))\n",
    " \n",
    "# # some time later...\n",
    " \n",
    "# # load the model from disk\n",
    "# loaded_model = pickle.load(open(filename, 'rb'))\n",
    "# result = loaded_model.score(X_test, Y_test)\n",
    "# print(result)"
   ]
  },
  {
   "cell_type": "code",
   "execution_count": 17,
   "metadata": {},
   "outputs": [
    {
     "name": "stdout",
     "output_type": "stream",
     "text": [
      "0.6751757706868577\n"
     ]
    }
   ],
   "source": [
    "# # some time later...\n",
    "# # load the model from disk\n",
    "# loaded_model = pickle.load(open(filename, 'rb'))\n",
    "# result = loaded_model.score(xtest, ytest)\n",
    "# print(result)"
   ]
  },
  {
   "cell_type": "markdown",
   "metadata": {},
   "source": [
    "### Compute recognition results from training data"
   ]
  },
  {
   "cell_type": "code",
   "execution_count": null,
   "metadata": {
    "collapsed": true
   },
   "outputs": [],
   "source": [
    "def get_prediction_probs(unknown_vec, known_vecs, classifier, merge_method='L1'):\n",
    "    \n",
    "    m = len(vec1)\n",
    "    N = len(know_vecs)\n",
    "    vecs = [[abs(vec1[i]-vec2[k][i]) for i in range(m)] for k in range(N)]\n",
    "    X = np.array(vecs)\n",
    "    p = classifier.predict_proba(X)[:,1] #prob of being \"same\"\n",
    "    \n",
    "    return p"
   ]
  },
  {
   "cell_type": "code",
   "execution_count": 15,
   "metadata": {},
   "outputs": [
    {
     "ename": "TypeError",
     "evalue": "Required argument 'object' (pos 1) not found",
     "output_type": "error",
     "traceback": [
      "\u001b[0;31m---------------------------------------------------------------------------\u001b[0m",
      "\u001b[0;31mTypeError\u001b[0m                                 Traceback (most recent call last)",
      "\u001b[0;32m<ipython-input-15-e82994c6a167>\u001b[0m in \u001b[0;36m<module>\u001b[0;34m()\u001b[0m\n\u001b[0;32m----> 1\u001b[0;31m \u001b[0ma\u001b[0m \u001b[0;34m=\u001b[0m \u001b[0mnp\u001b[0m\u001b[0;34m.\u001b[0m\u001b[0marray\u001b[0m\u001b[0;34m(\u001b[0m\u001b[0;34m)\u001b[0m\u001b[0;34m\u001b[0m\u001b[0m\n\u001b[0m",
      "\u001b[0;31mTypeError\u001b[0m: Required argument 'object' (pos 1) not found"
     ]
    }
   ],
   "source": [
    "a = np.array()"
   ]
  },
  {
   "cell_type": "code",
   "execution_count": null,
   "metadata": {
    "collapsed": true
   },
   "outputs": [],
   "source": [
    "unknown_vec = "
   ]
  }
 ],
 "metadata": {
  "anaconda-cloud": {},
  "kernelspec": {
   "display_name": "Python 3",
   "language": "python",
   "name": "python3"
  },
  "language_info": {
   "codemirror_mode": {
    "name": "ipython",
    "version": 3
   },
   "file_extension": ".py",
   "mimetype": "text/x-python",
   "name": "python",
   "nbconvert_exporter": "python",
   "pygments_lexer": "ipython3",
   "version": "3.6.3"
  }
 },
 "nbformat": 4,
 "nbformat_minor": 1
}
