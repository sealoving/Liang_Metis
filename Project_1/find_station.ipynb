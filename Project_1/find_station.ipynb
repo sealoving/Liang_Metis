{
 "cells": [
  {
   "cell_type": "code",
   "execution_count": 7,
   "metadata": {
    "collapsed": true
   },
   "outputs": [],
   "source": [
    "import pandas as pd\n",
    "import numpy as np\n",
    "import os\n",
    "\n",
    "directory = os.getcwd()+'/data'\n",
    "file = os.path.join(directory, \"DOITT_SUBWAY_STATION_01_13SEPT2010.csv\")\n",
    "df = pd.read_csv(file)\n",
    "df.to_pickle('station_loc.pickle')"
   ]
  },
  {
   "cell_type": "code",
   "execution_count": 6,
   "metadata": {},
   "outputs": [
    {
     "data": {
      "text/html": [
       "<div>\n",
       "<style>\n",
       "    .dataframe thead tr:only-child th {\n",
       "        text-align: right;\n",
       "    }\n",
       "\n",
       "    .dataframe thead th {\n",
       "        text-align: left;\n",
       "    }\n",
       "\n",
       "    .dataframe tbody tr th {\n",
       "        vertical-align: top;\n",
       "    }\n",
       "</style>\n",
       "<table border=\"1\" class=\"dataframe\">\n",
       "  <thead>\n",
       "    <tr style=\"text-align: right;\">\n",
       "      <th></th>\n",
       "      <th>URL</th>\n",
       "      <th>OBJECTID</th>\n",
       "      <th>NAME</th>\n",
       "      <th>the_geom</th>\n",
       "      <th>LINE</th>\n",
       "      <th>NOTES</th>\n",
       "    </tr>\n",
       "  </thead>\n",
       "  <tbody>\n",
       "    <tr>\n",
       "      <th>408</th>\n",
       "      <td>http://web.mta.info/nyct/service/</td>\n",
       "      <td>409</td>\n",
       "      <td>World Trade Center</td>\n",
       "      <td>POINT (-74.00974461517701 40.71256392680817)</td>\n",
       "      <td>E</td>\n",
       "      <td>E-all times</td>\n",
       "    </tr>\n",
       "  </tbody>\n",
       "</table>\n",
       "</div>"
      ],
      "text/plain": [
       "                                   URL  OBJECTID                NAME  \\\n",
       "408  http://web.mta.info/nyct/service/       409  World Trade Center   \n",
       "\n",
       "                                         the_geom LINE        NOTES  \n",
       "408  POINT (-74.00974461517701 40.71256392680817)    E  E-all times  "
      ]
     },
     "execution_count": 6,
     "metadata": {},
     "output_type": "execute_result"
    }
   ],
   "source": [
    "df[df.NAME=='World Trade Center']"
   ]
  },
  {
   "cell_type": "code",
   "execution_count": null,
   "metadata": {
    "collapsed": true
   },
   "outputs": [],
   "source": [
    "dict_ST = {'34 ST-PENN STA'}"
   ]
  },
  {
   "cell_type": "code",
   "execution_count": 7,
   "metadata": {
    "collapsed": true
   },
   "outputs": [],
   "source": [
    "# import fiona\n",
    "# from shapely import geometry\n",
    "\n",
    "# def shaper():\n",
    "#     shapes = []\n",
    "#     points = []\n",
    "#     d = []\n",
    "#     with fiona.open(\"data/nyu_2451_34513.shp\") as fiona_collection:\n",
    "    \n",
    "#         #put all shapes in list\n",
    "#         for record in fiona_collection:\n",
    "#             shape = geometry.asShape( record['geometry'] )\n",
    "#             shapes.append(shape)\n",
    "    \n",
    "#     with open('data/DOITT_SUBWAY_STATION_01_13SEPT2010.csv','r') as f:\n",
    "\n",
    "#         for index, line in enumerate(f):\n",
    "#             if index > 0:\n",
    "#                 split_line = line.split(\",\")\n",
    "#                 m  = tuple(map(float, split_line[3][7:-1].split()))#[::-1]\n",
    "#                 point = geometry.Point(m) #lon, lat\n",
    "#                 points.append(point)\n",
    "\n",
    "    \n",
    "#     for s in shapes:\n",
    "#         for p in points:\n",
    "#             d.append([s,[]])\n",
    "#             if s.contains(p):\n",
    "#                 d[-1][1].append(p)\n",
    "    \n",
    "\n",
    "#     for x in d:\n",
    "#         print(x)\n",
    "    \n",
    "#     #print(shapes)\n",
    "#     #print(points)\n",
    "#     return d"
   ]
  },
  {
   "cell_type": "code",
   "execution_count": null,
   "metadata": {
    "collapsed": true
   },
   "outputs": [],
   "source": []
  }
 ],
 "metadata": {
  "kernelspec": {
   "display_name": "Python 3",
   "language": "python",
   "name": "python3"
  },
  "language_info": {
   "codemirror_mode": {
    "name": "ipython",
    "version": 3
   },
   "file_extension": ".py",
   "mimetype": "text/x-python",
   "name": "python",
   "nbconvert_exporter": "python",
   "pygments_lexer": "ipython3",
   "version": "3.6.3"
  }
 },
 "nbformat": 4,
 "nbformat_minor": 2
}
