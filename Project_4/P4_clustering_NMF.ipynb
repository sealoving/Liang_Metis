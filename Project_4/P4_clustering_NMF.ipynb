{
 "cells": [
  {
   "cell_type": "code",
   "execution_count": 1,
   "metadata": {
    "collapsed": true
   },
   "outputs": [],
   "source": [
    "import re\n",
    "import pandas as pd\n",
    "import numpy as np\n",
    "import nltk\n",
    "import matplotlib.pyplot as plt\n",
    "%matplotlib inline"
   ]
  },
  {
   "cell_type": "code",
   "execution_count": 2,
   "metadata": {},
   "outputs": [
    {
     "name": "stdout",
     "output_type": "stream",
     "text": [
      "2467\n"
     ]
    },
    {
     "data": {
      "text/html": [
       "<div>\n",
       "<style>\n",
       "    .dataframe thead tr:only-child th {\n",
       "        text-align: right;\n",
       "    }\n",
       "\n",
       "    .dataframe thead th {\n",
       "        text-align: left;\n",
       "    }\n",
       "\n",
       "    .dataframe tbody tr th {\n",
       "        vertical-align: top;\n",
       "    }\n",
       "</style>\n",
       "<table border=\"1\" class=\"dataframe\">\n",
       "  <thead>\n",
       "    <tr style=\"text-align: right;\">\n",
       "      <th></th>\n",
       "      <th>comments</th>\n",
       "      <th>description</th>\n",
       "      <th>duration</th>\n",
       "      <th>event</th>\n",
       "      <th>film_date</th>\n",
       "      <th>languages</th>\n",
       "      <th>main_speaker</th>\n",
       "      <th>name</th>\n",
       "      <th>num_speaker</th>\n",
       "      <th>published_date</th>\n",
       "      <th>ratings</th>\n",
       "      <th>related_talks</th>\n",
       "      <th>speaker_occupation</th>\n",
       "      <th>tags</th>\n",
       "      <th>title</th>\n",
       "      <th>url</th>\n",
       "      <th>views</th>\n",
       "      <th>transcript</th>\n",
       "    </tr>\n",
       "  </thead>\n",
       "  <tbody>\n",
       "    <tr>\n",
       "      <th>0</th>\n",
       "      <td>4553</td>\n",
       "      <td>Sir Ken Robinson makes an entertaining and pro...</td>\n",
       "      <td>1164</td>\n",
       "      <td>TED2006</td>\n",
       "      <td>1140825600</td>\n",
       "      <td>60</td>\n",
       "      <td>Ken Robinson</td>\n",
       "      <td>Ken Robinson: Do schools kill creativity?</td>\n",
       "      <td>1</td>\n",
       "      <td>1151367060</td>\n",
       "      <td>[{'id': 7, 'name': 'Funny', 'count': 19645}, {...</td>\n",
       "      <td>[{'id': 865, 'hero': 'https://pe.tedcdn.com/im...</td>\n",
       "      <td>Author/educator</td>\n",
       "      <td>['children', 'creativity', 'culture', 'dance',...</td>\n",
       "      <td>Do schools kill creativity?</td>\n",
       "      <td>https://www.ted.com/talks/ken_robinson_says_sc...</td>\n",
       "      <td>47227110</td>\n",
       "      <td>it been great hasnt it. ive been blown away by...</td>\n",
       "    </tr>\n",
       "  </tbody>\n",
       "</table>\n",
       "</div>"
      ],
      "text/plain": [
       "   comments                                        description  duration  \\\n",
       "0      4553  Sir Ken Robinson makes an entertaining and pro...      1164   \n",
       "\n",
       "     event   film_date  languages  main_speaker  \\\n",
       "0  TED2006  1140825600         60  Ken Robinson   \n",
       "\n",
       "                                        name  num_speaker  published_date  \\\n",
       "0  Ken Robinson: Do schools kill creativity?            1      1151367060   \n",
       "\n",
       "                                             ratings  \\\n",
       "0  [{'id': 7, 'name': 'Funny', 'count': 19645}, {...   \n",
       "\n",
       "                                       related_talks speaker_occupation  \\\n",
       "0  [{'id': 865, 'hero': 'https://pe.tedcdn.com/im...    Author/educator   \n",
       "\n",
       "                                                tags  \\\n",
       "0  ['children', 'creativity', 'culture', 'dance',...   \n",
       "\n",
       "                         title  \\\n",
       "0  Do schools kill creativity?   \n",
       "\n",
       "                                                 url     views  \\\n",
       "0  https://www.ted.com/talks/ken_robinson_says_sc...  47227110   \n",
       "\n",
       "                                          transcript  \n",
       "0  it been great hasnt it. ive been blown away by...  "
      ]
     },
     "execution_count": 2,
     "metadata": {},
     "output_type": "execute_result"
    }
   ],
   "source": [
    "df_all = pd.read_pickle('./data/df_all_lemma.pkl')\n",
    "print(len(df_all))\n",
    "df_all.head(1)"
   ]
  },
  {
   "cell_type": "code",
   "execution_count": 18,
   "metadata": {},
   "outputs": [
    {
     "name": "stdout",
     "output_type": "stream",
     "text": [
      "['da', 'each', \"wasn't\", 'our', 'which', 'few', 'for', 'down', \"should've\", 'ain', 'youll', 'youd', 'both', \"mustn't\", 'we', 'had', 'where', 'their', 'until', 'oh', 'it', 'his', 'than', 'hers', 'has', 'too', 'an', \"haven't\", 'should', 'i', 'shouldve', \"you'll\", 'does', 'll', \"you're\", 'over', 'your', \"mightn't\", 'havent', 'weren', 'again', 'no', 'ted', 'themselves', 'here', 'this', 'okay', 'own', 'mustnt', \"isn't\", 'that', 'me', 'he', 'be', 'herself', 'ours', 'haven', \"didn't\", 'might', 'being', 'into', 'wont', 'have', 'mightn', 'needn', 'th', 'bg', 'isnt', 'my', 'only', 'on', 'thatll', \"you've\", 'did', 'wouldnt', 'wasnt', 'himself', \"it's\", 'youre', 'out', 'up', 'couldnt', 're', 'by', 'don', 'they', 'but', 'under', 'yourself', 'from', 'mr', 'mrs', 'arent', 'if', 'couldn', \"couldn't\", 'didnt', 'same', 'those', 'in', 'shes', 'theirs', \"shouldn't\", 'not', 'why', 'now', 'shant', 'd', 'am', 'of', 'through', \"she's\", \"hasn't\", 'hadnt', 'to', 'hadn', 'aren', 'm', \"don't\", 'o', \"doesn't\", 'her', 'its', 'are', 'other', \"needn't\", 'before', 'youve', 'itself', \"hadn't\", \"you'd\", 'these', \"won't\", 'at', 'then', 'off', 'what', \"aren't\", 'ill', 'doesnt', 'neednt', 'all', \"weren't\", 'once', 'wouldn', \"wouldn't\", 'mightnt', 'werent', 'nor', 'any', 't', 'shouldn', 'below', 'was', 'during', 'ha', 'doesn', 's', 'so', 'after', 'the', 'em', 'because', 'hasnt', 'some', 'hasn', 'didn', 'myself', 'you', 'most', 'yes', 'there', 'ma', 'about', 'whom', 'been', 'with', 'ms', 'as', \"that'll\", 'a', 'ca', 'ok', 'were', 'how', 'can', 'will', 'shan', 'them', 'and', 'or', 'between', 've', 'y', 'having', 'ourselves', 'doing', 'more', 'against', 'wasn', 'yeah', 'dont', 'is', 'isn', 'when', 'mustn', 'yours', 'won', 'just', 'very', \"shan't\", 'shouldnt', 'who', 'yourselves', 'she', 'such', 'do', 'above', 'while', 'him', 'further']\n"
     ]
    }
   ],
   "source": [
    "docs_all = list(df_all['transcript'])\n",
    "\n",
    "from nltk.corpus import stopwords\n",
    "\n",
    "stops_standard = stopwords.words('english')\n",
    "stops_custom = ['shes','youll','ill','yeah','th','yes','oh',\n",
    "                'ok','okay','might','ha','mr','bg','ms',\n",
    "                'mrs','ca','em','da','ted']+[re.sub('[^A-Za-z ]+', '', w) for w in stops_standard]\n",
    "stop_list = list(set(stops_standard + stops_custom))\n",
    "\n",
    "print(stop_list)"
   ]
  },
  {
   "cell_type": "code",
   "execution_count": 34,
   "metadata": {},
   "outputs": [
    {
     "name": "stdout",
     "output_type": "stream",
     "text": [
      "Extracting tf-idf features for NMF...\n",
      "done in 3.070s.\n",
      "Fitting the NMF model (Frobenius norm) with tf-idf features, n_samples=2000 and n_features=2000...\n",
      "done in 3.736s.\n",
      "\n",
      "Topics in NMF model (Frobenius norm):\n",
      "Topic #0: sleep sensor alzheimers clock teenager bed vessel waste meeting virtual\n",
      "Topic #1: patient surgery physician medicine treatment healthcare clinic nurse pain surgeon\n",
      "Topic #2: climate nuclear carbon emission ice fuel co solar coal gas\n",
      "Topic #3: robot leg ai robotic sensor intelligence motor ant artificial drone\n",
      "Topic #4: farmer farm fish feed bread agriculture seed meat organic pig\n",
      "Topic #5: universe particle theory quantum physic galaxy atom bang string physicist\n",
      "Topic #6: zoom facing exploring exposed express expression extent extra extract extraordinary\n",
      "Topic #7: dna gene genome genetic bacteria chromosome molecule sequence organism code\n",
      "Topic #8: cancer tumor breast blood treatment protein lung molecule medicine gene\n",
      "Topic #9: ocean fish sea coral shark reef whale marine underwater boat\n",
      "Topic #10: growth aid income poverty institution innovation bank sector worker entrepreneur\n",
      "Topic #11: india indian village toilet innovation pakistan china rural growth infrastructure\n",
      "Topic #12: mosquito malaria net blood insect gene bed smell organism microscope\n",
      "Topic #13: china chinese west asia east korea border western democracy japan\n",
      "Topic #14: plant seed insect soil flower root chemical crop leaf organism\n",
      "Topic #15: mar solar cave moon atmosphere mission nasa liquid ice exploration\n",
      "Topic #16: song sing singing musician hey tired string band played instrument\n",
      "Topic #17: female male gender insect character egg feminist sex breast daughter\n",
      "Topic #18: african continent nigeria corruption aid kenya sector leadership west ancestor\n",
      "Topic #19: muslim arab islam east al terrorism egypt tradition region terrorist\n",
      "Topic #20: forest carbon soil amazon river brazil ecosystem conservation park habitat\n",
      "Topic #21: sex sexual marriage worker partner desire gay pregnant romantic hiv\n",
      "Topic #22: painting artist paint museum sculpture drawing studio exhibition draw landscape\n",
      "Topic #23: fly wing flight flying airplane pilot plane vehicle bird engine\n",
      "Topic #24: digital mobile virtual interact interface software user app content magic\n",
      "Topic #25: oil gas coal fuel price carbon toxic peak growth sand\n",
      "Topic #26: democracy election vote citizen politics democratic candidate party revolution president\n",
      "Topic #27: film character shot hollywood director virtual actor artist soldier brand\n",
      "Topic #28: english speaker dictionary chinese sentence translate french village meaning native\n",
      "Topic #29: virus vaccine hiv flu epidemic infected infection immune bacteria treatment\n",
      "Topic #30: neuron memory electrical mouse disorder neural circuit molecule cortex nerve\n",
      "Topic #31: compassion suffering golden tradition bread empathy religious enemy dog stranger\n",
      "Topic #32: religion religious faith tradition christian jewish church belief darwin islam\n",
      "Topic #33: star telescope galaxy sun solar sky hole orbit atmosphere universe\n",
      "Topic #34: refugee camp border boat village european bomb rescue soldier training\n",
      "Topic #35: happiness self positive wellbeing pleasure emotion psychology meaning negative graph\n",
      "Topic #36: web page google link site wikipedia content click search website\n",
      "Topic #37: prison police justice prisoner crime jail criminal officer court judge\n",
      "Topic #38: algorithm math mathematical mathematician mathematics intelligence code predict cat bias\n",
      "Topic #39: architecture architect site client apartment construction tower library block urban\n",
      "Topic #40: plastic bottle waste bag bacteria ocean metal beach marine environmental\n",
      "Topic #41: pm leadership symptom tough equality equal stone foreign title spiritual\n",
      "Topic #42: bee flower colony insect uncertainty urban garden crop bat queen\n",
      "Topic #43: mom son trust skill creative memory dad vision letter leg\n",
      "Topic #44: cloud atmosphere rain wind sky storm sun unknown particle theater\n",
      "Topic #45: poem poetry poet written cry shadow hell smile hair dress\n",
      "Topic #46: designer designing exhibition prototype engineer fashion manufacturing chair genetic graphic\n",
      "Topic #47: monkey arm rat dog creature rational gene controlling robotic chimpanzee\n",
      "Topic #48: stem tissue bone organ dinosaur blood skin muscle vessel layer\n",
      "Topic #49: violence conflict peace afghanistan gun military soldier security weapon killed\n",
      "\n"
     ]
    }
   ],
   "source": [
    "docs = docs_all\n",
    "\n",
    "from time import time\n",
    "\n",
    "from sklearn.feature_extraction.text import TfidfVectorizer, CountVectorizer\n",
    "from sklearn.decomposition import NMF, LatentDirichletAllocation\n",
    "\n",
    "n_samples = 2000\n",
    "n_features = 2000\n",
    "n_components = 50\n",
    "n_top_words = 10\n",
    "n_gram = 1\n",
    "alpha = 0.1\n",
    "stop_choice= stop_list\n",
    "\n",
    "max_df = 300\n",
    "min_df = 10\n",
    "def print_top_words(model, feature_names, n_top_words):\n",
    "    for topic_idx, topic in enumerate(model.components_):\n",
    "        message = \"Topic #%d: \" % topic_idx\n",
    "        message += \" \".join([feature_names[i]\n",
    "                             for i in topic.argsort()[:-n_top_words - 1:-1]])\n",
    "        print(message)\n",
    "    print()\n",
    "\n",
    "\n",
    "# Use tf-idf features for NMF.\n",
    "print(\"Extracting tf-idf features for NMF...\")\n",
    "tfidf_vectorizer = TfidfVectorizer(max_df=max_df, min_df=min_df,\n",
    "                                   ngram_range=(n_gram,n_gram),\n",
    "                                   max_features=n_features,\n",
    "                                   stop_words=stop_choice)\n",
    "t0 = time()\n",
    "tfidf = tfidf_vectorizer.fit_transform(docs)\n",
    "print(\"done in %0.3fs.\" % (time() - t0))\n",
    "\n",
    "# Fit the NMF model\n",
    "print(\"Fitting the NMF model (Frobenius norm) with tf-idf features, \"\n",
    "      \"n_samples=%d and n_features=%d...\"\n",
    "      % (n_samples, n_features))\n",
    "t0 = time()\n",
    "nmf = NMF(n_components=n_components, random_state=1,\n",
    "          alpha=alpha, l1_ratio=.5).fit(tfidf)\n",
    "print(\"done in %0.3fs.\" % (time() - t0))\n",
    "\n",
    "print(\"\\nTopics in NMF model (Frobenius norm):\")\n",
    "tfidf_feature_names = tfidf_vectorizer.get_feature_names()\n",
    "print_top_words(nmf, tfidf_feature_names, n_top_words)"
   ]
  },
  {
   "cell_type": "code",
   "execution_count": 30,
   "metadata": {
    "collapsed": true
   },
   "outputs": [],
   "source": [
    "X = nmf.fit_transform(tfidf)\n"
   ]
  },
  {
   "cell_type": "code",
   "execution_count": 32,
   "metadata": {},
   "outputs": [
    {
     "data": {
      "text/plain": [
       "1"
      ]
     },
     "execution_count": 32,
     "metadata": {},
     "output_type": "execute_result"
    }
   ],
   "source": [
    "X[1000].argmax()"
   ]
  },
  {
   "cell_type": "code",
   "execution_count": null,
   "metadata": {
    "collapsed": true
   },
   "outputs": [],
   "source": []
  },
  {
   "cell_type": "markdown",
   "metadata": {},
   "source": [
    "### Find related talks"
   ]
  },
  {
   "cell_type": "code",
   "execution_count": 14,
   "metadata": {
    "collapsed": true
   },
   "outputs": [],
   "source": [
    "import sklearn.neighbors.kd_tree as kdtree"
   ]
  },
  {
   "cell_type": "code",
   "execution_count": 33,
   "metadata": {},
   "outputs": [
    {
     "name": "stdout",
     "output_type": "stream",
     "text": [
      "1000 \t A prosthetic arm that \"feels\"\n",
      "2264 \t Could a drug prevent depression and PTSD?\n",
      "686 \t A second opinion on developmental disorders\n",
      "901 \t The mystery of chronic pain\n",
      "1045 \t A prosthetic eye to treat blindness\n",
      "1343 \t A universal translator for surgeons\n",
      "602 \t How brains learn to see\n",
      "615 \t Take health care off the mainframe\n",
      "1117 \t Let's talk about dying\n",
      "506 \t What hallucination reveals about our minds\n",
      "443 \t Are we in control of our own decisions?\n",
      "399 \t Our buggy moral code\n",
      "1264 \t What doctors don't know about the drugs they prescribe\n",
      "1200 \t A tale of mental illness -- from the inside\n",
      "1752 \t A neural portrait of the human mind\n",
      "788 \t How I taught rats to sniff out land mines\n",
      "1048 \t There are no scraps of men\n",
      "2076 \t Simple hacks for life with Parkinson's\n",
      "2153 \t What can we learn from shortcuts?\n",
      "1334 \t Ethical riddles in HIV research\n"
     ]
    }
   ],
   "source": [
    "tree = kdtree.KDTree(X, leaf_size=10) \n",
    "N = 1000\n",
    "dist, ind = tree.query([X[N]], k=20)  \n",
    "for i in ind[0]:\n",
    "    print(i,'\\t',df_all.iloc[i].title)\n",
    "#     print(i,'\\t',df_all.iloc[i].views)\n",
    "#     print(df_all.iloc[i].tags)"
   ]
  },
  {
   "cell_type": "code",
   "execution_count": 25,
   "metadata": {},
   "outputs": [
    {
     "name": "stdout",
     "output_type": "stream",
     "text": [
      "['My 12 pairs of legs']\n",
      "395    3472415\n",
      "Name: views, dtype: int64\n",
      "['Luke, a new prosthetic arm for soldiers']\n",
      "134    1575699\n",
      "Name: views, dtype: int64\n",
      "['The potential of regenerative medicine']\n",
      "118    1427723\n",
      "Name: views, dtype: int64\n",
      "['The mystery of chronic pain']\n",
      "901    1778606\n",
      "Name: views, dtype: int64\n",
      "['The emotion behind invention']\n",
      "630    523422\n",
      "Name: views, dtype: int64\n",
      "['3 clues to understanding your brain']\n",
      "151    3930186\n",
      "Name: views, dtype: int64\n"
     ]
    }
   ],
   "source": [
    "df_related = pd.DataFrame(eval(df_all.iloc[N]['related_talks']))\n",
    "for k in range(len(df_related)):\n",
    "    print(list(df_all[df_all['title']==df_related.iloc[k]['title']].title))\n",
    "    print(df_all[df_all['title']==df_related.iloc[k]['title']].views)\n",
    "#     print(list(df_all[df_all['title']==df_related.iloc[k]['title']].tags))"
   ]
  },
  {
   "cell_type": "code",
   "execution_count": 28,
   "metadata": {
    "scrolled": false
   },
   "outputs": [
    {
     "name": "stdout",
     "output_type": "stream",
     "text": [
      "they only learn to be frightened of those difference when an adult influence them to behave that way and maybe censor that natural curiosity or you know rein in the questionasking in the hope of them being polite little kid. so i just pictured a first grade teacher out in the lobby with these unruly kid saying now whatever you do dont stare at her leg. but of course thats the point. thats why i wa there i wanted to invite them to look and explore. so i made a deal with the adult that the kid could come in without any adult for two minute on their own. the door open the kid descend on this table of leg and they are poking and prodding and theyre wiggling toe and theyre trying to put their full weight on the sprinting leg to see what happens with that. and i said kid really quickly i woke up this morning i decided i wanted to be able to jump over a house nothing too big two or three story but if you could think of any animal any superhero any cartoon character anything you can dream up right now what kind of leg would you build me. and immediately a voice shouted kangaroo. no no no. should be a frog. no. it should be go go gadget. no no no. it should be the incredibles. and other thing that i dont arent familiar with. and then one eightyearold said hey why wouldnt you want to fly too. and the whole room including me wa like yeah. and just like that i went from being a woman that these kid would have been trained to see a disabled to somebody that had potential that their body didnt have yet. somebody that might even be superabled. interesting. so some of you actually saw me at ted year ago. and there been a lot of talk about how lifechanging this conference is for both speaker and attendee and i am no exception. ted literally wa the launch pad to the next decade of my life exploration. at the time the leg i presented were groundbreaking in prosthetics. i had woven carbon fiber sprinting leg modeled after the hind leg of a cheetah which you may have seen on stage yesterday. and also these very lifelike intrinsically painted silicone leg. so at the time it wa my opportunity to put a call out to innovator outside the traditional medical prosthetic community to come bring their talent to the science and to the art of building leg. so that we can stop compartmentalizing form function and aesthetic and assigning them different value. well lucky for me a lot of people answered that call. and the journey started funny enough with a ted conference attendee chee pearlman who hopefully is in the audience somewhere today. she wa the editor then of a magazine called id and she gave me a cover story. this started an incredible journey. curious encounter were happening to me at the time id been accepting numerous invitation to speak on the design of the cheetah leg around the world. and people would come up to me after the conference after my talk men and woman. and the conversation would go something like this you know aimee youre very attractive. you dont look disabled. i thought well thats amazing because i dont feel disabled. and it really opened my eye to this conversation that could be explored about beauty. what doe a beautiful woman have to look like. what is a sexy body. and interestingly from an identity standpoint what doe it mean to have a disability. i mean people pamela anderson ha more prosthetic in her body than i do. nobody call her disabled. so this magazine through the hand of graphic designer peter saville went to fashion designer alexander mcqueen and photographer nick knight who were also interested in exploring that conversation. so three month after ted i found myself on a plane to london doing my first fashion shoot which resulted in this cover fashionable. three month after that i did my first runway show for alexander mcqueen on a pair of handcarved wooden leg made from solid ash. nobody knew everyone thought they were wooden boot. actually i have them on stage with me grapevine magnolia truly stunning. poetry matter. poetry is what elevates the banal and neglected object to a realm of art. it can transform the thing that might have made people fearful into something that invite them to look and look a little longer and maybe even understand. i learned this firsthand with my next adventure. the artist matthew barney in his film opus called the the cremaster cycle. this is where it really hit home for me that my leg could be wearable sculpture. and even at this point i started to move away from the need to replicate humanness a the only aesthetic ideal. so we made what people lovingly referred to a glass leg even though theyre actually optically clear polyurethane a k a bowling ball material. heavy. then we made these leg that are cast in soil with a potato root system growing in them and beetroot out the top and a very lovely brass toe. thats a good closeup of that one. then another character wa a halfwoman halfcheetah a little homage to my life a an athlete. hour of prosthetic makeup to get into a creature that had articulated paw claw and a tail that whipped around like a gecko. and then another pair of leg we collaborated on were these look like jellyfish leg also polyurethane. and the only purpose that these leg can serve outside the context of the film is to provoke the sens and ignite the imagination. so whimsy matter. today i have over a dozen pair of prosthetic leg that various people have made for me and with them i have different negotiation of the terrain under my foot and i can change my height i have a variable of five different height. today im. and i had these leg made a little over a year ago at dorset orthopedic in england and when i brought them home to manhattan my first night out on the town i went to a very fancy party. and a girl wa there who ha known me for year at my normal. her mouth dropped open when she saw me and she went but youre so tall. and i said i know. isnt it fun. i mean it a little bit like wearing stilt on stilt but i have an entirely new relationship to door jam that i never expected i would ever have. and i wa having fun with it. and she looked at me and she said but aimee thats not fair. and the incredible thing wa she really meant it. it not fair that you can change your height a you want it. and thats when i knew thats when i knew that the conversation with society ha changed profoundly in this last decade. it is no longer a conversation about overcoming deficiency. it a conversation about augmentation. it a conversation about potential. a prosthetic limb doesnt represent the need to replace loss anymore. it can stand a a symbol that the wearer ha the power to create whatever it is that they want to create in that space. so people that society once considered to be disabled can now become the architect of their own identity and indeed continue to change those identity by designing their body from a place of empowerment. and what is exciting to me so much right now is that by combining cuttingedge technology robotics bionics with the ageold poetry we are moving closer to understanding our collective humanity. i think that if we want to discover the full potential in our humanity we need to celebrate those heartbreaking strength and those glorious disability that we all have. i think of shakespeare shylock if you prick u do we not bleed and if you tickle u do we not laugh. it is our humanity and all the potential within it that make u beautiful\n"
     ]
    }
   ],
   "source": [
    "print(docs_all[395])"
   ]
  },
  {
   "cell_type": "markdown",
   "metadata": {},
   "source": [
    "### Clustering using KMeans"
   ]
  },
  {
   "cell_type": "code",
   "execution_count": 509,
   "metadata": {
    "collapsed": true
   },
   "outputs": [],
   "source": [
    "from sklearn.cluster import KMeans\n",
    "from sklearn import metrics\n",
    "from sklearn.metrics import pairwise_distances\n",
    "from sklearn.metrics import silhouette_score\n",
    "from sklearn import cluster\n",
    "\n",
    "n_clusters = 50\n",
    "\n",
    "# ward = cluster.AgglomerativeClustering(\n",
    "#     n_clusters=n_clusters, linkage='ward',\n",
    "#     connectivity=connectivity)\n",
    "spectral = cluster.SpectralClustering(\n",
    "    n_clusters=n_clusters, eigen_solver='arpack',\n",
    "    affinity=\"nearest_neighbors\")\n",
    "Xp = spectral.fit_predict(X)\n",
    "# dbscan = cluster.DBSCAN(eps=params['eps'])\n",
    "\n",
    "# km = KMeans(n_clusters=50)\n",
    "# Xt = km.fit_transform(X)\n",
    "\n",
    "# mu_docs = km.cluster_centers_\n",
    "# plt.plot(mu_docs.transpose())\n",
    "\n",
    "# silhouette_score(X, km.labels_, metric='euclidean')\n",
    "\n",
    "# sil_scores = []\n",
    "# iner_scores = []\n",
    "# ks = range(2,20)\n",
    "# for k in ks:\n",
    "#     km = KMeans(n_clusters=k)\n",
    "#     km.fit(X)\n",
    "#     sil_scores.append(silhouette_score(X, km.labels_, metric='euclidean'))\n",
    "#     iner_scores.append(km.inertia_)\n",
    "    \n",
    "# plt.plot(ks,sil_scores)\n",
    "# plt.plot(ks,iner_scores)"
   ]
  },
  {
   "cell_type": "code",
   "execution_count": 510,
   "metadata": {},
   "outputs": [
    {
     "data": {
      "text/plain": [
       "array([18, 29, 18, ..., 28, 18, 10], dtype=int32)"
      ]
     },
     "execution_count": 510,
     "metadata": {},
     "output_type": "execute_result"
    }
   ],
   "source": [
    "Xp."
   ]
  },
  {
   "cell_type": "code",
   "execution_count": 505,
   "metadata": {},
   "outputs": [
    {
     "name": "stdout",
     "output_type": "stream",
     "text": [
      "1599 \t Love -- you're doing it wrong\n",
      "2343 \t 3 ways to plan for the (very) long term\n",
      "2085 \t How to get back to work after a career break\n",
      "1395 \t What makes us feel good about our work?\n",
      "1135 \t How I beat a patent troll\n",
      "1872 \t How equal do we want the world to be? You'd be surprised\n",
      "1821 \t The danger of hiding who you are\n",
      "1870 \t 5 ways to kill your dreams\n",
      "1566 \t The $80 prosthetic knee that's changing lives\n",
      "609 \t Plug into your hard-wired happiness\n"
     ]
    }
   ],
   "source": [
    "tree = kdtree.KDTree(Xt, leaf_size=10) \n",
    "# N = 1346\n",
    "dist, ind = tree.query([Xt[N]], k=10)  \n",
    "for i in ind[0]:\n",
    "    print(i,'\\t',df_all.iloc[i].title)\n",
    "#     print(i,'\\t',df_all.iloc[i].views)\n",
    "#     print(df_all.iloc[i].tags)"
   ]
  },
  {
   "cell_type": "code",
   "execution_count": 506,
   "metadata": {},
   "outputs": [
    {
     "data": {
      "text/plain": [
       "'and theyd say great. and ive been seeing that time horizon get shorter and shorter and shorter so much so that i met with a ceo two month ago and i said we started our initial conversation. he go i love what you do. i want to talk about the next six month. we have a lot of problem that we are facing. these are civilizationalscale problem. the issue though is we cant solve them using the mental model that we use right now to try and solve these problem. yes a lot of great technical work is being done but there is a problem that we need to solve for a priori before if we want to really move the needle on those big problem. shorttermism. right. there no march. there no bracelet. there no petition that you can sign to be against shorttermism. i tried to put one up and no one signed. it wa weird. but it prevents u from doing so much. shorttermism for many reason ha pervaded every nook and cranny of our reality. i just want you to take a second and just think about an issue that youre thinking working on. it could be personal it could be at work or it could be movetheneedle world stuff and think about how far out you tend to think about the solution set for that. because shorttermism prevents the ceo from buying really expensive safety equipment. itll hurt the bottom line. so we get the deepwater horizon. shorttermism prevents teacher from spending quality oneonone time with their student. so right now in america a high school student drop out every second. shorttermism prevents congress sorry if there anyone in here from congress or not really that sorry from putting money into a real infrastructure bill. so what we get is the iw bridge collapse over the mississippi a few year ago killed. it wasnt always like this. we did the panama canal. we pretty much have eradicated global polio. we did the transcontinental railroad the marshall plan. and it not just big physical infrastructure problem and issue. woman suffrage the right to vote. but in our shorttermist time where everything seems to happen right now and we can only think out past the next tweet or timeline post we get hyperreactionary. so what do we do. we take people who are fleeing their wartorn country and we go after them. we take lowlevel drug offender and we put them away for life. and then we build mcmansions without even thinking about how people are going to get between them and their job. it a quick buck. now the reality is for a lot of these problem there are some technical fix a lot of them. i call these technical fix sandbag strategy. so you know there a storm coming the levee is broken no one put any money into it you surround your home with sandbag. and guess what. it work. storm go away the water level go down you get rid of the sandbag and you do this storm after storm after storm. and here the insidious thing. a sandbag strategy can get you reelected. a sandbag strategy can help you make your quarterly number. now if we want to move forward into a different future than the one we have right now because i dont think weve hit is not peak civilization. there some more we can do. but my argument is that unless we shift our mental model and our mental map on how we think about the short it not going to happen. so what ive developed is something called longpath and it a practice. and longpath isnt a kind of oneanddone exercise. im sure everyone here at some point ha done an offsite with a lot of postit note and whiteboards and you do no offense to the consultant in here who do that and you do a longterm plan and then two week later everyone forgets about it. right. or a week later. if youre lucky three month. it a practice because it not necessarily a thing that you do. it a process where you have to revisit different way of thinking for every major decision that youre working on. so i want to go through those three way of thinking. so the first transgenerational thinking. i love the philosopher plato socrates habermas heidegger. i wa raised on them. but they all did one thing that didnt actually seem like a big deal until i really started kind of looking into this. and they all took a a unit of measure for their entire reality of what it meant to be virtuous and good the single lifespan from birth to death. but here a problem with these issue they stack up on top of u because the only way we know how to do something good in the world is if we do it between our birth and our death. thats what were programmed to do. if you go to the selfhelp section in any bookstore it all about you. which is great unless youre dealing with some of these major issue. and so with transgenerational thinking which is really kind of transgenerational ethic youre able to expand how you think about these problem what is your role in helping to solve them. now this isnt something that just ha to be done at the security council chamber. it something that you can do in a very kind of personal way. so every once in a while if im lucky my wife and i like to go out to dinner and we have three child under the age of seven. so you can imagine it a very peaceful quiet meal. so we sit down and literally all i want to do is just eat and chill and my kid have a completely and totally different idea of what were going to be doing. and so my first idea is my sandbag strategy right. it to go into my pocket and take out the iphone and give them frozen or some other bestselling game thing. and then i stop and i have to kind of put on this transgenerational thinking cap. i dont do this in the restaurant because it would be bizarre but i have to i did it once and thats how i learned it wa bizarre. and you have to kind of think ok i can do this. but what is this teaching them. so what doe it mean if i actually bring some paper or engage with them in conversation. it hard. it not easy and im making this very personal. it actually more traumatic than some of the big issue that i work on in the world entertaining my kid at dinner. but what it doe is it connects them here in the present with me but it also and this is the crux of transgenerational thinking ethic it set them up to how theyre going to interact with their kid and their kid and their kid. second future thinking. when we think about the future year out give me a vision of what the future is. you dont have to give it to me but think in your head. and what youre probably going to see is the dominant cultural lens that dominates our thinking about the future right now technology. so when we think about the problem we always put it through a technological lens a techcentric a technoutopia and there nothing wrong with that but it something that we have to really think deeply about if were going to move on these major issue because it wasnt always like this. right. the ancient had their way of thinking about what the future wa. the church definitely had their idea of what the future could be and you could actually pay your way into that future. right. and luckily for humanity we got the scientific revolution. from there we got the technology but what ha happened and by the way this is not a critique. i love technology. everything in my house talk back to me from my child to my speaker to everything. but weve abdicated the future from the high priest in rome to the high priest of silicon valley. so when we think well how are we going to deal with climate or with poverty or homelessness our first reaction is to think about it through a technology lens. and look im not advocating that we go to this guy. i love joel dont get me wrong but im not saying we go to joel. what im saying is we have to rethink our base assumption about only looking at the future in one way only looking at it through the dominant lens. because our problem are so big and so vast that we need to open ourselves up. so thats why i do everything in my power not to talk about the future. i talk about future. it open the conversation again. so when youre sitting and thinking about how do we move forward on this major issue it could be at home it could be at work it could be again on the global stage dont cut yourself off from thinking about something beyond technology a a fix because were more concerned about technological evolution right now than we are about moral evolution. and unless we fix for that were not going to be able to get out of shorttermism and get to where we want to be. the final telos thinking. this come from the greek root. ultimate aim and ultimate purpose. and it really asking one question to what end. when wa the last time you asked yourself to what end. and when you asked yourself that how far out did you go. because long isnt long enough anymore. three five year doesnt cut it. it year. in homer epic the odyssey odysseus had the answer to his what end. it wa ithaca. it wa this bold vision of what he wanted to return to penelope. and i can tell you because of the work that im doing but also you know it intuitively we have lost our ithaca. we have lost our to what end so we stay on this hamster wheel. and yes were trying to solve these problem but what come after we solve the problem. and unless you define what come after people arent going to move. the business this isnt just about business but the business that do consistently who break out of shorttermism not surprisingly are familyrun business. theyre transgenerational. theyre telos. they think about the future. and this is an ad for patek philippe. theyre year old and whats amazing is that they literally embody this kind of longpathian sense in their brand because by the way you never actually own a patek philippe and i definitely wont unless somebody want to just throw dollar on the stage. you merely look after it for the next generation. so it important that we remember the future we treat it like a noun. it not. it a verb. it requires action. it requires u to push into it. it not this thing that wash over u. it something that we actually have total control over. but in a shortterm society we end up feeling like we dont. we feel like were trapped. we can push through that. now im getting more comfortable in the fact that at some point in the inevitable future i will die. but because of these new way of thinking and doing both in the outside world and also with my family at home and what im leaving my kid i get more comfortable in that fact. and it something that a lot of u are really uncomfortable with but im telling you think it through. apply this type of thinking and you can push yourself past whats inevitably very very uncomfortable. and it all begin really with yourself asking this question what is your longpath. but i ask you when you ask yourself that now or tonight or behind a steering wheel or in the boardroom or the situation room push past the longpath quick oh whats my longpath the next three year or five year. try and push past your own life if you can because it make you do thing a little bit bigger than you thought were possible. yes we have huge huge problem out there. with this process with this thinking i think we can make a difference. i think you can make a difference and i believe in you guy'"
      ]
     },
     "execution_count": 506,
     "metadata": {},
     "output_type": "execute_result"
    }
   ],
   "source": [
    "df_all.iloc[2343].transcript"
   ]
  },
  {
   "cell_type": "code",
   "execution_count": null,
   "metadata": {
    "collapsed": true
   },
   "outputs": [],
   "source": []
  }
 ],
 "metadata": {
  "kernelspec": {
   "display_name": "Python 3",
   "language": "python",
   "name": "python3"
  },
  "language_info": {
   "codemirror_mode": {
    "name": "ipython",
    "version": 3
   },
   "file_extension": ".py",
   "mimetype": "text/x-python",
   "name": "python",
   "nbconvert_exporter": "python",
   "pygments_lexer": "ipython3",
   "version": "3.6.3"
  }
 },
 "nbformat": 4,
 "nbformat_minor": 2
}
