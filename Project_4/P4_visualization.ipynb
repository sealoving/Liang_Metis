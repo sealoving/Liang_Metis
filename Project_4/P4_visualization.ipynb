{
 "cells": [
  {
   "cell_type": "code",
   "execution_count": 7,
   "metadata": {
    "collapsed": true
   },
   "outputs": [],
   "source": [
    "import re\n",
    "import pandas as pd\n",
    "import numpy as np\n",
    "import nltk\n",
    "import matplotlib.pyplot as plt\n",
    "%matplotlib inline"
   ]
  },
  {
   "cell_type": "code",
   "execution_count": 8,
   "metadata": {},
   "outputs": [
    {
     "name": "stdout",
     "output_type": "stream",
     "text": [
      "2524\n"
     ]
    },
    {
     "data": {
      "text/html": [
       "<div>\n",
       "<style>\n",
       "    .dataframe thead tr:only-child th {\n",
       "        text-align: right;\n",
       "    }\n",
       "\n",
       "    .dataframe thead th {\n",
       "        text-align: left;\n",
       "    }\n",
       "\n",
       "    .dataframe tbody tr th {\n",
       "        vertical-align: top;\n",
       "    }\n",
       "</style>\n",
       "<table border=\"1\" class=\"dataframe\">\n",
       "  <thead>\n",
       "    <tr style=\"text-align: right;\">\n",
       "      <th></th>\n",
       "      <th>comments</th>\n",
       "      <th>description</th>\n",
       "      <th>duration</th>\n",
       "      <th>event</th>\n",
       "      <th>film_date</th>\n",
       "      <th>languages</th>\n",
       "      <th>link</th>\n",
       "      <th>main_speaker</th>\n",
       "      <th>name</th>\n",
       "      <th>num_speaker</th>\n",
       "      <th>published_date</th>\n",
       "      <th>ratings</th>\n",
       "      <th>related_talks</th>\n",
       "      <th>speaker_occupation</th>\n",
       "      <th>tags</th>\n",
       "      <th>title</th>\n",
       "      <th>transcript</th>\n",
       "      <th>url</th>\n",
       "      <th>views</th>\n",
       "    </tr>\n",
       "  </thead>\n",
       "  <tbody>\n",
       "    <tr>\n",
       "      <th>0</th>\n",
       "      <td>4553.0</td>\n",
       "      <td>Sir Ken Robinson makes an entertaining and pro...</td>\n",
       "      <td>1164.0</td>\n",
       "      <td>TED2006</td>\n",
       "      <td>1.140826e+09</td>\n",
       "      <td>60.0</td>\n",
       "      <td>NaN</td>\n",
       "      <td>Ken Robinson</td>\n",
       "      <td>Ken Robinson: Do schools kill creativity?</td>\n",
       "      <td>1.0</td>\n",
       "      <td>1.151367e+09</td>\n",
       "      <td>[{'id': 7, 'name': 'Funny', 'count': 19645}, {...</td>\n",
       "      <td>[{'id': 865, 'hero': 'https://pe.tedcdn.com/im...</td>\n",
       "      <td>Author/educator</td>\n",
       "      <td>['children', 'creativity', 'culture', 'dance',...</td>\n",
       "      <td>Do schools kill creativity?</td>\n",
       "      <td>it been great hasnt it. ive been blown away by...</td>\n",
       "      <td>https://www.ted.com/talks/ken_robinson_says_sc...</td>\n",
       "      <td>47227110.0</td>\n",
       "    </tr>\n",
       "  </tbody>\n",
       "</table>\n",
       "</div>"
      ],
      "text/plain": [
       "   comments                                        description  duration  \\\n",
       "0    4553.0  Sir Ken Robinson makes an entertaining and pro...    1164.0   \n",
       "\n",
       "     event     film_date  languages link  main_speaker  \\\n",
       "0  TED2006  1.140826e+09       60.0  NaN  Ken Robinson   \n",
       "\n",
       "                                        name  num_speaker  published_date  \\\n",
       "0  Ken Robinson: Do schools kill creativity?          1.0    1.151367e+09   \n",
       "\n",
       "                                             ratings  \\\n",
       "0  [{'id': 7, 'name': 'Funny', 'count': 19645}, {...   \n",
       "\n",
       "                                       related_talks speaker_occupation  \\\n",
       "0  [{'id': 865, 'hero': 'https://pe.tedcdn.com/im...    Author/educator   \n",
       "\n",
       "                                                tags  \\\n",
       "0  ['children', 'creativity', 'culture', 'dance',...   \n",
       "\n",
       "                         title  \\\n",
       "0  Do schools kill creativity?   \n",
       "\n",
       "                                          transcript  \\\n",
       "0  it been great hasnt it. ive been blown away by...   \n",
       "\n",
       "                                                 url       views  \n",
       "0  https://www.ted.com/talks/ken_robinson_says_sc...  47227110.0  "
      ]
     },
     "execution_count": 8,
     "metadata": {},
     "output_type": "execute_result"
    }
   ],
   "source": [
    "df_all = pd.read_pickle('./data/df_all_lemma.pkl')\n",
    "print(len(df_all))\n",
    "df_all.head(1)"
   ]
  },
  {
   "cell_type": "code",
   "execution_count": 9,
   "metadata": {},
   "outputs": [
    {
     "name": "stdout",
     "output_type": "stream",
     "text": [
      "['wouldn', 'your', 'ca', 've', 'pm', 'should', 'why', 'ted', 'after', 'neednt', 'themselves', 'it', 'now', 'while', 'are', 'ok', 'wont', 'don', 'to', 'didnt', 'hasnt', 'yourself', 'yourselves', 'once', 'below', 'or', \"you'll\", 'shant', 'you', 'as', 'between', \"isn't\", \"mustn't\", 'how', 'out', 'have', \"won't\", 'of', \"shan't\", 'mrs', 'mustnt', 'them', 'from', 'him', 'those', 'further', 'such', 'too', 'ain', 'al', 'in', 'th', 'off', 'with', 'my', 'youre', \"mightn't\", 'more', 'em', 'our', 'haven', 'against', 'most', 'for', 'youve', 'was', 'wouldnt', 'we', 'only', 'oh', 'mightnt', 'who', 'just', 'here', 'under', 'doesnt', 'very', \"hadn't\", 'm', \"aren't\", 'myself', 'during', 'what', 'is', 'when', \"wouldn't\", 'over', 'isn', 'wasn', 'down', 'weren', 'might', \"wasn't\", 'then', 'shouldve', 'shes', 'dont', 'above', \"that'll\", 'up', 'me', 'about', 'his', 'no', 'll', 'own', 're', 'having', 'yes', 's', 'herself', \"doesn't\", 'any', 'whom', 'because', 'won', 'y', 'were', 'few', 'okay', 'i', 'ms', 'these', 'couldnt', 'had', 'do', \"she's\", 'shan', 'been', 'where', 'youll', 'youd', \"don't\", 'than', 'before', 'same', 'needn', 'hers', \"you'd\", \"it's\", 'at', 'there', \"you've\", 'hadn', 'mightn', 'again', 'shouldn', 'other', 'can', 'o', 'a', 'both', 'on', 'ma', 'be', 'she', 'couldn', 'this', 'mustn', \"should've\", 'itself', 'he', \"weren't\", 'am', 'da', 'did', 'werent', 'nor', 'an', 'her', 'not', 'if', 'himself', 'hey', 'd', 'all', \"hasn't\", 'yours', 'the', 'havent', 'into', 'so', 'isnt', 'they', 'which', 'but', 'by', 'that', 'hasn', 'bg', 'theirs', \"haven't\", 'doesn', 'wasnt', 'each', 'ha', 'will', 'being', \"shouldn't\", \"couldn't\", 'its', 'hadnt', 'didn', 'doing', 't', 'their', 'some', \"didn't\", 'does', 'thatll', 'shouldnt', 'has', 'ourselves', 'and', 'mr', 'yeah', 'until', 'through', 'aren', \"you're\", 'arent', 'ill', \"needn't\", 'ours']\n"
     ]
    }
   ],
   "source": [
    "docs_all = list(df_all['transcript'])\n",
    "\n",
    "from nltk.corpus import stopwords\n",
    "\n",
    "stops_standard = stopwords.words('english')\n",
    "stops_custom = ['shes','youll','ill','yeah','th','yes','oh',\n",
    "                'ok','okay','might','ha','mr','bg','ms',\n",
    "                'mrs','ca','em','da','ted','pm','hey','al']+[re.sub('[^A-Za-z ]+', '', w) for w in stops_standard]\n",
    "stop_list = list(set(stops_standard + stops_custom))\n",
    "\n",
    "print(stop_list)"
   ]
  },
  {
   "cell_type": "code",
   "execution_count": 30,
   "metadata": {},
   "outputs": [
    {
     "name": "stdout",
     "output_type": "stream",
     "text": [
      "Extracting tf-idf features for LSA...\n",
      "done in 2.689s.\n",
      "Fitting LDA models with tf features, n_samples=2000 and n_features=2000...\n",
      "done in 0.437s.\n",
      "\n",
      "Topics in LSA model:\n",
      "Topic #0: city brain data water community design book company space computer\n",
      "Topic #1: brain cell animal planet water cancer earth robot universe light\n",
      "Topic #2: city water planet energy ocean earth climate space oil sea\n",
      "Topic #3: cancer cell patient disease health drug government africa dollar data\n",
      "Topic #4: data computer robot information machine company design internet government phone\n",
      "Topic #5: city design cancer patient cell car architecture street neighborhood space\n",
      "Topic #6: brain city neuron cortex memory region area neighborhood street activity\n",
      "Topic #7: robot water animal food fish machine plant leg girl ocean\n",
      "Topic #8: music sound song food play water africa plant business musician\n",
      "Topic #9: music robot cell war cancer democracy government sound song political\n",
      "Topic #10: music patient car universe sound health energy robot data doctor\n",
      "Topic #11: data ocean information fish sea water animal coral shark internet\n",
      "Topic #12: girl cell car city boy men music data dna energy\n",
      "Topic #13: city student data teacher education music africa community language learning\n",
      "Topic #14: africa girl african light aid brain data image design cell\n",
      "Topic #15: student teacher cancer cell education video ocean water government game\n",
      "Topic #16: game girl design men video play sex company ocean social\n",
      "Topic #17: cancer africa art artist image african book painting tumor girl\n",
      "Topic #18: water cancer girl energy book brain data food robot plant\n",
      "Topic #19: game machine video cancer war play africa computer plant forest\n",
      "Topic #20: food company universe planet community mar internet robot plant business\n",
      "Topic #21: food plant data art game black artist image video student\n",
      "Topic #22: food universe fish ocean cancer machine war computer galaxy shark\n",
      "Topic #23: data game water cell africa design play god african mar\n",
      "Topic #24: machine dna art water computer genome gene music virus cancer\n",
      "Topic #25: water sex machine universe city disease game patient health video\n",
      "Topic #26: water cancer africa forest car tree african universe data tumor\n",
      "Topic #27: machine forest patient tree company cell business data girl universe\n",
      "Topic #28: machine food cell community compassion social black farmer mar voice\n",
      "Topic #29: baby language art sound dna mother india artist light health\n",
      "Topic #30: mar water car planet india earth language english image drug\n",
      "Topic #31: car community compassion book forest religion god oil design image\n",
      "Topic #32: car government patient girl art democracy african election information africa\n",
      "Topic #33: language black game men english prison sound computer african africa\n",
      "Topic #34: language refugee girl car english film war community patient company\n",
      "Topic #35: black film dna chinese baby patient video community china genome\n",
      "Topic #36: baby language machine sex internet drug art cell film site\n",
      "Topic #37: baby light book information mother city machine image planet choice\n",
      "Topic #38: compassion light god religion animal city company religious film plant\n",
      "Topic #39: film voice sound city drug disease girl medium company design\n",
      "Topic #40: art dna phone china war company student sex chinese internet\n",
      "Topic #41: light book fear animal dance energy social plant internet disease\n",
      "Topic #42: baby space book god black company information voice men mother\n",
      "Topic #43: space oil video song death architecture material light girl drug\n",
      "Topic #44: film machine phone information universe india movie government language design\n",
      "Topic #45: film plant sex space movie light bee play ocean coral\n",
      "Topic #46: image compassion happiness company government music india information chinese computer\n",
      "Topic #47: song animal black community dance choice film information nuclear phone\n",
      "Topic #48: oil animal refugee space project computer forest sound water health\n",
      "Topic #49: song ice animal computer food project light science dna sex\n",
      "Topic #50: men song video project choice dna science food coral fly\n",
      "Topic #51: song plant sound india voice community project prison oil book\n",
      "Topic #52: drug happiness gene plant book computer father space mother compassion\n",
      "Topic #53: drug material forest plastic science food india baby paper phone\n",
      "Topic #54: refugee oil song camp fear fly boat design mother computer\n",
      "Topic #55: social men network compassion material medium prison mar film violence\n",
      "Topic #56: project video computer death plant india nuclear choice disease election\n",
      "Topic #57: refugee government black compassion science material nuclear camp happiness dinosaur\n",
      "Topic #58: song happiness sex information peace book leg happy dance vaccine\n",
      "Topic #59: song project plastic network god phone material gene image religion\n",
      "Topic #60: sex government fly plastic girl image dna video black book\n",
      "Topic #61: ice health song material happiness company compassion girl cave death\n",
      "Topic #62: happiness oil community science information map bee government video depression\n",
      "Topic #63: choice voice fly virus film material mar bee happiness nuclear\n",
      "Topic #64: project china chinese air fish model refugee company climate mar\n",
      "Topic #65: bee object men virus baby global leader chinese plastic community\n",
      "Topic #66: vaccine virus object social autism nuclear machine prison mar father\n",
      "Topic #67: choice government image men play father dance object voice site\n",
      "Topic #68: happiness self muslim surgery baby india device oil prison air\n",
      "Topic #69: choice map government oil autism teacher play gene chinese plastic\n",
      "Topic #70: play india religion song plastic social medium dinosaur stuff dance\n",
      "Topic #71: voice dinosaur nuclear map model disease cloud game refugee prison\n",
      "Topic #72: compassion bee play information cloud society father poem paper trust\n",
      "Topic #73: bee violence compassion choice ice medium space male female dollar\n",
      "Topic #74: dance poem poetry ice bee baby prison drug refugee device\n",
      "Topic #75: bee india gay dinosaur dna self autism company teacher patient\n",
      "Topic #76: network plant medium student information map worker business social violence\n",
      "Topic #77: dinosaur dna paper plant government trust sound sex film fold\n",
      "Topic #78: leader molecule bacteria drug mar leadership specie gay sleep death\n",
      "Topic #79: india video intelligence memory plastic air social war autism indian\n",
      "Topic #80: cloud play fear bee sleep mar air muslim rule black\n",
      "Topic #81: autism gene worker bee paper choice voice web religion chinese\n",
      "Topic #82: dance network cave space black india mosquito mother nuclear surgery\n",
      "Topic #83: autism dinosaur poem poetry play map page mar cave air\n",
      "Topic #84: plastic bee disease dance consciousness business sound self photo reality\n",
      "Topic #85: cloud muslim american company dance plastic disease america gay air\n",
      "Topic #86: sleep self voice oil sensor device gene law patent gay\n",
      "Topic #87: map value dna bee boy fish play market moral english\n",
      "Topic #88: company network god nuclear self memory map law sleep police\n",
      "Topic #89: nuclear mosquito poem phone drug surgery news medium fish video\n",
      "Topic #90: mar object dna voice female character mosquito ocean black poem\n",
      "Topic #91: web memory page neuron model video poor poverty science aid\n",
      "Topic #92: father sleep cave medium dance bee news compassion fish phone\n",
      "Topic #93: god chinese painting refugee color death age violence poem older\n",
      "Topic #94: gay parent air growth boy paper whale disease fly worker\n",
      "Topic #95: fish model painting health product photo mother rule project clothes\n",
      "Topic #96: coral memory student bacteria society photo monkey tree plastic mosquito\n",
      "Topic #97: model sleep female cloud space dream male satellite star attention\n",
      "Topic #98: memory neuron democracy tree happiness value cave cloud attention surgery\n",
      "Topic #99: gay dinosaur movement material memory whale leader dream self value\n",
      "\n"
     ]
    }
   ],
   "source": [
    "docs = docs_all\n",
    "\n",
    "from time import time\n",
    "\n",
    "from sklearn.feature_extraction.text import TfidfVectorizer, CountVectorizer\n",
    "from sklearn.decomposition import NMF, LatentDirichletAllocation, TruncatedSVD\n",
    "from sklearn.preprocessing import Normalizer\n",
    "\n",
    "\n",
    "n_samples = 2000\n",
    "n_features = 2000\n",
    "n_components = 100\n",
    "n_top_words = 10\n",
    "n_gram = 1\n",
    "alpha = 0.1\n",
    "stop_choice= stop_list\n",
    "\n",
    "max_df = 0.3\n",
    "min_df = 5\n",
    "def print_top_words(model, feature_names, n_top_words):\n",
    "    for topic_idx, topic in enumerate(model.components_):\n",
    "        message = \"Topic #%d: \" % topic_idx\n",
    "        message += \" \".join([feature_names[i]\n",
    "                             for i in topic.argsort()[:-n_top_words - 1:-1]])\n",
    "        print(message)\n",
    "    print()\n",
    "\n",
    "\n",
    "# Use tf-idf features for LSA.\n",
    "print(\"Extracting tf-idf features for LSA...\")\n",
    "tfidf_vectorizer = TfidfVectorizer(max_df=max_df, min_df=min_df,\n",
    "                                   ngram_range=(n_gram,n_gram),\n",
    "                                   max_features=n_features,\n",
    "                                   stop_words=stop_choice)\n",
    "t0 = time()\n",
    "tfidf = tfidf_vectorizer.fit_transform(docs)\n",
    "print(\"done in %0.3fs.\" % (time() - t0))\n",
    "\n",
    "# Fit the LDA model\n",
    "print(\"Fitting LDA models with tf features, \"\n",
    "      \"n_samples=%d and n_features=%d...\"\n",
    "      % (n_samples, n_features))\n",
    "lsa = TruncatedSVD(n_components=n_components, algorithm = 'randomized',random_state=1)\n",
    "t0 = time()\n",
    "lsa.fit(tfidf)\n",
    "print(\"done in %0.3fs.\" % (time() - t0))\n",
    "\n",
    "print(\"\\nTopics in LSA model:\")\n",
    "tfidf_feature_names = tfidf_vectorizer.get_feature_names()\n",
    "print_top_words(lsa, tfidf_feature_names, n_top_words)"
   ]
  },
  {
   "cell_type": "code",
   "execution_count": 31,
   "metadata": {
    "collapsed": true
   },
   "outputs": [],
   "source": [
    "X = lsa.fit_transform(tfidf)\n",
    "X = Normalizer(copy=False).fit_transform(X)\n"
   ]
  },
  {
   "cell_type": "code",
   "execution_count": 32,
   "metadata": {},
   "outputs": [],
   "source": [
    "# np.savetxt('./data/lsa_data_100.tsv', X, delimiter='\\t',newline='\\n')\n",
    "# Xlabel = list(df_all.title)\n",
    "# with open('./data/lsa_meta_100.tsv', 'w') as file:\n",
    "#     for label in Xlabel:\n",
    "#         file.write(label+'\\n')"
   ]
  },
  {
   "cell_type": "code",
   "execution_count": null,
   "metadata": {
    "collapsed": true
   },
   "outputs": [],
   "source": []
  },
  {
   "cell_type": "code",
   "execution_count": null,
   "metadata": {
    "collapsed": true
   },
   "outputs": [],
   "source": []
  },
  {
   "cell_type": "markdown",
   "metadata": {},
   "source": [
    "### Find related talks"
   ]
  },
  {
   "cell_type": "code",
   "execution_count": 21,
   "metadata": {
    "collapsed": true
   },
   "outputs": [],
   "source": [
    "import sklearn.neighbors.kd_tree as kdtree"
   ]
  },
  {
   "cell_type": "code",
   "execution_count": 22,
   "metadata": {},
   "outputs": [
    {
     "name": "stdout",
     "output_type": "stream",
     "text": [
      "1 \t Averting the climate crisis\n",
      "2370 \t A climate solution where all sides can win\n",
      "1977 \t Climate change is happening. Here's how we adapt\n",
      "1970 \t Why climate change is a threat to human rights\n",
      "210 \t New thinking on the climate crisis\n",
      "157 \t A critical look at geoengineering against climate change\n",
      "108 \t Salvation (and profit) in greentech\n",
      "2077 \t This country isn't just carbon neutral -- it's carbon negative\n",
      "2063 \t The case for optimism on climate change\n",
      "2105 \t The inside story of the Paris climate agreement\n",
      "2114 \t A provocative way to finance the fight against climate change\n",
      "1267 \t Let's prepare for our new climate\n",
      "1103 \t Why I must speak out about climate change\n",
      "958 \t The shareable future of cities\n",
      "2178 \t A small country with big ideas to get rid of fossil fuels\n",
      "1744 \t The state of the climate — and what we might do about it\n",
      "723 \t Let the environment guide our development\n",
      "552 \t Global ethic vs. national interest\n",
      "436 \t What comes after An Inconvenient Truth?\n",
      "442 \t The business logic of sustainability\n"
     ]
    }
   ],
   "source": [
    "tree = kdtree.KDTree(X, leaf_size=10) \n",
    "N = 1\n",
    "dist, ind = tree.query([X[N]], k=20)  \n",
    "for i in ind[0]:\n",
    "    print(i,'\\t',df_all.iloc[i].title)\n",
    "#     print(i,'\\t',df_all.iloc[i].views)\n",
    "#     print(df_all.iloc[i].tags)"
   ]
  },
  {
   "cell_type": "code",
   "execution_count": 23,
   "metadata": {},
   "outputs": [
    {
     "name": "stdout",
     "output_type": "stream",
     "text": [
      "['New thinking on the climate crisis']\n",
      "['The business logic of sustainability']\n",
      "['The state of the climate — and what we might do about it']\n",
      "['A climate solution where all sides can win']\n",
      "[\"Climate change is happening. Here's how we adapt\"]\n",
      "['Why climate change is a threat to human rights']\n"
     ]
    }
   ],
   "source": [
    "df_related = pd.DataFrame(eval(df_all.iloc[N]['related_talks']))\n",
    "for k in range(len(df_related)):\n",
    "    print(list(df_all[df_all['title']==df_related.iloc[k]['title']].title))\n",
    "#     print(df_all[df_all['title']==df_related.iloc[k]['title']].views)\n",
    "#     print(list(df_all[df_all['title']==df_related.iloc[k]['title']].tags))"
   ]
  }
 ],
 "metadata": {
  "kernelspec": {
   "display_name": "Python 3",
   "language": "python",
   "name": "python3"
  },
  "language_info": {
   "codemirror_mode": {
    "name": "ipython",
    "version": 3
   },
   "file_extension": ".py",
   "mimetype": "text/x-python",
   "name": "python",
   "nbconvert_exporter": "python",
   "pygments_lexer": "ipython3",
   "version": "3.6.3"
  }
 },
 "nbformat": 4,
 "nbformat_minor": 2
}
