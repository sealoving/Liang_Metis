{
 "cells": [
  {
   "cell_type": "code",
   "execution_count": 3,
   "metadata": {
    "collapsed": true
   },
   "outputs": [],
   "source": [
    "import re\n",
    "import pandas as pd\n",
    "import numpy as np\n",
    "import nltk\n",
    "import matplotlib.pyplot as plt\n",
    "%matplotlib inline"
   ]
  },
  {
   "cell_type": "code",
   "execution_count": 4,
   "metadata": {},
   "outputs": [
    {
     "name": "stdout",
     "output_type": "stream",
     "text": [
      "2524\n"
     ]
    },
    {
     "data": {
      "text/html": [
       "<div>\n",
       "<style>\n",
       "    .dataframe thead tr:only-child th {\n",
       "        text-align: right;\n",
       "    }\n",
       "\n",
       "    .dataframe thead th {\n",
       "        text-align: left;\n",
       "    }\n",
       "\n",
       "    .dataframe tbody tr th {\n",
       "        vertical-align: top;\n",
       "    }\n",
       "</style>\n",
       "<table border=\"1\" class=\"dataframe\">\n",
       "  <thead>\n",
       "    <tr style=\"text-align: right;\">\n",
       "      <th></th>\n",
       "      <th>comments</th>\n",
       "      <th>description</th>\n",
       "      <th>duration</th>\n",
       "      <th>event</th>\n",
       "      <th>film_date</th>\n",
       "      <th>languages</th>\n",
       "      <th>link</th>\n",
       "      <th>main_speaker</th>\n",
       "      <th>name</th>\n",
       "      <th>num_speaker</th>\n",
       "      <th>published_date</th>\n",
       "      <th>ratings</th>\n",
       "      <th>related_talks</th>\n",
       "      <th>speaker_occupation</th>\n",
       "      <th>tags</th>\n",
       "      <th>title</th>\n",
       "      <th>transcript</th>\n",
       "      <th>url</th>\n",
       "      <th>views</th>\n",
       "    </tr>\n",
       "  </thead>\n",
       "  <tbody>\n",
       "    <tr>\n",
       "      <th>0</th>\n",
       "      <td>4553.0</td>\n",
       "      <td>Sir Ken Robinson makes an entertaining and pro...</td>\n",
       "      <td>1164.0</td>\n",
       "      <td>TED2006</td>\n",
       "      <td>1.140826e+09</td>\n",
       "      <td>60.0</td>\n",
       "      <td>NaN</td>\n",
       "      <td>Ken Robinson</td>\n",
       "      <td>Ken Robinson: Do schools kill creativity?</td>\n",
       "      <td>1.0</td>\n",
       "      <td>1.151367e+09</td>\n",
       "      <td>[{'id': 7, 'name': 'Funny', 'count': 19645}, {...</td>\n",
       "      <td>[{'id': 865, 'hero': 'https://pe.tedcdn.com/im...</td>\n",
       "      <td>Author/educator</td>\n",
       "      <td>['children', 'creativity', 'culture', 'dance',...</td>\n",
       "      <td>Do schools kill creativity?</td>\n",
       "      <td>it been great hasnt it. ive been blown away by...</td>\n",
       "      <td>https://www.ted.com/talks/ken_robinson_says_sc...</td>\n",
       "      <td>47227110.0</td>\n",
       "    </tr>\n",
       "  </tbody>\n",
       "</table>\n",
       "</div>"
      ],
      "text/plain": [
       "   comments                                        description  duration  \\\n",
       "0    4553.0  Sir Ken Robinson makes an entertaining and pro...    1164.0   \n",
       "\n",
       "     event     film_date  languages link  main_speaker  \\\n",
       "0  TED2006  1.140826e+09       60.0  NaN  Ken Robinson   \n",
       "\n",
       "                                        name  num_speaker  published_date  \\\n",
       "0  Ken Robinson: Do schools kill creativity?          1.0    1.151367e+09   \n",
       "\n",
       "                                             ratings  \\\n",
       "0  [{'id': 7, 'name': 'Funny', 'count': 19645}, {...   \n",
       "\n",
       "                                       related_talks speaker_occupation  \\\n",
       "0  [{'id': 865, 'hero': 'https://pe.tedcdn.com/im...    Author/educator   \n",
       "\n",
       "                                                tags  \\\n",
       "0  ['children', 'creativity', 'culture', 'dance',...   \n",
       "\n",
       "                         title  \\\n",
       "0  Do schools kill creativity?   \n",
       "\n",
       "                                          transcript  \\\n",
       "0  it been great hasnt it. ive been blown away by...   \n",
       "\n",
       "                                                 url       views  \n",
       "0  https://www.ted.com/talks/ken_robinson_says_sc...  47227110.0  "
      ]
     },
     "execution_count": 4,
     "metadata": {},
     "output_type": "execute_result"
    }
   ],
   "source": [
    "df_all = pd.read_pickle('./data/df_all_lemma.pkl')\n",
    "print(len(df_all))\n",
    "df_all.head(1)"
   ]
  },
  {
   "cell_type": "code",
   "execution_count": 5,
   "metadata": {},
   "outputs": [
    {
     "name": "stdout",
     "output_type": "stream",
     "text": [
      "['aren', 'wouldnt', 'shouldn', 'arent', \"should've\", 'out', 'isn', 'during', 'youve', 'thatll', 'itself', 'mightnt', 'haven', 'that', 'their', 'where', 'down', 'your', 'ted', 'those', \"you'd\", 'my', 'didn', 'most', 'couldn', 'such', \"aren't\", 'here', 'ain', 'after', \"she's\", 'then', 'him', 're', 'bg', 'dont', 'as', \"hasn't\", 'can', 'shes', 'havent', 'very', 'nor', 'how', 'al', 'these', \"mightn't\", \"isn't\", \"haven't\", 'but', 'won', 'em', 'ours', 's', 'ok', 'you', 'shouldnt', 'didnt', 'not', 'into', 'shan', 'other', 'own', 'no', 'some', 'yourselves', 'i', 'on', 'a', 'both', 'theirs', 'off', 'for', 'it', 'our', 'be', 'an', 'than', 'ill', \"you're\", 'each', 'against', 'youll', 'did', 'until', 'any', 'his', 'why', 'hers', 'just', \"didn't\", 'himself', 'them', 'if', 'now', 'themselves', 'whom', 'hey', 'neednt', 'above', 'in', 'should', 'wouldn', 'between', 'she', 'about', 'they', 'yourself', 'da', \"don't\", \"you'll\", 'hadn', 'had', 'all', 'youd', 'this', 'with', 'yours', 'her', 'only', 'same', 'pm', 'ma', 'of', 'mrs', 'he', 'been', 'will', 'few', 'mr', 'at', 'wont', \"needn't\", 'm', 'do', 'herself', 'there', \"doesn't\", 'through', 'myself', 'because', \"you've\", \"wouldn't\", 'me', 'are', 'to', 'couldnt', 'doesn', \"couldn't\", \"hadn't\", \"mustn't\", 'wasn', \"that'll\", 'from', 'hasnt', 've', 'hadnt', 'the', 'below', 'again', 'were', 'mustnt', 'by', 'so', 'isnt', 'yes', 'mightn', 'oh', \"wasn't\", 'having', 'who', 'once', 'wasnt', 'too', 'shant', 'what', 'being', 'mustn', 'okay', 'before', 'ha', 'has', 'was', 'over', 'up', \"shan't\", 'weren', 'is', 'don', 'and', 'needn', 'yeah', 'its', 'youre', 'doing', 'which', \"shouldn't\", 'we', \"won't\", 'ms', 'have', \"weren't\", 'hasn', 'th', 'll', 'under', 'more', 'shouldve', 'y', 'might', 'or', 'doesnt', 'd', 'does', 'am', 'further', 'when', 'while', 'ourselves', \"it's\", 'o', 'werent', 'ca', 't']\n"
     ]
    }
   ],
   "source": [
    "docs_all = list(df_all['transcript'])\n",
    "\n",
    "from nltk.corpus import stopwords\n",
    "\n",
    "stops_standard = stopwords.words('english')\n",
    "stops_custom = ['shes','youll','ill','yeah','th','yes','oh',\n",
    "                'ok','okay','might','ha','mr','bg','ms',\n",
    "                'mrs','ca','em','da','ted','pm','hey','al']+[re.sub('[^A-Za-z ]+', '', w) for w in stops_standard]\n",
    "stop_list = list(set(stops_standard + stops_custom))\n",
    "\n",
    "print(stop_list)"
   ]
  },
  {
   "cell_type": "code",
   "execution_count": 36,
   "metadata": {},
   "outputs": [
    {
     "name": "stdout",
     "output_type": "stream",
     "text": [
      "Extracting tf features for LDA...\n",
      "done in 3.163s.\n",
      "\n",
      "Fitting LDA models with tf features, n_samples=2000 and n_features=2000...\n",
      "done in 19.229s.\n",
      "\n",
      "Topics in LDA model:\n",
      "Topic #0: limb animal force muscle spring frame per video movement surface\n",
      "Topic #1: energy car oil climate product water fuel carbon city per\n",
      "Topic #2: south community city environmental development waste economic common park dog\n",
      "Topic #3: baby mother pregnant mom birth milk awesome born amazing box\n",
      "Topic #4: united men paper black data per statistic everybody india nice\n",
      "Topic #5: film movie character camera shot director actor image photograph scene\n",
      "Topic #6: girl men mother father boy parent war knew night fear\n",
      "Topic #7: card la audience king queen fold club member ah seven\n",
      "Topic #8: data information internet medium online phone network computer social government\n",
      "Topic #9: cell cancer patient disease drug blood doctor medical treatment heart\n",
      "Topic #10: choice decision choose option puzzle alternative decide consequence offer easy\n",
      "Topic #11: god religion rule compassion moral society must truth leader others\n",
      "Topic #12: robot car fly foot leg space ant control drive sensor\n",
      "Topic #13: game specie evolution earth force space planet city animal notion\n",
      "Topic #14: gene dna cell plant specie molecule genetic genome bacteria protein\n",
      "Topic #15: city community space street map public neighborhood project built house\n",
      "Topic #16: computer software project community disease structure page test personal force\n",
      "Topic #17: god china area influence age landscape book water blog gold\n",
      "Topic #18: influence symbol staff god attention book identity church behavior purpose\n",
      "Topic #19: music sex culture audience somebody book men hear age dance\n",
      "Topic #20: finger interface ball piece thanks skill space music curve balance\n",
      "Topic #21: brain computer machine science sound data information pattern image memory\n",
      "Topic #22: animal tree forest specie nature monkey river dog planet elephant\n",
      "Topic #23: health dollar company business care social cost value risk market\n",
      "Topic #24: planet earth universe space light star mar sun science particle\n",
      "Topic #25: virus disease vaccine mosquito microbe malaria antibiotic hiv infection organism\n",
      "Topic #26: africa dollar bank book opportunity nigeria african business company brain\n",
      "Topic #27: skin notion evolution relationship interested series tissue led force etc\n",
      "Topic #28: fish sea stuff animal huge gold company dollar cell light\n",
      "Topic #29: game play video player playing toy win played ball dynamic\n",
      "Topic #30: black song white race men morning color bias wait hair\n",
      "Topic #31: design art project book piece student teacher designer artist object\n",
      "Topic #32: horse older everybody peace stone difference london earth somebody free\n",
      "Topic #33: bee flower colony plant crop insect queen specie collective loss\n",
      "Topic #34: bird iran flu epidemic early india weapon response report spread\n",
      "Topic #35: africa african government sector medium dollar aid traditional girl economy\n",
      "Topic #36: space car moon airplane design team baby ice america voice\n",
      "Topic #37: disorder brain device disability electrical light circuit neuron gold signal\n",
      "Topic #38: farmer farm bread market grain agriculture cow crop seed food\n",
      "Topic #39: food eat diet feed eating meat weight healthy meal america\n",
      "Topic #40: water ocean sea ice air fish coral plastic shark foot\n",
      "Topic #41: africa government global political society united war china democracy education\n",
      "Topic #42: feeling sentence gap click weather dot photograph location bill fine\n",
      "Topic #43: independent newspaper medium running meeting business hang press finance somebody\n",
      "Topic #44: design happiness gene force happy designer project code war york\n",
      "Topic #45: push serve fun plane success practice eight magic lead driven\n",
      "Topic #46: community city illusion page neighborhood quickly water image legal design\n",
      "Topic #47: space computer lab student project material program force structure airplane\n",
      "Topic #48: design structure computer google material search student string global literally\n",
      "Topic #49: happiness happy self sleep emotion mental stress study depression smile\n",
      "\n"
     ]
    }
   ],
   "source": [
    "docs = docs_all\n",
    "\n",
    "from time import time\n",
    "\n",
    "from sklearn.feature_extraction.text import TfidfVectorizer, CountVectorizer\n",
    "from sklearn.decomposition import NMF, LatentDirichletAllocation\n",
    "\n",
    "n_samples = 2000\n",
    "n_features = 2000\n",
    "n_components = 50\n",
    "n_top_words = 10\n",
    "n_gram = 1\n",
    "alpha = 0.1\n",
    "stop_choice= stop_list\n",
    "\n",
    "max_df = 0.3\n",
    "min_df = 5\n",
    "def print_top_words(model, feature_names, n_top_words):\n",
    "    for topic_idx, topic in enumerate(model.components_):\n",
    "        message = \"Topic #%d: \" % topic_idx\n",
    "        message += \" \".join([feature_names[i]\n",
    "                             for i in topic.argsort()[:-n_top_words - 1:-1]])\n",
    "        print(message)\n",
    "    print()\n",
    "\n",
    "\n",
    "# Use tf (raw term count) features for LDA.\n",
    "print(\"Extracting tf features for LDA...\")\n",
    "tf_vectorizer = CountVectorizer(max_df=max_df, min_df=min_df,\n",
    "                                ngram_range=(n_gram,n_gram),\n",
    "                                max_features=n_features,\n",
    "                                stop_words=stop_choice)\n",
    "t0 = time()\n",
    "tf = tf_vectorizer.fit_transform(docs)\n",
    "print(\"done in %0.3fs.\" % (time() - t0))\n",
    "print()\n",
    "\n",
    "# Fit the LDA model\n",
    "print(\"Fitting LDA models with tf features, \"\n",
    "      \"n_samples=%d and n_features=%d...\"\n",
    "      % (n_samples, n_features))\n",
    "lda = LatentDirichletAllocation(n_components=n_components, max_iter=5,\n",
    "                                learning_method='online',\n",
    "                                learning_offset=50.,\n",
    "                                random_state=0)\n",
    "t0 = time()\n",
    "lda.fit(tf)\n",
    "print(\"done in %0.3fs.\" % (time() - t0))\n",
    "\n",
    "print(\"\\nTopics in LDA model:\")\n",
    "tf_feature_names = tf_vectorizer.get_feature_names()\n",
    "print_top_words(lda, tf_feature_names, n_top_words)"
   ]
  },
  {
   "cell_type": "code",
   "execution_count": 37,
   "metadata": {
    "collapsed": true
   },
   "outputs": [],
   "source": [
    "X = lda.fit_transform(tf)\n"
   ]
  },
  {
   "cell_type": "code",
   "execution_count": 14,
   "metadata": {
    "collapsed": true
   },
   "outputs": [],
   "source": [
    "# X[134].argmax()"
   ]
  },
  {
   "cell_type": "code",
   "execution_count": 15,
   "metadata": {
    "collapsed": true
   },
   "outputs": [],
   "source": [
    "# np.savetxt('./data/lda_data.tsv', X, delimiter='\\t',newline='\\n')\n",
    "# Xlabel = list(df_all.title)\n",
    "# with open('./data/lda_meta.tsv', 'w') as file:\n",
    "#     for label in Xlabel:\n",
    "#         file.write(label+'\\n')"
   ]
  },
  {
   "cell_type": "code",
   "execution_count": 42,
   "metadata": {
    "collapsed": true
   },
   "outputs": [],
   "source": [
    "def save_top_words(model, feature_names, n_top_words):\n",
    "    top_words = []\n",
    "    for topic_idx, topic in enumerate(model.components_):\n",
    "        top_words.append([feature_names[i] for i in topic.argsort()[:-n_top_words - 1:-1]])\n",
    "    return top_words\n",
    "\n",
    "tf_feature_names = tf_vectorizer.get_feature_names()\n",
    "n_top_words = 10\n",
    "LDA_top_words = save_top_words(lda, tf_feature_names, n_top_words)"
   ]
  },
  {
   "cell_type": "code",
   "execution_count": 45,
   "metadata": {},
   "outputs": [],
   "source": [
    "df = pd.DataFrame(LDA_top_words)\n",
    "df.head()\n",
    "# df.to_pickle('./data/LDA_top_words.pkl')"
   ]
  },
  {
   "cell_type": "markdown",
   "metadata": {},
   "source": [
    "### Find related talks"
   ]
  },
  {
   "cell_type": "code",
   "execution_count": 9,
   "metadata": {
    "collapsed": true
   },
   "outputs": [],
   "source": [
    "import sklearn.neighbors.kd_tree as kdtree"
   ]
  },
  {
   "cell_type": "code",
   "execution_count": 38,
   "metadata": {
    "collapsed": true
   },
   "outputs": [],
   "source": [
    "def match_score(list1, list2):\n",
    "    m = len(list1)\n",
    "    score = 0\n",
    "    matches = 0\n",
    "    for title in list2:\n",
    "        if title in list1:\n",
    "            score += m - list1.index(title)\n",
    "            matches += 1\n",
    "    return (score, matches)"
   ]
  },
  {
   "cell_type": "code",
   "execution_count": 39,
   "metadata": {},
   "outputs": [
    {
     "name": "stdout",
     "output_type": "stream",
     "text": [
      "0\n",
      "100\n",
      "200\n",
      "300\n",
      "400\n",
      "500\n",
      "600\n",
      "700\n",
      "800\n",
      "900\n",
      "1000\n",
      "1100\n",
      "1200\n",
      "1300\n",
      "1400\n",
      "1500\n",
      "1600\n",
      "1700\n",
      "1800\n",
      "1900\n",
      "2000\n",
      "2100\n",
      "2200\n",
      "2300\n",
      "2400\n"
     ]
    }
   ],
   "source": [
    "tree = kdtree.KDTree(X, leaf_size=10) \n",
    "scores = []\n",
    "matches = []\n",
    "for N in range(2467):\n",
    "    # N = 1\n",
    "    if N%100==0:\n",
    "        print(N)\n",
    "    dist, ind = tree.query([X[N]], k=20)  \n",
    "    list1 = []\n",
    "    for i in ind[0]:\n",
    "        list1.append(df_all.iloc[i].title)\n",
    "    list2 = []\n",
    "    df_related = pd.DataFrame(eval(df_all.iloc[N]['related_talks']))\n",
    "    for k in range(len(df_related)):\n",
    "        items = list(df_all[df_all['title']==df_related.iloc[k]['title']].title)\n",
    "        if len(items)>0:\n",
    "            list2.append(items[0])\n",
    "    scores.append(match_score(list1,list2)[0])\n",
    "    matches.append(match_score(list1,list2)[1])"
   ]
  },
  {
   "cell_type": "code",
   "execution_count": 40,
   "metadata": {},
   "outputs": [
    {
     "data": {
      "text/plain": [
       "12.407782732063234"
      ]
     },
     "execution_count": 40,
     "metadata": {},
     "output_type": "execute_result"
    }
   ],
   "source": [
    "sum(scores)/2467"
   ]
  },
  {
   "cell_type": "code",
   "execution_count": 41,
   "metadata": {},
   "outputs": [
    {
     "data": {
      "text/plain": [
       "1.0575597892176734"
      ]
     },
     "execution_count": 41,
     "metadata": {},
     "output_type": "execute_result"
    }
   ],
   "source": [
    "sum(matches)/2467"
   ]
  },
  {
   "cell_type": "code",
   "execution_count": null,
   "metadata": {
    "collapsed": true
   },
   "outputs": [],
   "source": []
  },
  {
   "cell_type": "code",
   "execution_count": null,
   "metadata": {
    "collapsed": true
   },
   "outputs": [],
   "source": []
  },
  {
   "cell_type": "code",
   "execution_count": null,
   "metadata": {
    "collapsed": true
   },
   "outputs": [],
   "source": []
  },
  {
   "cell_type": "code",
   "execution_count": 64,
   "metadata": {},
   "outputs": [
    {
     "name": "stdout",
     "output_type": "stream",
     "text": [
      "2060 \t My year of saying yes to everything\n",
      "372 \t Fiddling in reel time\n",
      "2356 \t On tennis, love and motherhood\n",
      "2024 \t A hilarious celebration of lifelong female friendship\n",
      "1317 \t Please don't take my Air Jordans\n",
      "1527 \t An ode to envy\n",
      "1912 \t One woman, five characters, and a sex lesson from the future\n",
      "1469 \t The orchestra in my mouth\n",
      "795 \t Let's talk parenting taboos\n",
      "314 \t A story of mixed emoticons\n",
      "2324 \t What young women believe about their own sexual pleasure\n",
      "338 \t Do the green thing\n",
      "241 \t The transformative power of classical music\n",
      "2107 \t Wisdom from great writers on every year of life\n",
      "2259 \t What I learned from 100 days of rejection\n",
      "2261 \t Do kids think of sperm donors as family?\n",
      "1116 \t Everyday moments, caught in time\n",
      "1931 \t When to take a stand -- and when to let it go\n",
      "1905 \t Gorgeous portraits of the world's vanishing people\n",
      "1920 \t Confessions of a bad feminist\n"
     ]
    }
   ],
   "source": [
    "tree = kdtree.KDTree(X, leaf_size=10) \n",
    "N = 2060\n",
    "dist, ind = tree.query([X[N]], k=20)  \n",
    "for i in ind[0]:\n",
    "    print(i,'\\t',df_all.iloc[i].title)\n",
    "#     print(i,'\\t',df_all.iloc[i].views)\n",
    "#     print(df_all.iloc[i].tags)"
   ]
  },
  {
   "cell_type": "code",
   "execution_count": 65,
   "metadata": {},
   "outputs": [
    {
     "name": "stdout",
     "output_type": "stream",
     "text": [
      "['Your elusive creative genius']\n",
      "['How to use data to make a hit TV show']\n",
      "['Should you live for your résumé ... or your eulogy?']\n",
      "['How to find a wonderful idea']\n",
      "['Fashion and creativity']\n",
      "['Play is more than just fun']\n"
     ]
    }
   ],
   "source": [
    "df_related = pd.DataFrame(eval(df_all.iloc[N]['related_talks']))\n",
    "for k in range(len(df_related)):\n",
    "    print(list(df_all[df_all['title']==df_related.iloc[k]['title']].title))\n",
    "#     print(df_all[df_all['title']==df_related.iloc[k]['title']].views)\n",
    "#     print(list(df_all[df_all['title']==df_related.iloc[k]['title']].tags))"
   ]
  },
  {
   "cell_type": "code",
   "execution_count": 12,
   "metadata": {
    "collapsed": true,
    "scrolled": false
   },
   "outputs": [],
   "source": [
    "# print(docs_all[395])"
   ]
  },
  {
   "cell_type": "markdown",
   "metadata": {},
   "source": [
    "### Clustering using KMeans"
   ]
  },
  {
   "cell_type": "code",
   "execution_count": 46,
   "metadata": {},
   "outputs": [
    {
     "data": {
      "text/plain": [
       "[<matplotlib.lines.Line2D at 0x11355e860>]"
      ]
     },
     "execution_count": 46,
     "metadata": {},
     "output_type": "execute_result"
    },
    {
     "data": {
      "image/png": "[encoded data removed]",
      "text/plain": [
       "<matplotlib.figure.Figure at 0x1199f3080>"
      ]
     },
     "metadata": {},
     "output_type": "display_data"
    }
   ],
   "source": [
    "from sklearn.cluster import KMeans\n",
    "from sklearn import metrics\n",
    "from sklearn.metrics import pairwise_distances\n",
    "from sklearn.metrics import silhouette_score\n",
    "from sklearn import cluster\n",
    "\n",
    "# n_clusters = 50\n",
    "\n",
    "ward = cluster.AgglomerativeClustering(\n",
    "    n_clusters=n_clusters, linkage='ward',\n",
    "    connectivity=connectivity)\n",
    "# spectral = cluster.SpectralClustering(\n",
    "#     n_clusters=n_clusters, eigen_solver='arpack',\n",
    "#     affinity=\"nearest_neighbors\")\n",
    "# Xp = spectral.fit_predict(X)\n",
    "# dbscan = cluster.DBSCAN(eps=params['eps'])\n",
    "\n",
    "# km = KMeans(n_clusters=50)\n",
    "# Xt = km.fit_transform(X)\n",
    "\n",
    "# mu_docs = km.cluster_centers_\n",
    "# plt.plot(mu_docs.transpose())\n",
    "\n",
    "# silhouette_score(X, km.labels_, metric='euclidean')\n",
    "\n",
    "sil_scores = []\n",
    "iner_scores = []\n",
    "ks = range(10,60)\n",
    "for k in ks:\n",
    "    km = KMeans(n_clusters=k)\n",
    "    km.fit(X)\n",
    "    sil_scores.append(silhouette_score(X, km.labels_, metric='euclidean'))\n",
    "    iner_scores.append(km.inertia_)"
   ]
  },
  {
   "cell_type": "code",
   "execution_count": 54,
   "metadata": {},
   "outputs": [
    {
     "data": {
      "image/png": "[encoded data removed]",
      "text/plain": [
       "<matplotlib.figure.Figure at 0x11a522d68>"
      ]
     },
     "metadata": {},
     "output_type": "display_data"
    }
   ],
   "source": [
    "plt.figure(figsize=(3,2))\n",
    "plt.plot(ks,iner_scores,'c')\n",
    "plt.rcParams['axes.facecolor'] = 'black'\n",
    "\n",
    "ax = plt.gca()\n",
    "ax.set_xlabel('# OF CLUSTERS', fontsize=14, fontweight='bold')\n",
    "ax.set_ylabel('INERTIA', fontsize=14, fontweight='bold')\n",
    "ax.set_xlim([5,60])\n",
    "ax.spines['bottom'].set_color('w')\n",
    "ax.spines['top'].set_color('k')\n",
    "ax.xaxis.label.set_color('w')\n",
    "ax.tick_params(axis='x', colors='w')\n",
    "ax.spines['left'].set_color('w')\n",
    "ax.spines['right'].set_color('k')\n",
    "ax.yaxis.label.set_color('w')\n",
    "ax.tick_params(axis='y', colors='w')"
   ]
  },
  {
   "cell_type": "code",
   "execution_count": 59,
   "metadata": {},
   "outputs": [
    {
     "data": {
      "image/png": "[encoded data removed]",
      "text/plain": [
       "<matplotlib.figure.Figure at 0x1134fde10>"
      ]
     },
     "metadata": {},
     "output_type": "display_data"
    }
   ],
   "source": [
    "plt.figure(figsize=(5,4))\n",
    "plt.plot(ks,sil_scores,'c')\n",
    "plt.rcParams['axes.facecolor'] = 'black'\n",
    "\n",
    "ax = plt.gca()\n",
    "ax.set_xlabel('# OF CLUSTERS', fontsize=14, fontweight='bold')\n",
    "ax.set_ylabel('SILHOUETTE', fontsize=14, fontweight='bold')\n",
    "ax.set_xlim([5,60])\n",
    "ax.set_ylim([0.05,0.3])\n",
    "\n",
    "ax.spines['bottom'].set_color('w')\n",
    "ax.spines['top'].set_color('k')\n",
    "ax.xaxis.label.set_color('w')\n",
    "ax.tick_params(axis='x', colors='w')\n",
    "ax.spines['left'].set_color('w')\n",
    "ax.spines['right'].set_color('k')\n",
    "ax.yaxis.label.set_color('w')\n",
    "ax.tick_params(axis='y', colors='w')"
   ]
  },
  {
   "cell_type": "code",
   "execution_count": 505,
   "metadata": {},
   "outputs": [
    {
     "name": "stdout",
     "output_type": "stream",
     "text": [
      "1599 \t Love -- you're doing it wrong\n",
      "2343 \t 3 ways to plan for the (very) long term\n",
      "2085 \t How to get back to work after a career break\n",
      "1395 \t What makes us feel good about our work?\n",
      "1135 \t How I beat a patent troll\n",
      "1872 \t How equal do we want the world to be? You'd be surprised\n",
      "1821 \t The danger of hiding who you are\n",
      "1870 \t 5 ways to kill your dreams\n",
      "1566 \t The $80 prosthetic knee that's changing lives\n",
      "609 \t Plug into your hard-wired happiness\n"
     ]
    }
   ],
   "source": [
    "tree = kdtree.KDTree(Xt, leaf_size=10) \n",
    "# N = 1346\n",
    "dist, ind = tree.query([Xt[N]], k=10)  \n",
    "for i in ind[0]:\n",
    "    print(i,'\\t',df_all.iloc[i].title)\n",
    "#     print(i,'\\t',df_all.iloc[i].views)\n",
    "#     print(df_all.iloc[i].tags)"
   ]
  },
  {
   "cell_type": "code",
   "execution_count": 506,
   "metadata": {},
   "outputs": [
    {
     "data": {
      "text/plain": [
       "'and theyd say great. and ive been seeing that time horizon get shorter and shorter and shorter so much so that i met with a ceo two month ago and i said we started our initial conversation. he go i love what you do. i want to talk about the next six month. we have a lot of problem that we are facing. these are civilizationalscale problem. the issue though is we cant solve them using the mental model that we use right now to try and solve these problem. yes a lot of great technical work is being done but there is a problem that we need to solve for a priori before if we want to really move the needle on those big problem. shorttermism. right. there no march. there no bracelet. there no petition that you can sign to be against shorttermism. i tried to put one up and no one signed. it wa weird. but it prevents u from doing so much. shorttermism for many reason ha pervaded every nook and cranny of our reality. i just want you to take a second and just think about an issue that youre thinking working on. it could be personal it could be at work or it could be movetheneedle world stuff and think about how far out you tend to think about the solution set for that. because shorttermism prevents the ceo from buying really expensive safety equipment. itll hurt the bottom line. so we get the deepwater horizon. shorttermism prevents teacher from spending quality oneonone time with their student. so right now in america a high school student drop out every second. shorttermism prevents congress sorry if there anyone in here from congress or not really that sorry from putting money into a real infrastructure bill. so what we get is the iw bridge collapse over the mississippi a few year ago killed. it wasnt always like this. we did the panama canal. we pretty much have eradicated global polio. we did the transcontinental railroad the marshall plan. and it not just big physical infrastructure problem and issue. woman suffrage the right to vote. but in our shorttermist time where everything seems to happen right now and we can only think out past the next tweet or timeline post we get hyperreactionary. so what do we do. we take people who are fleeing their wartorn country and we go after them. we take lowlevel drug offender and we put them away for life. and then we build mcmansions without even thinking about how people are going to get between them and their job. it a quick buck. now the reality is for a lot of these problem there are some technical fix a lot of them. i call these technical fix sandbag strategy. so you know there a storm coming the levee is broken no one put any money into it you surround your home with sandbag. and guess what. it work. storm go away the water level go down you get rid of the sandbag and you do this storm after storm after storm. and here the insidious thing. a sandbag strategy can get you reelected. a sandbag strategy can help you make your quarterly number. now if we want to move forward into a different future than the one we have right now because i dont think weve hit is not peak civilization. there some more we can do. but my argument is that unless we shift our mental model and our mental map on how we think about the short it not going to happen. so what ive developed is something called longpath and it a practice. and longpath isnt a kind of oneanddone exercise. im sure everyone here at some point ha done an offsite with a lot of postit note and whiteboards and you do no offense to the consultant in here who do that and you do a longterm plan and then two week later everyone forgets about it. right. or a week later. if youre lucky three month. it a practice because it not necessarily a thing that you do. it a process where you have to revisit different way of thinking for every major decision that youre working on. so i want to go through those three way of thinking. so the first transgenerational thinking. i love the philosopher plato socrates habermas heidegger. i wa raised on them. but they all did one thing that didnt actually seem like a big deal until i really started kind of looking into this. and they all took a a unit of measure for their entire reality of what it meant to be virtuous and good the single lifespan from birth to death. but here a problem with these issue they stack up on top of u because the only way we know how to do something good in the world is if we do it between our birth and our death. thats what were programmed to do. if you go to the selfhelp section in any bookstore it all about you. which is great unless youre dealing with some of these major issue. and so with transgenerational thinking which is really kind of transgenerational ethic youre able to expand how you think about these problem what is your role in helping to solve them. now this isnt something that just ha to be done at the security council chamber. it something that you can do in a very kind of personal way. so every once in a while if im lucky my wife and i like to go out to dinner and we have three child under the age of seven. so you can imagine it a very peaceful quiet meal. so we sit down and literally all i want to do is just eat and chill and my kid have a completely and totally different idea of what were going to be doing. and so my first idea is my sandbag strategy right. it to go into my pocket and take out the iphone and give them frozen or some other bestselling game thing. and then i stop and i have to kind of put on this transgenerational thinking cap. i dont do this in the restaurant because it would be bizarre but i have to i did it once and thats how i learned it wa bizarre. and you have to kind of think ok i can do this. but what is this teaching them. so what doe it mean if i actually bring some paper or engage with them in conversation. it hard. it not easy and im making this very personal. it actually more traumatic than some of the big issue that i work on in the world entertaining my kid at dinner. but what it doe is it connects them here in the present with me but it also and this is the crux of transgenerational thinking ethic it set them up to how theyre going to interact with their kid and their kid and their kid. second future thinking. when we think about the future year out give me a vision of what the future is. you dont have to give it to me but think in your head. and what youre probably going to see is the dominant cultural lens that dominates our thinking about the future right now technology. so when we think about the problem we always put it through a technological lens a techcentric a technoutopia and there nothing wrong with that but it something that we have to really think deeply about if were going to move on these major issue because it wasnt always like this. right. the ancient had their way of thinking about what the future wa. the church definitely had their idea of what the future could be and you could actually pay your way into that future. right. and luckily for humanity we got the scientific revolution. from there we got the technology but what ha happened and by the way this is not a critique. i love technology. everything in my house talk back to me from my child to my speaker to everything. but weve abdicated the future from the high priest in rome to the high priest of silicon valley. so when we think well how are we going to deal with climate or with poverty or homelessness our first reaction is to think about it through a technology lens. and look im not advocating that we go to this guy. i love joel dont get me wrong but im not saying we go to joel. what im saying is we have to rethink our base assumption about only looking at the future in one way only looking at it through the dominant lens. because our problem are so big and so vast that we need to open ourselves up. so thats why i do everything in my power not to talk about the future. i talk about future. it open the conversation again. so when youre sitting and thinking about how do we move forward on this major issue it could be at home it could be at work it could be again on the global stage dont cut yourself off from thinking about something beyond technology a a fix because were more concerned about technological evolution right now than we are about moral evolution. and unless we fix for that were not going to be able to get out of shorttermism and get to where we want to be. the final telos thinking. this come from the greek root. ultimate aim and ultimate purpose. and it really asking one question to what end. when wa the last time you asked yourself to what end. and when you asked yourself that how far out did you go. because long isnt long enough anymore. three five year doesnt cut it. it year. in homer epic the odyssey odysseus had the answer to his what end. it wa ithaca. it wa this bold vision of what he wanted to return to penelope. and i can tell you because of the work that im doing but also you know it intuitively we have lost our ithaca. we have lost our to what end so we stay on this hamster wheel. and yes were trying to solve these problem but what come after we solve the problem. and unless you define what come after people arent going to move. the business this isnt just about business but the business that do consistently who break out of shorttermism not surprisingly are familyrun business. theyre transgenerational. theyre telos. they think about the future. and this is an ad for patek philippe. theyre year old and whats amazing is that they literally embody this kind of longpathian sense in their brand because by the way you never actually own a patek philippe and i definitely wont unless somebody want to just throw dollar on the stage. you merely look after it for the next generation. so it important that we remember the future we treat it like a noun. it not. it a verb. it requires action. it requires u to push into it. it not this thing that wash over u. it something that we actually have total control over. but in a shortterm society we end up feeling like we dont. we feel like were trapped. we can push through that. now im getting more comfortable in the fact that at some point in the inevitable future i will die. but because of these new way of thinking and doing both in the outside world and also with my family at home and what im leaving my kid i get more comfortable in that fact. and it something that a lot of u are really uncomfortable with but im telling you think it through. apply this type of thinking and you can push yourself past whats inevitably very very uncomfortable. and it all begin really with yourself asking this question what is your longpath. but i ask you when you ask yourself that now or tonight or behind a steering wheel or in the boardroom or the situation room push past the longpath quick oh whats my longpath the next three year or five year. try and push past your own life if you can because it make you do thing a little bit bigger than you thought were possible. yes we have huge huge problem out there. with this process with this thinking i think we can make a difference. i think you can make a difference and i believe in you guy'"
      ]
     },
     "execution_count": 506,
     "metadata": {},
     "output_type": "execute_result"
    }
   ],
   "source": [
    "df_all.iloc[2343].transcript"
   ]
  },
  {
   "cell_type": "code",
   "execution_count": null,
   "metadata": {
    "collapsed": true
   },
   "outputs": [],
   "source": []
  }
 ],
 "metadata": {
  "kernelspec": {
   "display_name": "Python 3",
   "language": "python",
   "name": "python3"
  },
  "language_info": {
   "codemirror_mode": {
    "name": "ipython",
    "version": 3
   },
   "file_extension": ".py",
   "mimetype": "text/x-python",
   "name": "python",
   "nbconvert_exporter": "python",
   "pygments_lexer": "ipython3",
   "version": "3.6.3"
  }
 },
 "nbformat": 4,
 "nbformat_minor": 2
}
