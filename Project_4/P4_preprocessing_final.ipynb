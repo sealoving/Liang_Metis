{
 "cells": [
  {
   "cell_type": "code",
   "execution_count": 2,
   "metadata": {
    "collapsed": true
   },
   "outputs": [],
   "source": [
    "import re\n",
    "import pandas as pd\n",
    "import numpy as np\n",
    "import nltk"
   ]
  },
  {
   "cell_type": "markdown",
   "metadata": {},
   "source": [
    "### Load in all transcripts with meta data"
   ]
  },
  {
   "cell_type": "code",
   "execution_count": 3,
   "metadata": {},
   "outputs": [
    {
     "data": {
      "text/html": [
       "<div>\n",
       "<style>\n",
       "    .dataframe thead tr:only-child th {\n",
       "        text-align: right;\n",
       "    }\n",
       "\n",
       "    .dataframe thead th {\n",
       "        text-align: left;\n",
       "    }\n",
       "\n",
       "    .dataframe tbody tr th {\n",
       "        vertical-align: top;\n",
       "    }\n",
       "</style>\n",
       "<table border=\"1\" class=\"dataframe\">\n",
       "  <thead>\n",
       "    <tr style=\"text-align: right;\">\n",
       "      <th></th>\n",
       "      <th>comments</th>\n",
       "      <th>description</th>\n",
       "      <th>duration</th>\n",
       "      <th>event</th>\n",
       "      <th>film_date</th>\n",
       "      <th>languages</th>\n",
       "      <th>main_speaker</th>\n",
       "      <th>name</th>\n",
       "      <th>num_speaker</th>\n",
       "      <th>published_date</th>\n",
       "      <th>ratings</th>\n",
       "      <th>related_talks</th>\n",
       "      <th>speaker_occupation</th>\n",
       "      <th>tags</th>\n",
       "      <th>title</th>\n",
       "      <th>url</th>\n",
       "      <th>views</th>\n",
       "    </tr>\n",
       "  </thead>\n",
       "  <tbody>\n",
       "    <tr>\n",
       "      <th>0</th>\n",
       "      <td>4553</td>\n",
       "      <td>Sir Ken Robinson makes an entertaining and pro...</td>\n",
       "      <td>1164</td>\n",
       "      <td>TED2006</td>\n",
       "      <td>1140825600</td>\n",
       "      <td>60</td>\n",
       "      <td>Ken Robinson</td>\n",
       "      <td>Ken Robinson: Do schools kill creativity?</td>\n",
       "      <td>1</td>\n",
       "      <td>1151367060</td>\n",
       "      <td>[{'id': 7, 'name': 'Funny', 'count': 19645}, {...</td>\n",
       "      <td>[{'id': 865, 'hero': 'https://pe.tedcdn.com/im...</td>\n",
       "      <td>Author/educator</td>\n",
       "      <td>['children', 'creativity', 'culture', 'dance',...</td>\n",
       "      <td>Do schools kill creativity?</td>\n",
       "      <td>https://www.ted.com/talks/ken_robinson_says_sc...</td>\n",
       "      <td>47227110</td>\n",
       "    </tr>\n",
       "  </tbody>\n",
       "</table>\n",
       "</div>"
      ],
      "text/plain": [
       "   comments                                        description  duration  \\\n",
       "0      4553  Sir Ken Robinson makes an entertaining and pro...      1164   \n",
       "\n",
       "     event   film_date  languages  main_speaker  \\\n",
       "0  TED2006  1140825600         60  Ken Robinson   \n",
       "\n",
       "                                        name  num_speaker  published_date  \\\n",
       "0  Ken Robinson: Do schools kill creativity?            1      1151367060   \n",
       "\n",
       "                                             ratings  \\\n",
       "0  [{'id': 7, 'name': 'Funny', 'count': 19645}, {...   \n",
       "\n",
       "                                       related_talks speaker_occupation  \\\n",
       "0  [{'id': 865, 'hero': 'https://pe.tedcdn.com/im...    Author/educator   \n",
       "\n",
       "                                                tags  \\\n",
       "0  ['children', 'creativity', 'culture', 'dance',...   \n",
       "\n",
       "                         title  \\\n",
       "0  Do schools kill creativity?   \n",
       "\n",
       "                                                 url     views  \n",
       "0  https://www.ted.com/talks/ken_robinson_says_sc...  47227110  "
      ]
     },
     "execution_count": 3,
     "metadata": {},
     "output_type": "execute_result"
    }
   ],
   "source": [
    "# load meta data of talks\n",
    "df_meta = pd.read_csv('./data/ted_main.csv')\n",
    "df_meta.head(1)"
   ]
  },
  {
   "cell_type": "code",
   "execution_count": 4,
   "metadata": {},
   "outputs": [
    {
     "data": {
      "text/html": [
       "<div>\n",
       "<style>\n",
       "    .dataframe thead tr:only-child th {\n",
       "        text-align: right;\n",
       "    }\n",
       "\n",
       "    .dataframe thead th {\n",
       "        text-align: left;\n",
       "    }\n",
       "\n",
       "    .dataframe tbody tr th {\n",
       "        vertical-align: top;\n",
       "    }\n",
       "</style>\n",
       "<table border=\"1\" class=\"dataframe\">\n",
       "  <thead>\n",
       "    <tr style=\"text-align: right;\">\n",
       "      <th></th>\n",
       "      <th>transcript</th>\n",
       "      <th>url</th>\n",
       "    </tr>\n",
       "  </thead>\n",
       "  <tbody>\n",
       "    <tr>\n",
       "      <th>0</th>\n",
       "      <td>Good morning. How are you?(Laughter)It's been ...</td>\n",
       "      <td>https://www.ted.com/talks/ken_robinson_says_sc...</td>\n",
       "    </tr>\n",
       "  </tbody>\n",
       "</table>\n",
       "</div>"
      ],
      "text/plain": [
       "                                          transcript  \\\n",
       "0  Good morning. How are you?(Laughter)It's been ...   \n",
       "\n",
       "                                                 url  \n",
       "0  https://www.ted.com/talks/ken_robinson_says_sc...  "
      ]
     },
     "execution_count": 4,
     "metadata": {},
     "output_type": "execute_result"
    }
   ],
   "source": [
    "# load full transcripts of talks\n",
    "df_scripts = pd.read_csv('./data/transcripts.csv')\n",
    "df_scripts.head(1)"
   ]
  },
  {
   "cell_type": "code",
   "execution_count": 25,
   "metadata": {},
   "outputs": [
    {
     "data": {
      "text/html": [
       "<div>\n",
       "<style>\n",
       "    .dataframe thead tr:only-child th {\n",
       "        text-align: right;\n",
       "    }\n",
       "\n",
       "    .dataframe thead th {\n",
       "        text-align: left;\n",
       "    }\n",
       "\n",
       "    .dataframe tbody tr th {\n",
       "        vertical-align: top;\n",
       "    }\n",
       "</style>\n",
       "<table border=\"1\" class=\"dataframe\">\n",
       "  <thead>\n",
       "    <tr style=\"text-align: right;\">\n",
       "      <th></th>\n",
       "      <th>comments</th>\n",
       "      <th>description</th>\n",
       "      <th>duration</th>\n",
       "      <th>event</th>\n",
       "      <th>film_date</th>\n",
       "      <th>languages</th>\n",
       "      <th>main_speaker</th>\n",
       "      <th>name</th>\n",
       "      <th>num_speaker</th>\n",
       "      <th>published_date</th>\n",
       "      <th>ratings</th>\n",
       "      <th>related_talks</th>\n",
       "      <th>speaker_occupation</th>\n",
       "      <th>tags</th>\n",
       "      <th>title</th>\n",
       "      <th>url</th>\n",
       "      <th>views</th>\n",
       "    </tr>\n",
       "  </thead>\n",
       "  <tbody>\n",
       "  </tbody>\n",
       "</table>\n",
       "</div>"
      ],
      "text/plain": [
       "Empty DataFrame\n",
       "Columns: [comments, description, duration, event, film_date, languages, main_speaker, name, num_speaker, published_date, ratings, related_talks, speaker_occupation, tags, title, url, views]\n",
       "Index: []"
      ]
     },
     "execution_count": 25,
     "metadata": {},
     "output_type": "execute_result"
    }
   ],
   "source": [
    "df_meta[df_meta.title=='The boost students need to overcome obstacles']"
   ]
  },
  {
   "cell_type": "code",
   "execution_count": 20,
   "metadata": {},
   "outputs": [
    {
     "name": "stdout",
     "output_type": "stream",
     "text": [
      "2467\n"
     ]
    },
    {
     "data": {
      "text/html": [
       "<div>\n",
       "<style>\n",
       "    .dataframe thead tr:only-child th {\n",
       "        text-align: right;\n",
       "    }\n",
       "\n",
       "    .dataframe thead th {\n",
       "        text-align: left;\n",
       "    }\n",
       "\n",
       "    .dataframe tbody tr th {\n",
       "        vertical-align: top;\n",
       "    }\n",
       "</style>\n",
       "<table border=\"1\" class=\"dataframe\">\n",
       "  <thead>\n",
       "    <tr style=\"text-align: right;\">\n",
       "      <th></th>\n",
       "      <th>comments</th>\n",
       "      <th>description</th>\n",
       "      <th>duration</th>\n",
       "      <th>event</th>\n",
       "      <th>film_date</th>\n",
       "      <th>languages</th>\n",
       "      <th>main_speaker</th>\n",
       "      <th>name</th>\n",
       "      <th>num_speaker</th>\n",
       "      <th>published_date</th>\n",
       "      <th>ratings</th>\n",
       "      <th>related_talks</th>\n",
       "      <th>speaker_occupation</th>\n",
       "      <th>tags</th>\n",
       "      <th>title</th>\n",
       "      <th>url</th>\n",
       "      <th>views</th>\n",
       "      <th>transcript</th>\n",
       "    </tr>\n",
       "  </thead>\n",
       "  <tbody>\n",
       "    <tr>\n",
       "      <th>0</th>\n",
       "      <td>4553</td>\n",
       "      <td>Sir Ken Robinson makes an entertaining and pro...</td>\n",
       "      <td>1164</td>\n",
       "      <td>TED2006</td>\n",
       "      <td>1140825600</td>\n",
       "      <td>60</td>\n",
       "      <td>Ken Robinson</td>\n",
       "      <td>Ken Robinson: Do schools kill creativity?</td>\n",
       "      <td>1</td>\n",
       "      <td>1151367060</td>\n",
       "      <td>[{'id': 7, 'name': 'Funny', 'count': 19645}, {...</td>\n",
       "      <td>[{'id': 865, 'hero': 'https://pe.tedcdn.com/im...</td>\n",
       "      <td>Author/educator</td>\n",
       "      <td>['children', 'creativity', 'culture', 'dance',...</td>\n",
       "      <td>Do schools kill creativity?</td>\n",
       "      <td>https://www.ted.com/talks/ken_robinson_says_sc...</td>\n",
       "      <td>47227110</td>\n",
       "      <td>Good morning. How are you?(Laughter)It's been ...</td>\n",
       "    </tr>\n",
       "  </tbody>\n",
       "</table>\n",
       "</div>"
      ],
      "text/plain": [
       "   comments                                        description  duration  \\\n",
       "0      4553  Sir Ken Robinson makes an entertaining and pro...      1164   \n",
       "\n",
       "     event   film_date  languages  main_speaker  \\\n",
       "0  TED2006  1140825600         60  Ken Robinson   \n",
       "\n",
       "                                        name  num_speaker  published_date  \\\n",
       "0  Ken Robinson: Do schools kill creativity?            1      1151367060   \n",
       "\n",
       "                                             ratings  \\\n",
       "0  [{'id': 7, 'name': 'Funny', 'count': 19645}, {...   \n",
       "\n",
       "                                       related_talks speaker_occupation  \\\n",
       "0  [{'id': 865, 'hero': 'https://pe.tedcdn.com/im...    Author/educator   \n",
       "\n",
       "                                                tags  \\\n",
       "0  ['children', 'creativity', 'culture', 'dance',...   \n",
       "\n",
       "                         title  \\\n",
       "0  Do schools kill creativity?   \n",
       "\n",
       "                                                 url     views  \\\n",
       "0  https://www.ted.com/talks/ken_robinson_says_sc...  47227110   \n",
       "\n",
       "                                          transcript  \n",
       "0  Good morning. How are you?(Laughter)It's been ...  "
      ]
     },
     "execution_count": 20,
     "metadata": {},
     "output_type": "execute_result"
    }
   ],
   "source": [
    "# join meta data with transcripts for all talks\n",
    "df_all = df_meta.merge(df_scripts, on='url')\n",
    "print(len(df_all))\n",
    "df_all.head(1)"
   ]
  },
  {
   "cell_type": "code",
   "execution_count": 23,
   "metadata": {},
   "outputs": [
    {
     "name": "stdout",
     "output_type": "stream",
     "text": [
      "Kenichi Ebina: My magic moves\n",
      "(Applause)(Music)(Applause)\n"
     ]
    }
   ],
   "source": [
    "N = 146\n",
    "print(df_all.name[N])\n",
    "print(df_scripts.transcript[N])"
   ]
  },
  {
   "cell_type": "code",
   "execution_count": 66,
   "metadata": {
    "scrolled": true
   },
   "outputs": [
    {
     "name": "stdout",
     "output_type": "stream",
     "text": [
      "147\n"
     ]
    },
    {
     "data": {
      "text/html": [
       "<div>\n",
       "<style>\n",
       "    .dataframe thead tr:only-child th {\n",
       "        text-align: right;\n",
       "    }\n",
       "\n",
       "    .dataframe thead th {\n",
       "        text-align: left;\n",
       "    }\n",
       "\n",
       "    .dataframe tbody tr th {\n",
       "        vertical-align: top;\n",
       "    }\n",
       "</style>\n",
       "<table border=\"1\" class=\"dataframe\">\n",
       "  <thead>\n",
       "    <tr style=\"text-align: right;\">\n",
       "      <th></th>\n",
       "      <th>comments</th>\n",
       "      <th>description</th>\n",
       "      <th>duration</th>\n",
       "      <th>event</th>\n",
       "      <th>film_date</th>\n",
       "      <th>languages</th>\n",
       "      <th>main_speaker</th>\n",
       "      <th>name</th>\n",
       "      <th>num_speaker</th>\n",
       "      <th>published_date</th>\n",
       "      <th>ratings</th>\n",
       "      <th>related_talks</th>\n",
       "      <th>speaker_occupation</th>\n",
       "      <th>tags</th>\n",
       "      <th>title</th>\n",
       "      <th>url</th>\n",
       "      <th>views</th>\n",
       "      <th>transcript</th>\n",
       "    </tr>\n",
       "  </thead>\n",
       "  <tbody>\n",
       "    <tr>\n",
       "      <th>0</th>\n",
       "      <td>4553</td>\n",
       "      <td>Sir Ken Robinson makes an entertaining and pro...</td>\n",
       "      <td>1164</td>\n",
       "      <td>TED2006</td>\n",
       "      <td>1140825600</td>\n",
       "      <td>60</td>\n",
       "      <td>Ken Robinson</td>\n",
       "      <td>Ken Robinson: Do schools kill creativity?</td>\n",
       "      <td>1</td>\n",
       "      <td>1151367060</td>\n",
       "      <td>[{'id': 7, 'name': 'Funny', 'count': 19645}, {...</td>\n",
       "      <td>[{'id': 865, 'hero': 'https://pe.tedcdn.com/im...</td>\n",
       "      <td>Author/educator</td>\n",
       "      <td>['children', 'creativity', 'culture', 'dance',...</td>\n",
       "      <td>Do schools kill creativity?</td>\n",
       "      <td>https://www.ted.com/talks/ken_robinson_says_sc...</td>\n",
       "      <td>47227110</td>\n",
       "      <td>Good morning. How are you?(Laughter)It's been ...</td>\n",
       "    </tr>\n",
       "  </tbody>\n",
       "</table>\n",
       "</div>"
      ],
      "text/plain": [
       "   comments                                        description  duration  \\\n",
       "0      4553  Sir Ken Robinson makes an entertaining and pro...      1164   \n",
       "\n",
       "     event   film_date  languages  main_speaker  \\\n",
       "0  TED2006  1140825600         60  Ken Robinson   \n",
       "\n",
       "                                        name  num_speaker  published_date  \\\n",
       "0  Ken Robinson: Do schools kill creativity?            1      1151367060   \n",
       "\n",
       "                                             ratings  \\\n",
       "0  [{'id': 7, 'name': 'Funny', 'count': 19645}, {...   \n",
       "\n",
       "                                       related_talks speaker_occupation  \\\n",
       "0  [{'id': 865, 'hero': 'https://pe.tedcdn.com/im...    Author/educator   \n",
       "\n",
       "                                                tags  \\\n",
       "0  ['children', 'creativity', 'culture', 'dance',...   \n",
       "\n",
       "                         title  \\\n",
       "0  Do schools kill creativity?   \n",
       "\n",
       "                                                 url     views  \\\n",
       "0  https://www.ted.com/talks/ken_robinson_says_sc...  47227110   \n",
       "\n",
       "                                          transcript  \n",
       "0  Good morning. How are you?(Laughter)It's been ...  "
      ]
     },
     "execution_count": 66,
     "metadata": {},
     "output_type": "execute_result"
    }
   ],
   "source": [
    "# select talks tagged with \"education\"\n",
    "df_edu = df_all[df_all['tags'].apply(lambda x: 'education' in x)]\n",
    "print(len(df_edu))\n",
    "df_edu.head(1)"
   ]
  },
  {
   "cell_type": "markdown",
   "metadata": {},
   "source": [
    "### Load scraped data"
   ]
  },
  {
   "cell_type": "code",
   "execution_count": 26,
   "metadata": {},
   "outputs": [
    {
     "data": {
      "text/html": [
       "<div>\n",
       "<style>\n",
       "    .dataframe thead tr:only-child th {\n",
       "        text-align: right;\n",
       "    }\n",
       "\n",
       "    .dataframe thead th {\n",
       "        text-align: left;\n",
       "    }\n",
       "\n",
       "    .dataframe tbody tr th {\n",
       "        vertical-align: top;\n",
       "    }\n",
       "</style>\n",
       "<table border=\"1\" class=\"dataframe\">\n",
       "  <thead>\n",
       "    <tr style=\"text-align: right;\">\n",
       "      <th></th>\n",
       "      <th>_id</th>\n",
       "      <th>link</th>\n",
       "      <th>speaker</th>\n",
       "      <th>title</th>\n",
       "      <th>transcript</th>\n",
       "    </tr>\n",
       "  </thead>\n",
       "  <tbody>\n",
       "    <tr>\n",
       "      <th>0</th>\n",
       "      <td>5aa5633ed659da7c9b7748ab</td>\n",
       "      <td>/talks/petter_johansson_do_you_really_know_why...</td>\n",
       "      <td>Petter Johansson</td>\n",
       "      <td>Do you really know why you do what you do?</td>\n",
       "      <td>So why do you think the rich should pay more i...</td>\n",
       "    </tr>\n",
       "    <tr>\n",
       "      <th>1</th>\n",
       "      <td>5aa56340d659da7c9b7748ac</td>\n",
       "      <td>/talks/sophie_andrews_the_best_way_to_help_is_...</td>\n",
       "      <td>Sophie Andrews</td>\n",
       "      <td>The best way to help is often just to listen</td>\n",
       "      <td>After cutting her arm with a broken glass, she...</td>\n",
       "    </tr>\n",
       "    <tr>\n",
       "      <th>2</th>\n",
       "      <td>5aa56342d659da7c9b7748ad</td>\n",
       "      <td>/talks/musimbi_kanyoro_to_solve_the_world_s_bi...</td>\n",
       "      <td>Musimbi Kanyoro</td>\n",
       "      <td>To solve the world's biggest problems, invest ...</td>\n",
       "      <td>My mother was a philanthropist. And now I know...</td>\n",
       "    </tr>\n",
       "    <tr>\n",
       "      <th>3</th>\n",
       "      <td>5aa56343d659da7c9b7748ae</td>\n",
       "      <td>/talks/simone_bianco_and_tom_zimmerman_the_won...</td>\n",
       "      <td>Simone Bianco and Tom Zimmerman</td>\n",
       "      <td>The wonderful world of life in a drop of water</td>\n",
       "      <td>Tom Zimmerman: We'd like to take you on a fant...</td>\n",
       "    </tr>\n",
       "    <tr>\n",
       "      <th>4</th>\n",
       "      <td>5aa56345d659da7c9b7748af</td>\n",
       "      <td>/talks/naomi_klein_how_shocking_events_can_spa...</td>\n",
       "      <td>Naomi Klein</td>\n",
       "      <td>How shocking events can spark positive change</td>\n",
       "      <td></td>\n",
       "    </tr>\n",
       "  </tbody>\n",
       "</table>\n",
       "</div>"
      ],
      "text/plain": [
       "                        _id  \\\n",
       "0  5aa5633ed659da7c9b7748ab   \n",
       "1  5aa56340d659da7c9b7748ac   \n",
       "2  5aa56342d659da7c9b7748ad   \n",
       "3  5aa56343d659da7c9b7748ae   \n",
       "4  5aa56345d659da7c9b7748af   \n",
       "\n",
       "                                                link  \\\n",
       "0  /talks/petter_johansson_do_you_really_know_why...   \n",
       "1  /talks/sophie_andrews_the_best_way_to_help_is_...   \n",
       "2  /talks/musimbi_kanyoro_to_solve_the_world_s_bi...   \n",
       "3  /talks/simone_bianco_and_tom_zimmerman_the_won...   \n",
       "4  /talks/naomi_klein_how_shocking_events_can_spa...   \n",
       "\n",
       "                           speaker  \\\n",
       "0                 Petter Johansson   \n",
       "1                   Sophie Andrews   \n",
       "2                  Musimbi Kanyoro   \n",
       "3  Simone Bianco and Tom Zimmerman   \n",
       "4                      Naomi Klein   \n",
       "\n",
       "                                               title  \\\n",
       "0         Do you really know why you do what you do?   \n",
       "1       The best way to help is often just to listen   \n",
       "2  To solve the world's biggest problems, invest ...   \n",
       "3     The wonderful world of life in a drop of water   \n",
       "4      How shocking events can spark positive change   \n",
       "\n",
       "                                          transcript  \n",
       "0  So why do you think the rich should pay more i...  \n",
       "1  After cutting her arm with a broken glass, she...  \n",
       "2  My mother was a philanthropist. And now I know...  \n",
       "3  Tom Zimmerman: We'd like to take you on a fant...  \n",
       "4                                                     "
      ]
     },
     "execution_count": 26,
     "metadata": {},
     "output_type": "execute_result"
    }
   ],
   "source": [
    "df_scrape = pd.read_pickle('./data/TED_scraped.pkl')\n",
    "df_scrape.head()"
   ]
  },
  {
   "cell_type": "code",
   "execution_count": 30,
   "metadata": {
    "collapsed": true
   },
   "outputs": [],
   "source": [
    "df_scrape = df_scrape.rename(columns={'speaker':'main_speaker'})"
   ]
  },
  {
   "cell_type": "code",
   "execution_count": 33,
   "metadata": {
    "scrolled": true
   },
   "outputs": [
    {
     "data": {
      "text/html": [
       "<div>\n",
       "<style>\n",
       "    .dataframe thead tr:only-child th {\n",
       "        text-align: right;\n",
       "    }\n",
       "\n",
       "    .dataframe thead th {\n",
       "        text-align: left;\n",
       "    }\n",
       "\n",
       "    .dataframe tbody tr th {\n",
       "        vertical-align: top;\n",
       "    }\n",
       "</style>\n",
       "<table border=\"1\" class=\"dataframe\">\n",
       "  <thead>\n",
       "    <tr style=\"text-align: right;\">\n",
       "      <th></th>\n",
       "      <th>link</th>\n",
       "      <th>main_speaker</th>\n",
       "      <th>title</th>\n",
       "      <th>transcript</th>\n",
       "    </tr>\n",
       "  </thead>\n",
       "  <tbody>\n",
       "    <tr>\n",
       "      <th>0</th>\n",
       "      <td>/talks/petter_johansson_do_you_really_know_why...</td>\n",
       "      <td>Petter Johansson</td>\n",
       "      <td>Do you really know why you do what you do?</td>\n",
       "      <td>So why do you think the rich should pay more i...</td>\n",
       "    </tr>\n",
       "    <tr>\n",
       "      <th>1</th>\n",
       "      <td>/talks/sophie_andrews_the_best_way_to_help_is_...</td>\n",
       "      <td>Sophie Andrews</td>\n",
       "      <td>The best way to help is often just to listen</td>\n",
       "      <td>After cutting her arm with a broken glass, she...</td>\n",
       "    </tr>\n",
       "    <tr>\n",
       "      <th>2</th>\n",
       "      <td>/talks/musimbi_kanyoro_to_solve_the_world_s_bi...</td>\n",
       "      <td>Musimbi Kanyoro</td>\n",
       "      <td>To solve the world's biggest problems, invest ...</td>\n",
       "      <td>My mother was a philanthropist. And now I know...</td>\n",
       "    </tr>\n",
       "    <tr>\n",
       "      <th>3</th>\n",
       "      <td>/talks/simone_bianco_and_tom_zimmerman_the_won...</td>\n",
       "      <td>Simone Bianco and Tom Zimmerman</td>\n",
       "      <td>The wonderful world of life in a drop of water</td>\n",
       "      <td>Tom Zimmerman: We'd like to take you on a fant...</td>\n",
       "    </tr>\n",
       "    <tr>\n",
       "      <th>4</th>\n",
       "      <td>/talks/naomi_klein_how_shocking_events_can_spa...</td>\n",
       "      <td>Naomi Klein</td>\n",
       "      <td>How shocking events can spark positive change</td>\n",
       "      <td></td>\n",
       "    </tr>\n",
       "  </tbody>\n",
       "</table>\n",
       "</div>"
      ],
      "text/plain": [
       "                                                link  \\\n",
       "0  /talks/petter_johansson_do_you_really_know_why...   \n",
       "1  /talks/sophie_andrews_the_best_way_to_help_is_...   \n",
       "2  /talks/musimbi_kanyoro_to_solve_the_world_s_bi...   \n",
       "3  /talks/simone_bianco_and_tom_zimmerman_the_won...   \n",
       "4  /talks/naomi_klein_how_shocking_events_can_spa...   \n",
       "\n",
       "                      main_speaker  \\\n",
       "0                 Petter Johansson   \n",
       "1                   Sophie Andrews   \n",
       "2                  Musimbi Kanyoro   \n",
       "3  Simone Bianco and Tom Zimmerman   \n",
       "4                      Naomi Klein   \n",
       "\n",
       "                                               title  \\\n",
       "0         Do you really know why you do what you do?   \n",
       "1       The best way to help is often just to listen   \n",
       "2  To solve the world's biggest problems, invest ...   \n",
       "3     The wonderful world of life in a drop of water   \n",
       "4      How shocking events can spark positive change   \n",
       "\n",
       "                                          transcript  \n",
       "0  So why do you think the rich should pay more i...  \n",
       "1  After cutting her arm with a broken glass, she...  \n",
       "2  My mother was a philanthropist. And now I know...  \n",
       "3  Tom Zimmerman: We'd like to take you on a fant...  \n",
       "4                                                     "
      ]
     },
     "execution_count": 33,
     "metadata": {},
     "output_type": "execute_result"
    }
   ],
   "source": [
    "df_scrape = df_scrape.drop(['_id'],axis=1)\n",
    "df_scrape.head()"
   ]
  },
  {
   "cell_type": "code",
   "execution_count": 39,
   "metadata": {},
   "outputs": [
    {
     "data": {
      "text/plain": [
       "57"
      ]
     },
     "execution_count": 39,
     "metadata": {},
     "output_type": "execute_result"
    }
   ],
   "source": [
    "inds = []\n",
    "for i in range(len(df_scrape)):\n",
    "    if len(df_scrape.iloc[i].transcript) > 0:\n",
    "        inds.append(i)\n",
    "len(inds)"
   ]
  },
  {
   "cell_type": "code",
   "execution_count": 40,
   "metadata": {
    "collapsed": true
   },
   "outputs": [],
   "source": [
    "df_scrape = df_scrape.iloc[inds]"
   ]
  },
  {
   "cell_type": "code",
   "execution_count": 43,
   "metadata": {
    "collapsed": true
   },
   "outputs": [],
   "source": [
    "df_all = pd.concat([df_all,df_scrape])"
   ]
  },
  {
   "cell_type": "code",
   "execution_count": 44,
   "metadata": {},
   "outputs": [
    {
     "data": {
      "text/plain": [
       "2524"
      ]
     },
     "execution_count": 44,
     "metadata": {},
     "output_type": "execute_result"
    }
   ],
   "source": [
    "len(df_all)"
   ]
  },
  {
   "cell_type": "code",
   "execution_count": 45,
   "metadata": {},
   "outputs": [
    {
     "data": {
      "text/html": [
       "<div>\n",
       "<style>\n",
       "    .dataframe thead tr:only-child th {\n",
       "        text-align: right;\n",
       "    }\n",
       "\n",
       "    .dataframe thead th {\n",
       "        text-align: left;\n",
       "    }\n",
       "\n",
       "    .dataframe tbody tr th {\n",
       "        vertical-align: top;\n",
       "    }\n",
       "</style>\n",
       "<table border=\"1\" class=\"dataframe\">\n",
       "  <thead>\n",
       "    <tr style=\"text-align: right;\">\n",
       "      <th></th>\n",
       "      <th>comments</th>\n",
       "      <th>description</th>\n",
       "      <th>duration</th>\n",
       "      <th>event</th>\n",
       "      <th>film_date</th>\n",
       "      <th>languages</th>\n",
       "      <th>link</th>\n",
       "      <th>main_speaker</th>\n",
       "      <th>name</th>\n",
       "      <th>num_speaker</th>\n",
       "      <th>published_date</th>\n",
       "      <th>ratings</th>\n",
       "      <th>related_talks</th>\n",
       "      <th>speaker_occupation</th>\n",
       "      <th>tags</th>\n",
       "      <th>title</th>\n",
       "      <th>transcript</th>\n",
       "      <th>url</th>\n",
       "      <th>views</th>\n",
       "    </tr>\n",
       "  </thead>\n",
       "  <tbody>\n",
       "    <tr>\n",
       "      <th>0</th>\n",
       "      <td>4553.0</td>\n",
       "      <td>Sir Ken Robinson makes an entertaining and pro...</td>\n",
       "      <td>1164.0</td>\n",
       "      <td>TED2006</td>\n",
       "      <td>1.140826e+09</td>\n",
       "      <td>60.0</td>\n",
       "      <td>NaN</td>\n",
       "      <td>Ken Robinson</td>\n",
       "      <td>Ken Robinson: Do schools kill creativity?</td>\n",
       "      <td>1.0</td>\n",
       "      <td>1.151367e+09</td>\n",
       "      <td>[{'id': 7, 'name': 'Funny', 'count': 19645}, {...</td>\n",
       "      <td>[{'id': 865, 'hero': 'https://pe.tedcdn.com/im...</td>\n",
       "      <td>Author/educator</td>\n",
       "      <td>['children', 'creativity', 'culture', 'dance',...</td>\n",
       "      <td>Do schools kill creativity?</td>\n",
       "      <td>Good morning. How are you?(Laughter)It's been ...</td>\n",
       "      <td>https://www.ted.com/talks/ken_robinson_says_sc...</td>\n",
       "      <td>47227110.0</td>\n",
       "    </tr>\n",
       "    <tr>\n",
       "      <th>1</th>\n",
       "      <td>265.0</td>\n",
       "      <td>With the same humor and humanity he exuded in ...</td>\n",
       "      <td>977.0</td>\n",
       "      <td>TED2006</td>\n",
       "      <td>1.140826e+09</td>\n",
       "      <td>43.0</td>\n",
       "      <td>NaN</td>\n",
       "      <td>Al Gore</td>\n",
       "      <td>Al Gore: Averting the climate crisis</td>\n",
       "      <td>1.0</td>\n",
       "      <td>1.151367e+09</td>\n",
       "      <td>[{'id': 7, 'name': 'Funny', 'count': 544}, {'i...</td>\n",
       "      <td>[{'id': 243, 'hero': 'https://pe.tedcdn.com/im...</td>\n",
       "      <td>Climate advocate</td>\n",
       "      <td>['alternative energy', 'cars', 'climate change...</td>\n",
       "      <td>Averting the climate crisis</td>\n",
       "      <td>Thank you so much, Chris. And it's truly a gre...</td>\n",
       "      <td>https://www.ted.com/talks/al_gore_on_averting_...</td>\n",
       "      <td>3200520.0</td>\n",
       "    </tr>\n",
       "    <tr>\n",
       "      <th>2</th>\n",
       "      <td>124.0</td>\n",
       "      <td>New York Times columnist David Pogue takes aim...</td>\n",
       "      <td>1286.0</td>\n",
       "      <td>TED2006</td>\n",
       "      <td>1.140739e+09</td>\n",
       "      <td>26.0</td>\n",
       "      <td>NaN</td>\n",
       "      <td>David Pogue</td>\n",
       "      <td>David Pogue: Simplicity sells</td>\n",
       "      <td>1.0</td>\n",
       "      <td>1.151367e+09</td>\n",
       "      <td>[{'id': 7, 'name': 'Funny', 'count': 964}, {'i...</td>\n",
       "      <td>[{'id': 1725, 'hero': 'https://pe.tedcdn.com/i...</td>\n",
       "      <td>Technology columnist</td>\n",
       "      <td>['computers', 'entertainment', 'interface desi...</td>\n",
       "      <td>Simplicity sells</td>\n",
       "      <td>(Music: \"The Sound of Silence,\" Simon &amp; Garfun...</td>\n",
       "      <td>https://www.ted.com/talks/david_pogue_says_sim...</td>\n",
       "      <td>1636292.0</td>\n",
       "    </tr>\n",
       "    <tr>\n",
       "      <th>3</th>\n",
       "      <td>200.0</td>\n",
       "      <td>In an emotionally charged talk, MacArthur-winn...</td>\n",
       "      <td>1116.0</td>\n",
       "      <td>TED2006</td>\n",
       "      <td>1.140912e+09</td>\n",
       "      <td>35.0</td>\n",
       "      <td>NaN</td>\n",
       "      <td>Majora Carter</td>\n",
       "      <td>Majora Carter: Greening the ghetto</td>\n",
       "      <td>1.0</td>\n",
       "      <td>1.151367e+09</td>\n",
       "      <td>[{'id': 3, 'name': 'Courageous', 'count': 760}...</td>\n",
       "      <td>[{'id': 1041, 'hero': 'https://pe.tedcdn.com/i...</td>\n",
       "      <td>Activist for environmental justice</td>\n",
       "      <td>['MacArthur grant', 'activism', 'business', 'c...</td>\n",
       "      <td>Greening the ghetto</td>\n",
       "      <td>If you're here today — and I'm very happy that...</td>\n",
       "      <td>https://www.ted.com/talks/majora_carter_s_tale...</td>\n",
       "      <td>1697550.0</td>\n",
       "    </tr>\n",
       "    <tr>\n",
       "      <th>4</th>\n",
       "      <td>593.0</td>\n",
       "      <td>You've never seen data presented like this. Wi...</td>\n",
       "      <td>1190.0</td>\n",
       "      <td>TED2006</td>\n",
       "      <td>1.140566e+09</td>\n",
       "      <td>48.0</td>\n",
       "      <td>NaN</td>\n",
       "      <td>Hans Rosling</td>\n",
       "      <td>Hans Rosling: The best stats you've ever seen</td>\n",
       "      <td>1.0</td>\n",
       "      <td>1.151441e+09</td>\n",
       "      <td>[{'id': 9, 'name': 'Ingenious', 'count': 3202}...</td>\n",
       "      <td>[{'id': 2056, 'hero': 'https://pe.tedcdn.com/i...</td>\n",
       "      <td>Global health expert; data visionary</td>\n",
       "      <td>['Africa', 'Asia', 'Google', 'demo', 'economic...</td>\n",
       "      <td>The best stats you've ever seen</td>\n",
       "      <td>About 10 years ago, I took on the task to teac...</td>\n",
       "      <td>https://www.ted.com/talks/hans_rosling_shows_t...</td>\n",
       "      <td>12005869.0</td>\n",
       "    </tr>\n",
       "  </tbody>\n",
       "</table>\n",
       "</div>"
      ],
      "text/plain": [
       "   comments                                        description  duration  \\\n",
       "0    4553.0  Sir Ken Robinson makes an entertaining and pro...    1164.0   \n",
       "1     265.0  With the same humor and humanity he exuded in ...     977.0   \n",
       "2     124.0  New York Times columnist David Pogue takes aim...    1286.0   \n",
       "3     200.0  In an emotionally charged talk, MacArthur-winn...    1116.0   \n",
       "4     593.0  You've never seen data presented like this. Wi...    1190.0   \n",
       "\n",
       "     event     film_date  languages link   main_speaker  \\\n",
       "0  TED2006  1.140826e+09       60.0  NaN   Ken Robinson   \n",
       "1  TED2006  1.140826e+09       43.0  NaN        Al Gore   \n",
       "2  TED2006  1.140739e+09       26.0  NaN    David Pogue   \n",
       "3  TED2006  1.140912e+09       35.0  NaN  Majora Carter   \n",
       "4  TED2006  1.140566e+09       48.0  NaN   Hans Rosling   \n",
       "\n",
       "                                            name  num_speaker  published_date  \\\n",
       "0      Ken Robinson: Do schools kill creativity?          1.0    1.151367e+09   \n",
       "1           Al Gore: Averting the climate crisis          1.0    1.151367e+09   \n",
       "2                  David Pogue: Simplicity sells          1.0    1.151367e+09   \n",
       "3             Majora Carter: Greening the ghetto          1.0    1.151367e+09   \n",
       "4  Hans Rosling: The best stats you've ever seen          1.0    1.151441e+09   \n",
       "\n",
       "                                             ratings  \\\n",
       "0  [{'id': 7, 'name': 'Funny', 'count': 19645}, {...   \n",
       "1  [{'id': 7, 'name': 'Funny', 'count': 544}, {'i...   \n",
       "2  [{'id': 7, 'name': 'Funny', 'count': 964}, {'i...   \n",
       "3  [{'id': 3, 'name': 'Courageous', 'count': 760}...   \n",
       "4  [{'id': 9, 'name': 'Ingenious', 'count': 3202}...   \n",
       "\n",
       "                                       related_talks  \\\n",
       "0  [{'id': 865, 'hero': 'https://pe.tedcdn.com/im...   \n",
       "1  [{'id': 243, 'hero': 'https://pe.tedcdn.com/im...   \n",
       "2  [{'id': 1725, 'hero': 'https://pe.tedcdn.com/i...   \n",
       "3  [{'id': 1041, 'hero': 'https://pe.tedcdn.com/i...   \n",
       "4  [{'id': 2056, 'hero': 'https://pe.tedcdn.com/i...   \n",
       "\n",
       "                     speaker_occupation  \\\n",
       "0                       Author/educator   \n",
       "1                      Climate advocate   \n",
       "2                  Technology columnist   \n",
       "3    Activist for environmental justice   \n",
       "4  Global health expert; data visionary   \n",
       "\n",
       "                                                tags  \\\n",
       "0  ['children', 'creativity', 'culture', 'dance',...   \n",
       "1  ['alternative energy', 'cars', 'climate change...   \n",
       "2  ['computers', 'entertainment', 'interface desi...   \n",
       "3  ['MacArthur grant', 'activism', 'business', 'c...   \n",
       "4  ['Africa', 'Asia', 'Google', 'demo', 'economic...   \n",
       "\n",
       "                             title  \\\n",
       "0      Do schools kill creativity?   \n",
       "1      Averting the climate crisis   \n",
       "2                 Simplicity sells   \n",
       "3              Greening the ghetto   \n",
       "4  The best stats you've ever seen   \n",
       "\n",
       "                                          transcript  \\\n",
       "0  Good morning. How are you?(Laughter)It's been ...   \n",
       "1  Thank you so much, Chris. And it's truly a gre...   \n",
       "2  (Music: \"The Sound of Silence,\" Simon & Garfun...   \n",
       "3  If you're here today — and I'm very happy that...   \n",
       "4  About 10 years ago, I took on the task to teac...   \n",
       "\n",
       "                                                 url       views  \n",
       "0  https://www.ted.com/talks/ken_robinson_says_sc...  47227110.0  \n",
       "1  https://www.ted.com/talks/al_gore_on_averting_...   3200520.0  \n",
       "2  https://www.ted.com/talks/david_pogue_says_sim...   1636292.0  \n",
       "3  https://www.ted.com/talks/majora_carter_s_tale...   1697550.0  \n",
       "4  https://www.ted.com/talks/hans_rosling_shows_t...  12005869.0  "
      ]
     },
     "execution_count": 45,
     "metadata": {},
     "output_type": "execute_result"
    }
   ],
   "source": [
    "df_all.head()"
   ]
  },
  {
   "cell_type": "markdown",
   "metadata": {},
   "source": [
    "### Basic processing on the transcripts"
   ]
  },
  {
   "cell_type": "code",
   "execution_count": 46,
   "metadata": {
    "collapsed": true
   },
   "outputs": [],
   "source": [
    "docs_all_raw = list(df_all['transcript'])\n",
    "# docs_edu_raw = list(df_edu['transcript'])"
   ]
  },
  {
   "cell_type": "code",
   "execution_count": 47,
   "metadata": {},
   "outputs": [
    {
     "data": {
      "text/plain": [
       "17409"
      ]
     },
     "execution_count": 47,
     "metadata": {},
     "output_type": "execute_result"
    }
   ],
   "source": [
    "len(docs_all_raw[0])"
   ]
  },
  {
   "cell_type": "code",
   "execution_count": 63,
   "metadata": {},
   "outputs": [
    {
     "name": "stdout",
     "output_type": "stream",
     "text": [
      "So today, I would like to talk with you about bionics, which is the popular term for the science of replacing part of a living organism with a mechatronic device, or a robot. It is essentially the stuff of life meets machine. And specifically, I'd like to talk with you about how bionics is evolving for people with arm amputations.This is our motivation. Arm amputation causes a huge disability. I mean, the functional impairment is clear. Our hands are amazing instruments. And when you lose one, far less both, it's a lot harder to do the things we physically need to do. There's also a huge emotional impact. And actually, I spend as much of my time in clinic dealing with the emotional adjustment of patients as with the physical disability. And finally, there's a profound social impact. We talk with our hands. We greet with our hands. And we interact with the physical world with our hands. And when they're missing, it's a barrier. Arm amputation is usually caused by trauma, with things like industrial accidents, motor vehicle collisions or, very poignantly, war. There are also some children who are born without arms, called congenital limb deficiency.Unfortunately, we don't do great with upper-limb prosthetics. There are two general types. They're called body-powered prostheses, which were invented just after the Civil War, refined in World War I and World War II. Here you see a patent for an arm in 1912. It's not a lot different than the one you see on my patient. They work by harnessing shoulder power. So when you squish your shoulders, they pull on a bicycle cable. And that bicycle cable can open or close a hand or a hook or bend an elbow. And we still use them commonly, because they're very robust and relatively simple devices.The state of the art is what we call myoelectric prostheses. These are motorized devices that are controlled by little electrical signals from your muscle. Every time you contract a muscle, it emits a little electricity that you can record with antennae or electrodes and use that to operate the motorized prosthesis. They work pretty well for people who have just lost their hand, because your hand muscles are still there. You squeeze your hand, these muscles contract. You open it, these muscles contract. So it's intuitive, and it works pretty well.Well how about with higher levels of amputation? Now you've lost your arm above the elbow. You're missing not only these muscles, but your hand and your elbow too. What do you do? Well our patients have to use very code-y systems of using just their arm muscles to operate robotic limbs. We have robotic limbs. There are several available on the market, and here you see a few. They contain just a hand that will open and close, a wrist rotator and an elbow. There's no other functions. If they did, how would we tell them what to do?We built our own arm at the Rehab Institute of Chicago where we've added some wrist flexion and shoulder joints to get up to six motors, or six degrees of freedom. And we've had the opportunity to work with some very advanced arms that were funded by the U.S. military, using these prototypes, that had up to 10 different degrees of freedom including movable hands. But at the end of the day, how do we tell these robotic arms what to do? How do we control them? Well we need a neural interface, a way to connect to our nervous system or our thought processes so that it's intuitive, it's natural, like for you and I.Well the body works by starting a motor command in your brain, going down your spinal cord, out the nerves and to your periphery. And your sensation's the exact opposite. You touch yourself, there's a stimulus that comes up those very same nerves back up to your brain. When you lose your arm, that nervous system still works. Those nerves can put out command signals. And if I tap the nerve ending on a World War II vet, he'll still feel his missing hand. So you might say, let's go to the brain and put something in the brain to record signals, or in the end of the peripheral nerve and record them there. And these are very exciting research areas, but it's really, really hard. You have to put in hundreds of microscopic wires to record from little tiny individual neurons — ordinary fibers that put out tiny signals that are microvolts. And it's just too hard to use now and for my patients today.So we developed a different approach. We're using a biological amplifier to amplify these nerve signals — muscles. Muscles will amplify the nerve signals about a thousand-fold, so that we can record them from on top of the skin, like you saw earlier. So our approach is something we call targeted reinnervation. Imagine, with somebody who's lost their whole arm, we still have four major nerves that go down your arm. And we take the nerve away from your chest muscle and let these nerves grow into it. Now you think, \"Close hand,\" and a little section of your chest contracts. You think, \"Bend elbow,\" a different section contracts. And we can use electrodes or antennae to pick that up and tell the arm to move. That's the idea.So this is the first man that we tried it on. His name is Jesse Sullivan. He's just a saint of a man — 54-year-old lineman who touched the wrong wire and had both of his arms burnt so badly they had to be amputated at the shoulder. Jesse came to us at the RIC to be fit with these state-of-the-art devices, and here you see them. I'm still using that old technology with a bicycle cable on his right side. And he picks which joint he wants to move with those chin switches. On the left side he's got a modern motorized prosthesis with those three joints, and he operates little pads in his shoulder that he touches to make the arm go. And Jesse's a good crane operator, and he did okay by our standards.He also required a revision surgery on his chest. And that gave us the opportunity to do targeted reinnervation. So my colleague, Dr. Greg Dumanian, did the surgery. First, we cut away the nerve to his own muscle, then we took the arm nerves and just kind of had them shift down onto his chest and closed him up. And after about three months, the nerves grew in a little bit and we could get a twitch. And after six months, the nerves grew in well, and you could see strong contractions. And this is what it looks like. This is what happens when Jesse thinks open and close his hand, or bend or straighten your elbow. You can see the movements on his chest, and those little hash marks are where we put our antennae, or electrodes. And I challenge anybody in the room to make their chest go like this. His brain is thinking about his arm. He has not learned how to do this with the chest. There is not a learning process. That's why it's intuitive.So here's Jesse in our first little test with him. On the left-hand side, you see his original prosthesis, and he's using those switches to move little blocks from one box to the other. He's had that arm for about 20 months, so he's pretty good with it. On the right side, two months after we fit him with his targeted reinnervation prosthesis — which, by the way, is the same physical arm, just programmed a little different — you can see that he's much faster and much smoother as he moves these little blocks. And we're only able to use three of the signals at this time.Then we had one of those little surprises in science. So we're all motivated to get motor commands to drive robotic arms. And after a few months, you touch Jesse on his chest, and he felt his missing hand. His hand sensation grew into his chest again probably because we had also taken away a lot of fat, so the skin was right down to the muscle and deinnervated, if you would, his skin. So you touch Jesse here, he feels his thumb; you touch it here, he feels his pinky. He feels light touch down to one gram of force. He feels hot, cold, sharp, dull, all in his missing hand, or both his hand and his chest, but he can attend to either. So this is really exciting for us, because now we have a portal, a portal, or a way to potentially give back sensation, so that he might feel what he touches with his prosthetic hand. Imagine sensors in the hand coming up and pressing on this new hand skin. So it was very exciting.We've also gone on with what was initially our primary population of people with above-the-elbow amputations. And here we deinnervate, or cut the nerve away, just from little segments of muscle and leave others alone that give us our up-down signals and two others that will give us a hand open and close signal. This was one of our first patients, Chris. You see him with his original device on the left there after eight months of use, and on the right, it is two months. He's about four or five times as fast with this simple little performance metric.All right. So one of the best parts of my job is working with really great patients who are also our research collaborators. And we're fortunate today to have Amanda Kitts come and join us. Please welcome Amanda Kitts.(Applause)So Amanda, would you please tell us how you lost your arm?Amanda Kitts: Sure. In 2006, I had a car accident. And I was driving home from work, and a truck was coming the opposite direction, came over into my lane, ran over the top of my car and his axle tore my arm off.Todd Kuiken: Okay, so after your amputation, you healed up. And you've got one of these conventional arms. Can you tell us how it worked?AK: Well, it was a little difficult, because all I had to work with was a bicep and a tricep. So for the simple little things like picking something up, I would have to bend my elbow, and then I would have to cocontract to get it to change modes. When I did that, I had to use my bicep to get the hand to close, use my tricep to get it to open, cocontract again to get the elbow to work again.TK: So it was a little slow?AK: A little slow, and it was just hard to work. You had to concentrate a whole lot.TK: Okay, so I think about nine months later that you had the targeted reinnervation surgery, took six more months to have all the reinnervation. Then we fit her with a prosthesis. And how did that work for you?AK: It works good. I was able to use my elbow and my hand simultaneously. I could work them just by my thoughts. So I didn't have to do any of the cocontracting and all that.TK: A little faster?AK: A little faster. And much more easy, much more natural.TK: Okay, this was my goal. For 20 years, my goal was to let somebody [be] able to use their elbow and hand in an intuitive way and at the same time. And we now have over 50 patients around the world who have had this surgery, including over a dozen of our wounded warriors in the U.S. armed services. The success rate of the nerve transfers is very high. It's like 96 percent. Because we're putting a big fat nerve onto a little piece of muscle. And it provides intuitive control. Our functional testing, those little tests, all show that they're a lot quicker and a lot easier. And the most important thing is our patients have appreciated it.So that was all very exciting. But we want to do better. There's a lot of information in those nerve signals, and we wanted to get more. You can move each finger. You can move your thumb, your wrist. Can we get more out of it? So we did some experiments where we saturated our poor patients with zillions of electrodes and then had them try to do two dozen different tasks — from wiggling a finger to moving a whole arm to reaching for something — and recorded this data. And then we used some algorithms that are a lot like speech recognition algorithms, called pattern recognition. See.(Laughter)And here you can see, on Jesse's chest, when he just tried to do three different things, you can see three different patterns. But I can't put in an electrode and say, \"Go there.\" So we collaborated with our colleagues in University of New Brunswick, came up with this algorithm control, which Amanda can now demonstrate.AK: So I have the elbow that goes up and down. I have the wrist rotation that goes — and it can go all the way around. And I have the wrist flexion and extension. And I also have the hand closed and open.TK: Thank you, Amanda. Now this is a research arm, but it's made out of commercial components from here down and a few that I've borrowed from around the world. It's about seven pounds, which is probably about what my arm would weigh if I lost it right here. Obviously, that's heavy for Amanda. And in fact, it feels even heavier, because it's not glued on the same. She's carrying all the weight through harnesses.So the exciting part isn't so much the mechatronics, but the control. So we've developed a small microcomputer that is blinking somewhere behind her back and is operating this all by the way she trains it to use her individual muscle signals. So Amanda, when you first started using this arm, how long did it take to use it?AK: It took just about probably three to four hours to get it to train. I had to hook it up to a computer, so I couldn't just train it anywhere. So if it stopped working, I just had to take it off. So now it's able to train with just this little piece on the back. I can wear it around. If it stops working for some reason, I can retrain it. Takes about a minute.TK: So we're really excited, because now we're getting to a clinically practical device. And that's where our goal is — to have something clinically pragmatic to wear. We've also had Amanda able to use some of our more advanced arms that I showed you earlier. Here's Amanda using an arm made by DEKA Research Corporation. And I believe Dean Kamen presented it at TED a few years ago. So Amanda, you can see, has really good control. It's all the pattern recognition. And it now has a hand that can do different grasps. What we do is have the patient go all the way open and think, \"What hand grasp pattern do I want?\" It goes into that mode, and then you can do up to five or six different hand grasps with this hand. Amanda, how many were you able to do with the DEKA arm?AK: I was able to get four. I had the key grip, I had a chuck grip, I had a power grasp and I had a fine pinch. But my favorite one was just when the hand was open, because I work with kids, and so all the time you're clapping and singing, so I was able to do that again, which was really good.TK: That hand's not so good for clapping.AK: Can't clap with this one.TK: All right. So that's exciting on where we may go with the better mechatronics, if we make them good enough to put out on the market and use in a field trial. I want you to watch closely.(Video) Claudia: Oooooh!TK: That's Claudia, and that was the first time she got to feel sensation through her prosthetic. She had a little sensor at the end of her prosthesis that then she rubbed over different surfaces, and she could feel different textures of sandpaper, different grits, ribbon cable, as it pushed on her reinnervated hand skin. She said that when she just ran it across the table, it felt like her finger was rocking. So that's an exciting laboratory experiment on how to give back, potentially, some skin sensation.But here's another video that shows some of our challenges. This is Jesse, and he's squeezing a foam toy. And the harder he squeezes — you see a little black thing in the middle that's pushing on his skin proportional to how hard he squeezes. But look at all the electrodes around it. I've got a real estate problem. You're supposed to put a bunch of these things on there, but our little motor's making all kinds of noise right next to my electrodes. So we're really challenged on what we're doing there.The future is bright. We're excited about where we are and a lot of things we want to do. So for example, one is to get rid of my real estate problem and get better signals. We want to develop these little tiny capsules about the size of a piece of risotto that we can put into the muscles and telemeter out the EMG signals, so that it's not worrying about electrode contact. And we can have the real estate open to try more sensation feedback. We want to build a better arm. This arm — they're always made for the 50th percentile male — which means they're too big for five-eighths of the world. So rather than a super strong or super fast arm, we're making an arm that is — we're starting with, the 25th percentile female — that will have a hand that wraps around, opens all the way, two degrees of freedom in the wrist and an elbow. So it'll be the smallest and lightest and the smartest arm ever made. Once we can do it that small, it's a lot easier making them bigger.So those are just some of our goals. And we really appreciate you all being here today. I'd like to tell you a little bit about the dark side, with yesterday's theme. So Amanda came jet-lagged, she's using the arm, and everything goes wrong. There was a computer spook, a broken wire, a converter that sparked. We took out a whole circuit in the hotel and just about put on the fire alarm. And none of those problems could I have dealt with, but I have a really bright research team. And thankfully Dr. Annie Simon was with us and worked really hard yesterday to fix it. That's science. And fortunately, it worked today.So thank you very much.(Applause)\n"
     ]
    }
   ],
   "source": [
    "raw_text = docs_all_raw[1000]\n",
    "print(raw_text)"
   ]
  },
  {
   "cell_type": "code",
   "execution_count": 58,
   "metadata": {},
   "outputs": [
    {
     "name": "stdout",
     "output_type": "stream",
     "text": [
      "it been great hasnt it. ive been blown away by the whole thing. in fact im leaving. there have been three theme running through the conference which are relevant to what i want to talk about. one is the extraordinary evidence of human creativity in all of the presentation that weve had and in all of the people here. just the variety of it and the range of it. the second is that it put u in a place where we have no idea whats going to happen in term of the future. no idea how this may play out. i have an interest in education. actually what i find is everybody ha an interest in education. dont you. i find this very interesting. if youre at a dinner party and you say you work in education actually youre not often at dinner party frankly. if you work in education youre not asked. and youre never asked back curiously. thats strange to me. but if you are and you say to somebody you know they say what do you do. and you say you work in education you can see the blood run from their face. theyre like oh my god you know why me. my one night out all week. but if you ask about their education they pin you to the wall. because it one of those thing that go deep with people am i right. like religion and money and other thing. so i have a big interest in education and i think we all do. we have a huge vested interest in it partly because it education thats meant to take u into this future that we cant grasp. if you think of it child starting school this year will be retiring in. nobody ha a clue despite all the expertise thats been on parade for the past four day what the world will look like in five year time. and yet were meant to be educating them for it. so the unpredictability i think is extraordinary. and the third part of this is that weve all agreed nonetheless on the really extraordinary capacity that child have their capacity for innovation. i mean sirena last night wa a marvel wasnt she. just seeing what she could do. and shes exceptional but i think shes not so to speak exceptional in the whole of childhood. what you have there is a person of extraordinary dedication who found a talent. and my contention is all kid have tremendous talent. and we squander them pretty ruthlessly. so i want to talk about education and i want to talk about creativity. my contention is that creativity now is a important in education a literacy and we should treat it with the same status. thank you. that wa it by the way. thank you very much. so minute left. well i wa born. . . no. i heard a great story recently i love telling it of a little girl who wa in a drawing lesson. she wa six and she wa at the back drawing and the teacher said this girl hardly ever paid attention and in this drawing lesson she did. the teacher wa fascinated. she went over to her and she said what are you drawing. and the girl said im drawing a picture of god. and the teacher said but nobody know what god look like. and the girl said they will in a minute. when my son wa four in england actually he wa four everywhere to be honest. if were being strict about it wherever he went he wa four that year. he wa in the nativity play. do you remember the story. no it wa big it wa a big story. mel gibson did the sequel you may have seen it. nativity ii. but james got the part of joseph which we were thrilled about. we considered this to be one of the lead part. we had the place crammed full of agent in tshirts james robinson is joseph. he didnt have to speak but you know the bit where the three king come in. they come in bearing gift gold frankincense and myrrh. this really happened. we were sitting there and i think they just went out of sequence because we talked to the little boy afterward and we said you ok with that. and he said yeah why. wa that wrong. they just switched. the three boy came in fouryearolds with tea towel on their head and they put these box down and the first boy said i bring you gold. and the second boy said i bring you myrrh. and the third boy said frank sent this. what these thing have in common is that kid will take a chance. if they dont know theyll have a go. am i right. theyre not frightened of being wrong. i dont mean to say that being wrong is the same thing a being creative. what we do know is if youre not prepared to be wrong youll never come up with anything original if youre not prepared to be wrong. and by the time they get to be adult most kid have lost that capacity. they have become frightened of being wrong. and we run our company like this. we stigmatize mistake. and were now running national education system where mistake are the worst thing you can make. and the result is that we are educating people out of their creative capacity. picasso once said this he said that all child are born artist. the problem is to remain an artist a we grow up. i believe this passionately that we dont grow into creativity we grow out of it. or rather we get educated out of it. so why is this. i lived in stratfordonavon until about five year ago. in fact we moved from stratford to los angeles. so you can imagine what a seamless transition that wa. actually we lived in a place called snitterfield just outside stratford which is where shakespeare father wa born. are you struck by a new thought. i wa. you dont think of shakespeare having a father do you. do you. because you dont think of shakespeare being a child do you. shakespeare being seven. i never thought of it. i mean he wa seven at some point. he wa in somebody english class wasnt he. how annoying would that be. must try harder. being sent to bed by his dad you know to shakespeare go to bed now. and put the pencil down. and stop speaking like that. it confusing everybody. anyway we moved from stratford to los angeles and i just want to say a word about the transition. my son didnt want to come. ive got two kid he now my daughter. he didnt want to come to los angeles. he loved it but he had a girlfriend in england. this wa the love of his life sarah. hed known her for a month. mind you theyd had their fourth anniversary because it a long time when youre. he wa really upset on the plane he said ill never find another girl like sarah. and we were rather pleased about that frankly because she wa the main reason we were leaving the country. but something strike you when you move to america and travel around the world every education system on earth ha the same hierarchy of subject. every one. doesnt matter where you go. youd think it would be otherwise but it isnt. at the top are mathematics and language then the humanity and at the bottom are the art. everywhere on earth. and in pretty much every system too there a hierarchy within the art. art and music are normally given a higher status in school than drama and dance. there isnt an education system on the planet that teach dance everyday to child the way we teach them mathematics. why. why not. i think this is rather important. i think math is very important but so is dance. child dance all the time if theyre allowed to we all do. we all have body dont we. did i miss a meeting. truthfully what happens is a child grow up we start to educate them progressively from the waist up. and then we focus on their head. and slightly to one side. if you were to visit education a an alien and say whats it for public education. i think youd have to conclude if you look at the output who really succeeds by this who doe everything that they should who get all the brownie point who are the winner i think youd have to conclude the whole purpose of public education throughout the world is to produce university professor. isnt it. theyre the people who come out the top. and i used to be one so there. and i like university professor but you know we shouldnt hold them up a the highwater mark of all human achievement. theyre just a form of life another form of life. but theyre rather curious and i say this out of affection for them. there something curious about professor in my experience not all of them but typically they live in their head. they live up there and slightly to one side. theyre disembodied you know in a kind of literal way. they look upon their body a a form of transport for their head. dont they. it a way of getting their head to meeting. if you want real evidence of outofbody experience get yourself along to a residential conference of senior academic and pop into the discotheque on the final night. and there you will see it. grown men and woman writhing uncontrollably off the beat. waiting until it end so they can go home and write a paper about it. our education system is predicated on the idea of academic ability. and there a reason. around the world there were no public system of education really before the th century. they all came into being to meet the need of industrialism. so the hierarchy is rooted on two idea. number one that the most useful subject for work are at the top. so you were probably steered benignly away from thing at school when you were a kid thing you liked on the ground that you would never get a job doing that. is that right. dont do music youre not going to be a musician dont do art you wont be an artist. benign advice now profoundly mistaken. the whole world is engulfed in a revolution. and the second is academic ability which ha really come to dominate our view of intelligence because the university designed the system in their image. if you think of it the whole system of public education around the world is a protracted process of university entrance. and the consequence is that many highlytalented brilliant creative people think theyre not because the thing they were good at at school wasnt valued or wa actually stigmatized. and i think we cant afford to go on that way. in the next year according to unesco more people worldwide will be graduating through education than since the beginning of history. more people and it the combination of all the thing weve talked about technology and it transformation effect on work and demography and the huge explosion in population. suddenly degree arent worth anything. isnt that true. when i wa a student if you had a degree you had a job. if you didnt have a job it because you didnt want one. and i didnt want one frankly. but now kid with degree are often heading home to carry on playing video game because you need an ma where the previous job required a ba and now you need a phd for the other. it a process of academic inflation. and it indicates the whole structure of education is shifting beneath our foot. we need to radically rethink our view of intelligence. we know three thing about intelligence. one it diverse. we think about the world in all the way that we experience it. we think visually we think in sound we think kinesthetically. we think in abstract term we think in movement. secondly intelligence is dynamic. if you look at the interaction of a human brain a we heard yesterday from a number of presentation intelligence is wonderfully interactive. the brain isnt divided into compartment. in fact creativity which i define a the process of having original idea that have value more often than not come about through the interaction of different disciplinary way of seeing thing. by the way there a shaft of nerve that join the two half of the brain called the corpus callosum. it thicker in woman. following off from helen yesterday this is probably why woman are better at multitasking. because you are arent you. there a raft of research but i know it from my personal life. if my wife is cooking a meal at home which is not often thankfully. no shes good at some thing but if shes cooking shes dealing with people on the phone shes talking to the kid shes painting the ceiling shes doing openheart surgery over here. if im cooking the door is shut the kid are out the phone on the hook if she come in i get annoyed. i say terry please im trying to fry an egg in here. give me a break. actually do you know that old philosophical thing if a tree fall in a forest and nobody hears it did it happen. remember that old chestnut. i saw a great tshirt recently which said if a man speaks his mind in a forest and no woman hears him is he still wrong. and the third thing about intelligence is it distinct. im doing a new book at the moment called epiphany which is based on a series of interview with people about how they discovered their talent. im fascinated by how people got to be there. it really prompted by a conversation i had with a wonderful woman who maybe most people have never heard of gillian lynne. have you heard of her. some have. shes a choreographer and everybody know her work. she did cat and phantom of the opera. shes wonderful. i used to be on the board of the royal ballet a you can see. anyway gillian and i had lunch one day and i said how did you get to be a dancer. it wa interesting. when she wa at school she wa really hopeless. and the school in the s wrote to her parent and said we think gillian ha a learning disorder. she couldnt concentrate she wa fidgeting. i think now theyd say she had adhd. wouldnt you. but this wa the s and adhd hadnt been invented at this point. it wasnt an available condition. people werent aware they could have that. anyway she went to see this specialist. so this oakpaneled room and she wa there with her mother and she wa led and sat on this chair at the end and she sat on her hand for minute while this man talked to her mother about the problem gillian wa having at school. because she wa disturbing people her homework wa always late and so on little kid of eight. in the end the doctor went and sat next to gillian and said ive listened to all these thing your mother told me i need to speak to her privately. wait here. well be back we wont be very long and they went and left her. but a they went out of the room he turned on the radio that wa sitting on his desk. and when they got out he said to her mother just stand and watch her. and the minute they left the room she wa on her foot moving to the music. and they watched for a few minute and he turned to her mother and said mr lynne gillian isnt sick shes a dancer. take her to a dance school. i said what happened. she said she did. i cant tell you how wonderful it wa. we walked in this room and it wa full of people like me. people who couldnt sit still. people who had to move to think. who had to move to think. they did ballet they did tap jazz they did modern they did contemporary. she wa eventually auditioned for the royal ballet school she became a soloist she had a wonderful career at the royal ballet. she eventually graduated from the royal ballet school founded the gillian lynne dance company met andrew lloyd webber. shes been responsible for some of the most successful musical theater production in history shes given pleasure to million and shes a multimillionaire. somebody else might have put her on medication and told her to calm down. what i think it come to is this al gore spoke the other night about ecology and the revolution that wa triggered by rachel carson. i believe our only hope for the future is to adopt a new conception of human ecology one in which we start to reconstitute our conception of the richness of human capacity. our education system ha mined our mind in the way that we stripmine the earth for a particular commodity. and for the future it wont serve u. we have to rethink the fundamental principle on which were educating our child. there wa a wonderful quote by jonas salk who said if all the insect were to disappear from the earth within year all life on earth would end. if all human being disappeared from the earth within year all form of life would flourish. and he right. what ted celebrates is the gift of the human imagination. we have to be careful now that we use this gift wisely and that we avert some of the scenario that weve talked about. and the only way well do it is by seeing our creative capacity for the richness they are and seeing our child for the hope that they are. and our task is to educate their whole being so they can face this future. by the way we may not see this future but they will. and our job is to help them make something of it\n"
     ]
    }
   ],
   "source": [
    "new_text = cleanup(raw_text, 'lemma')\n",
    "print(new_text)"
   ]
  },
  {
   "cell_type": "code",
   "execution_count": null,
   "metadata": {
    "collapsed": true
   },
   "outputs": [],
   "source": []
  },
  {
   "cell_type": "markdown",
   "metadata": {},
   "source": [
    "* Remove non-talk words, such as descriptions of audience interaction \"(Applause)\" \"(Laughter)\"\n",
    "* Condense all whitespaces\n",
    "* Remove non-alpha chars\n",
    "* Use lemmatizer/stemmer"
   ]
  },
  {
   "cell_type": "code",
   "execution_count": 48,
   "metadata": {
    "collapsed": true,
    "scrolled": false
   },
   "outputs": [],
   "source": [
    "from nltk.tokenize import sent_tokenize\n",
    "\n",
    "def cleanup(text, stem_method):\n",
    "    \n",
    "    # remove things like '(Applause)', '(Laughter)', etc.\n",
    "    new_text = re.sub(r'\\([\\w ]+\\)', r'', text)\n",
    "    \n",
    "    # remove first two and last one sentence\n",
    "    new_text = new_text.replace('.','. ')\n",
    "    new_text = new_text.replace('?','? ')\n",
    "    new_text = new_text.replace('!','! ')\n",
    "    new_text = new_text.replace('\"','\" ')\n",
    "    sent_list = sent_tokenize(new_text)[2:-1]\n",
    "    \n",
    "    # for each sentence, condense all whitespace and remove non-alpha chars\n",
    "    new_sent_list = []\n",
    "    for sent in sent_list:\n",
    "        content = re.sub('\\s+', ' ', sent.lower())  # condense all whitespace\n",
    "        content = re.sub('[^A-Za-z ]+', '', content)  # remove non-alpha chars\n",
    "    \n",
    "        # lemmatize words\n",
    "        words = content.split()\n",
    "        if stem_method == 'lemma':\n",
    "            stemmer = nltk.stem.WordNetLemmatizer()\n",
    "            words = [stemmer.lemmatize(word) for word in words]\n",
    "        elif stem_method == 'porter':\n",
    "            stemmer = nltk.stem.PorterStemmer()\n",
    "            words = [stemmer.stem(word) for word in words]\n",
    "        new_sent = ' '.join(words)\n",
    "        new_sent_list.append(new_sent)\n",
    "    \n",
    "    return '. '.join(new_sent_list)"
   ]
  },
  {
   "cell_type": "code",
   "execution_count": 49,
   "metadata": {
    "collapsed": true
   },
   "outputs": [],
   "source": [
    "# docs_edu_porter = [cleanup(doc,'porter') for doc in docs_edu_raw]\n",
    "docs_all_porter = [cleanup(doc,'porter') for doc in docs_all_raw]\n",
    "# docs_edu_lemma = [cleanup(doc,'lemma') for doc in docs_edu_raw]\n",
    "docs_all_lemma = [cleanup(doc,'lemma') for doc in docs_all_raw]"
   ]
  },
  {
   "cell_type": "code",
   "execution_count": 51,
   "metadata": {
    "collapsed": true
   },
   "outputs": [],
   "source": [
    "# docs_all_lemma[1]"
   ]
  },
  {
   "cell_type": "code",
   "execution_count": 53,
   "metadata": {
    "collapsed": true
   },
   "outputs": [],
   "source": [
    "# df = df_all.iloc[:,:]\n",
    "# df['transcript'] = docs_all_lemma\n",
    "# df.head()"
   ]
  },
  {
   "cell_type": "code",
   "execution_count": 54,
   "metadata": {
    "collapsed": true
   },
   "outputs": [],
   "source": [
    "# df.to_pickle('./data/df_all_lemma.pkl')"
   ]
  },
  {
   "cell_type": "markdown",
   "metadata": {},
   "source": [
    "### EDA: LDA with TF terms, NMF with TF-IDF terms"
   ]
  },
  {
   "cell_type": "code",
   "execution_count": 46,
   "metadata": {
    "collapsed": true
   },
   "outputs": [],
   "source": [
    "docs = docs_edu_lemma"
   ]
  },
  {
   "cell_type": "code",
   "execution_count": 47,
   "metadata": {
    "scrolled": false
   },
   "outputs": [
    {
     "name": "stdout",
     "output_type": "stream",
     "text": [
      "Extracting tf-idf features for NMF...\n",
      "done in 0.191s.\n",
      "Extracting tf features for LDA...\n",
      "done in 0.212s.\n",
      "\n",
      "Fitting the NMF model (Frobenius norm) with tf-idf features, n_samples=2000 and n_features=1000...\n",
      "done in 0.091s.\n",
      "\n",
      "Topics in NMF model (Frobenius norm):\n",
      "Topic #0: art grade math stuff public information america adult challenge business\n",
      "Topic #1: video online interactive feedback lecture interaction camera peer youtube discussion\n",
      "Topic #2: plastic bag water ocean local plant nuclear collect significant map\n",
      "Topic #3: english india slum delhi language village experiment grandmother indian cloud\n",
      "Topic #4: food lunch cook meal plant eat sugar dollar farmer feeding\n",
      "Topic #5: game player team pie reward video brain playing task win\n",
      "Topic #6: baby ball pregnant evidence hypothesis toy broccoli brain mother blue\n",
      "Topic #7: project opensource code robot scratch bird engineering block game tool\n",
      "Topic #8: daughter father afghanistan men village mother sister refugee brother training\n",
      "Topic #9: mathematics statistic calculus math subject mathematical mathematician digital curve quiz\n",
      "Topic #10: africa african aim continent leader fight debt leadership economy universe\n",
      "Topic #11: higher debt pay buy degree cost product wage major free\n",
      "Topic #12: galaxy particle universe dark ok light physic star speed planet\n",
      "Topic #13: chinese character tree animal sun sign mouth china door mountain\n",
      "Topic #14: green bronx built okay local beautiful incredible desk wall organic\n",
      "\n",
      "Fitting the NMF model (generalized Kullback-Leibler divergence) with tf-idf features, n_samples=2000 and n_features=1000...\n",
      "done in 0.914s.\n",
      "\n",
      "Topics in NMF model (generalized Kullback-Leibler divergence):\n",
      "Topic #0: spent united quickly practice purpose share wont role began meet\n",
      "Topic #1: video youtube noticed type engineer game step online screen tiny\n",
      "Topic #2: shape walk wall light planet energy ocean sun ground climate\n",
      "Topic #3: control eye sitting certainly chinese choose cause table lead main\n",
      "Topic #4: generation progress behavior york sit save arent loved waste creative\n",
      "Topic #5: understanding stage brain hear written youd individual felt seriously finding\n",
      "Topic #6: growth yearolds exactly shared trouble challenge research worse solution shown\n",
      "Topic #7: project wait medium huge market yearold internet grow figured given\n",
      "Topic #8: wrote news watch thousand men note arent difference night telling\n",
      "Topic #9: language statistic born developed written culture american eat mathematics body\n",
      "Topic #10: childrens simply extraordinary institution company absolutely theyll hole tremendous explain\n",
      "Topic #11: degree success test follow water reading raise truth missing pick\n",
      "Topic #12: powerful race eye oh fun wed taught happening wont educational\n",
      "Topic #13: york running outside space factor childhood soon changing journey street\n",
      "Topic #14: zero watch notice wonderful wrote okay speak walk happy wonder\n",
      "\n",
      "Fitting LDA models with tf features, n_samples=2000 and n_features=1000...\n",
      "done in 0.666s.\n",
      "\n",
      "Topics in LDA model:\n",
      "Topic #0: math plastic bag subject basic block step library paper economy\n",
      "Topic #1: laptop county rural market project shop higher government studio dr\n",
      "Topic #2: game men mother care black public summer brain team practice\n",
      "Topic #3: mountain sea exploration earth hot map discovery dark ok ocean\n",
      "Topic #4: positive psychology emotion meaning strength pleasure engagement test increase flow\n",
      "Topic #5: mr audience ok volunteer square seven plus death plant opensource\n",
      "Topic #6: grade childhood score career principal successful happy success period code\n",
      "Topic #7: sleep animal planet area knowledge robot test teenager figure adult\n",
      "Topic #8: spelling language food write video rule sound writing statistic online\n",
      "Topic #9: perspective library pattern mathematics sound ok logo view line understanding\n",
      "Topic #10: project game engineering team paper creative box bird art dollar\n",
      "Topic #11: refugee tree sun character door chinese war mouth game mountain\n",
      "Topic #12: zone performance improve mistake practice improvement africa activity performing growth\n",
      "Topic #13: language english speak dictionary culture speaker chinese table fun common\n",
      "Topic #14: lunch lady series staff feeding happy project paper designer bus\n",
      "\n"
     ]
    }
   ],
   "source": [
    "# Author: Olivier Grisel <olivier.grisel@ensta.org>\n",
    "#         Lars Buitinck\n",
    "#         Chyi-Kwei Yau <chyikwei.yau@gmail.com>\n",
    "# License: BSD 3 clause\n",
    "\n",
    "from time import time\n",
    "\n",
    "from sklearn.feature_extraction.text import TfidfVectorizer, CountVectorizer\n",
    "from sklearn.decomposition import NMF, LatentDirichletAllocation\n",
    "\n",
    "n_samples = 2000\n",
    "n_features = 1000\n",
    "n_components = 15\n",
    "n_top_words = 10\n",
    "n_gram = 1\n",
    "alpha = 0.1\n",
    "stop_choice= 'english'#stop_list[:100]\n",
    "\n",
    "max_df = 0.3\n",
    "min_df = 3\n",
    "def print_top_words(model, feature_names, n_top_words):\n",
    "    for topic_idx, topic in enumerate(model.components_):\n",
    "        message = \"Topic #%d: \" % topic_idx\n",
    "        message += \" \".join([feature_names[i]\n",
    "                             for i in topic.argsort()[:-n_top_words - 1:-1]])\n",
    "        print(message)\n",
    "    print()\n",
    "\n",
    "\n",
    "# Use tf-idf features for NMF.\n",
    "print(\"Extracting tf-idf features for NMF...\")\n",
    "tfidf_vectorizer = TfidfVectorizer(max_df=max_df, min_df=min_df,\n",
    "                                   ngram_range=(n_gram,n_gram),\n",
    "                                   max_features=n_features,\n",
    "                                   stop_words=stop_choice)\n",
    "t0 = time()\n",
    "tfidf = tfidf_vectorizer.fit_transform(docs)\n",
    "print(\"done in %0.3fs.\" % (time() - t0))\n",
    "\n",
    "# Use tf (raw term count) features for LDA.\n",
    "print(\"Extracting tf features for LDA...\")\n",
    "tf_vectorizer = CountVectorizer(max_df=max_df, min_df=min_df,\n",
    "                                ngram_range=(n_gram,n_gram),\n",
    "                                max_features=n_features,\n",
    "                                stop_words=stop_choice)\n",
    "t0 = time()\n",
    "tf = tf_vectorizer.fit_transform(docs)\n",
    "print(\"done in %0.3fs.\" % (time() - t0))\n",
    "print()\n",
    "\n",
    "# Fit the NMF model\n",
    "print(\"Fitting the NMF model (Frobenius norm) with tf-idf features, \"\n",
    "      \"n_samples=%d and n_features=%d...\"\n",
    "      % (n_samples, n_features))\n",
    "t0 = time()\n",
    "nmf = NMF(n_components=n_components, random_state=1,\n",
    "          alpha=alpha, l1_ratio=.5).fit(tfidf)\n",
    "print(\"done in %0.3fs.\" % (time() - t0))\n",
    "\n",
    "print(\"\\nTopics in NMF model (Frobenius norm):\")\n",
    "tfidf_feature_names = tfidf_vectorizer.get_feature_names()\n",
    "print_top_words(nmf, tfidf_feature_names, n_top_words)\n",
    "\n",
    "# Fit the NMF model\n",
    "print(\"Fitting the NMF model (generalized Kullback-Leibler divergence) with \"\n",
    "      \"tf-idf features, n_samples=%d and n_features=%d...\"\n",
    "      % (n_samples, n_features))\n",
    "t0 = time()\n",
    "nmf = NMF(n_components=n_components, random_state=1,\n",
    "          beta_loss='kullback-leibler', solver='mu', max_iter=1000, alpha=alpha,\n",
    "          l1_ratio=.5).fit(tfidf)\n",
    "print(\"done in %0.3fs.\" % (time() - t0))\n",
    "\n",
    "print(\"\\nTopics in NMF model (generalized Kullback-Leibler divergence):\")\n",
    "tfidf_feature_names = tfidf_vectorizer.get_feature_names()\n",
    "print_top_words(nmf, tfidf_feature_names, n_top_words)\n",
    "\n",
    "print(\"Fitting LDA models with tf features, \"\n",
    "      \"n_samples=%d and n_features=%d...\"\n",
    "      % (n_samples, n_features))\n",
    "lda = LatentDirichletAllocation(n_components=n_components, max_iter=5,\n",
    "                                learning_method='online',\n",
    "                                learning_offset=50.,\n",
    "                                random_state=0)\n",
    "t0 = time()\n",
    "lda.fit(tf)\n",
    "print(\"done in %0.3fs.\" % (time() - t0))\n",
    "\n",
    "print(\"\\nTopics in LDA model:\")\n",
    "tf_feature_names = tf_vectorizer.get_feature_names()\n",
    "print_top_words(lda, tf_feature_names, n_top_words)"
   ]
  },
  {
   "cell_type": "code",
   "execution_count": null,
   "metadata": {
    "collapsed": true
   },
   "outputs": [],
   "source": []
  },
  {
   "cell_type": "code",
   "execution_count": null,
   "metadata": {
    "collapsed": true
   },
   "outputs": [],
   "source": []
  },
  {
   "cell_type": "code",
   "execution_count": null,
   "metadata": {
    "collapsed": true
   },
   "outputs": [],
   "source": []
  },
  {
   "cell_type": "code",
   "execution_count": null,
   "metadata": {
    "collapsed": true
   },
   "outputs": [],
   "source": []
  },
  {
   "cell_type": "code",
   "execution_count": null,
   "metadata": {
    "collapsed": true
   },
   "outputs": [],
   "source": []
  },
  {
   "cell_type": "code",
   "execution_count": null,
   "metadata": {
    "collapsed": true
   },
   "outputs": [],
   "source": []
  },
  {
   "cell_type": "code",
   "execution_count": null,
   "metadata": {
    "collapsed": true
   },
   "outputs": [],
   "source": []
  },
  {
   "cell_type": "markdown",
   "metadata": {},
   "source": [
    "### Methodology conclusion\n",
    "* Use TF-IDF with NMF (Frobenius norm) gives the best coherent topic (in both cases: all talks and edu talks)\n",
    "* Lemmatizer works better than stemmer\n",
    "* However, lemmatizer does not distinguish verbs in different tenses\n",
    "* Consider Word2Vec to combine terms into groups, eg. {africa, african}\n",
    "* Need to refine stop-word list"
   ]
  },
  {
   "cell_type": "code",
   "execution_count": 65,
   "metadata": {},
   "outputs": [
    {
     "data": {
      "text/plain": [
       "0.04940176816749564"
      ]
     },
     "execution_count": 65,
     "metadata": {},
     "output_type": "execute_result"
    }
   ],
   "source": [
    "from functools import reduce\n",
    "list1 = list(range(2495,2501))\n",
    "prod1 = reduce(lambda x,y:x*y,list1)\n",
    "list2 = list(range(2474,2480))\n",
    "prod2 = reduce(lambda x,y:x*y,list2)\n",
    "\n",
    "1 - prod2/prod1"
   ]
  },
  {
   "cell_type": "code",
   "execution_count": null,
   "metadata": {
    "collapsed": true
   },
   "outputs": [],
   "source": []
  }
 ],
 "metadata": {
  "kernelspec": {
   "display_name": "Python 3",
   "language": "python",
   "name": "python3"
  },
  "language_info": {
   "codemirror_mode": {
    "name": "ipython",
    "version": 3
   },
   "file_extension": ".py",
   "mimetype": "text/x-python",
   "name": "python",
   "nbconvert_exporter": "python",
   "pygments_lexer": "ipython3",
   "version": "3.6.3"
  }
 },
 "nbformat": 4,
 "nbformat_minor": 2
}
