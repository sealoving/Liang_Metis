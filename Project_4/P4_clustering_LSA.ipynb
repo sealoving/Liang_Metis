{
 "cells": [
  {
   "cell_type": "code",
   "execution_count": 1,
   "metadata": {
    "collapsed": true
   },
   "outputs": [],
   "source": [
    "import re\n",
    "import pandas as pd\n",
    "import numpy as np\n",
    "import nltk\n",
    "import matplotlib.pyplot as plt\n",
    "import sklearn.neighbors.kd_tree as kdtree\n",
    "\n",
    "%matplotlib inline"
   ]
  },
  {
   "cell_type": "code",
   "execution_count": 2,
   "metadata": {},
   "outputs": [
    {
     "name": "stdout",
     "output_type": "stream",
     "text": [
      "2524\n"
     ]
    },
    {
     "data": {
      "text/html": [
       "<div>\n",
       "<style>\n",
       "    .dataframe thead tr:only-child th {\n",
       "        text-align: right;\n",
       "    }\n",
       "\n",
       "    .dataframe thead th {\n",
       "        text-align: left;\n",
       "    }\n",
       "\n",
       "    .dataframe tbody tr th {\n",
       "        vertical-align: top;\n",
       "    }\n",
       "</style>\n",
       "<table border=\"1\" class=\"dataframe\">\n",
       "  <thead>\n",
       "    <tr style=\"text-align: right;\">\n",
       "      <th></th>\n",
       "      <th>comments</th>\n",
       "      <th>description</th>\n",
       "      <th>duration</th>\n",
       "      <th>event</th>\n",
       "      <th>film_date</th>\n",
       "      <th>languages</th>\n",
       "      <th>link</th>\n",
       "      <th>main_speaker</th>\n",
       "      <th>name</th>\n",
       "      <th>num_speaker</th>\n",
       "      <th>published_date</th>\n",
       "      <th>ratings</th>\n",
       "      <th>related_talks</th>\n",
       "      <th>speaker_occupation</th>\n",
       "      <th>tags</th>\n",
       "      <th>title</th>\n",
       "      <th>transcript</th>\n",
       "      <th>url</th>\n",
       "      <th>views</th>\n",
       "    </tr>\n",
       "  </thead>\n",
       "  <tbody>\n",
       "    <tr>\n",
       "      <th>0</th>\n",
       "      <td>4553.0</td>\n",
       "      <td>Sir Ken Robinson makes an entertaining and pro...</td>\n",
       "      <td>1164.0</td>\n",
       "      <td>TED2006</td>\n",
       "      <td>1.140826e+09</td>\n",
       "      <td>60.0</td>\n",
       "      <td>NaN</td>\n",
       "      <td>Ken Robinson</td>\n",
       "      <td>Ken Robinson: Do schools kill creativity?</td>\n",
       "      <td>1.0</td>\n",
       "      <td>1.151367e+09</td>\n",
       "      <td>[{'id': 7, 'name': 'Funny', 'count': 19645}, {...</td>\n",
       "      <td>[{'id': 865, 'hero': 'https://pe.tedcdn.com/im...</td>\n",
       "      <td>Author/educator</td>\n",
       "      <td>['children', 'creativity', 'culture', 'dance',...</td>\n",
       "      <td>Do schools kill creativity?</td>\n",
       "      <td>it been great hasnt it. ive been blown away by...</td>\n",
       "      <td>https://www.ted.com/talks/ken_robinson_says_sc...</td>\n",
       "      <td>47227110.0</td>\n",
       "    </tr>\n",
       "  </tbody>\n",
       "</table>\n",
       "</div>"
      ],
      "text/plain": [
       "   comments                                        description  duration  \\\n",
       "0    4553.0  Sir Ken Robinson makes an entertaining and pro...    1164.0   \n",
       "\n",
       "     event     film_date  languages link  main_speaker  \\\n",
       "0  TED2006  1.140826e+09       60.0  NaN  Ken Robinson   \n",
       "\n",
       "                                        name  num_speaker  published_date  \\\n",
       "0  Ken Robinson: Do schools kill creativity?          1.0    1.151367e+09   \n",
       "\n",
       "                                             ratings  \\\n",
       "0  [{'id': 7, 'name': 'Funny', 'count': 19645}, {...   \n",
       "\n",
       "                                       related_talks speaker_occupation  \\\n",
       "0  [{'id': 865, 'hero': 'https://pe.tedcdn.com/im...    Author/educator   \n",
       "\n",
       "                                                tags  \\\n",
       "0  ['children', 'creativity', 'culture', 'dance',...   \n",
       "\n",
       "                         title  \\\n",
       "0  Do schools kill creativity?   \n",
       "\n",
       "                                          transcript  \\\n",
       "0  it been great hasnt it. ive been blown away by...   \n",
       "\n",
       "                                                 url       views  \n",
       "0  https://www.ted.com/talks/ken_robinson_says_sc...  47227110.0  "
      ]
     },
     "execution_count": 2,
     "metadata": {},
     "output_type": "execute_result"
    }
   ],
   "source": [
    "df_all = pd.read_pickle('./data/df_all_lemma.pkl')\n",
    "print(len(df_all))\n",
    "df_all.head(1)"
   ]
  },
  {
   "cell_type": "code",
   "execution_count": 3,
   "metadata": {},
   "outputs": [
    {
     "name": "stdout",
     "output_type": "stream",
     "text": [
      "['after', \"hadn't\", \"hasn't\", 'whom', 'more', \"won't\", 'herself', 'o', 'its', 'hasnt', 'havent', \"don't\", 'below', \"mightn't\", 'ha', 'al', 'yours', 'your', 'won', 'been', 'with', 'oh', 'because', 'only', 'at', 'mightn', 'i', 'but', 'during', 'd', \"you've\", 'out', \"couldn't\", 'above', 'into', 'weren', 'nor', 'can', 's', 'against', 'from', 'yourself', 'had', 'off', \"aren't\", 'mustn', 'am', 'dont', 'ourselves', 'yes', 'where', \"you're\", 'th', 'most', 'our', 'ma', 'same', 'shouldn', 'hadn', 'hey', 'why', 'my', 'having', 'there', 'so', 'mustnt', 'was', 'aren', 'on', 'do', 'wont', 'themselves', \"should've\", 'myself', 'her', 'all', 't', 'haven', \"that'll\", 'in', \"it's\", 'might', 'mrs', 'em', 'what', 'doing', 'she', 'not', 'the', 'he', 'to', 'too', \"doesn't\", 'hasn', 'by', 'have', \"needn't\", 'didnt', 'yourselves', \"wouldn't\", 'da', 'now', 'did', \"she's\", \"weren't\", \"wasn't\", 'theirs', 'mr', 'each', 'shouldnt', 'me', 'being', 'youve', 'arent', \"isn't\", 'hadnt', \"you'll\", 'just', 'pm', 'down', 'that', 're', 'while', 'y', 'm', 'is', 'them', 'are', 'between', 'here', 'doesnt', 'any', 'other', 'no', 'itself', 'than', 'ms', 'shan', 'youll', 'over', 'they', 'such', 'very', 'through', 'does', 'and', 'mightnt', 'doesn', 'a', 'of', 'will', 'this', 'okay', 'shant', 'himself', 'who', 'once', \"haven't\", 'thatll', 'him', 'ca', 'neednt', 'then', 'we', \"you'd\", 'about', \"shan't\", 'or', 'be', \"shouldn't\", 'werent', 'you', 'if', 'as', 'shouldve', 'ain', 'for', 'don', 'an', 'his', 'under', 'ok', 'll', 'when', 'their', 'isnt', 'should', 'didn', 'wasnt', 'own', 'these', 'were', 'those', 'couldnt', 'some', \"didn't\", 'wouldn', 'bg', 'has', 'again', 'which', 'up', 'further', 'how', 'both', 'wasn', 'isn', 'youre', \"mustn't\", 'youd', 'wouldnt', 've', 'until', 'few', 'it', 'needn', 'couldn', 'ill', 'yeah', 'ted', 'ours', 'hers', 'before', 'shes']\n"
     ]
    }
   ],
   "source": [
    "docs_all = list(df_all['transcript'])\n",
    "\n",
    "from nltk.corpus import stopwords\n",
    "\n",
    "stops_standard = stopwords.words('english')\n",
    "stops_custom = ['shes','youll','ill','yeah','th','yes','oh',\n",
    "                'ok','okay','might','ha','mr','bg','ms',\n",
    "                'mrs','ca','em','da','ted','pm','hey','al']+[re.sub('[^A-Za-z ]+', '', w) for w in stops_standard]\n",
    "stop_list = list(set(stops_standard + stops_custom))\n",
    "\n",
    "print(stop_list)"
   ]
  },
  {
   "cell_type": "code",
   "execution_count": 112,
   "metadata": {},
   "outputs": [
    {
     "name": "stdout",
     "output_type": "stream",
     "text": [
      "Extracting tf-idf features for LSA...\n",
      "done in 2.961s.\n",
      "Fitting LDA models with tf features, n_samples=2000 and n_features=2000...\n",
      "done in 0.238s.\n",
      "\n",
      "Topics in LSA model:\n",
      "Topic #0: city brain data water community design book company space computer\n",
      "Topic #1: brain cell animal planet water cancer earth robot universe light\n",
      "Topic #2: city water planet energy ocean earth climate space oil sea\n",
      "Topic #3: cancer cell patient disease health drug government africa dollar data\n",
      "Topic #4: data computer robot information machine company design internet government phone\n",
      "Topic #5: city design cancer patient cell car architecture street neighborhood space\n",
      "Topic #6: brain city neuron cortex memory region area neighborhood street activity\n",
      "Topic #7: robot water animal food fish machine plant leg girl ocean\n",
      "Topic #8: music sound song food play water africa plant business musician\n",
      "Topic #9: music robot cell war cancer democracy government sound song political\n",
      "Topic #10: music patient car sound universe health energy robot data doctor\n",
      "Topic #11: data ocean information fish sea water animal coral shark internet\n",
      "Topic #12: girl cell car city boy men music data dna energy\n",
      "Topic #13: city student data teacher education music africa community language learning\n",
      "Topic #14: africa girl african light aid brain data image design cell\n",
      "Topic #15: student teacher cancer cell education video ocean water government brain\n",
      "Topic #16: game girl design men video play sex company ocean social\n",
      "Topic #17: cancer africa art artist image african book painting tumor girl\n",
      "Topic #18: water cancer girl energy book brain data food robot plant\n",
      "Topic #19: game machine video cancer africa war play computer plant forest\n",
      "Topic #20: food company universe planet community mar business robot internet plant\n",
      "Topic #21: food plant art data game image black artist video student\n",
      "Topic #22: food universe fish machine ocean cancer war computer galaxy coral\n",
      "Topic #23: data game water cell design africa play god african mar\n",
      "Topic #24: machine dna water art cancer computer community gene genome music\n",
      "Topic #25: water sex machine game book city universe patient disease video\n",
      "Topic #26: water cancer africa car universe forest african tree student tumor\n",
      "Topic #27: machine forest patient tree company cell business data universe girl\n",
      "Topic #28: machine food cell community compassion car social computer black intelligence\n",
      "Topic #29: baby sound dna art mother energy voice language autism artist\n",
      "Topic #30: africa energy african climate sex oil carbon nuclear student city\n",
      "Topic #31: community car compassion forest book oil design black god tree\n",
      "Topic #32: car girl government patient democracy art election information water african\n",
      "Topic #33: language english refugee game community patient business car material men\n",
      "Topic #34: black machine men game prison language baby white play animal\n",
      "Topic #35: sex phone art drug cell computer song fear sound space\n",
      "Topic #36: baby sex internet oil site language community drug mother machine\n",
      "Topic #37: baby information book light sex choice music happiness mother city\n",
      "Topic #38: space china chinese game universe refugee dna black ice food\n",
      "Topic #39: compassion india dna sex phone men china god gene animal\n",
      "Topic #40: war art company black internet network nuclear artist voice student\n",
      "Topic #41: book fly animal light social space network plant company art\n",
      "Topic #42: light refugee choice happiness dance star community election depression democracy\n",
      "Topic #43: animal ice art community refugee universe painting design water leg\n",
      "Topic #44: song computer animal community choice black girl nuclear dance dog\n",
      "Topic #45: information compassion intelligence black oil company animal language music happiness\n",
      "Topic #46: oil sound girl machine voice choice material leg specie product\n",
      "Topic #47: song project men video prison choice fear food science student\n",
      "Topic #48: space refugee project oil song choice water election voice fly\n",
      "Topic #49: dance film information forest song space movie choice arm star\n",
      "\n"
     ]
    }
   ],
   "source": [
    "docs = docs_all\n",
    "\n",
    "from time import time\n",
    "\n",
    "from sklearn.feature_extraction.text import TfidfVectorizer, CountVectorizer\n",
    "from sklearn.decomposition import NMF, LatentDirichletAllocation, TruncatedSVD\n",
    "from sklearn.preprocessing import Normalizer\n",
    "\n",
    "\n",
    "n_samples = 2000\n",
    "n_features = 2000\n",
    "n_components = 50\n",
    "n_top_words = 10\n",
    "n_gram = 1\n",
    "alpha = 0.1\n",
    "stop_choice= stop_list\n",
    "\n",
    "max_df = 0.3\n",
    "min_df = 5\n",
    "def print_top_words(model, feature_names, n_top_words):\n",
    "    for topic_idx, topic in enumerate(model.components_):\n",
    "        message = \"Topic #%d: \" % topic_idx\n",
    "        message += \" \".join([feature_names[i]\n",
    "                             for i in topic.argsort()[:-n_top_words - 1:-1]])\n",
    "        print(message)\n",
    "    print()\n",
    "\n",
    "\n",
    "# Use tf-idf features for LSA.\n",
    "print(\"Extracting tf-idf features for LSA...\")\n",
    "tfidf_vectorizer = TfidfVectorizer(max_df=max_df, min_df=min_df,\n",
    "                                   ngram_range=(n_gram,n_gram),\n",
    "                                   max_features=n_features,\n",
    "                                   stop_words=stop_choice)\n",
    "t0 = time()\n",
    "tfidf = tfidf_vectorizer.fit_transform(docs)\n",
    "print(\"done in %0.3fs.\" % (time() - t0))\n",
    "\n",
    "# Fit the LDA model\n",
    "print(\"Fitting LDA models with tf features, \"\n",
    "      \"n_samples=%d and n_features=%d...\"\n",
    "      % (n_samples, n_features))\n",
    "lsa = TruncatedSVD(n_components=n_components, algorithm = 'randomized',random_state=1)\n",
    "t0 = time()\n",
    "lsa.fit(tfidf)\n",
    "print(\"done in %0.3fs.\" % (time() - t0))\n",
    "\n",
    "print(\"\\nTopics in LSA model:\")\n",
    "tfidf_feature_names = tfidf_vectorizer.get_feature_names()\n",
    "print_top_words(lsa, tfidf_feature_names, n_top_words)"
   ]
  },
  {
   "cell_type": "code",
   "execution_count": 113,
   "metadata": {
    "collapsed": true
   },
   "outputs": [],
   "source": [
    "X = lsa.fit_transform(tfidf)\n",
    "X = Normalizer(copy=False).fit_transform(X)\n"
   ]
  },
  {
   "cell_type": "code",
   "execution_count": 52,
   "metadata": {
    "collapsed": true
   },
   "outputs": [],
   "source": [
    "# X[1999].argmax()"
   ]
  },
  {
   "cell_type": "code",
   "execution_count": 33,
   "metadata": {
    "collapsed": true
   },
   "outputs": [],
   "source": []
  },
  {
   "cell_type": "code",
   "execution_count": 111,
   "metadata": {
    "collapsed": true
   },
   "outputs": [],
   "source": [
    "# np.savetxt('./data/lsa_data_100.tsv', X, delimiter='\\t',newline='\\n')\n",
    "# Xlabel = list(df_all.title)\n",
    "# with open('./data/lsa_meta.tsv', 'w') as file:\n",
    "#     for label in Xlabel:\n",
    "#         file.write(label+'\\n')"
   ]
  },
  {
   "cell_type": "code",
   "execution_count": 130,
   "metadata": {
    "collapsed": true
   },
   "outputs": [],
   "source": [
    "def save_top_words(model, feature_names, n_top_words):\n",
    "    top_words = []\n",
    "    for topic_idx, topic in enumerate(model.components_):\n",
    "        top_words.append([feature_names[i] for i in topic.argsort()[:-n_top_words - 1:-1]])\n",
    "    return top_words\n",
    "\n",
    "tfidf_feature_names = tfidf_vectorizer.get_feature_names()\n",
    "n_top_words = 10\n",
    "LSA_top_words = save_top_words(lsa, tfidf_feature_names, n_top_words)"
   ]
  },
  {
   "cell_type": "code",
   "execution_count": 131,
   "metadata": {},
   "outputs": [
    {
     "data": {
      "text/html": [
       "<div>\n",
       "<style>\n",
       "    .dataframe thead tr:only-child th {\n",
       "        text-align: right;\n",
       "    }\n",
       "\n",
       "    .dataframe thead th {\n",
       "        text-align: left;\n",
       "    }\n",
       "\n",
       "    .dataframe tbody tr th {\n",
       "        vertical-align: top;\n",
       "    }\n",
       "</style>\n",
       "<table border=\"1\" class=\"dataframe\">\n",
       "  <thead>\n",
       "    <tr style=\"text-align: right;\">\n",
       "      <th></th>\n",
       "      <th>0</th>\n",
       "      <th>1</th>\n",
       "      <th>2</th>\n",
       "      <th>3</th>\n",
       "      <th>4</th>\n",
       "      <th>5</th>\n",
       "      <th>6</th>\n",
       "      <th>7</th>\n",
       "      <th>8</th>\n",
       "      <th>9</th>\n",
       "    </tr>\n",
       "  </thead>\n",
       "  <tbody>\n",
       "    <tr>\n",
       "      <th>0</th>\n",
       "      <td>city</td>\n",
       "      <td>brain</td>\n",
       "      <td>data</td>\n",
       "      <td>water</td>\n",
       "      <td>community</td>\n",
       "      <td>design</td>\n",
       "      <td>book</td>\n",
       "      <td>company</td>\n",
       "      <td>space</td>\n",
       "      <td>computer</td>\n",
       "    </tr>\n",
       "    <tr>\n",
       "      <th>1</th>\n",
       "      <td>brain</td>\n",
       "      <td>cell</td>\n",
       "      <td>animal</td>\n",
       "      <td>planet</td>\n",
       "      <td>water</td>\n",
       "      <td>cancer</td>\n",
       "      <td>earth</td>\n",
       "      <td>robot</td>\n",
       "      <td>universe</td>\n",
       "      <td>light</td>\n",
       "    </tr>\n",
       "    <tr>\n",
       "      <th>2</th>\n",
       "      <td>city</td>\n",
       "      <td>water</td>\n",
       "      <td>planet</td>\n",
       "      <td>energy</td>\n",
       "      <td>ocean</td>\n",
       "      <td>earth</td>\n",
       "      <td>climate</td>\n",
       "      <td>space</td>\n",
       "      <td>oil</td>\n",
       "      <td>sea</td>\n",
       "    </tr>\n",
       "    <tr>\n",
       "      <th>3</th>\n",
       "      <td>cancer</td>\n",
       "      <td>cell</td>\n",
       "      <td>patient</td>\n",
       "      <td>disease</td>\n",
       "      <td>health</td>\n",
       "      <td>drug</td>\n",
       "      <td>government</td>\n",
       "      <td>africa</td>\n",
       "      <td>dollar</td>\n",
       "      <td>data</td>\n",
       "    </tr>\n",
       "    <tr>\n",
       "      <th>4</th>\n",
       "      <td>data</td>\n",
       "      <td>computer</td>\n",
       "      <td>robot</td>\n",
       "      <td>information</td>\n",
       "      <td>machine</td>\n",
       "      <td>company</td>\n",
       "      <td>design</td>\n",
       "      <td>internet</td>\n",
       "      <td>government</td>\n",
       "      <td>phone</td>\n",
       "    </tr>\n",
       "  </tbody>\n",
       "</table>\n",
       "</div>"
      ],
      "text/plain": [
       "        0         1        2            3          4        5           6  \\\n",
       "0    city     brain     data        water  community   design        book   \n",
       "1   brain      cell   animal       planet      water   cancer       earth   \n",
       "2    city     water   planet       energy      ocean    earth     climate   \n",
       "3  cancer      cell  patient      disease     health     drug  government   \n",
       "4    data  computer    robot  information    machine  company      design   \n",
       "\n",
       "          7           8         9  \n",
       "0   company       space  computer  \n",
       "1     robot    universe     light  \n",
       "2     space         oil       sea  \n",
       "3    africa      dollar      data  \n",
       "4  internet  government     phone  "
      ]
     },
     "execution_count": 131,
     "metadata": {},
     "output_type": "execute_result"
    }
   ],
   "source": [
    "df = pd.DataFrame(LSA_top_words)\n",
    "df.to_pickle('./data/LSA_top_words.pkl')\n",
    "df.head()"
   ]
  },
  {
   "cell_type": "markdown",
   "metadata": {},
   "source": [
    "### Find related talks"
   ]
  },
  {
   "cell_type": "code",
   "execution_count": 15,
   "metadata": {
    "collapsed": true
   },
   "outputs": [],
   "source": [
    "# import sklearn.neighbors.kd_tree as kdtree"
   ]
  },
  {
   "cell_type": "code",
   "execution_count": 142,
   "metadata": {},
   "outputs": [
    {
     "name": "stdout",
     "output_type": "stream",
     "text": [
      "2060 \t My year of saying yes to everything\n",
      "2356 \t On tennis, love and motherhood\n",
      "396 \t Play is more than just fun\n",
      "344 \t The joyful tradition of mountain music\n",
      "921 \t A manifesto for play, for Bulgaria and beyond\n",
      "372 \t Fiddling in reel time\n",
      "302 \t Lessons from past presidents\n",
      "1484 \t In the key of genius\n",
      "1715 \t Why I live in mortal dread of public speaking\n",
      "273 \t Great piano performances, recreated\n",
      "21 \t Nerdcore comedy\n",
      "1459 \t Bluegrass virtuosity from ... New Jersey?\n",
      "1317 \t Please don't take my Air Jordans\n",
      "1392 \t Watson, Jeopardy and me, the obsolete know-it-all\n",
      "1102 \t The clues to a great story\n",
      "2377 \t How to find a wonderful idea\n",
      "1205 \t A young guitarist meets his hero\n",
      "2020 \t A beatboxing lesson from a father-daughter duo\n",
      "639 \t Homeopathy, quackery and fraud\n",
      "187 \t The untouchable music of the theremin\n"
     ]
    }
   ],
   "source": [
    "tree = kdtree.KDTree(X, leaf_size=10) \n",
    "N = 2060\n",
    "dist, ind = tree.query([X[N]], k=20)  \n",
    "for i in ind[0]:\n",
    "    print(i,'\\t',df_all.iloc[i].title)\n",
    "#     print(i,'\\t',df_all.iloc[i].views)\n",
    "#     print(df_all.iloc[i].tags)"
   ]
  },
  {
   "cell_type": "code",
   "execution_count": 143,
   "metadata": {},
   "outputs": [
    {
     "name": "stdout",
     "output_type": "stream",
     "text": [
      "Your elusive creative genius\n",
      "How to use data to make a hit TV show\n",
      "Should you live for your résumé ... or your eulogy?\n",
      "How to find a wonderful idea\n",
      "Fashion and creativity\n",
      "Play is more than just fun\n"
     ]
    }
   ],
   "source": [
    "df_related = pd.DataFrame(eval(df_all.iloc[N]['related_talks']))\n",
    "for k in range(len(df_related)):\n",
    "    print(list(df_all[df_all['title']==df_related.iloc[k]['title']].title)[0])\n",
    "#     print(df_all[df_all['title']==df_related.iloc[k]['title']].views)\n",
    "#     print(list(df_all[df_all['title']==df_related.iloc[k]['title']].tags))"
   ]
  },
  {
   "cell_type": "code",
   "execution_count": 50,
   "metadata": {
    "collapsed": true
   },
   "outputs": [],
   "source": [
    "# df_related"
   ]
  },
  {
   "cell_type": "code",
   "execution_count": 51,
   "metadata": {
    "collapsed": true
   },
   "outputs": [],
   "source": [
    "# df_all[df_all.main_speaker=='Rokia Traore']"
   ]
  },
  {
   "cell_type": "code",
   "execution_count": 118,
   "metadata": {
    "collapsed": true,
    "scrolled": false
   },
   "outputs": [],
   "source": [
    "def match_score(list1, list2):\n",
    "    m = len(list1)\n",
    "    score = 0\n",
    "    matches = 0\n",
    "    for title in list2:\n",
    "        if title in list1:\n",
    "            score += m - list1.index(title)\n",
    "            matches += 1\n",
    "    return (score, matches)"
   ]
  },
  {
   "cell_type": "code",
   "execution_count": 126,
   "metadata": {
    "scrolled": false
   },
   "outputs": [
    {
     "name": "stdout",
     "output_type": "stream",
     "text": [
      "0\n",
      "100\n",
      "200\n",
      "300\n",
      "400\n",
      "500\n",
      "600\n",
      "700\n",
      "800\n",
      "900\n",
      "1000\n",
      "1100\n",
      "1200\n",
      "1300\n",
      "1400\n",
      "1500\n",
      "1600\n",
      "1700\n",
      "1800\n",
      "1900\n",
      "2000\n",
      "2100\n",
      "2200\n",
      "2300\n",
      "2400\n"
     ]
    }
   ],
   "source": [
    "tree = kdtree.KDTree(X, leaf_size=10) \n",
    "scores = []\n",
    "matches = []\n",
    "for N in range(2467):\n",
    "    # N = 1\n",
    "    if N%100==0:\n",
    "        print(N)\n",
    "    dist, ind = tree.query([X[N]], k=20)  \n",
    "    list1 = []\n",
    "    for i in ind[0]:\n",
    "        list1.append(df_all.iloc[i].title)\n",
    "    list2 = []\n",
    "    df_related = pd.DataFrame(eval(df_all.iloc[N]['related_talks']))\n",
    "    for k in range(len(df_related)):\n",
    "        items = list(df_all[df_all['title']==df_related.iloc[k]['title']].title)\n",
    "        if len(items)>0:\n",
    "            list2.append(items[0])\n",
    "    scores.append(match_score(list1,list2)[0])\n",
    "    matches.append(match_score(list1,list2)[1])"
   ]
  },
  {
   "cell_type": "code",
   "execution_count": 127,
   "metadata": {},
   "outputs": [
    {
     "data": {
      "text/plain": [
       "41.80178354276449"
      ]
     },
     "execution_count": 127,
     "metadata": {},
     "output_type": "execute_result"
    }
   ],
   "source": [
    "sum(scores)/2467 #28-20, 41-50, 46-75, 49-100, 49.32-120, 48.7-150, 45-200"
   ]
  },
  {
   "cell_type": "code",
   "execution_count": 128,
   "metadata": {},
   "outputs": [
    {
     "data": {
      "text/plain": [
       "3.0012160518848803"
      ]
     },
     "execution_count": 128,
     "metadata": {},
     "output_type": "execute_result"
    }
   ],
   "source": [
    "sum(matches)/2467"
   ]
  },
  {
   "cell_type": "code",
   "execution_count": 62,
   "metadata": {},
   "outputs": [
    {
     "name": "stdout",
     "output_type": "stream",
     "text": [
      "[400, 10, 37.50547223348196]\n"
     ]
    }
   ],
   "source": [
    "print([max_df,min_df,sum(scores)/2467])"
   ]
  },
  {
   "cell_type": "code",
   "execution_count": 58,
   "metadata": {},
   "outputs": [
    {
     "name": "stdout",
     "output_type": "stream",
     "text": [
      "[500, 5, 39.41143088771788]\n"
     ]
    }
   ],
   "source": [
    "print([max_df,min_df,sum(scores)/2467])"
   ]
  },
  {
   "cell_type": "code",
   "execution_count": 54,
   "metadata": {},
   "outputs": [
    {
     "name": "stdout",
     "output_type": "stream",
     "text": [
      "[1000, 5, 41.67896230239157]\n"
     ]
    }
   ],
   "source": [
    "print([max_df,min_df,sum(scores)/2467])"
   ]
  },
  {
   "cell_type": "code",
   "execution_count": 67,
   "metadata": {
    "scrolled": true
   },
   "outputs": [
    {
     "name": "stdout",
     "output_type": "stream",
     "text": [
      "[1000, 2, 41.72760437778678]\n"
     ]
    }
   ],
   "source": [
    "print([max_df,min_df,sum(scores)/2467])"
   ]
  },
  {
   "cell_type": "code",
   "execution_count": 72,
   "metadata": {},
   "outputs": [
    {
     "name": "stdout",
     "output_type": "stream",
     "text": [
      "[1500, 2, 41.3477908390758]\n"
     ]
    }
   ],
   "source": [
    "print([max_df,min_df,sum(scores)/2467])"
   ]
  },
  {
   "cell_type": "code",
   "execution_count": 77,
   "metadata": {},
   "outputs": [
    {
     "name": "stdout",
     "output_type": "stream",
     "text": [
      "[1500, 10, 41.19213619781111]\n"
     ]
    }
   ],
   "source": [
    "print([max_df,min_df,sum(scores)/2467])"
   ]
  },
  {
   "cell_type": "code",
   "execution_count": 82,
   "metadata": {},
   "outputs": [
    {
     "name": "stdout",
     "output_type": "stream",
     "text": [
      "[0.3, 5, 41.80178354276449]\n"
     ]
    }
   ],
   "source": [
    "print([max_df,min_df,sum(scores)/2467])"
   ]
  },
  {
   "cell_type": "code",
   "execution_count": null,
   "metadata": {
    "collapsed": true
   },
   "outputs": [],
   "source": []
  },
  {
   "cell_type": "markdown",
   "metadata": {},
   "source": [
    "### Clustering using KMeans"
   ]
  },
  {
   "cell_type": "code",
   "execution_count": 114,
   "metadata": {
    "scrolled": true
   },
   "outputs": [
    {
     "data": {
      "text/plain": [
       "[<matplotlib.lines.Line2D at 0x112972fd0>]"
      ]
     },
     "execution_count": 114,
     "metadata": {},
     "output_type": "execute_result"
    },
    {
     "data": {
      "image/png": "[encoded data removed]",
      "text/plain": [
       "<matplotlib.figure.Figure at 0x11a183d30>"
      ]
     },
     "metadata": {},
     "output_type": "display_data"
    }
   ],
   "source": [
    "from sklearn.cluster import KMeans\n",
    "from sklearn import metrics\n",
    "from sklearn.metrics import pairwise_distances\n",
    "from sklearn.metrics import silhouette_score\n",
    "from sklearn import cluster\n",
    "\n",
    "n_clusters = 50\n",
    "\n",
    "# ward = cluster.AgglomerativeClustering(\n",
    "#     n_clusters=n_clusters, linkage='ward',\n",
    "#     connectivity=connectivity)\n",
    "# spectral = cluster.SpectralClustering(\n",
    "#     n_clusters=n_clusters, eigen_solver='arpack',\n",
    "#     affinity=\"nearest_neighbors\")\n",
    "# Xp = spectral.fit_predict(X)\n",
    "# dbscan = cluster.DBSCAN(eps=params['eps'])\n",
    "\n",
    "# km = KMeans(n_clusters=50)\n",
    "# Xt = km.fit_transform(X)\n",
    "\n",
    "# mu_docs = km.cluster_centers_\n",
    "# plt.plot(mu_docs.transpose())\n",
    "\n",
    "# silhouette_score(X, km.labels_, metric='euclidean')\n",
    "\n",
    "sil_scores = []\n",
    "iner_scores = []\n",
    "ks = range(10,60)\n",
    "for k in ks:\n",
    "    km = KMeans(n_clusters=k)\n",
    "    km.fit(X)\n",
    "    sil_scores.append(silhouette_score(X, km.labels_, metric='euclidean'))\n",
    "    iner_scores.append(km.inertia_)\n",
    "    "
   ]
  },
  {
   "cell_type": "code",
   "execution_count": 133,
   "metadata": {},
   "outputs": [
    {
     "data": {
      "image/png": "[encoded data removed]",
      "text/plain": [
       "<matplotlib.figure.Figure at 0x11a622048>"
      ]
     },
     "metadata": {},
     "output_type": "display_data"
    }
   ],
   "source": [
    "plt.figure(figsize=(3,2))\n",
    "plt.plot(ks,iner_scores,'c')\n",
    "plt.rcParams['axes.facecolor'] = 'black'\n",
    "\n",
    "ax = plt.gca()\n",
    "ax.set_xlabel('# OF CLUSTERS', fontsize=14, fontweight='bold')\n",
    "ax.set_ylabel('INERTIA', fontsize=14, fontweight='bold')\n",
    "ax.set_xlim([5,60])\n",
    "ax.spines['bottom'].set_color('w')\n",
    "ax.spines['top'].set_color('k')\n",
    "ax.xaxis.label.set_color('w')\n",
    "ax.tick_params(axis='x', colors='w')\n",
    "ax.spines['left'].set_color('w')\n",
    "ax.spines['right'].set_color('k')\n",
    "ax.yaxis.label.set_color('w')\n",
    "ax.tick_params(axis='y', colors='w')"
   ]
  },
  {
   "cell_type": "code",
   "execution_count": 137,
   "metadata": {},
   "outputs": [
    {
     "data": {
      "image/png": "[encoded data removed]",
      "text/plain": [
       "<matplotlib.figure.Figure at 0x11b30c550>"
      ]
     },
     "metadata": {},
     "output_type": "display_data"
    }
   ],
   "source": [
    "plt.figure(figsize=(5,4))\n",
    "plt.plot(ks,sil_scores,'c')\n",
    "plt.rcParams['axes.facecolor'] = 'black'\n",
    "\n",
    "ax = plt.gca()\n",
    "ax.set_xlabel('# OF CLUSTERS', fontsize=14, fontweight='bold')\n",
    "ax.set_ylabel('SILHOUETTE', fontsize=14, fontweight='bold')\n",
    "ax.set_xlim([5,60])\n",
    "ax.set_ylim([0.05,0.3])\n",
    "\n",
    "ax.spines['bottom'].set_color('w')\n",
    "ax.spines['top'].set_color('k')\n",
    "ax.xaxis.label.set_color('w')\n",
    "ax.tick_params(axis='x', colors='w')\n",
    "ax.spines['left'].set_color('w')\n",
    "ax.spines['right'].set_color('k')\n",
    "ax.yaxis.label.set_color('w')\n",
    "ax.tick_params(axis='y', colors='w')"
   ]
  },
  {
   "cell_type": "code",
   "execution_count": 505,
   "metadata": {},
   "outputs": [
    {
     "name": "stdout",
     "output_type": "stream",
     "text": [
      "1599 \t Love -- you're doing it wrong\n",
      "2343 \t 3 ways to plan for the (very) long term\n",
      "2085 \t How to get back to work after a career break\n",
      "1395 \t What makes us feel good about our work?\n",
      "1135 \t How I beat a patent troll\n",
      "1872 \t How equal do we want the world to be? You'd be surprised\n",
      "1821 \t The danger of hiding who you are\n",
      "1870 \t 5 ways to kill your dreams\n",
      "1566 \t The $80 prosthetic knee that's changing lives\n",
      "609 \t Plug into your hard-wired happiness\n"
     ]
    }
   ],
   "source": [
    "tree = kdtree.KDTree(Xt, leaf_size=10) \n",
    "# N = 1346\n",
    "dist, ind = tree.query([Xt[N]], k=10)  \n",
    "for i in ind[0]:\n",
    "    print(i,'\\t',df_all.iloc[i].title)\n",
    "#     print(i,'\\t',df_all.iloc[i].views)\n",
    "#     print(df_all.iloc[i].tags)"
   ]
  },
  {
   "cell_type": "code",
   "execution_count": 506,
   "metadata": {},
   "outputs": [
    {
     "data": {
      "text/plain": [
       "'and theyd say great. and ive been seeing that time horizon get shorter and shorter and shorter so much so that i met with a ceo two month ago and i said we started our initial conversation. he go i love what you do. i want to talk about the next six month. we have a lot of problem that we are facing. these are civilizationalscale problem. the issue though is we cant solve them using the mental model that we use right now to try and solve these problem. yes a lot of great technical work is being done but there is a problem that we need to solve for a priori before if we want to really move the needle on those big problem. shorttermism. right. there no march. there no bracelet. there no petition that you can sign to be against shorttermism. i tried to put one up and no one signed. it wa weird. but it prevents u from doing so much. shorttermism for many reason ha pervaded every nook and cranny of our reality. i just want you to take a second and just think about an issue that youre thinking working on. it could be personal it could be at work or it could be movetheneedle world stuff and think about how far out you tend to think about the solution set for that. because shorttermism prevents the ceo from buying really expensive safety equipment. itll hurt the bottom line. so we get the deepwater horizon. shorttermism prevents teacher from spending quality oneonone time with their student. so right now in america a high school student drop out every second. shorttermism prevents congress sorry if there anyone in here from congress or not really that sorry from putting money into a real infrastructure bill. so what we get is the iw bridge collapse over the mississippi a few year ago killed. it wasnt always like this. we did the panama canal. we pretty much have eradicated global polio. we did the transcontinental railroad the marshall plan. and it not just big physical infrastructure problem and issue. woman suffrage the right to vote. but in our shorttermist time where everything seems to happen right now and we can only think out past the next tweet or timeline post we get hyperreactionary. so what do we do. we take people who are fleeing their wartorn country and we go after them. we take lowlevel drug offender and we put them away for life. and then we build mcmansions without even thinking about how people are going to get between them and their job. it a quick buck. now the reality is for a lot of these problem there are some technical fix a lot of them. i call these technical fix sandbag strategy. so you know there a storm coming the levee is broken no one put any money into it you surround your home with sandbag. and guess what. it work. storm go away the water level go down you get rid of the sandbag and you do this storm after storm after storm. and here the insidious thing. a sandbag strategy can get you reelected. a sandbag strategy can help you make your quarterly number. now if we want to move forward into a different future than the one we have right now because i dont think weve hit is not peak civilization. there some more we can do. but my argument is that unless we shift our mental model and our mental map on how we think about the short it not going to happen. so what ive developed is something called longpath and it a practice. and longpath isnt a kind of oneanddone exercise. im sure everyone here at some point ha done an offsite with a lot of postit note and whiteboards and you do no offense to the consultant in here who do that and you do a longterm plan and then two week later everyone forgets about it. right. or a week later. if youre lucky three month. it a practice because it not necessarily a thing that you do. it a process where you have to revisit different way of thinking for every major decision that youre working on. so i want to go through those three way of thinking. so the first transgenerational thinking. i love the philosopher plato socrates habermas heidegger. i wa raised on them. but they all did one thing that didnt actually seem like a big deal until i really started kind of looking into this. and they all took a a unit of measure for their entire reality of what it meant to be virtuous and good the single lifespan from birth to death. but here a problem with these issue they stack up on top of u because the only way we know how to do something good in the world is if we do it between our birth and our death. thats what were programmed to do. if you go to the selfhelp section in any bookstore it all about you. which is great unless youre dealing with some of these major issue. and so with transgenerational thinking which is really kind of transgenerational ethic youre able to expand how you think about these problem what is your role in helping to solve them. now this isnt something that just ha to be done at the security council chamber. it something that you can do in a very kind of personal way. so every once in a while if im lucky my wife and i like to go out to dinner and we have three child under the age of seven. so you can imagine it a very peaceful quiet meal. so we sit down and literally all i want to do is just eat and chill and my kid have a completely and totally different idea of what were going to be doing. and so my first idea is my sandbag strategy right. it to go into my pocket and take out the iphone and give them frozen or some other bestselling game thing. and then i stop and i have to kind of put on this transgenerational thinking cap. i dont do this in the restaurant because it would be bizarre but i have to i did it once and thats how i learned it wa bizarre. and you have to kind of think ok i can do this. but what is this teaching them. so what doe it mean if i actually bring some paper or engage with them in conversation. it hard. it not easy and im making this very personal. it actually more traumatic than some of the big issue that i work on in the world entertaining my kid at dinner. but what it doe is it connects them here in the present with me but it also and this is the crux of transgenerational thinking ethic it set them up to how theyre going to interact with their kid and their kid and their kid. second future thinking. when we think about the future year out give me a vision of what the future is. you dont have to give it to me but think in your head. and what youre probably going to see is the dominant cultural lens that dominates our thinking about the future right now technology. so when we think about the problem we always put it through a technological lens a techcentric a technoutopia and there nothing wrong with that but it something that we have to really think deeply about if were going to move on these major issue because it wasnt always like this. right. the ancient had their way of thinking about what the future wa. the church definitely had their idea of what the future could be and you could actually pay your way into that future. right. and luckily for humanity we got the scientific revolution. from there we got the technology but what ha happened and by the way this is not a critique. i love technology. everything in my house talk back to me from my child to my speaker to everything. but weve abdicated the future from the high priest in rome to the high priest of silicon valley. so when we think well how are we going to deal with climate or with poverty or homelessness our first reaction is to think about it through a technology lens. and look im not advocating that we go to this guy. i love joel dont get me wrong but im not saying we go to joel. what im saying is we have to rethink our base assumption about only looking at the future in one way only looking at it through the dominant lens. because our problem are so big and so vast that we need to open ourselves up. so thats why i do everything in my power not to talk about the future. i talk about future. it open the conversation again. so when youre sitting and thinking about how do we move forward on this major issue it could be at home it could be at work it could be again on the global stage dont cut yourself off from thinking about something beyond technology a a fix because were more concerned about technological evolution right now than we are about moral evolution. and unless we fix for that were not going to be able to get out of shorttermism and get to where we want to be. the final telos thinking. this come from the greek root. ultimate aim and ultimate purpose. and it really asking one question to what end. when wa the last time you asked yourself to what end. and when you asked yourself that how far out did you go. because long isnt long enough anymore. three five year doesnt cut it. it year. in homer epic the odyssey odysseus had the answer to his what end. it wa ithaca. it wa this bold vision of what he wanted to return to penelope. and i can tell you because of the work that im doing but also you know it intuitively we have lost our ithaca. we have lost our to what end so we stay on this hamster wheel. and yes were trying to solve these problem but what come after we solve the problem. and unless you define what come after people arent going to move. the business this isnt just about business but the business that do consistently who break out of shorttermism not surprisingly are familyrun business. theyre transgenerational. theyre telos. they think about the future. and this is an ad for patek philippe. theyre year old and whats amazing is that they literally embody this kind of longpathian sense in their brand because by the way you never actually own a patek philippe and i definitely wont unless somebody want to just throw dollar on the stage. you merely look after it for the next generation. so it important that we remember the future we treat it like a noun. it not. it a verb. it requires action. it requires u to push into it. it not this thing that wash over u. it something that we actually have total control over. but in a shortterm society we end up feeling like we dont. we feel like were trapped. we can push through that. now im getting more comfortable in the fact that at some point in the inevitable future i will die. but because of these new way of thinking and doing both in the outside world and also with my family at home and what im leaving my kid i get more comfortable in that fact. and it something that a lot of u are really uncomfortable with but im telling you think it through. apply this type of thinking and you can push yourself past whats inevitably very very uncomfortable. and it all begin really with yourself asking this question what is your longpath. but i ask you when you ask yourself that now or tonight or behind a steering wheel or in the boardroom or the situation room push past the longpath quick oh whats my longpath the next three year or five year. try and push past your own life if you can because it make you do thing a little bit bigger than you thought were possible. yes we have huge huge problem out there. with this process with this thinking i think we can make a difference. i think you can make a difference and i believe in you guy'"
      ]
     },
     "execution_count": 506,
     "metadata": {},
     "output_type": "execute_result"
    }
   ],
   "source": [
    "df_all.iloc[2343].transcript"
   ]
  },
  {
   "cell_type": "code",
   "execution_count": 40,
   "metadata": {},
   "outputs": [
    {
     "data": {
      "text/html": [
       "<div>\n",
       "<style>\n",
       "    .dataframe thead tr:only-child th {\n",
       "        text-align: right;\n",
       "    }\n",
       "\n",
       "    .dataframe thead th {\n",
       "        text-align: left;\n",
       "    }\n",
       "\n",
       "    .dataframe tbody tr th {\n",
       "        vertical-align: top;\n",
       "    }\n",
       "</style>\n",
       "<table border=\"1\" class=\"dataframe\">\n",
       "  <thead>\n",
       "    <tr style=\"text-align: right;\">\n",
       "      <th></th>\n",
       "      <th>comments</th>\n",
       "      <th>description</th>\n",
       "      <th>duration</th>\n",
       "      <th>event</th>\n",
       "      <th>film_date</th>\n",
       "      <th>languages</th>\n",
       "      <th>main_speaker</th>\n",
       "      <th>name</th>\n",
       "      <th>num_speaker</th>\n",
       "      <th>published_date</th>\n",
       "      <th>ratings</th>\n",
       "      <th>related_talks</th>\n",
       "      <th>speaker_occupation</th>\n",
       "      <th>tags</th>\n",
       "      <th>title</th>\n",
       "      <th>url</th>\n",
       "      <th>views</th>\n",
       "      <th>transcript</th>\n",
       "    </tr>\n",
       "  </thead>\n",
       "  <tbody>\n",
       "    <tr>\n",
       "      <th>802</th>\n",
       "      <td>409</td>\n",
       "      <td>In this short talk, Arianna Huffington shares ...</td>\n",
       "      <td>250</td>\n",
       "      <td>TEDWomen 2010</td>\n",
       "      <td>1291680000</td>\n",
       "      <td>57</td>\n",
       "      <td>Arianna Huffington</td>\n",
       "      <td>Arianna Huffington: How to succeed? Get more s...</td>\n",
       "      <td>1</td>\n",
       "      <td>1294066920</td>\n",
       "      <td>[{'id': 3, 'name': 'Courageous', 'count': 216}...</td>\n",
       "      <td>[{'id': 70, 'hero': 'https://pe.tedcdn.com/ima...</td>\n",
       "      <td>Journalist</td>\n",
       "      <td>['business', 'culture', 'entertainment', 'prod...</td>\n",
       "      <td>How to succeed? Get more sleep</td>\n",
       "      <td>https://www.ted.com/talks/arianna_huffington_h...</td>\n",
       "      <td>4241096</td>\n",
       "      <td>this is a room of type a woman. this is a room...</td>\n",
       "    </tr>\n",
       "  </tbody>\n",
       "</table>\n",
       "</div>"
      ],
      "text/plain": [
       "     comments                                        description  duration  \\\n",
       "802       409  In this short talk, Arianna Huffington shares ...       250   \n",
       "\n",
       "             event   film_date  languages        main_speaker  \\\n",
       "802  TEDWomen 2010  1291680000         57  Arianna Huffington   \n",
       "\n",
       "                                                  name  num_speaker  \\\n",
       "802  Arianna Huffington: How to succeed? Get more s...            1   \n",
       "\n",
       "     published_date                                            ratings  \\\n",
       "802      1294066920  [{'id': 3, 'name': 'Courageous', 'count': 216}...   \n",
       "\n",
       "                                         related_talks speaker_occupation  \\\n",
       "802  [{'id': 70, 'hero': 'https://pe.tedcdn.com/ima...         Journalist   \n",
       "\n",
       "                                                  tags  \\\n",
       "802  ['business', 'culture', 'entertainment', 'prod...   \n",
       "\n",
       "                              title  \\\n",
       "802  How to succeed? Get more sleep   \n",
       "\n",
       "                                                   url    views  \\\n",
       "802  https://www.ted.com/talks/arianna_huffington_h...  4241096   \n",
       "\n",
       "                                            transcript  \n",
       "802  this is a room of type a woman. this is a room...  "
      ]
     },
     "execution_count": 40,
     "metadata": {},
     "output_type": "execute_result"
    }
   ],
   "source": [
    "df_all[df_all.title=='How to succeed? Get more sleep']"
   ]
  },
  {
   "cell_type": "code",
   "execution_count": null,
   "metadata": {
    "collapsed": true
   },
   "outputs": [],
   "source": []
  }
 ],
 "metadata": {
  "kernelspec": {
   "display_name": "Python 3",
   "language": "python",
   "name": "python3"
  },
  "language_info": {
   "codemirror_mode": {
    "name": "ipython",
    "version": 3
   },
   "file_extension": ".py",
   "mimetype": "text/x-python",
   "name": "python",
   "nbconvert_exporter": "python",
   "pygments_lexer": "ipython3",
   "version": "3.6.3"
  }
 },
 "nbformat": 4,
 "nbformat_minor": 2
}
