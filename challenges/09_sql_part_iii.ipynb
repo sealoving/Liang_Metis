{
 "cells": [
  {
   "cell_type": "markdown",
   "metadata": {},
   "source": [
    "# Challenge Set 9\n",
    "## Part III: Soccer Data\n",
    "\n",
    "*Introductory - Intermediate level SQL*\n",
    "\n",
    "--\n",
    "\n",
    "Please complete this exercise using sqlite3 and Jupyter notebook.\n",
    "\n",
    "Download the [SQLite database](https://www.kaggle.com/hugomathien/soccer/downloads/soccer.zip) and load in your notebook using the sqlite3 library. \n",
    "\n",
    "1. Which team scored the most points when playing at home?  \n",
    "\n",
    "2. Did this team also score the most points when playing away?  \n",
    "\n",
    "3. How many matches resulted in a tie?  \n",
    "\n",
    "4. How many players have Smith for their last name? How many have 'smith' anywhere in their name?\n",
    "\n",
    "5. What was the median tie score? Use the value determined in the previous question for the number of tie games. *Hint:* PostgreSQL does not have a median function. Instead, think about the steps required to calculate a median and use the [`WITH`](https://www.postgresql.org/docs/8.4/static/queries-with.html) command to store stepwise results as a table and then operate on these results. \n",
    "\n",
    "6. What percentage of players prefer their left or right foot? *Hint:* Calculate either the right or left foot, whichever is easier based on how you setup the problem."
   ]
  },
  {
   "cell_type": "code",
   "execution_count": null,
   "metadata": {
    "collapsed": true
   },
   "outputs": [],
   "source": []
  }
 ],
 "metadata": {
  "kernelspec": {
   "display_name": "Python 3",
   "language": "python",
   "name": "python3"
  },
  "language_info": {
   "codemirror_mode": {
    "name": "ipython",
    "version": 3
   },
   "file_extension": ".py",
   "mimetype": "text/x-python",
   "name": "python",
   "nbconvert_exporter": "python",
   "pygments_lexer": "ipython3",
   "version": "3.6.3"
  }
 },
 "nbformat": 4,
 "nbformat_minor": 2
}
