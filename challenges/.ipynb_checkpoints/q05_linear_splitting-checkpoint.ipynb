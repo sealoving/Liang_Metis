{
 "cells": [
  {
   "cell_type": "markdown",
   "metadata": {},
   "source": [
    "## 5: Linear Regression and Train/Test Split\n",
    "#### Use the 2013_movies.csv data set:"
   ]
  },
  {
   "cell_type": "code",
   "execution_count": 165,
   "metadata": {},
   "outputs": [],
   "source": [
    "import pandas as pd\n",
    "import numpy as np\n",
    "import matplotlib.pyplot as plt\n",
    "%matplotlib inline\n",
    "\n",
    "import seaborn as sns\n",
    "from sklearn.linear_model import LinearRegression\n",
    "from sklearn import metrics\n",
    "from sklearn.preprocessing import PolynomialFeatures\n",
    "from sklearn.pipeline import make_pipeline\n",
    "from sklearn.cross_validation import train_test_split\n",
    "from sklearn.cross_validation import KFold\n",
    "% matplotlib inline\n",
    "\n",
    "import statsmodels.api as sm\n",
    "\n",
    "import warnings\n",
    "warnings.filterwarnings('ignore')\n",
    "# from sklearn.linear_model import RidgeCV"
   ]
  },
  {
   "cell_type": "code",
   "execution_count": 74,
   "metadata": {},
   "outputs": [
    {
     "name": "stdout",
     "output_type": "stream",
     "text": [
      "<class 'pandas.core.frame.DataFrame'>\n",
      "RangeIndex: 100 entries, 0 to 99\n",
      "Data columns (total 7 columns):\n",
      "Title                 100 non-null object\n",
      "Budget                89 non-null float64\n",
      "DomesticTotalGross    100 non-null int64\n",
      "Director              96 non-null object\n",
      "Rating                100 non-null object\n",
      "Runtime               100 non-null int64\n",
      "ReleaseDate           100 non-null object\n",
      "dtypes: float64(1), int64(2), object(4)\n",
      "memory usage: 5.5+ KB\n"
     ]
    }
   ],
   "source": [
    "df = pd.read_csv('./data/2013_movies.csv')\n",
    "df.info()"
   ]
  },
  {
   "cell_type": "code",
   "execution_count": 75,
   "metadata": {
    "collapsed": true
   },
   "outputs": [],
   "source": [
    "# Let's start with filtering features using p-value:\n",
    "# est=LinearRegression()\n",
    "from sklearn import feature_selection as f_select\n",
    "\n",
    "def pvals(X,y):\n",
    "    pvals=[] # will be the list of all significant columns' p-values\n",
    "\n",
    "    for feature in X.columns:\n",
    "        #get pval on feature by feature basis\n",
    "        pval=f_select.f_regression(X[[feature]],y) # gets f-value and p-value\n",
    "    return pvals"
   ]
  },
  {
   "cell_type": "markdown",
   "metadata": {},
   "source": [
    "### Challenge 1\n",
    "#### Build a linear model that uses only a constant term (a column of ones) to predict a continuous outcome (like domestic total gross). How can you interpret the results of this model? What does it predict? Make a plot of predictions against actual outcome. Make a histogram of residuals. How are the residuals distributed?"
   ]
  },
  {
   "cell_type": "markdown",
   "metadata": {},
   "source": [
    "<font color='blue'>Answer:\n",
    "\n",
    "The constant value feature (\"const\") does not contribute to the variance in the response at all ($R^2=0$). The intercept is the mean of the response variable, as the mean minimizes the RSE. Therefore, using a constant feature, the model predicts the mean of the response variable.  \n",
    "\n",
    "From the plot below, the residuals are not evenly distributed (the shape somewhat resembles exponential distribution)."
   ]
  },
  {
   "cell_type": "code",
   "execution_count": 76,
   "metadata": {},
   "outputs": [
    {
     "data": {
      "text/html": [
       "<div>\n",
       "<style>\n",
       "    .dataframe thead tr:only-child th {\n",
       "        text-align: right;\n",
       "    }\n",
       "\n",
       "    .dataframe thead th {\n",
       "        text-align: left;\n",
       "    }\n",
       "\n",
       "    .dataframe tbody tr th {\n",
       "        vertical-align: top;\n",
       "    }\n",
       "</style>\n",
       "<table border=\"1\" class=\"dataframe\">\n",
       "  <thead>\n",
       "    <tr style=\"text-align: right;\">\n",
       "      <th></th>\n",
       "      <th>Title</th>\n",
       "      <th>Budget</th>\n",
       "      <th>DomesticTotalGross</th>\n",
       "      <th>Director</th>\n",
       "      <th>Rating</th>\n",
       "      <th>Runtime</th>\n",
       "      <th>ReleaseDate</th>\n",
       "      <th>const</th>\n",
       "    </tr>\n",
       "  </thead>\n",
       "  <tbody>\n",
       "    <tr>\n",
       "      <th>0</th>\n",
       "      <td>The Hunger Games: Catching Fire</td>\n",
       "      <td>130000000.0</td>\n",
       "      <td>424668047</td>\n",
       "      <td>Francis Lawrence</td>\n",
       "      <td>PG-13</td>\n",
       "      <td>146</td>\n",
       "      <td>2013-11-22 00:00:00</td>\n",
       "      <td>1.0</td>\n",
       "    </tr>\n",
       "    <tr>\n",
       "      <th>1</th>\n",
       "      <td>Iron Man 3</td>\n",
       "      <td>200000000.0</td>\n",
       "      <td>409013994</td>\n",
       "      <td>Shane Black</td>\n",
       "      <td>PG-13</td>\n",
       "      <td>129</td>\n",
       "      <td>2013-05-03 00:00:00</td>\n",
       "      <td>1.0</td>\n",
       "    </tr>\n",
       "    <tr>\n",
       "      <th>2</th>\n",
       "      <td>Frozen</td>\n",
       "      <td>150000000.0</td>\n",
       "      <td>400738009</td>\n",
       "      <td>Chris BuckJennifer Lee</td>\n",
       "      <td>PG</td>\n",
       "      <td>108</td>\n",
       "      <td>2013-11-22 00:00:00</td>\n",
       "      <td>1.0</td>\n",
       "    </tr>\n",
       "    <tr>\n",
       "      <th>3</th>\n",
       "      <td>Despicable Me 2</td>\n",
       "      <td>76000000.0</td>\n",
       "      <td>368061265</td>\n",
       "      <td>Pierre CoffinChris Renaud</td>\n",
       "      <td>PG</td>\n",
       "      <td>98</td>\n",
       "      <td>2013-07-03 00:00:00</td>\n",
       "      <td>1.0</td>\n",
       "    </tr>\n",
       "    <tr>\n",
       "      <th>4</th>\n",
       "      <td>Man of Steel</td>\n",
       "      <td>225000000.0</td>\n",
       "      <td>291045518</td>\n",
       "      <td>Zack Snyder</td>\n",
       "      <td>PG-13</td>\n",
       "      <td>143</td>\n",
       "      <td>2013-06-14 00:00:00</td>\n",
       "      <td>1.0</td>\n",
       "    </tr>\n",
       "  </tbody>\n",
       "</table>\n",
       "</div>"
      ],
      "text/plain": [
       "                             Title       Budget  DomesticTotalGross  \\\n",
       "0  The Hunger Games: Catching Fire  130000000.0           424668047   \n",
       "1                       Iron Man 3  200000000.0           409013994   \n",
       "2                           Frozen  150000000.0           400738009   \n",
       "3                  Despicable Me 2   76000000.0           368061265   \n",
       "4                     Man of Steel  225000000.0           291045518   \n",
       "\n",
       "                    Director Rating  Runtime          ReleaseDate  const  \n",
       "0           Francis Lawrence  PG-13      146  2013-11-22 00:00:00    1.0  \n",
       "1                Shane Black  PG-13      129  2013-05-03 00:00:00    1.0  \n",
       "2     Chris BuckJennifer Lee     PG      108  2013-11-22 00:00:00    1.0  \n",
       "3  Pierre CoffinChris Renaud     PG       98  2013-07-03 00:00:00    1.0  \n",
       "4                Zack Snyder  PG-13      143  2013-06-14 00:00:00    1.0  "
      ]
     },
     "execution_count": 76,
     "metadata": {},
     "output_type": "execute_result"
    }
   ],
   "source": [
    "df['const'] = 1.0\n",
    "df.head()"
   ]
  },
  {
   "cell_type": "code",
   "execution_count": 77,
   "metadata": {},
   "outputs": [
    {
     "name": "stdout",
     "output_type": "stream",
     "text": [
      "Fit score (R^2) is: 0.000000\n",
      "Fit coef is: 0.000000\n",
      "Fit intercept is: 100596875.220000\n",
      "Mean of the target value is: 100596875.220000\n"
     ]
    }
   ],
   "source": [
    "# Create an empty model\n",
    "lr = LinearRegression()\n",
    "\n",
    "X = df['const'].values.reshape(-1, 1)\n",
    "y = df['DomesticTotalGross']\n",
    "\n",
    "# Fit the model to the full dataset\n",
    "lr.fit(X, y)\n",
    "\n",
    "print('Fit score (R^2) is: %f'%lr.score(X,y))\n",
    "print('Fit coef is: %f'%lr.coef_)\n",
    "print('Fit intercept is: %f'%lr.intercept_)\n",
    "print('Mean of the target value is: %f'%y.mean())\n"
   ]
  },
  {
   "cell_type": "code",
   "execution_count": 78,
   "metadata": {},
   "outputs": [
    {
     "data": {
      "image/png": "[encoded data removed]",
      "text/plain": [
       "<matplotlib.figure.Figure at 0x1c1d3a4eb8>"
      ]
     },
     "metadata": {},
     "output_type": "display_data"
    }
   ],
   "source": [
    "yp = lr.predict(X)\n",
    "res = y-yp\n",
    "fig, ax = plt.subplots(nrows=1,ncols=2,figsize=(14,5))\n",
    "ax[0].scatter(y, yp, edgecolors=(0, 0, 0))\n",
    "ax[0].set_xlabel('Actual Domestic Total Gross')\n",
    "ax[0].set_ylabel('Predicted')\n",
    "ax[0].set_title('Prediction vs. Actual Value',fontweight='bold')\n",
    "\n",
    "ax[1].hist(res,bins=20);\n",
    "ax[1].set_xlabel('Residual')\n",
    "ax[1].set_ylabel('Count')\n",
    "ax[1].set_title('Histogram of Residuals',fontweight='bold');\n"
   ]
  },
  {
   "cell_type": "markdown",
   "metadata": {},
   "source": [
    "### Challenge 2\n",
    "#### Repeat the process of challenge one, but also add one continuous (numeric) predictor variable. Also add plots of model prediction against your feature variable and residuals against feature variable. How can you interpret what's happening in the model?"
   ]
  },
  {
   "cell_type": "markdown",
   "metadata": {},
   "source": [
    "<font color='blue'>Answer:\n",
    "\n",
    "The feature \"Budget\" is added to the model and explains a small portion of the variance in Domestic Total Gross ($R^2=0.286$) with statistical significance ($P<0.0000005$). The distributation of the residuals looks more like normal distribution now."
   ]
  },
  {
   "cell_type": "code",
   "execution_count": 166,
   "metadata": {},
   "outputs": [
    {
     "name": "stdout",
     "output_type": "stream",
     "text": [
      "Fit score (R^2): 0.285814\n",
      "P-value, Budget: 0.000000\n",
      "P-value, const: nan\n"
     ]
    }
   ],
   "source": [
    "data = df.dropna(subset=['Budget'])\n",
    "\n",
    "# Create an empty model\n",
    "lr = LinearRegression()\n",
    "\n",
    "X = data[['Budget','const']]\n",
    "y = data['DomesticTotalGross']\n",
    "\n",
    "# Fit the model to the full dataset\n",
    "lr.fit(X, y)\n",
    "\n",
    "print('Fit score (R^2): %f'%lr.score(X,y))\n",
    "for col in X:\n",
    "    pval=f_select.f_regression(X[col].values.reshape(-1,1),y)[1]\n",
    "    print('P-value, %s: %f'%(col,pval))"
   ]
  },
  {
   "cell_type": "code",
   "execution_count": 82,
   "metadata": {},
   "outputs": [
    {
     "data": {
      "image/png": "[encoded data removed]",
      "text/plain": [
       "<matplotlib.figure.Figure at 0x1c1e6d27f0>"
      ]
     },
     "metadata": {},
     "output_type": "display_data"
    }
   ],
   "source": [
    "yp = lr.predict(X)\n",
    "res = y-yp\n",
    "fig, ax = plt.subplots(nrows=1,ncols=2,figsize=(14,5))\n",
    "ax[0].scatter(y, yp, edgecolors=(0, 0, 0))\n",
    "ax[0].set_xlabel('Actual Domestic Total Gross')\n",
    "ax[0].set_ylabel('Predicted')\n",
    "ax[0].set_title('Prediction vs. Actual Value',fontweight='bold')\n",
    "\n",
    "ax[1].hist(res,bins=20);\n",
    "ax[1].set_xlabel('Residual')\n",
    "ax[1].set_ylabel('Count')\n",
    "ax[1].set_title('Histogram of Residuals',fontweight='bold');"
   ]
  },
  {
   "cell_type": "code",
   "execution_count": null,
   "metadata": {},
   "outputs": [],
   "source": []
  },
  {
   "cell_type": "markdown",
   "metadata": {},
   "source": [
    "### Challenge 3\n",
    "#### Repeat the process of challenge 1, but add a categorical feature (like genre). You'll have to convert a column of text into a number of numerical columns (\"dummy variables\"). How can you interpret what's happening in the model?"
   ]
  },
  {
   "cell_type": "markdown",
   "metadata": {},
   "source": [
    "<font color='blue'>Answer:\n",
    "\n",
    "Each category (minus 1, which becomes the \"intercept\") in the categorial feature (movie rating) becomes an individul feature with binary values. Adding these features explains about 11% of the variation in the response variable (\"DomesticTotalGross\")."
   ]
  },
  {
   "cell_type": "code",
   "execution_count": 86,
   "metadata": {},
   "outputs": [
    {
     "data": {
      "text/plain": [
       "100"
      ]
     },
     "execution_count": 86,
     "metadata": {},
     "output_type": "execute_result"
    }
   ],
   "source": [
    "df['Rating'].value_counts()"
   ]
  },
  {
   "cell_type": "code",
   "execution_count": 167,
   "metadata": {},
   "outputs": [
    {
     "name": "stdout",
     "output_type": "stream",
     "text": [
      "Fit score (R^2): 0.109229\n",
      "P-value, const: nan\n",
      "P-value, Intercept: nan\n",
      "P-value, Rating[T.PG]: 0.142984\n",
      "P-value, Rating[T.PG-13]: 0.244199\n",
      "P-value, Rating[T.R]: 0.006471\n"
     ]
    }
   ],
   "source": [
    "X=patsy.dmatrix('Rating',data=df,return_type='dataframe')\n",
    "\n",
    "data = df[['DomesticTotalGross','const']].join(X)\n",
    "\n",
    "lr = LinearRegression()\n",
    "X = data.iloc[:,1:]\n",
    "y = data['DomesticTotalGross']\n",
    "lr.fit(X, y)\n",
    "\n",
    "print('Fit score (R^2): %f'%lr.score(X,y))\n",
    "for col in X:\n",
    "    pval=f_select.f_regression(X[col].values.reshape(-1,1),y)[1]\n",
    "    print('P-value, %s: %f'%(col,pval))"
   ]
  },
  {
   "cell_type": "code",
   "execution_count": 105,
   "metadata": {},
   "outputs": [
    {
     "data": {
      "image/png": "[encoded data removed]",
      "text/plain": [
       "<matplotlib.figure.Figure at 0x1c1c9caef0>"
      ]
     },
     "metadata": {},
     "output_type": "display_data"
    }
   ],
   "source": [
    "yp = lr.predict(X)\n",
    "res = y-yp\n",
    "fig, ax = plt.subplots(nrows=1,ncols=2,figsize=(14,5))\n",
    "ax[0].scatter(y, yp, edgecolors=(0, 0, 0))\n",
    "ax[0].set_xlabel('Actual Domestic Total Gross')\n",
    "ax[0].set_ylabel('Predicted')\n",
    "ax[0].set_title('Prediction vs. Actual Value',fontweight='bold')\n",
    "\n",
    "ax[1].hist(res,bins=20);\n",
    "ax[1].set_xlabel('Residual')\n",
    "ax[1].set_ylabel('Count')\n",
    "ax[1].set_title('Histogram of Residuals',fontweight='bold');"
   ]
  },
  {
   "cell_type": "markdown",
   "metadata": {},
   "source": [
    "### Challenge 4\n",
    "#### Enhance your model further by adding more features and/or transforming existing features. Think about how you build the model matrix and how to interpret what the model is doing."
   ]
  },
  {
   "cell_type": "code",
   "execution_count": 106,
   "metadata": {},
   "outputs": [
    {
     "data": {
      "text/plain": [
       "Index(['Title', 'Budget', 'DomesticTotalGross', 'Director', 'Rating',\n",
       "       'Runtime', 'ReleaseDate', 'const'],\n",
       "      dtype='object')"
      ]
     },
     "execution_count": 106,
     "metadata": {},
     "output_type": "execute_result"
    }
   ],
   "source": [
    "df.columns"
   ]
  },
  {
   "cell_type": "code",
   "execution_count": 130,
   "metadata": {},
   "outputs": [],
   "source": [
    "# Transform \"ReleaseDate\" to days since released (use end of 2017)\n",
    "from datetime import datetime\n",
    "def find_lapse(release_day):\n",
    "    d1 = datetime.strptime(release_day, \"%Y-%m-%d %H:%M:%S\")\n",
    "    d0 = datetime.strptime('2017-12-31', \"%Y-%m-%d\")\n",
    "    delta = d0-d1\n",
    "    return(delta.days)\n",
    "df['days'] = df.ReleaseDate.apply(find_lapse)"
   ]
  },
  {
   "cell_type": "code",
   "execution_count": 168,
   "metadata": {},
   "outputs": [
    {
     "data": {
      "text/html": [
       "<div>\n",
       "<style>\n",
       "    .dataframe thead tr:only-child th {\n",
       "        text-align: right;\n",
       "    }\n",
       "\n",
       "    .dataframe thead th {\n",
       "        text-align: left;\n",
       "    }\n",
       "\n",
       "    .dataframe tbody tr th {\n",
       "        vertical-align: top;\n",
       "    }\n",
       "</style>\n",
       "<table border=\"1\" class=\"dataframe\">\n",
       "  <thead>\n",
       "    <tr style=\"text-align: right;\">\n",
       "      <th></th>\n",
       "      <th>logDTG</th>\n",
       "      <th>logBGT</th>\n",
       "      <th>Runtime</th>\n",
       "      <th>days</th>\n",
       "      <th>Intercept</th>\n",
       "      <th>Rating[T.PG]</th>\n",
       "      <th>Rating[T.PG-13]</th>\n",
       "      <th>Rating[T.R]</th>\n",
       "    </tr>\n",
       "  </thead>\n",
       "  <tbody>\n",
       "    <tr>\n",
       "      <th>0</th>\n",
       "      <td>19.866818</td>\n",
       "      <td>18.683045</td>\n",
       "      <td>146</td>\n",
       "      <td>1500</td>\n",
       "      <td>1.0</td>\n",
       "      <td>0.0</td>\n",
       "      <td>1.0</td>\n",
       "      <td>0.0</td>\n",
       "    </tr>\n",
       "    <tr>\n",
       "      <th>1</th>\n",
       "      <td>19.829260</td>\n",
       "      <td>19.113828</td>\n",
       "      <td>129</td>\n",
       "      <td>1703</td>\n",
       "      <td>1.0</td>\n",
       "      <td>0.0</td>\n",
       "      <td>1.0</td>\n",
       "      <td>0.0</td>\n",
       "    </tr>\n",
       "    <tr>\n",
       "      <th>2</th>\n",
       "      <td>19.808818</td>\n",
       "      <td>18.826146</td>\n",
       "      <td>108</td>\n",
       "      <td>1500</td>\n",
       "      <td>1.0</td>\n",
       "      <td>1.0</td>\n",
       "      <td>0.0</td>\n",
       "      <td>0.0</td>\n",
       "    </tr>\n",
       "    <tr>\n",
       "      <th>3</th>\n",
       "      <td>19.723760</td>\n",
       "      <td>18.146244</td>\n",
       "      <td>98</td>\n",
       "      <td>1642</td>\n",
       "      <td>1.0</td>\n",
       "      <td>1.0</td>\n",
       "      <td>0.0</td>\n",
       "      <td>0.0</td>\n",
       "    </tr>\n",
       "    <tr>\n",
       "      <th>4</th>\n",
       "      <td>19.488990</td>\n",
       "      <td>19.231611</td>\n",
       "      <td>143</td>\n",
       "      <td>1661</td>\n",
       "      <td>1.0</td>\n",
       "      <td>0.0</td>\n",
       "      <td>1.0</td>\n",
       "      <td>0.0</td>\n",
       "    </tr>\n",
       "  </tbody>\n",
       "</table>\n",
       "</div>"
      ],
      "text/plain": [
       "      logDTG     logBGT  Runtime  days  Intercept  Rating[T.PG]  \\\n",
       "0  19.866818  18.683045      146  1500        1.0           0.0   \n",
       "1  19.829260  19.113828      129  1703        1.0           0.0   \n",
       "2  19.808818  18.826146      108  1500        1.0           1.0   \n",
       "3  19.723760  18.146244       98  1642        1.0           1.0   \n",
       "4  19.488990  19.231611      143  1661        1.0           0.0   \n",
       "\n",
       "   Rating[T.PG-13]  Rating[T.R]  \n",
       "0              1.0          0.0  \n",
       "1              1.0          0.0  \n",
       "2              0.0          0.0  \n",
       "3              0.0          0.0  \n",
       "4              1.0          0.0  "
      ]
     },
     "execution_count": 168,
     "metadata": {},
     "output_type": "execute_result"
    }
   ],
   "source": [
    "# Transform \"DomesticTotalGross\" and \"Budget\" to log()\n",
    "data = df.dropna(subset=['Budget'])\n",
    "data['logDTG'] = data.DomesticTotalGross.apply(np.log)\n",
    "data['logBGT'] = data.Budget.apply(np.log)\n",
    "\n",
    "X=patsy.dmatrix('Rating',data=df,return_type='dataframe')\n",
    "data = data[['logDTG','logBGT','Runtime','days']].join(X)\n",
    "data.head()"
   ]
  },
  {
   "cell_type": "code",
   "execution_count": 169,
   "metadata": {},
   "outputs": [
    {
     "name": "stdout",
     "output_type": "stream",
     "text": [
      "Fit score (R^2): 0.290871\n",
      "P-value, logBGT: 0.000000\n",
      "P-value, Runtime: 0.007386\n",
      "P-value, days: 0.708751\n",
      "P-value, Intercept: nan\n",
      "P-value, Rating[T.PG]: 0.230167\n",
      "P-value, Rating[T.PG-13]: 0.190525\n",
      "P-value, Rating[T.R]: 0.021151\n"
     ]
    }
   ],
   "source": [
    "lr = LinearRegression()\n",
    "X = data.iloc[:,1:]\n",
    "y = data['logDTG']\n",
    "lr.fit(X, y)\n",
    "\n",
    "print('Fit score (R^2): %f'%lr.score(X,y))\n",
    "for col in X:\n",
    "    pval=f_select.f_regression(X[col].values.reshape(-1,1),y)[1]\n",
    "    print('P-value, %s: %f'%(col,pval))"
   ]
  },
  {
   "cell_type": "code",
   "execution_count": 170,
   "metadata": {},
   "outputs": [
    {
     "data": {
      "text/html": [
       "<table class=\"simpletable\">\n",
       "<caption>OLS Regression Results</caption>\n",
       "<tr>\n",
       "  <th>Dep. Variable:</th>         <td>logDTG</td>      <th>  R-squared:         </th> <td>   0.291</td>\n",
       "</tr>\n",
       "<tr>\n",
       "  <th>Model:</th>                   <td>OLS</td>       <th>  Adj. R-squared:    </th> <td>   0.248</td>\n",
       "</tr>\n",
       "<tr>\n",
       "  <th>Method:</th>             <td>Least Squares</td>  <th>  F-statistic:       </th> <td>   6.809</td>\n",
       "</tr>\n",
       "<tr>\n",
       "  <th>Date:</th>             <td>Sun, 28 Jan 2018</td> <th>  Prob (F-statistic):</th> <td>2.29e-05</td>\n",
       "</tr>\n",
       "<tr>\n",
       "  <th>Time:</th>                 <td>16:04:49</td>     <th>  Log-Likelihood:    </th> <td> -80.180</td>\n",
       "</tr>\n",
       "<tr>\n",
       "  <th>No. Observations:</th>      <td>    89</td>      <th>  AIC:               </th> <td>   172.4</td>\n",
       "</tr>\n",
       "<tr>\n",
       "  <th>Df Residuals:</th>          <td>    83</td>      <th>  BIC:               </th> <td>   187.3</td>\n",
       "</tr>\n",
       "<tr>\n",
       "  <th>Df Model:</th>              <td>     5</td>      <th>                     </th>     <td> </td>   \n",
       "</tr>\n",
       "<tr>\n",
       "  <th>Covariance Type:</th>      <td>nonrobust</td>    <th>                     </th>     <td> </td>   \n",
       "</tr>\n",
       "</table>\n",
       "<table class=\"simpletable\">\n",
       "<tr>\n",
       "         <td></td>            <th>coef</th>     <th>std err</th>      <th>t</th>      <th>P>|t|</th>  <th>[0.025</th>    <th>0.975]</th>  \n",
       "</tr>\n",
       "<tr>\n",
       "  <th>logBGT</th>          <td>    0.3009</td> <td>    0.082</td> <td>    3.650</td> <td> 0.000</td> <td>    0.137</td> <td>    0.465</td>\n",
       "</tr>\n",
       "<tr>\n",
       "  <th>Runtime</th>         <td>    0.0073</td> <td>    0.005</td> <td>    1.605</td> <td> 0.112</td> <td>   -0.002</td> <td>    0.016</td>\n",
       "</tr>\n",
       "<tr>\n",
       "  <th>days</th>            <td>    0.0006</td> <td>    0.001</td> <td>    0.943</td> <td> 0.348</td> <td>   -0.001</td> <td>    0.002</td>\n",
       "</tr>\n",
       "<tr>\n",
       "  <th>Intercept</th>       <td>    8.2697</td> <td>    1.260</td> <td>    6.563</td> <td> 0.000</td> <td>    5.763</td> <td>   10.776</td>\n",
       "</tr>\n",
       "<tr>\n",
       "  <th>Rating[T.PG]</th>    <td>    2.8954</td> <td>    0.454</td> <td>    6.383</td> <td> 0.000</td> <td>    1.993</td> <td>    3.798</td>\n",
       "</tr>\n",
       "<tr>\n",
       "  <th>Rating[T.PG-13]</th> <td>    2.6998</td> <td>    0.448</td> <td>    6.022</td> <td> 0.000</td> <td>    1.808</td> <td>    3.591</td>\n",
       "</tr>\n",
       "<tr>\n",
       "  <th>Rating[T.R]</th>     <td>    2.6745</td> <td>    0.403</td> <td>    6.636</td> <td> 0.000</td> <td>    1.873</td> <td>    3.476</td>\n",
       "</tr>\n",
       "</table>\n",
       "<table class=\"simpletable\">\n",
       "<tr>\n",
       "  <th>Omnibus:</th>       <td> 3.722</td> <th>  Durbin-Watson:     </th> <td>   0.734</td>\n",
       "</tr>\n",
       "<tr>\n",
       "  <th>Prob(Omnibus):</th> <td> 0.156</td> <th>  Jarque-Bera (JB):  </th> <td>   2.626</td>\n",
       "</tr>\n",
       "<tr>\n",
       "  <th>Skew:</th>          <td> 0.257</td> <th>  Prob(JB):          </th> <td>   0.269</td>\n",
       "</tr>\n",
       "<tr>\n",
       "  <th>Kurtosis:</th>      <td> 2.333</td> <th>  Cond. No.          </th> <td>2.35e+19</td>\n",
       "</tr>\n",
       "</table>"
      ],
      "text/plain": [
       "<class 'statsmodels.iolib.summary.Summary'>\n",
       "\"\"\"\n",
       "                            OLS Regression Results                            \n",
       "==============================================================================\n",
       "Dep. Variable:                 logDTG   R-squared:                       0.291\n",
       "Model:                            OLS   Adj. R-squared:                  0.248\n",
       "Method:                 Least Squares   F-statistic:                     6.809\n",
       "Date:                Sun, 28 Jan 2018   Prob (F-statistic):           2.29e-05\n",
       "Time:                        16:04:49   Log-Likelihood:                -80.180\n",
       "No. Observations:                  89   AIC:                             172.4\n",
       "Df Residuals:                      83   BIC:                             187.3\n",
       "Df Model:                           5                                         \n",
       "Covariance Type:            nonrobust                                         \n",
       "===================================================================================\n",
       "                      coef    std err          t      P>|t|      [0.025      0.975]\n",
       "-----------------------------------------------------------------------------------\n",
       "logBGT              0.3009      0.082      3.650      0.000       0.137       0.465\n",
       "Runtime             0.0073      0.005      1.605      0.112      -0.002       0.016\n",
       "days                0.0006      0.001      0.943      0.348      -0.001       0.002\n",
       "Intercept           8.2697      1.260      6.563      0.000       5.763      10.776\n",
       "Rating[T.PG]        2.8954      0.454      6.383      0.000       1.993       3.798\n",
       "Rating[T.PG-13]     2.6998      0.448      6.022      0.000       1.808       3.591\n",
       "Rating[T.R]         2.6745      0.403      6.636      0.000       1.873       3.476\n",
       "==============================================================================\n",
       "Omnibus:                        3.722   Durbin-Watson:                   0.734\n",
       "Prob(Omnibus):                  0.156   Jarque-Bera (JB):                2.626\n",
       "Skew:                           0.257   Prob(JB):                        0.269\n",
       "Kurtosis:                       2.333   Cond. No.                     2.35e+19\n",
       "==============================================================================\n",
       "\n",
       "Warnings:\n",
       "[1] Standard Errors assume that the covariance matrix of the errors is correctly specified.\n",
       "[2] The smallest eigenvalue is 4.29e-31. This might indicate that there are\n",
       "strong multicollinearity problems or that the design matrix is singular.\n",
       "\"\"\""
      ]
     },
     "execution_count": 170,
     "metadata": {},
     "output_type": "execute_result"
    }
   ],
   "source": [
    "# Create your model\n",
    "model = sm.OLS(y, X)\n",
    "\n",
    "# Fit your model to your training set\n",
    "fit = model.fit()\n",
    "\n",
    "# Print summary statistics of the model's performance\n",
    "fit.summary()"
   ]
  },
  {
   "cell_type": "code",
   "execution_count": 138,
   "metadata": {},
   "outputs": [
    {
     "data": {
      "image/png": "[encoded data removed]",
      "text/plain": [
       "<matplotlib.figure.Figure at 0x1c1edb0be0>"
      ]
     },
     "metadata": {},
     "output_type": "display_data"
    }
   ],
   "source": [
    "yp = lr.predict(X)\n",
    "res = y-yp\n",
    "fig, ax = plt.subplots(nrows=1,ncols=2,figsize=(14,5))\n",
    "ax[0].scatter(y, yp, edgecolors=(0, 0, 0))\n",
    "ax[0].set_xlabel('Actual Domestic Total Gross (log)')\n",
    "ax[0].set_ylabel('Predicted')\n",
    "ax[0].set_title('Prediction vs. Actual Value',fontweight='bold')\n",
    "\n",
    "ax[1].hist(res,bins=20);\n",
    "ax[1].set_xlabel('Residual')\n",
    "ax[1].set_ylabel('Count')\n",
    "ax[1].set_title('Histogram of Residuals (log)',fontweight='bold');"
   ]
  },
  {
   "cell_type": "markdown",
   "metadata": {},
   "source": [
    "### Challenge 5\n",
    "#### Fitting and checking predictions on the exact same data set can be misleading. Divide your data into two sets: a training and a test set (roughly 75% training, 25% test is a fine split). Fit a model on the training set, check the predictions (by plotting versus actual values) in the test set."
   ]
  },
  {
   "cell_type": "code",
   "execution_count": 156,
   "metadata": {},
   "outputs": [
    {
     "data": {
      "text/plain": [
       "0.19603255219091953"
      ]
     },
     "execution_count": 156,
     "metadata": {},
     "output_type": "execute_result"
    }
   ],
   "source": [
    "lr = LinearRegression()\n",
    "# INSTRUCTOR NOTE: Run this multiple times to show the variation\n",
    "# Split the data into training and test sets\n",
    "X_train, X_test, y_train, y_test = train_test_split(X, y, random_state=4444,test_size=0.3)\n",
    "# Fit the model against the training data\n",
    "lr.fit(X_train, y_train)\n",
    "# Evaluate the model against the testing data\n",
    "lr.score(X_test, y_test)"
   ]
  },
  {
   "cell_type": "code",
   "execution_count": 164,
   "metadata": {},
   "outputs": [
    {
     "data": {
      "image/png": "[encoded data removed]",
      "text/plain": [
       "<matplotlib.figure.Figure at 0x1c1e94f6d8>"
      ]
     },
     "metadata": {},
     "output_type": "display_data"
    }
   ],
   "source": [
    "yp = lr.predict(X)\n",
    "res = y-yp\n",
    "fig, ax = plt.subplots(nrows=1,ncols=2,figsize=(14,5))\n",
    "ax[0].scatter(y, yp, edgecolors=(0, 0, 0))\n",
    "ax[0].set_xlabel('Actual Domestic Total Gross (log)')\n",
    "ax[0].set_ylabel('Predicted')\n",
    "ax[0].set_title('Prediction vs. Actual Value',fontweight='bold')\n",
    "\n",
    "ax[1].hist(res,bins=20);\n",
    "ax[1].set_xlabel('Residual')\n",
    "ax[1].set_ylabel('Count')\n",
    "ax[1].set_title('Histogram of Residuals (log)',fontweight='bold');"
   ]
  },
  {
   "cell_type": "code",
   "execution_count": 163,
   "metadata": {},
   "outputs": [
    {
     "name": "stdout",
     "output_type": "stream",
     "text": [
      "[ -6.1382104  -11.26825981 -13.72033581]\n"
     ]
    }
   ],
   "source": [
    "from sklearn.cross_validation import cross_val_score\n",
    "from sklearn import metrics\n",
    "\n",
    "# scores = cross_val_score(lr, X, y, cv=3, scoring='mean_squared_error')\n",
    "scores = cross_val_score(lr, X, y, cv=3, scoring='r2')\n",
    "\n",
    "# scores output is negative, a sklearn quirk bc mse is used to min. optimization func.\n",
    "print(scores)"
   ]
  },
  {
   "cell_type": "code",
   "execution_count": null,
   "metadata": {
    "collapsed": true
   },
   "outputs": [],
   "source": []
  }
 ],
 "metadata": {
  "kernelspec": {
   "display_name": "Python 3",
   "language": "python",
   "name": "python3"
  },
  "language_info": {
   "codemirror_mode": {
    "name": "ipython",
    "version": 3
   },
   "file_extension": ".py",
   "mimetype": "text/x-python",
   "name": "python",
   "nbconvert_exporter": "python",
   "pygments_lexer": "ipython3",
   "version": "3.6.3"
  }
 },
 "nbformat": 4,
 "nbformat_minor": 2
}
